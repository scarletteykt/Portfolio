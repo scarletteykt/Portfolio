{
 "cells": [
  {
   "cell_type": "markdown",
   "id": "6b36771f",
   "metadata": {},
   "source": [
    "# Исследование сервиса аренды самокатов GoFast."
   ]
  },
  {
   "cell_type": "markdown",
   "id": "98d7bc94",
   "metadata": {},
   "source": [
    "**Описание проекта:**\n",
    "\n",
    "У сервиса аренды самокатов GoFast есть мобильное приложение. Сервисом можно пользоваться:\n",
    "1. без подписки\n",
    "- абонентская плата отсутствует;\n",
    "- стоимость одной минуты поездки — 8 рублей;\n",
    "- стоимость старта (начала поездки) — 50 рублей;\n",
    "\n",
    "2. с подпиской Ultra\n",
    "- абонентская плата — 199 рублей в месяц;\n",
    "- стоимость одной минуты поездки — 6 рублей;\n",
    "- стоимость старта — бесплатно.\n",
    "\n",
    "______\n",
    "\n",
    "**Цели исследования:**\n",
    "\n",
    "Необходимо проанализировать данные о пользователях, поездках и подписках и проверить 3 гипотезы, которые могут помочь бизнесу вырасти:\n",
    "- *Гипотеза №1:* У пользователей с подпиской продолжительность одной поездки в среднем дольше, чем у пользователей без подписки.\n",
    "- *Гипотеза №2:* Пользователи с подпиской в среднем проезжают не больше 3130 метров (оптимальное расстояние с точки зрения износа самоката). \n",
    "- *Гипотеза №3:* Пользователи с подпиской приносят по месяцам компании больше денег, чем пользователи без подписки. \n",
    "______\n",
    "\n",
    "**Данные для анализа:**\n",
    "\n",
    "3 файла (users_go.csv, rides_go.csv, subscriptions_go.csv):\n",
    "1. Пользователи: информация о пользователях, их возрасте, городе и типе подписки.\n",
    "2. Поездки: данные о поездках, включая расстояние, продолжительность и дату.\n",
    "3. Подписки: условия подписок, включая стоимость минуты поездки, стоимость старта и абонентскую плату.\n",
    "\n",
    "______\n",
    "\n",
    "**План работы:**\n",
    "1. Загрузка данных: чтение и первичный осмотр данных.\n",
    "\n",
    "\n",
    "2. Предобработка данных: приведение типов данных, создание новых столбцов, обработка пропусков, дубликатов и аномальных значений.\n",
    "\n",
    "\n",
    "3. Исследовательский анализ данных: описание и визуализация информации о пользователях и поездках.\n",
    "\n",
    "\n",
    "4. Объединение данных: объединение данных о пользователях, поездках и подписках для дальнейшего анализа.\n",
    "\n",
    "\n",
    "5. Подсчёт выручки: расчёт выручки на основе условий подписки.\n",
    "\n",
    "\n",
    "6. Проверка гипотез: проверка гипотез, чтобы найти точки роста для бизнеса."
   ]
  },
  {
   "cell_type": "markdown",
   "id": "c42cbe00",
   "metadata": {},
   "source": [
    "### Загрузка данных"
   ]
  },
  {
   "cell_type": "markdown",
   "id": "17bcfc82",
   "metadata": {},
   "source": [
    "**1.1. Импортируем все библиотеки, необходимые для анализа.**"
   ]
  },
  {
   "cell_type": "code",
   "execution_count": 5,
   "id": "72576667",
   "metadata": {},
   "outputs": [],
   "source": [
    "import numpy as np\n",
    "import pandas as pd\n",
    "import matplotlib.pyplot as plt\n",
    "from scipy import stats as st\n",
    "import seaborn as sns"
   ]
  },
  {
   "cell_type": "markdown",
   "id": "88aa1242",
   "metadata": {},
   "source": [
    "**1.2. Считываем данные из csv-файлов в датафреймы и сохраняем в переменные users, rides, subscriptions.**"
   ]
  },
  {
   "cell_type": "code",
   "execution_count": 7,
   "id": "e9f2577b-01de-48c3-b55f-0b1f832a0587",
   "metadata": {},
   "outputs": [],
   "source": [
    "try:\n",
    "    users = pd.read_csv('/datasets/users_go.csv')\n",
    "    rides = pd.read_csv('/datasets/rides_go.csv')\n",
    "    subscriptions = pd.read_csv('/datasets/subscriptions_go.csv')\n",
    "except:\n",
    "    users = pd.read_csv('https://code.s3.yandex.net/datasets/users_go.csv')\n",
    "    rides = pd.read_csv('https://code.s3.yandex.net/datasets/rides_go.csv')\n",
    "    subscriptions = pd.read_csv('https://code.s3.yandex.net/datasets/subscriptions_go.csv')"
   ]
  },
  {
   "cell_type": "markdown",
   "id": "65965c54",
   "metadata": {},
   "source": [
    "**1.3. Выведем первые строки каждого набора данных.**"
   ]
  },
  {
   "cell_type": "code",
   "execution_count": 9,
   "id": "cdb3dcf5",
   "metadata": {},
   "outputs": [
    {
     "data": {
      "text/html": [
       "<div>\n",
       "<style scoped>\n",
       "    .dataframe tbody tr th:only-of-type {\n",
       "        vertical-align: middle;\n",
       "    }\n",
       "\n",
       "    .dataframe tbody tr th {\n",
       "        vertical-align: top;\n",
       "    }\n",
       "\n",
       "    .dataframe thead th {\n",
       "        text-align: right;\n",
       "    }\n",
       "</style>\n",
       "<table border=\"1\" class=\"dataframe\">\n",
       "  <thead>\n",
       "    <tr style=\"text-align: right;\">\n",
       "      <th></th>\n",
       "      <th>user_id</th>\n",
       "      <th>name</th>\n",
       "      <th>age</th>\n",
       "      <th>city</th>\n",
       "      <th>subscription_type</th>\n",
       "    </tr>\n",
       "  </thead>\n",
       "  <tbody>\n",
       "    <tr>\n",
       "      <th>0</th>\n",
       "      <td>1</td>\n",
       "      <td>Кира</td>\n",
       "      <td>22</td>\n",
       "      <td>Тюмень</td>\n",
       "      <td>ultra</td>\n",
       "    </tr>\n",
       "    <tr>\n",
       "      <th>1</th>\n",
       "      <td>2</td>\n",
       "      <td>Станислав</td>\n",
       "      <td>31</td>\n",
       "      <td>Омск</td>\n",
       "      <td>ultra</td>\n",
       "    </tr>\n",
       "    <tr>\n",
       "      <th>2</th>\n",
       "      <td>3</td>\n",
       "      <td>Алексей</td>\n",
       "      <td>20</td>\n",
       "      <td>Москва</td>\n",
       "      <td>ultra</td>\n",
       "    </tr>\n",
       "    <tr>\n",
       "      <th>3</th>\n",
       "      <td>4</td>\n",
       "      <td>Константин</td>\n",
       "      <td>26</td>\n",
       "      <td>Ростов-на-Дону</td>\n",
       "      <td>ultra</td>\n",
       "    </tr>\n",
       "    <tr>\n",
       "      <th>4</th>\n",
       "      <td>5</td>\n",
       "      <td>Адель</td>\n",
       "      <td>28</td>\n",
       "      <td>Омск</td>\n",
       "      <td>ultra</td>\n",
       "    </tr>\n",
       "  </tbody>\n",
       "</table>\n",
       "</div>"
      ],
      "text/plain": [
       "   user_id        name  age            city subscription_type\n",
       "0        1        Кира   22          Тюмень             ultra\n",
       "1        2   Станислав   31            Омск             ultra\n",
       "2        3     Алексей   20          Москва             ultra\n",
       "3        4  Константин   26  Ростов-на-Дону             ultra\n",
       "4        5       Адель   28            Омск             ultra"
      ]
     },
     "metadata": {},
     "output_type": "display_data"
    },
    {
     "name": "stdout",
     "output_type": "stream",
     "text": [
      "\n"
     ]
    },
    {
     "data": {
      "text/html": [
       "<div>\n",
       "<style scoped>\n",
       "    .dataframe tbody tr th:only-of-type {\n",
       "        vertical-align: middle;\n",
       "    }\n",
       "\n",
       "    .dataframe tbody tr th {\n",
       "        vertical-align: top;\n",
       "    }\n",
       "\n",
       "    .dataframe thead th {\n",
       "        text-align: right;\n",
       "    }\n",
       "</style>\n",
       "<table border=\"1\" class=\"dataframe\">\n",
       "  <thead>\n",
       "    <tr style=\"text-align: right;\">\n",
       "      <th></th>\n",
       "      <th>user_id</th>\n",
       "      <th>distance</th>\n",
       "      <th>duration</th>\n",
       "      <th>date</th>\n",
       "    </tr>\n",
       "  </thead>\n",
       "  <tbody>\n",
       "    <tr>\n",
       "      <th>0</th>\n",
       "      <td>1</td>\n",
       "      <td>4409.919140</td>\n",
       "      <td>25.599769</td>\n",
       "      <td>2021-01-01</td>\n",
       "    </tr>\n",
       "    <tr>\n",
       "      <th>1</th>\n",
       "      <td>1</td>\n",
       "      <td>2617.592153</td>\n",
       "      <td>15.816871</td>\n",
       "      <td>2021-01-18</td>\n",
       "    </tr>\n",
       "    <tr>\n",
       "      <th>2</th>\n",
       "      <td>1</td>\n",
       "      <td>754.159807</td>\n",
       "      <td>6.232113</td>\n",
       "      <td>2021-04-20</td>\n",
       "    </tr>\n",
       "    <tr>\n",
       "      <th>3</th>\n",
       "      <td>1</td>\n",
       "      <td>2694.783254</td>\n",
       "      <td>18.511000</td>\n",
       "      <td>2021-08-11</td>\n",
       "    </tr>\n",
       "    <tr>\n",
       "      <th>4</th>\n",
       "      <td>1</td>\n",
       "      <td>4028.687306</td>\n",
       "      <td>26.265803</td>\n",
       "      <td>2021-08-28</td>\n",
       "    </tr>\n",
       "  </tbody>\n",
       "</table>\n",
       "</div>"
      ],
      "text/plain": [
       "   user_id     distance   duration        date\n",
       "0        1  4409.919140  25.599769  2021-01-01\n",
       "1        1  2617.592153  15.816871  2021-01-18\n",
       "2        1   754.159807   6.232113  2021-04-20\n",
       "3        1  2694.783254  18.511000  2021-08-11\n",
       "4        1  4028.687306  26.265803  2021-08-28"
      ]
     },
     "metadata": {},
     "output_type": "display_data"
    },
    {
     "name": "stdout",
     "output_type": "stream",
     "text": [
      "\n"
     ]
    },
    {
     "data": {
      "text/html": [
       "<div>\n",
       "<style scoped>\n",
       "    .dataframe tbody tr th:only-of-type {\n",
       "        vertical-align: middle;\n",
       "    }\n",
       "\n",
       "    .dataframe tbody tr th {\n",
       "        vertical-align: top;\n",
       "    }\n",
       "\n",
       "    .dataframe thead th {\n",
       "        text-align: right;\n",
       "    }\n",
       "</style>\n",
       "<table border=\"1\" class=\"dataframe\">\n",
       "  <thead>\n",
       "    <tr style=\"text-align: right;\">\n",
       "      <th></th>\n",
       "      <th>subscription_type</th>\n",
       "      <th>minute_price</th>\n",
       "      <th>start_ride_price</th>\n",
       "      <th>subscription_fee</th>\n",
       "    </tr>\n",
       "  </thead>\n",
       "  <tbody>\n",
       "    <tr>\n",
       "      <th>0</th>\n",
       "      <td>free</td>\n",
       "      <td>8</td>\n",
       "      <td>50</td>\n",
       "      <td>0</td>\n",
       "    </tr>\n",
       "    <tr>\n",
       "      <th>1</th>\n",
       "      <td>ultra</td>\n",
       "      <td>6</td>\n",
       "      <td>0</td>\n",
       "      <td>199</td>\n",
       "    </tr>\n",
       "  </tbody>\n",
       "</table>\n",
       "</div>"
      ],
      "text/plain": [
       "  subscription_type  minute_price  start_ride_price  subscription_fee\n",
       "0              free             8                50                 0\n",
       "1             ultra             6                 0               199"
      ]
     },
     "metadata": {},
     "output_type": "display_data"
    }
   ],
   "source": [
    "display(users.head())\n",
    "print()\n",
    "display(rides.head())\n",
    "print()\n",
    "display(subscriptions.head())"
   ]
  },
  {
   "cell_type": "markdown",
   "id": "670f1d28",
   "metadata": {},
   "source": [
    "**1.4. Выведем основную информацию о датафрейме с помощью метода info().**"
   ]
  },
  {
   "cell_type": "code",
   "execution_count": 11,
   "id": "0f10b545",
   "metadata": {},
   "outputs": [
    {
     "name": "stdout",
     "output_type": "stream",
     "text": [
      "<class 'pandas.core.frame.DataFrame'>\n",
      "RangeIndex: 1565 entries, 0 to 1564\n",
      "Data columns (total 5 columns):\n",
      " #   Column             Non-Null Count  Dtype \n",
      "---  ------             --------------  ----- \n",
      " 0   user_id            1565 non-null   int64 \n",
      " 1   name               1565 non-null   object\n",
      " 2   age                1565 non-null   int64 \n",
      " 3   city               1565 non-null   object\n",
      " 4   subscription_type  1565 non-null   object\n",
      "dtypes: int64(2), object(3)\n",
      "memory usage: 61.3+ KB\n",
      "None\n",
      "\n",
      "<class 'pandas.core.frame.DataFrame'>\n",
      "RangeIndex: 18068 entries, 0 to 18067\n",
      "Data columns (total 4 columns):\n",
      " #   Column    Non-Null Count  Dtype  \n",
      "---  ------    --------------  -----  \n",
      " 0   user_id   18068 non-null  int64  \n",
      " 1   distance  18068 non-null  float64\n",
      " 2   duration  18068 non-null  float64\n",
      " 3   date      18068 non-null  object \n",
      "dtypes: float64(2), int64(1), object(1)\n",
      "memory usage: 564.8+ KB\n",
      "None\n",
      "\n",
      "<class 'pandas.core.frame.DataFrame'>\n",
      "RangeIndex: 2 entries, 0 to 1\n",
      "Data columns (total 4 columns):\n",
      " #   Column             Non-Null Count  Dtype \n",
      "---  ------             --------------  ----- \n",
      " 0   subscription_type  2 non-null      object\n",
      " 1   minute_price       2 non-null      int64 \n",
      " 2   start_ride_price   2 non-null      int64 \n",
      " 3   subscription_fee   2 non-null      int64 \n",
      "dtypes: int64(3), object(1)\n",
      "memory usage: 196.0+ bytes\n",
      "None\n"
     ]
    }
   ],
   "source": [
    "print(users.info())\n",
    "print()\n",
    "print(rides.info())\n",
    "print()\n",
    "print(subscriptions.info())"
   ]
  },
  {
   "cell_type": "markdown",
   "id": "3d385073",
   "metadata": {},
   "source": [
    "**Вывод:** \n",
    "\n",
    "Считала данные из csv-файлов и сохранила в датафреймы users, rides, subscriptions:\n",
    "1. Таблица *users* содержит информацию о пользователях, включая их уникальные идентификаторы, имена, возраст, города и типы подписок. Размер таблицы: *1565 строк, 5 столбцов*.\n",
    "2. Таблица *rides* содержит данные о поездках, включая уникальные идентификаторы пользователей, расстояния, продолжительность сессий и даты поездок. Размер таблицы: *18068 строк, 4 столбца*.\n",
    "3. Таблица *subscriptions* включает информацию о различных типах подписок, стоимости одной минуты поездки, стоимости начала поездки и ежемесячной плате. Размер таблицы: *2 строки, 4 столбца*."
   ]
  },
  {
   "cell_type": "markdown",
   "id": "e95ebca7",
   "metadata": {},
   "source": [
    "### Предобработка данных"
   ]
  },
  {
   "cell_type": "markdown",
   "id": "be9af808",
   "metadata": {},
   "source": [
    "**2.1. Приведем столбец date к типу даты pandas.**"
   ]
  },
  {
   "cell_type": "code",
   "execution_count": 15,
   "id": "978fa4f2",
   "metadata": {},
   "outputs": [
    {
     "name": "stdout",
     "output_type": "stream",
     "text": [
      "<class 'pandas.core.frame.DataFrame'>\n",
      "RangeIndex: 18068 entries, 0 to 18067\n",
      "Data columns (total 4 columns):\n",
      " #   Column    Non-Null Count  Dtype         \n",
      "---  ------    --------------  -----         \n",
      " 0   user_id   18068 non-null  int64         \n",
      " 1   distance  18068 non-null  float64       \n",
      " 2   duration  18068 non-null  float64       \n",
      " 3   date      18068 non-null  datetime64[ns]\n",
      "dtypes: datetime64[ns](1), float64(2), int64(1)\n",
      "memory usage: 564.8 KB\n",
      "None\n"
     ]
    }
   ],
   "source": [
    "rides['date'] = pd.to_datetime(rides['date'], format=('%Y-%m-%d'))\n",
    "print(rides.info())"
   ]
  },
  {
   "cell_type": "markdown",
   "id": "0b2e94c9",
   "metadata": {},
   "source": [
    "**2.2. Создадим новый столбец с номером месяца на основе столбца date.**"
   ]
  },
  {
   "cell_type": "markdown",
   "id": "5deb65f6",
   "metadata": {},
   "source": [
    "Проверим за какой период у нас данные, чтобы данные за несколько лет не \"склеились\" при агрегации по месяцам."
   ]
  },
  {
   "cell_type": "code",
   "execution_count": 18,
   "id": "d740495c",
   "metadata": {},
   "outputs": [
    {
     "data": {
      "text/plain": [
       "date\n",
       "2021    18068\n",
       "dtype: int64"
      ]
     },
     "execution_count": 18,
     "metadata": {},
     "output_type": "execute_result"
    }
   ],
   "source": [
    "months_check = pd.pivot_table(rides, index=rides['date'].dt.year, aggfunc='size')\n",
    "months_check"
   ]
  },
  {
   "cell_type": "code",
   "execution_count": 19,
   "id": "eba39174",
   "metadata": {},
   "outputs": [
    {
     "data": {
      "text/html": [
       "<div>\n",
       "<style scoped>\n",
       "    .dataframe tbody tr th:only-of-type {\n",
       "        vertical-align: middle;\n",
       "    }\n",
       "\n",
       "    .dataframe tbody tr th {\n",
       "        vertical-align: top;\n",
       "    }\n",
       "\n",
       "    .dataframe thead th {\n",
       "        text-align: right;\n",
       "    }\n",
       "</style>\n",
       "<table border=\"1\" class=\"dataframe\">\n",
       "  <thead>\n",
       "    <tr style=\"text-align: right;\">\n",
       "      <th></th>\n",
       "      <th>user_id</th>\n",
       "      <th>distance</th>\n",
       "      <th>duration</th>\n",
       "      <th>date</th>\n",
       "      <th>month</th>\n",
       "    </tr>\n",
       "  </thead>\n",
       "  <tbody>\n",
       "    <tr>\n",
       "      <th>0</th>\n",
       "      <td>1</td>\n",
       "      <td>4409.919140</td>\n",
       "      <td>25.599769</td>\n",
       "      <td>2021-01-01</td>\n",
       "      <td>1</td>\n",
       "    </tr>\n",
       "    <tr>\n",
       "      <th>1</th>\n",
       "      <td>1</td>\n",
       "      <td>2617.592153</td>\n",
       "      <td>15.816871</td>\n",
       "      <td>2021-01-18</td>\n",
       "      <td>1</td>\n",
       "    </tr>\n",
       "    <tr>\n",
       "      <th>2</th>\n",
       "      <td>1</td>\n",
       "      <td>754.159807</td>\n",
       "      <td>6.232113</td>\n",
       "      <td>2021-04-20</td>\n",
       "      <td>4</td>\n",
       "    </tr>\n",
       "    <tr>\n",
       "      <th>3</th>\n",
       "      <td>1</td>\n",
       "      <td>2694.783254</td>\n",
       "      <td>18.511000</td>\n",
       "      <td>2021-08-11</td>\n",
       "      <td>8</td>\n",
       "    </tr>\n",
       "    <tr>\n",
       "      <th>4</th>\n",
       "      <td>1</td>\n",
       "      <td>4028.687306</td>\n",
       "      <td>26.265803</td>\n",
       "      <td>2021-08-28</td>\n",
       "      <td>8</td>\n",
       "    </tr>\n",
       "  </tbody>\n",
       "</table>\n",
       "</div>"
      ],
      "text/plain": [
       "   user_id     distance   duration       date  month\n",
       "0        1  4409.919140  25.599769 2021-01-01      1\n",
       "1        1  2617.592153  15.816871 2021-01-18      1\n",
       "2        1   754.159807   6.232113 2021-04-20      4\n",
       "3        1  2694.783254  18.511000 2021-08-11      8\n",
       "4        1  4028.687306  26.265803 2021-08-28      8"
      ]
     },
     "metadata": {},
     "output_type": "display_data"
    }
   ],
   "source": [
    "# rides['month'] = pd.DatetimeIndex(rides['date']).month\n",
    "rides['month'] = rides['date'].dt.month\n",
    "display(rides.head())"
   ]
  },
  {
   "cell_type": "markdown",
   "id": "ac1ba9a4",
   "metadata": {},
   "source": [
    "**2.3. Проверим данные на наличие пропущенных значений и явных дубликатов.**"
   ]
  },
  {
   "cell_type": "code",
   "execution_count": 21,
   "id": "45982c57",
   "metadata": {},
   "outputs": [
    {
     "name": "stdout",
     "output_type": "stream",
     "text": [
      "user_id              0\n",
      "name                 0\n",
      "age                  0\n",
      "city                 0\n",
      "subscription_type    0\n",
      "dtype: int64\n",
      "\n",
      "user_id     0\n",
      "distance    0\n",
      "duration    0\n",
      "date        0\n",
      "month       0\n",
      "dtype: int64\n",
      "\n",
      "subscription_type    0\n",
      "minute_price         0\n",
      "start_ride_price     0\n",
      "subscription_fee     0\n",
      "dtype: int64\n"
     ]
    }
   ],
   "source": [
    "print(users.isna().sum())\n",
    "print()\n",
    "print(rides.isna().sum())\n",
    "print()\n",
    "print(subscriptions.isna().sum())"
   ]
  },
  {
   "cell_type": "markdown",
   "id": "b57a5514",
   "metadata": {},
   "source": [
    "Пропущенных значений не обнаружено."
   ]
  },
  {
   "cell_type": "code",
   "execution_count": 23,
   "id": "1f365209",
   "metadata": {},
   "outputs": [
    {
     "name": "stdout",
     "output_type": "stream",
     "text": [
      "31\n",
      "\n",
      "0\n",
      "\n",
      "0\n"
     ]
    }
   ],
   "source": [
    "print(users.duplicated().sum())\n",
    "print()\n",
    "print(rides.duplicated().sum())\n",
    "print()\n",
    "print(subscriptions.duplicated().sum())"
   ]
  },
  {
   "cell_type": "markdown",
   "id": "b0f0c8b7",
   "metadata": {},
   "source": [
    "Обнаружены 31 явных дубликатов в таблице users. Выведем их на экран."
   ]
  },
  {
   "cell_type": "code",
   "execution_count": 25,
   "id": "2216a4e6",
   "metadata": {},
   "outputs": [
    {
     "data": {
      "text/html": [
       "<div>\n",
       "<style scoped>\n",
       "    .dataframe tbody tr th:only-of-type {\n",
       "        vertical-align: middle;\n",
       "    }\n",
       "\n",
       "    .dataframe tbody tr th {\n",
       "        vertical-align: top;\n",
       "    }\n",
       "\n",
       "    .dataframe thead th {\n",
       "        text-align: right;\n",
       "    }\n",
       "</style>\n",
       "<table border=\"1\" class=\"dataframe\">\n",
       "  <thead>\n",
       "    <tr style=\"text-align: right;\">\n",
       "      <th></th>\n",
       "      <th>user_id</th>\n",
       "      <th>name</th>\n",
       "      <th>age</th>\n",
       "      <th>city</th>\n",
       "      <th>subscription_type</th>\n",
       "    </tr>\n",
       "  </thead>\n",
       "  <tbody>\n",
       "    <tr>\n",
       "      <th>1534</th>\n",
       "      <td>293</td>\n",
       "      <td>Агата</td>\n",
       "      <td>26</td>\n",
       "      <td>Краснодар</td>\n",
       "      <td>ultra</td>\n",
       "    </tr>\n",
       "    <tr>\n",
       "      <th>1535</th>\n",
       "      <td>16</td>\n",
       "      <td>Амалия</td>\n",
       "      <td>27</td>\n",
       "      <td>Краснодар</td>\n",
       "      <td>ultra</td>\n",
       "    </tr>\n",
       "    <tr>\n",
       "      <th>1536</th>\n",
       "      <td>909</td>\n",
       "      <td>Константин</td>\n",
       "      <td>20</td>\n",
       "      <td>Екатеринбург</td>\n",
       "      <td>free</td>\n",
       "    </tr>\n",
       "    <tr>\n",
       "      <th>1537</th>\n",
       "      <td>403</td>\n",
       "      <td>Полина</td>\n",
       "      <td>19</td>\n",
       "      <td>Сочи</td>\n",
       "      <td>ultra</td>\n",
       "    </tr>\n",
       "    <tr>\n",
       "      <th>1538</th>\n",
       "      <td>908</td>\n",
       "      <td>Рустам</td>\n",
       "      <td>30</td>\n",
       "      <td>Тюмень</td>\n",
       "      <td>free</td>\n",
       "    </tr>\n",
       "    <tr>\n",
       "      <th>1539</th>\n",
       "      <td>43</td>\n",
       "      <td>Стефания</td>\n",
       "      <td>22</td>\n",
       "      <td>Омск</td>\n",
       "      <td>ultra</td>\n",
       "    </tr>\n",
       "    <tr>\n",
       "      <th>1540</th>\n",
       "      <td>127</td>\n",
       "      <td>Павел</td>\n",
       "      <td>25</td>\n",
       "      <td>Пятигорск</td>\n",
       "      <td>ultra</td>\n",
       "    </tr>\n",
       "    <tr>\n",
       "      <th>1541</th>\n",
       "      <td>659</td>\n",
       "      <td>Злата</td>\n",
       "      <td>27</td>\n",
       "      <td>Ростов-на-Дону</td>\n",
       "      <td>ultra</td>\n",
       "    </tr>\n",
       "    <tr>\n",
       "      <th>1542</th>\n",
       "      <td>204</td>\n",
       "      <td>Руслан</td>\n",
       "      <td>30</td>\n",
       "      <td>Пятигорск</td>\n",
       "      <td>ultra</td>\n",
       "    </tr>\n",
       "    <tr>\n",
       "      <th>1543</th>\n",
       "      <td>153</td>\n",
       "      <td>Герман</td>\n",
       "      <td>23</td>\n",
       "      <td>Москва</td>\n",
       "      <td>ultra</td>\n",
       "    </tr>\n",
       "    <tr>\n",
       "      <th>1544</th>\n",
       "      <td>1245</td>\n",
       "      <td>Регина</td>\n",
       "      <td>27</td>\n",
       "      <td>Пятигорск</td>\n",
       "      <td>free</td>\n",
       "    </tr>\n",
       "    <tr>\n",
       "      <th>1545</th>\n",
       "      <td>807</td>\n",
       "      <td>Александр</td>\n",
       "      <td>28</td>\n",
       "      <td>Екатеринбург</td>\n",
       "      <td>free</td>\n",
       "    </tr>\n",
       "    <tr>\n",
       "      <th>1546</th>\n",
       "      <td>924</td>\n",
       "      <td>Мария</td>\n",
       "      <td>23</td>\n",
       "      <td>Пятигорск</td>\n",
       "      <td>free</td>\n",
       "    </tr>\n",
       "    <tr>\n",
       "      <th>1547</th>\n",
       "      <td>635</td>\n",
       "      <td>Герман</td>\n",
       "      <td>21</td>\n",
       "      <td>Москва</td>\n",
       "      <td>ultra</td>\n",
       "    </tr>\n",
       "    <tr>\n",
       "      <th>1548</th>\n",
       "      <td>136</td>\n",
       "      <td>Марсель</td>\n",
       "      <td>25</td>\n",
       "      <td>Тюмень</td>\n",
       "      <td>ultra</td>\n",
       "    </tr>\n",
       "    <tr>\n",
       "      <th>1549</th>\n",
       "      <td>108</td>\n",
       "      <td>Влада</td>\n",
       "      <td>29</td>\n",
       "      <td>Тюмень</td>\n",
       "      <td>ultra</td>\n",
       "    </tr>\n",
       "    <tr>\n",
       "      <th>1550</th>\n",
       "      <td>737</td>\n",
       "      <td>Мелания</td>\n",
       "      <td>27</td>\n",
       "      <td>Ростов-на-Дону</td>\n",
       "      <td>free</td>\n",
       "    </tr>\n",
       "    <tr>\n",
       "      <th>1551</th>\n",
       "      <td>666</td>\n",
       "      <td>Зарина</td>\n",
       "      <td>29</td>\n",
       "      <td>Москва</td>\n",
       "      <td>ultra</td>\n",
       "    </tr>\n",
       "    <tr>\n",
       "      <th>1552</th>\n",
       "      <td>297</td>\n",
       "      <td>Егор</td>\n",
       "      <td>33</td>\n",
       "      <td>Пятигорск</td>\n",
       "      <td>ultra</td>\n",
       "    </tr>\n",
       "    <tr>\n",
       "      <th>1553</th>\n",
       "      <td>121</td>\n",
       "      <td>Алина</td>\n",
       "      <td>25</td>\n",
       "      <td>Пятигорск</td>\n",
       "      <td>ultra</td>\n",
       "    </tr>\n",
       "    <tr>\n",
       "      <th>1554</th>\n",
       "      <td>1198</td>\n",
       "      <td>Демид</td>\n",
       "      <td>29</td>\n",
       "      <td>Ростов-на-Дону</td>\n",
       "      <td>free</td>\n",
       "    </tr>\n",
       "    <tr>\n",
       "      <th>1555</th>\n",
       "      <td>72</td>\n",
       "      <td>Никита</td>\n",
       "      <td>25</td>\n",
       "      <td>Москва</td>\n",
       "      <td>ultra</td>\n",
       "    </tr>\n",
       "    <tr>\n",
       "      <th>1556</th>\n",
       "      <td>422</td>\n",
       "      <td>Кирилл</td>\n",
       "      <td>27</td>\n",
       "      <td>Сочи</td>\n",
       "      <td>ultra</td>\n",
       "    </tr>\n",
       "    <tr>\n",
       "      <th>1557</th>\n",
       "      <td>611</td>\n",
       "      <td>Владимир</td>\n",
       "      <td>28</td>\n",
       "      <td>Омск</td>\n",
       "      <td>ultra</td>\n",
       "    </tr>\n",
       "    <tr>\n",
       "      <th>1558</th>\n",
       "      <td>1237</td>\n",
       "      <td>Евгения</td>\n",
       "      <td>23</td>\n",
       "      <td>Тюмень</td>\n",
       "      <td>free</td>\n",
       "    </tr>\n",
       "    <tr>\n",
       "      <th>1559</th>\n",
       "      <td>209</td>\n",
       "      <td>Андрей</td>\n",
       "      <td>23</td>\n",
       "      <td>Омск</td>\n",
       "      <td>ultra</td>\n",
       "    </tr>\n",
       "    <tr>\n",
       "      <th>1560</th>\n",
       "      <td>829</td>\n",
       "      <td>Федор</td>\n",
       "      <td>29</td>\n",
       "      <td>Пятигорск</td>\n",
       "      <td>free</td>\n",
       "    </tr>\n",
       "    <tr>\n",
       "      <th>1561</th>\n",
       "      <td>809</td>\n",
       "      <td>Юрий</td>\n",
       "      <td>26</td>\n",
       "      <td>Сочи</td>\n",
       "      <td>free</td>\n",
       "    </tr>\n",
       "    <tr>\n",
       "      <th>1562</th>\n",
       "      <td>307</td>\n",
       "      <td>Ясмина</td>\n",
       "      <td>19</td>\n",
       "      <td>Краснодар</td>\n",
       "      <td>ultra</td>\n",
       "    </tr>\n",
       "    <tr>\n",
       "      <th>1563</th>\n",
       "      <td>47</td>\n",
       "      <td>Юрий</td>\n",
       "      <td>28</td>\n",
       "      <td>Тюмень</td>\n",
       "      <td>ultra</td>\n",
       "    </tr>\n",
       "    <tr>\n",
       "      <th>1564</th>\n",
       "      <td>1045</td>\n",
       "      <td>Артемий</td>\n",
       "      <td>28</td>\n",
       "      <td>Ростов-на-Дону</td>\n",
       "      <td>free</td>\n",
       "    </tr>\n",
       "  </tbody>\n",
       "</table>\n",
       "</div>"
      ],
      "text/plain": [
       "      user_id        name  age            city subscription_type\n",
       "1534      293       Агата   26       Краснодар             ultra\n",
       "1535       16      Амалия   27       Краснодар             ultra\n",
       "1536      909  Константин   20    Екатеринбург              free\n",
       "1537      403      Полина   19            Сочи             ultra\n",
       "1538      908      Рустам   30          Тюмень              free\n",
       "1539       43    Стефания   22            Омск             ultra\n",
       "1540      127       Павел   25       Пятигорск             ultra\n",
       "1541      659       Злата   27  Ростов-на-Дону             ultra\n",
       "1542      204      Руслан   30       Пятигорск             ultra\n",
       "1543      153      Герман   23          Москва             ultra\n",
       "1544     1245      Регина   27       Пятигорск              free\n",
       "1545      807   Александр   28    Екатеринбург              free\n",
       "1546      924       Мария   23       Пятигорск              free\n",
       "1547      635      Герман   21          Москва             ultra\n",
       "1548      136     Марсель   25          Тюмень             ultra\n",
       "1549      108       Влада   29          Тюмень             ultra\n",
       "1550      737     Мелания   27  Ростов-на-Дону              free\n",
       "1551      666      Зарина   29          Москва             ultra\n",
       "1552      297        Егор   33       Пятигорск             ultra\n",
       "1553      121       Алина   25       Пятигорск             ultra\n",
       "1554     1198       Демид   29  Ростов-на-Дону              free\n",
       "1555       72      Никита   25          Москва             ultra\n",
       "1556      422      Кирилл   27            Сочи             ultra\n",
       "1557      611    Владимир   28            Омск             ultra\n",
       "1558     1237     Евгения   23          Тюмень              free\n",
       "1559      209      Андрей   23            Омск             ultra\n",
       "1560      829       Федор   29       Пятигорск              free\n",
       "1561      809        Юрий   26            Сочи              free\n",
       "1562      307      Ясмина   19       Краснодар             ultra\n",
       "1563       47        Юрий   28          Тюмень             ultra\n",
       "1564     1045     Артемий   28  Ростов-на-Дону              free"
      ]
     },
     "metadata": {},
     "output_type": "display_data"
    }
   ],
   "source": [
    "duplicate_users = users[users.duplicated() == True]\n",
    "display(duplicate_users)"
   ]
  },
  {
   "cell_type": "markdown",
   "id": "799b20d2",
   "metadata": {},
   "source": [
    "Проверяем пользователя с user_id 293. Строка полностью дублируется."
   ]
  },
  {
   "cell_type": "code",
   "execution_count": 27,
   "id": "ae0ba522",
   "metadata": {},
   "outputs": [
    {
     "data": {
      "text/html": [
       "<div>\n",
       "<style scoped>\n",
       "    .dataframe tbody tr th:only-of-type {\n",
       "        vertical-align: middle;\n",
       "    }\n",
       "\n",
       "    .dataframe tbody tr th {\n",
       "        vertical-align: top;\n",
       "    }\n",
       "\n",
       "    .dataframe thead th {\n",
       "        text-align: right;\n",
       "    }\n",
       "</style>\n",
       "<table border=\"1\" class=\"dataframe\">\n",
       "  <thead>\n",
       "    <tr style=\"text-align: right;\">\n",
       "      <th></th>\n",
       "      <th>user_id</th>\n",
       "      <th>name</th>\n",
       "      <th>age</th>\n",
       "      <th>city</th>\n",
       "      <th>subscription_type</th>\n",
       "    </tr>\n",
       "  </thead>\n",
       "  <tbody>\n",
       "    <tr>\n",
       "      <th>292</th>\n",
       "      <td>293</td>\n",
       "      <td>Агата</td>\n",
       "      <td>26</td>\n",
       "      <td>Краснодар</td>\n",
       "      <td>ultra</td>\n",
       "    </tr>\n",
       "    <tr>\n",
       "      <th>1534</th>\n",
       "      <td>293</td>\n",
       "      <td>Агата</td>\n",
       "      <td>26</td>\n",
       "      <td>Краснодар</td>\n",
       "      <td>ultra</td>\n",
       "    </tr>\n",
       "  </tbody>\n",
       "</table>\n",
       "</div>"
      ],
      "text/plain": [
       "      user_id   name  age       city subscription_type\n",
       "292       293  Агата   26  Краснодар             ultra\n",
       "1534      293  Агата   26  Краснодар             ultra"
      ]
     },
     "metadata": {},
     "output_type": "display_data"
    }
   ],
   "source": [
    "display(users[users['user_id'] == 293])"
   ]
  },
  {
   "cell_type": "markdown",
   "id": "37b51a3c",
   "metadata": {},
   "source": [
    "Судя по индексу строк и характеру данных 31 строка полностью повторяются. Удаляем их."
   ]
  },
  {
   "cell_type": "code",
   "execution_count": 29,
   "id": "c1724fe8",
   "metadata": {},
   "outputs": [
    {
     "name": "stdout",
     "output_type": "stream",
     "text": [
      "users duplicates: 0\n"
     ]
    }
   ],
   "source": [
    "users = users.drop_duplicates()\n",
    "\n",
    "print('users duplicates:', users.duplicated().sum())"
   ]
  },
  {
   "cell_type": "markdown",
   "id": "1888aa57",
   "metadata": {},
   "source": [
    "**Вывод:**\n",
    "- *Приведение типов данных:* тип данных изменен в 1 столбце: date:  object -> datetime.\n",
    "- *Дубликаты:* удалены неявные дубликаты в таблице users: 31 строка из 1565 строк (2%).\n",
    "- *Аномальные значения:* нет.\n",
    "- *Пропущенные значения:* нет.\n",
    "- *Новые столбцы:* добавлен новый столбец с номером месяца на основе столбца date."
   ]
  },
  {
   "cell_type": "markdown",
   "id": "212593c7",
   "metadata": {},
   "source": [
    "### Исследовательский анализ данных"
   ]
  },
  {
   "cell_type": "markdown",
   "id": "782da3f3",
   "metadata": {},
   "source": [
    "Опишем и визуализируем общую информацию о пользователях и поездках."
   ]
  },
  {
   "cell_type": "markdown",
   "id": "1847d45a",
   "metadata": {},
   "source": [
    "**3.1. частота встречаемости городов**"
   ]
  },
  {
   "cell_type": "code",
   "execution_count": 34,
   "id": "0f211d8d",
   "metadata": {},
   "outputs": [
    {
     "name": "stdout",
     "output_type": "stream",
     "text": [
      "city\n",
      "Пятигорск         219\n",
      "Екатеринбург      204\n",
      "Ростов-на-Дону    198\n",
      "Краснодар         193\n",
      "Сочи              189\n",
      "Омск              183\n",
      "Тюмень            180\n",
      "Москва            168\n",
      "Name: count, dtype: int64\n"
     ]
    },
    {
     "data": {
      "image/png": "[encoded data removed]",
      "text/plain": [
       "<Figure size 1200x800 with 1 Axes>"
      ]
     },
     "metadata": {},
     "output_type": "display_data"
    }
   ],
   "source": [
    "city_counts = users['city'].value_counts()\n",
    "print(city_counts)\n",
    "\n",
    "plt.figure(figsize=(12, 8))\n",
    "plt.bar(city_counts.index, city_counts.values, color='skyblue')\n",
    "\n",
    "plt.title('Частота встречаемости городов')\n",
    "plt.xlabel('Город')\n",
    "plt.ylabel('Количество пользователей')\n",
    "\n",
    "plt.xticks(rotation=30)\n",
    "\n",
    "plt.tight_layout()\n",
    "plt.show()"
   ]
  },
  {
   "cell_type": "markdown",
   "id": "5c57d769",
   "metadata": {},
   "source": [
    "**Вывод:** Больше всего пользователей сервиса в Пятигорске, меньше всего в Москве."
   ]
  },
  {
   "cell_type": "markdown",
   "id": "2566ae7c",
   "metadata": {},
   "source": [
    "**3.2. соотношение пользователей с подпиской и без подписки**"
   ]
  },
  {
   "cell_type": "code",
   "execution_count": 37,
   "id": "f8ca03ed",
   "metadata": {},
   "outputs": [
    {
     "name": "stdout",
     "output_type": "stream",
     "text": [
      "subscription_type\n",
      "free     835\n",
      "ultra    699\n",
      "Name: count, dtype: int64\n"
     ]
    },
    {
     "data": {
      "image/png": "[encoded data removed]",
      "text/plain": [
       "<Figure size 1200x800 with 1 Axes>"
      ]
     },
     "metadata": {},
     "output_type": "display_data"
    }
   ],
   "source": [
    "subscription_counts = users['subscription_type'].value_counts()\n",
    "print(subscription_counts)\n",
    "\n",
    "subscription_counts.plot(kind='pie', figsize=(12, 8), autopct='%1.1f%%', startangle=180, colors=['skyblue', 'orange'], explode=[0.05, 0.05])\n",
    "\n",
    "plt.title('Соотношение пользователей с подпиской и без подписки')\n",
    "plt.ylabel('')\n",
    "\n",
    "plt.tight_layout()\n",
    "plt.show()"
   ]
  },
  {
   "cell_type": "markdown",
   "id": "438eea93",
   "metadata": {},
   "source": [
    "**Вывод:** Всего пользователей: 1534. Пользователи с подпиской Ultra - 699(45.6%), пользователи без подписки - 835(54.4%)."
   ]
  },
  {
   "cell_type": "markdown",
   "id": "8a90d0af",
   "metadata": {},
   "source": [
    "**3.3. возраст пользователей**"
   ]
  },
  {
   "cell_type": "code",
   "execution_count": 40,
   "id": "9418349a",
   "metadata": {},
   "outputs": [
    {
     "name": "stdout",
     "output_type": "stream",
     "text": [
      "count    1534.000000\n",
      "mean       24.903520\n",
      "std         4.572367\n",
      "min        12.000000\n",
      "25%        22.000000\n",
      "50%        25.000000\n",
      "75%        28.000000\n",
      "max        43.000000\n",
      "Name: age, dtype: float64\n"
     ]
    },
    {
     "data": {
      "image/png": "[encoded data removed]",
      "text/plain": [
       "<Figure size 1200x800 with 1 Axes>"
      ]
     },
     "metadata": {},
     "output_type": "display_data"
    }
   ],
   "source": [
    "print(users['age'].describe())\n",
    "\n",
    "users['age'].plot(kind='hist', figsize=(12,8), bins=45, color='skyblue')\n",
    "\n",
    "plt.title('Распределение возраста пользователей')\n",
    "plt.xlabel('Возраст')\n",
    "plt.ylabel('Количество пользователей')\n",
    "\n",
    "plt.tight_layout()\n",
    "plt.show()"
   ]
  },
  {
   "cell_type": "markdown",
   "id": "2e3954e9",
   "metadata": {},
   "source": [
    "**Вывод:** Большая часть пользователей - в возрасте от 22 до 28 лет. Средний возраст пользователя - 25 лет. Самый младший пользователь - 12 лет, самый старший - 43 года."
   ]
  },
  {
   "cell_type": "markdown",
   "id": "3dc1dabd",
   "metadata": {},
   "source": [
    "**3.4. расстояние, которое пользователь преодолел за одну поездку**"
   ]
  },
  {
   "cell_type": "code",
   "execution_count": 43,
   "id": "17a7a1db",
   "metadata": {},
   "outputs": [
    {
     "name": "stdout",
     "output_type": "stream",
     "text": [
      "count    18068.000000\n",
      "mean      3070.659976\n",
      "std       1116.831209\n",
      "min          0.855683\n",
      "25%       2543.226360\n",
      "50%       3133.609994\n",
      "75%       3776.222735\n",
      "max       7211.007745\n",
      "Name: distance, dtype: float64\n"
     ]
    },
    {
     "data": {
      "image/png": "[encoded data removed]",
      "text/plain": [
       "<Figure size 1200x800 with 1 Axes>"
      ]
     },
     "metadata": {},
     "output_type": "display_data"
    }
   ],
   "source": [
    "print(rides['distance'].describe())\n",
    "\n",
    "rides['distance'].plot(kind='hist', figsize=(12, 8), bins=721, color='skyblue')\n",
    "\n",
    "plt.title('Распределение расстояний поездок')\n",
    "plt.xlabel('Расстояние (метры)')\n",
    "plt.ylabel('Количество поездок')\n",
    "\n",
    "plt.tight_layout()\n",
    "plt.show()"
   ]
  },
  {
   "cell_type": "markdown",
   "id": "779f29a1",
   "metadata": {},
   "source": [
    "**Вывод:** Большинство поездок имеют расстояние от 2543 до 3776 метров. Среднее расстояние составляет 3070 метров. Самое короткое расстояние — 0.8 метра, самое длинное — 7211 метров. Гистограмма описывает бимодальное распределение.\n",
    "Судя по графику поездки условно можно разделить на:\n",
    "- короткие с расстоянием от 0 до 1500 м, пиком в 700 метров.\n",
    "- длинные с расстоянием от 1500 до 6000 м, пиком в 3070 метров."
   ]
  },
  {
   "cell_type": "markdown",
   "id": "ef0d0cbb",
   "metadata": {},
   "source": [
    "**3.5. продолжительность поездок**"
   ]
  },
  {
   "cell_type": "code",
   "execution_count": 46,
   "id": "32a4b738",
   "metadata": {},
   "outputs": [
    {
     "name": "stdout",
     "output_type": "stream",
     "text": [
      "count    18068.000000\n",
      "mean        17.805011\n",
      "std          6.091051\n",
      "min          0.500000\n",
      "25%         13.597563\n",
      "50%         17.678395\n",
      "75%         21.724800\n",
      "max         40.823963\n",
      "Name: duration, dtype: float64\n"
     ]
    },
    {
     "data": {
      "image/png": "[encoded data removed]",
      "text/plain": [
       "<Figure size 1200x800 with 1 Axes>"
      ]
     },
     "metadata": {},
     "output_type": "display_data"
    }
   ],
   "source": [
    "print(rides['duration'].describe())\n",
    "\n",
    "rides['duration'].plot(kind='hist', figsize=(12, 8), bins=41, color='skyblue')\n",
    "\n",
    "plt.title('Распределение продолжительности поездок')\n",
    "plt.xlabel('Продолжительность (минуты)')\n",
    "plt.ylabel('Количество поездок')\n",
    "\n",
    "plt.tight_layout()\n",
    "plt.show()"
   ]
  },
  {
   "cell_type": "markdown",
   "id": "83a602b8",
   "metadata": {},
   "source": [
    "**Вывод:** Большинство поездок имеют продолжительность от 14 до 22 минут. Средняя продолжительность поездок - 18 минут. Самая короткая поездка — 0.5 минут, самое длинная — 41 минута. Гистограмма показывает, что распределение данных нормальное, где большинство поездок сконцентрированы вокруг среднего значения. Медиана близка к среднему значению, что указывает на симметричное распределение данных.\n",
    "Есть всплеск в данных для поездок, которые меньше одного метра, видимо это тестовые поездки новых пользователей, которые только пробуют сервис. "
   ]
  },
  {
   "cell_type": "markdown",
   "id": "4ef51331",
   "metadata": {},
   "source": [
    "### Объединение данных"
   ]
  },
  {
   "cell_type": "markdown",
   "id": "0b216127",
   "metadata": {},
   "source": [
    "**4.1. Объединим данные о пользователях, поездках и подписках в один датафрейм.**"
   ]
  },
  {
   "cell_type": "code",
   "execution_count": 50,
   "id": "70c08788",
   "metadata": {},
   "outputs": [
    {
     "data": {
      "text/html": [
       "<div>\n",
       "<style scoped>\n",
       "    .dataframe tbody tr th:only-of-type {\n",
       "        vertical-align: middle;\n",
       "    }\n",
       "\n",
       "    .dataframe tbody tr th {\n",
       "        vertical-align: top;\n",
       "    }\n",
       "\n",
       "    .dataframe thead th {\n",
       "        text-align: right;\n",
       "    }\n",
       "</style>\n",
       "<table border=\"1\" class=\"dataframe\">\n",
       "  <thead>\n",
       "    <tr style=\"text-align: right;\">\n",
       "      <th></th>\n",
       "      <th>user_id</th>\n",
       "      <th>name</th>\n",
       "      <th>age</th>\n",
       "      <th>city</th>\n",
       "      <th>subscription_type</th>\n",
       "      <th>distance</th>\n",
       "      <th>duration</th>\n",
       "      <th>date</th>\n",
       "      <th>month</th>\n",
       "      <th>minute_price</th>\n",
       "      <th>start_ride_price</th>\n",
       "      <th>subscription_fee</th>\n",
       "    </tr>\n",
       "  </thead>\n",
       "  <tbody>\n",
       "    <tr>\n",
       "      <th>0</th>\n",
       "      <td>1</td>\n",
       "      <td>Кира</td>\n",
       "      <td>22</td>\n",
       "      <td>Тюмень</td>\n",
       "      <td>ultra</td>\n",
       "      <td>4409.919140</td>\n",
       "      <td>25.599769</td>\n",
       "      <td>2021-01-01</td>\n",
       "      <td>1</td>\n",
       "      <td>6</td>\n",
       "      <td>0</td>\n",
       "      <td>199</td>\n",
       "    </tr>\n",
       "    <tr>\n",
       "      <th>1</th>\n",
       "      <td>1</td>\n",
       "      <td>Кира</td>\n",
       "      <td>22</td>\n",
       "      <td>Тюмень</td>\n",
       "      <td>ultra</td>\n",
       "      <td>2617.592153</td>\n",
       "      <td>15.816871</td>\n",
       "      <td>2021-01-18</td>\n",
       "      <td>1</td>\n",
       "      <td>6</td>\n",
       "      <td>0</td>\n",
       "      <td>199</td>\n",
       "    </tr>\n",
       "    <tr>\n",
       "      <th>2</th>\n",
       "      <td>1</td>\n",
       "      <td>Кира</td>\n",
       "      <td>22</td>\n",
       "      <td>Тюмень</td>\n",
       "      <td>ultra</td>\n",
       "      <td>754.159807</td>\n",
       "      <td>6.232113</td>\n",
       "      <td>2021-04-20</td>\n",
       "      <td>4</td>\n",
       "      <td>6</td>\n",
       "      <td>0</td>\n",
       "      <td>199</td>\n",
       "    </tr>\n",
       "    <tr>\n",
       "      <th>3</th>\n",
       "      <td>1</td>\n",
       "      <td>Кира</td>\n",
       "      <td>22</td>\n",
       "      <td>Тюмень</td>\n",
       "      <td>ultra</td>\n",
       "      <td>2694.783254</td>\n",
       "      <td>18.511000</td>\n",
       "      <td>2021-08-11</td>\n",
       "      <td>8</td>\n",
       "      <td>6</td>\n",
       "      <td>0</td>\n",
       "      <td>199</td>\n",
       "    </tr>\n",
       "    <tr>\n",
       "      <th>4</th>\n",
       "      <td>1</td>\n",
       "      <td>Кира</td>\n",
       "      <td>22</td>\n",
       "      <td>Тюмень</td>\n",
       "      <td>ultra</td>\n",
       "      <td>4028.687306</td>\n",
       "      <td>26.265803</td>\n",
       "      <td>2021-08-28</td>\n",
       "      <td>8</td>\n",
       "      <td>6</td>\n",
       "      <td>0</td>\n",
       "      <td>199</td>\n",
       "    </tr>\n",
       "    <tr>\n",
       "      <th>...</th>\n",
       "      <td>...</td>\n",
       "      <td>...</td>\n",
       "      <td>...</td>\n",
       "      <td>...</td>\n",
       "      <td>...</td>\n",
       "      <td>...</td>\n",
       "      <td>...</td>\n",
       "      <td>...</td>\n",
       "      <td>...</td>\n",
       "      <td>...</td>\n",
       "      <td>...</td>\n",
       "      <td>...</td>\n",
       "    </tr>\n",
       "    <tr>\n",
       "      <th>18063</th>\n",
       "      <td>1534</td>\n",
       "      <td>Альберт</td>\n",
       "      <td>25</td>\n",
       "      <td>Краснодар</td>\n",
       "      <td>free</td>\n",
       "      <td>3781.098080</td>\n",
       "      <td>19.822962</td>\n",
       "      <td>2021-11-04</td>\n",
       "      <td>11</td>\n",
       "      <td>8</td>\n",
       "      <td>50</td>\n",
       "      <td>0</td>\n",
       "    </tr>\n",
       "    <tr>\n",
       "      <th>18064</th>\n",
       "      <td>1534</td>\n",
       "      <td>Альберт</td>\n",
       "      <td>25</td>\n",
       "      <td>Краснодар</td>\n",
       "      <td>free</td>\n",
       "      <td>2840.423057</td>\n",
       "      <td>21.409799</td>\n",
       "      <td>2021-11-16</td>\n",
       "      <td>11</td>\n",
       "      <td>8</td>\n",
       "      <td>50</td>\n",
       "      <td>0</td>\n",
       "    </tr>\n",
       "    <tr>\n",
       "      <th>18065</th>\n",
       "      <td>1534</td>\n",
       "      <td>Альберт</td>\n",
       "      <td>25</td>\n",
       "      <td>Краснодар</td>\n",
       "      <td>free</td>\n",
       "      <td>3826.185507</td>\n",
       "      <td>18.435051</td>\n",
       "      <td>2021-11-18</td>\n",
       "      <td>11</td>\n",
       "      <td>8</td>\n",
       "      <td>50</td>\n",
       "      <td>0</td>\n",
       "    </tr>\n",
       "    <tr>\n",
       "      <th>18066</th>\n",
       "      <td>1534</td>\n",
       "      <td>Альберт</td>\n",
       "      <td>25</td>\n",
       "      <td>Краснодар</td>\n",
       "      <td>free</td>\n",
       "      <td>2902.308661</td>\n",
       "      <td>16.674362</td>\n",
       "      <td>2021-11-27</td>\n",
       "      <td>11</td>\n",
       "      <td>8</td>\n",
       "      <td>50</td>\n",
       "      <td>0</td>\n",
       "    </tr>\n",
       "    <tr>\n",
       "      <th>18067</th>\n",
       "      <td>1534</td>\n",
       "      <td>Альберт</td>\n",
       "      <td>25</td>\n",
       "      <td>Краснодар</td>\n",
       "      <td>free</td>\n",
       "      <td>2371.711192</td>\n",
       "      <td>15.893917</td>\n",
       "      <td>2021-12-29</td>\n",
       "      <td>12</td>\n",
       "      <td>8</td>\n",
       "      <td>50</td>\n",
       "      <td>0</td>\n",
       "    </tr>\n",
       "  </tbody>\n",
       "</table>\n",
       "<p>18068 rows × 12 columns</p>\n",
       "</div>"
      ],
      "text/plain": [
       "       user_id     name  age       city subscription_type     distance  \\\n",
       "0            1     Кира   22     Тюмень             ultra  4409.919140   \n",
       "1            1     Кира   22     Тюмень             ultra  2617.592153   \n",
       "2            1     Кира   22     Тюмень             ultra   754.159807   \n",
       "3            1     Кира   22     Тюмень             ultra  2694.783254   \n",
       "4            1     Кира   22     Тюмень             ultra  4028.687306   \n",
       "...        ...      ...  ...        ...               ...          ...   \n",
       "18063     1534  Альберт   25  Краснодар              free  3781.098080   \n",
       "18064     1534  Альберт   25  Краснодар              free  2840.423057   \n",
       "18065     1534  Альберт   25  Краснодар              free  3826.185507   \n",
       "18066     1534  Альберт   25  Краснодар              free  2902.308661   \n",
       "18067     1534  Альберт   25  Краснодар              free  2371.711192   \n",
       "\n",
       "        duration       date  month  minute_price  start_ride_price  \\\n",
       "0      25.599769 2021-01-01      1             6                 0   \n",
       "1      15.816871 2021-01-18      1             6                 0   \n",
       "2       6.232113 2021-04-20      4             6                 0   \n",
       "3      18.511000 2021-08-11      8             6                 0   \n",
       "4      26.265803 2021-08-28      8             6                 0   \n",
       "...          ...        ...    ...           ...               ...   \n",
       "18063  19.822962 2021-11-04     11             8                50   \n",
       "18064  21.409799 2021-11-16     11             8                50   \n",
       "18065  18.435051 2021-11-18     11             8                50   \n",
       "18066  16.674362 2021-11-27     11             8                50   \n",
       "18067  15.893917 2021-12-29     12             8                50   \n",
       "\n",
       "       subscription_fee  \n",
       "0                   199  \n",
       "1                   199  \n",
       "2                   199  \n",
       "3                   199  \n",
       "4                   199  \n",
       "...                 ...  \n",
       "18063                 0  \n",
       "18064                 0  \n",
       "18065                 0  \n",
       "18066                 0  \n",
       "18067                 0  \n",
       "\n",
       "[18068 rows x 12 columns]"
      ]
     },
     "metadata": {},
     "output_type": "display_data"
    },
    {
     "name": "stdout",
     "output_type": "stream",
     "text": [
      "\n",
      "<class 'pandas.core.frame.DataFrame'>\n",
      "RangeIndex: 18068 entries, 0 to 18067\n",
      "Data columns (total 12 columns):\n",
      " #   Column             Non-Null Count  Dtype         \n",
      "---  ------             --------------  -----         \n",
      " 0   user_id            18068 non-null  int64         \n",
      " 1   name               18068 non-null  object        \n",
      " 2   age                18068 non-null  int64         \n",
      " 3   city               18068 non-null  object        \n",
      " 4   subscription_type  18068 non-null  object        \n",
      " 5   distance           18068 non-null  float64       \n",
      " 6   duration           18068 non-null  float64       \n",
      " 7   date               18068 non-null  datetime64[ns]\n",
      " 8   month              18068 non-null  int32         \n",
      " 9   minute_price       18068 non-null  int64         \n",
      " 10  start_ride_price   18068 non-null  int64         \n",
      " 11  subscription_fee   18068 non-null  int64         \n",
      "dtypes: datetime64[ns](1), float64(2), int32(1), int64(5), object(3)\n",
      "memory usage: 1.6+ MB\n",
      "None\n",
      "\n",
      "user_id              0\n",
      "name                 0\n",
      "age                  0\n",
      "city                 0\n",
      "subscription_type    0\n",
      "distance             0\n",
      "duration             0\n",
      "date                 0\n",
      "month                0\n",
      "minute_price         0\n",
      "start_ride_price     0\n",
      "subscription_fee     0\n",
      "dtype: int64\n"
     ]
    }
   ],
   "source": [
    "merged_data = users.merge(rides, on='user_id').merge(subscriptions, on='subscription_type')\n",
    "display(merged_data)\n",
    "print()\n",
    "print(merged_data.info())\n",
    "print()\n",
    "print(merged_data.isna().sum())"
   ]
  },
  {
   "cell_type": "markdown",
   "id": "dfef7f88",
   "metadata": {},
   "source": [
    "**4.2 Создадим ещё два датафрейма из датафрейма, созданного на этапе 4.1:**\n",
    "- **c данными о пользователях без подписки;**\n",
    "- **с данными о пользователях с подпиской.**"
   ]
  },
  {
   "cell_type": "code",
   "execution_count": 52,
   "id": "d121de1d",
   "metadata": {},
   "outputs": [
    {
     "data": {
      "text/html": [
       "<div>\n",
       "<style scoped>\n",
       "    .dataframe tbody tr th:only-of-type {\n",
       "        vertical-align: middle;\n",
       "    }\n",
       "\n",
       "    .dataframe tbody tr th {\n",
       "        vertical-align: top;\n",
       "    }\n",
       "\n",
       "    .dataframe thead th {\n",
       "        text-align: right;\n",
       "    }\n",
       "</style>\n",
       "<table border=\"1\" class=\"dataframe\">\n",
       "  <thead>\n",
       "    <tr style=\"text-align: right;\">\n",
       "      <th></th>\n",
       "      <th>user_id</th>\n",
       "      <th>name</th>\n",
       "      <th>age</th>\n",
       "      <th>city</th>\n",
       "      <th>subscription_type</th>\n",
       "      <th>distance</th>\n",
       "      <th>duration</th>\n",
       "      <th>date</th>\n",
       "      <th>month</th>\n",
       "      <th>minute_price</th>\n",
       "      <th>start_ride_price</th>\n",
       "      <th>subscription_fee</th>\n",
       "    </tr>\n",
       "  </thead>\n",
       "  <tbody>\n",
       "    <tr>\n",
       "      <th>0</th>\n",
       "      <td>1</td>\n",
       "      <td>Кира</td>\n",
       "      <td>22</td>\n",
       "      <td>Тюмень</td>\n",
       "      <td>ultra</td>\n",
       "      <td>4409.919140</td>\n",
       "      <td>25.599769</td>\n",
       "      <td>2021-01-01</td>\n",
       "      <td>1</td>\n",
       "      <td>6</td>\n",
       "      <td>0</td>\n",
       "      <td>199</td>\n",
       "    </tr>\n",
       "    <tr>\n",
       "      <th>1</th>\n",
       "      <td>1</td>\n",
       "      <td>Кира</td>\n",
       "      <td>22</td>\n",
       "      <td>Тюмень</td>\n",
       "      <td>ultra</td>\n",
       "      <td>2617.592153</td>\n",
       "      <td>15.816871</td>\n",
       "      <td>2021-01-18</td>\n",
       "      <td>1</td>\n",
       "      <td>6</td>\n",
       "      <td>0</td>\n",
       "      <td>199</td>\n",
       "    </tr>\n",
       "    <tr>\n",
       "      <th>2</th>\n",
       "      <td>1</td>\n",
       "      <td>Кира</td>\n",
       "      <td>22</td>\n",
       "      <td>Тюмень</td>\n",
       "      <td>ultra</td>\n",
       "      <td>754.159807</td>\n",
       "      <td>6.232113</td>\n",
       "      <td>2021-04-20</td>\n",
       "      <td>4</td>\n",
       "      <td>6</td>\n",
       "      <td>0</td>\n",
       "      <td>199</td>\n",
       "    </tr>\n",
       "    <tr>\n",
       "      <th>3</th>\n",
       "      <td>1</td>\n",
       "      <td>Кира</td>\n",
       "      <td>22</td>\n",
       "      <td>Тюмень</td>\n",
       "      <td>ultra</td>\n",
       "      <td>2694.783254</td>\n",
       "      <td>18.511000</td>\n",
       "      <td>2021-08-11</td>\n",
       "      <td>8</td>\n",
       "      <td>6</td>\n",
       "      <td>0</td>\n",
       "      <td>199</td>\n",
       "    </tr>\n",
       "    <tr>\n",
       "      <th>4</th>\n",
       "      <td>1</td>\n",
       "      <td>Кира</td>\n",
       "      <td>22</td>\n",
       "      <td>Тюмень</td>\n",
       "      <td>ultra</td>\n",
       "      <td>4028.687306</td>\n",
       "      <td>26.265803</td>\n",
       "      <td>2021-08-28</td>\n",
       "      <td>8</td>\n",
       "      <td>6</td>\n",
       "      <td>0</td>\n",
       "      <td>199</td>\n",
       "    </tr>\n",
       "    <tr>\n",
       "      <th>...</th>\n",
       "      <td>...</td>\n",
       "      <td>...</td>\n",
       "      <td>...</td>\n",
       "      <td>...</td>\n",
       "      <td>...</td>\n",
       "      <td>...</td>\n",
       "      <td>...</td>\n",
       "      <td>...</td>\n",
       "      <td>...</td>\n",
       "      <td>...</td>\n",
       "      <td>...</td>\n",
       "      <td>...</td>\n",
       "    </tr>\n",
       "    <tr>\n",
       "      <th>6495</th>\n",
       "      <td>699</td>\n",
       "      <td>Оксана</td>\n",
       "      <td>22</td>\n",
       "      <td>Москва</td>\n",
       "      <td>ultra</td>\n",
       "      <td>3973.046497</td>\n",
       "      <td>24.671163</td>\n",
       "      <td>2021-08-29</td>\n",
       "      <td>8</td>\n",
       "      <td>6</td>\n",
       "      <td>0</td>\n",
       "      <td>199</td>\n",
       "    </tr>\n",
       "    <tr>\n",
       "      <th>6496</th>\n",
       "      <td>699</td>\n",
       "      <td>Оксана</td>\n",
       "      <td>22</td>\n",
       "      <td>Москва</td>\n",
       "      <td>ultra</td>\n",
       "      <td>3288.702563</td>\n",
       "      <td>15.892886</td>\n",
       "      <td>2021-09-12</td>\n",
       "      <td>9</td>\n",
       "      <td>6</td>\n",
       "      <td>0</td>\n",
       "      <td>199</td>\n",
       "    </tr>\n",
       "    <tr>\n",
       "      <th>6497</th>\n",
       "      <td>699</td>\n",
       "      <td>Оксана</td>\n",
       "      <td>22</td>\n",
       "      <td>Москва</td>\n",
       "      <td>ultra</td>\n",
       "      <td>3076.159348</td>\n",
       "      <td>14.389525</td>\n",
       "      <td>2021-09-26</td>\n",
       "      <td>9</td>\n",
       "      <td>6</td>\n",
       "      <td>0</td>\n",
       "      <td>199</td>\n",
       "    </tr>\n",
       "    <tr>\n",
       "      <th>6498</th>\n",
       "      <td>699</td>\n",
       "      <td>Оксана</td>\n",
       "      <td>22</td>\n",
       "      <td>Москва</td>\n",
       "      <td>ultra</td>\n",
       "      <td>4707.845501</td>\n",
       "      <td>15.839579</td>\n",
       "      <td>2021-10-17</td>\n",
       "      <td>10</td>\n",
       "      <td>6</td>\n",
       "      <td>0</td>\n",
       "      <td>199</td>\n",
       "    </tr>\n",
       "    <tr>\n",
       "      <th>6499</th>\n",
       "      <td>699</td>\n",
       "      <td>Оксана</td>\n",
       "      <td>22</td>\n",
       "      <td>Москва</td>\n",
       "      <td>ultra</td>\n",
       "      <td>3202.890770</td>\n",
       "      <td>25.217345</td>\n",
       "      <td>2021-12-03</td>\n",
       "      <td>12</td>\n",
       "      <td>6</td>\n",
       "      <td>0</td>\n",
       "      <td>199</td>\n",
       "    </tr>\n",
       "  </tbody>\n",
       "</table>\n",
       "<p>6500 rows × 12 columns</p>\n",
       "</div>"
      ],
      "text/plain": [
       "      user_id    name  age    city subscription_type     distance   duration  \\\n",
       "0           1    Кира   22  Тюмень             ultra  4409.919140  25.599769   \n",
       "1           1    Кира   22  Тюмень             ultra  2617.592153  15.816871   \n",
       "2           1    Кира   22  Тюмень             ultra   754.159807   6.232113   \n",
       "3           1    Кира   22  Тюмень             ultra  2694.783254  18.511000   \n",
       "4           1    Кира   22  Тюмень             ultra  4028.687306  26.265803   \n",
       "...       ...     ...  ...     ...               ...          ...        ...   \n",
       "6495      699  Оксана   22  Москва             ultra  3973.046497  24.671163   \n",
       "6496      699  Оксана   22  Москва             ultra  3288.702563  15.892886   \n",
       "6497      699  Оксана   22  Москва             ultra  3076.159348  14.389525   \n",
       "6498      699  Оксана   22  Москва             ultra  4707.845501  15.839579   \n",
       "6499      699  Оксана   22  Москва             ultra  3202.890770  25.217345   \n",
       "\n",
       "           date  month  minute_price  start_ride_price  subscription_fee  \n",
       "0    2021-01-01      1             6                 0               199  \n",
       "1    2021-01-18      1             6                 0               199  \n",
       "2    2021-04-20      4             6                 0               199  \n",
       "3    2021-08-11      8             6                 0               199  \n",
       "4    2021-08-28      8             6                 0               199  \n",
       "...         ...    ...           ...               ...               ...  \n",
       "6495 2021-08-29      8             6                 0               199  \n",
       "6496 2021-09-12      9             6                 0               199  \n",
       "6497 2021-09-26      9             6                 0               199  \n",
       "6498 2021-10-17     10             6                 0               199  \n",
       "6499 2021-12-03     12             6                 0               199  \n",
       "\n",
       "[6500 rows x 12 columns]"
      ]
     },
     "metadata": {},
     "output_type": "display_data"
    },
    {
     "data": {
      "text/html": [
       "<div>\n",
       "<style scoped>\n",
       "    .dataframe tbody tr th:only-of-type {\n",
       "        vertical-align: middle;\n",
       "    }\n",
       "\n",
       "    .dataframe tbody tr th {\n",
       "        vertical-align: top;\n",
       "    }\n",
       "\n",
       "    .dataframe thead th {\n",
       "        text-align: right;\n",
       "    }\n",
       "</style>\n",
       "<table border=\"1\" class=\"dataframe\">\n",
       "  <thead>\n",
       "    <tr style=\"text-align: right;\">\n",
       "      <th></th>\n",
       "      <th>user_id</th>\n",
       "      <th>name</th>\n",
       "      <th>age</th>\n",
       "      <th>city</th>\n",
       "      <th>subscription_type</th>\n",
       "      <th>distance</th>\n",
       "      <th>duration</th>\n",
       "      <th>date</th>\n",
       "      <th>month</th>\n",
       "      <th>minute_price</th>\n",
       "      <th>start_ride_price</th>\n",
       "      <th>subscription_fee</th>\n",
       "    </tr>\n",
       "  </thead>\n",
       "  <tbody>\n",
       "    <tr>\n",
       "      <th>6500</th>\n",
       "      <td>700</td>\n",
       "      <td>Айдар</td>\n",
       "      <td>22</td>\n",
       "      <td>Омск</td>\n",
       "      <td>free</td>\n",
       "      <td>2515.690719</td>\n",
       "      <td>14.944286</td>\n",
       "      <td>2021-01-02</td>\n",
       "      <td>1</td>\n",
       "      <td>8</td>\n",
       "      <td>50</td>\n",
       "      <td>0</td>\n",
       "    </tr>\n",
       "    <tr>\n",
       "      <th>6501</th>\n",
       "      <td>700</td>\n",
       "      <td>Айдар</td>\n",
       "      <td>22</td>\n",
       "      <td>Омск</td>\n",
       "      <td>free</td>\n",
       "      <td>846.932642</td>\n",
       "      <td>16.234663</td>\n",
       "      <td>2021-02-01</td>\n",
       "      <td>2</td>\n",
       "      <td>8</td>\n",
       "      <td>50</td>\n",
       "      <td>0</td>\n",
       "    </tr>\n",
       "    <tr>\n",
       "      <th>6502</th>\n",
       "      <td>700</td>\n",
       "      <td>Айдар</td>\n",
       "      <td>22</td>\n",
       "      <td>Омск</td>\n",
       "      <td>free</td>\n",
       "      <td>4004.434142</td>\n",
       "      <td>20.016628</td>\n",
       "      <td>2021-02-04</td>\n",
       "      <td>2</td>\n",
       "      <td>8</td>\n",
       "      <td>50</td>\n",
       "      <td>0</td>\n",
       "    </tr>\n",
       "    <tr>\n",
       "      <th>6503</th>\n",
       "      <td>700</td>\n",
       "      <td>Айдар</td>\n",
       "      <td>22</td>\n",
       "      <td>Омск</td>\n",
       "      <td>free</td>\n",
       "      <td>1205.911290</td>\n",
       "      <td>9.782872</td>\n",
       "      <td>2021-02-10</td>\n",
       "      <td>2</td>\n",
       "      <td>8</td>\n",
       "      <td>50</td>\n",
       "      <td>0</td>\n",
       "    </tr>\n",
       "    <tr>\n",
       "      <th>6504</th>\n",
       "      <td>700</td>\n",
       "      <td>Айдар</td>\n",
       "      <td>22</td>\n",
       "      <td>Омск</td>\n",
       "      <td>free</td>\n",
       "      <td>3047.379435</td>\n",
       "      <td>17.427673</td>\n",
       "      <td>2021-02-14</td>\n",
       "      <td>2</td>\n",
       "      <td>8</td>\n",
       "      <td>50</td>\n",
       "      <td>0</td>\n",
       "    </tr>\n",
       "    <tr>\n",
       "      <th>...</th>\n",
       "      <td>...</td>\n",
       "      <td>...</td>\n",
       "      <td>...</td>\n",
       "      <td>...</td>\n",
       "      <td>...</td>\n",
       "      <td>...</td>\n",
       "      <td>...</td>\n",
       "      <td>...</td>\n",
       "      <td>...</td>\n",
       "      <td>...</td>\n",
       "      <td>...</td>\n",
       "      <td>...</td>\n",
       "    </tr>\n",
       "    <tr>\n",
       "      <th>18063</th>\n",
       "      <td>1534</td>\n",
       "      <td>Альберт</td>\n",
       "      <td>25</td>\n",
       "      <td>Краснодар</td>\n",
       "      <td>free</td>\n",
       "      <td>3781.098080</td>\n",
       "      <td>19.822962</td>\n",
       "      <td>2021-11-04</td>\n",
       "      <td>11</td>\n",
       "      <td>8</td>\n",
       "      <td>50</td>\n",
       "      <td>0</td>\n",
       "    </tr>\n",
       "    <tr>\n",
       "      <th>18064</th>\n",
       "      <td>1534</td>\n",
       "      <td>Альберт</td>\n",
       "      <td>25</td>\n",
       "      <td>Краснодар</td>\n",
       "      <td>free</td>\n",
       "      <td>2840.423057</td>\n",
       "      <td>21.409799</td>\n",
       "      <td>2021-11-16</td>\n",
       "      <td>11</td>\n",
       "      <td>8</td>\n",
       "      <td>50</td>\n",
       "      <td>0</td>\n",
       "    </tr>\n",
       "    <tr>\n",
       "      <th>18065</th>\n",
       "      <td>1534</td>\n",
       "      <td>Альберт</td>\n",
       "      <td>25</td>\n",
       "      <td>Краснодар</td>\n",
       "      <td>free</td>\n",
       "      <td>3826.185507</td>\n",
       "      <td>18.435051</td>\n",
       "      <td>2021-11-18</td>\n",
       "      <td>11</td>\n",
       "      <td>8</td>\n",
       "      <td>50</td>\n",
       "      <td>0</td>\n",
       "    </tr>\n",
       "    <tr>\n",
       "      <th>18066</th>\n",
       "      <td>1534</td>\n",
       "      <td>Альберт</td>\n",
       "      <td>25</td>\n",
       "      <td>Краснодар</td>\n",
       "      <td>free</td>\n",
       "      <td>2902.308661</td>\n",
       "      <td>16.674362</td>\n",
       "      <td>2021-11-27</td>\n",
       "      <td>11</td>\n",
       "      <td>8</td>\n",
       "      <td>50</td>\n",
       "      <td>0</td>\n",
       "    </tr>\n",
       "    <tr>\n",
       "      <th>18067</th>\n",
       "      <td>1534</td>\n",
       "      <td>Альберт</td>\n",
       "      <td>25</td>\n",
       "      <td>Краснодар</td>\n",
       "      <td>free</td>\n",
       "      <td>2371.711192</td>\n",
       "      <td>15.893917</td>\n",
       "      <td>2021-12-29</td>\n",
       "      <td>12</td>\n",
       "      <td>8</td>\n",
       "      <td>50</td>\n",
       "      <td>0</td>\n",
       "    </tr>\n",
       "  </tbody>\n",
       "</table>\n",
       "<p>11568 rows × 12 columns</p>\n",
       "</div>"
      ],
      "text/plain": [
       "       user_id     name  age       city subscription_type     distance  \\\n",
       "6500       700    Айдар   22       Омск              free  2515.690719   \n",
       "6501       700    Айдар   22       Омск              free   846.932642   \n",
       "6502       700    Айдар   22       Омск              free  4004.434142   \n",
       "6503       700    Айдар   22       Омск              free  1205.911290   \n",
       "6504       700    Айдар   22       Омск              free  3047.379435   \n",
       "...        ...      ...  ...        ...               ...          ...   \n",
       "18063     1534  Альберт   25  Краснодар              free  3781.098080   \n",
       "18064     1534  Альберт   25  Краснодар              free  2840.423057   \n",
       "18065     1534  Альберт   25  Краснодар              free  3826.185507   \n",
       "18066     1534  Альберт   25  Краснодар              free  2902.308661   \n",
       "18067     1534  Альберт   25  Краснодар              free  2371.711192   \n",
       "\n",
       "        duration       date  month  minute_price  start_ride_price  \\\n",
       "6500   14.944286 2021-01-02      1             8                50   \n",
       "6501   16.234663 2021-02-01      2             8                50   \n",
       "6502   20.016628 2021-02-04      2             8                50   \n",
       "6503    9.782872 2021-02-10      2             8                50   \n",
       "6504   17.427673 2021-02-14      2             8                50   \n",
       "...          ...        ...    ...           ...               ...   \n",
       "18063  19.822962 2021-11-04     11             8                50   \n",
       "18064  21.409799 2021-11-16     11             8                50   \n",
       "18065  18.435051 2021-11-18     11             8                50   \n",
       "18066  16.674362 2021-11-27     11             8                50   \n",
       "18067  15.893917 2021-12-29     12             8                50   \n",
       "\n",
       "       subscription_fee  \n",
       "6500                  0  \n",
       "6501                  0  \n",
       "6502                  0  \n",
       "6503                  0  \n",
       "6504                  0  \n",
       "...                 ...  \n",
       "18063                 0  \n",
       "18064                 0  \n",
       "18065                 0  \n",
       "18066                 0  \n",
       "18067                 0  \n",
       "\n",
       "[11568 rows x 12 columns]"
      ]
     },
     "metadata": {},
     "output_type": "display_data"
    },
    {
     "name": "stdout",
     "output_type": "stream",
     "text": [
      "\n",
      "<class 'pandas.core.frame.DataFrame'>\n",
      "Index: 6500 entries, 0 to 6499\n",
      "Data columns (total 12 columns):\n",
      " #   Column             Non-Null Count  Dtype         \n",
      "---  ------             --------------  -----         \n",
      " 0   user_id            6500 non-null   int64         \n",
      " 1   name               6500 non-null   object        \n",
      " 2   age                6500 non-null   int64         \n",
      " 3   city               6500 non-null   object        \n",
      " 4   subscription_type  6500 non-null   object        \n",
      " 5   distance           6500 non-null   float64       \n",
      " 6   duration           6500 non-null   float64       \n",
      " 7   date               6500 non-null   datetime64[ns]\n",
      " 8   month              6500 non-null   int32         \n",
      " 9   minute_price       6500 non-null   int64         \n",
      " 10  start_ride_price   6500 non-null   int64         \n",
      " 11  subscription_fee   6500 non-null   int64         \n",
      "dtypes: datetime64[ns](1), float64(2), int32(1), int64(5), object(3)\n",
      "memory usage: 634.8+ KB\n",
      "None\n",
      "\n",
      "<class 'pandas.core.frame.DataFrame'>\n",
      "Index: 11568 entries, 6500 to 18067\n",
      "Data columns (total 12 columns):\n",
      " #   Column             Non-Null Count  Dtype         \n",
      "---  ------             --------------  -----         \n",
      " 0   user_id            11568 non-null  int64         \n",
      " 1   name               11568 non-null  object        \n",
      " 2   age                11568 non-null  int64         \n",
      " 3   city               11568 non-null  object        \n",
      " 4   subscription_type  11568 non-null  object        \n",
      " 5   distance           11568 non-null  float64       \n",
      " 6   duration           11568 non-null  float64       \n",
      " 7   date               11568 non-null  datetime64[ns]\n",
      " 8   month              11568 non-null  int32         \n",
      " 9   minute_price       11568 non-null  int64         \n",
      " 10  start_ride_price   11568 non-null  int64         \n",
      " 11  subscription_fee   11568 non-null  int64         \n",
      "dtypes: datetime64[ns](1), float64(2), int32(1), int64(5), object(3)\n",
      "memory usage: 1.1+ MB\n",
      "None\n",
      "\n",
      "user_id              0\n",
      "name                 0\n",
      "age                  0\n",
      "city                 0\n",
      "subscription_type    0\n",
      "distance             0\n",
      "duration             0\n",
      "date                 0\n",
      "month                0\n",
      "minute_price         0\n",
      "start_ride_price     0\n",
      "subscription_fee     0\n",
      "dtype: int64\n",
      "\n",
      "user_id              0\n",
      "name                 0\n",
      "age                  0\n",
      "city                 0\n",
      "subscription_type    0\n",
      "distance             0\n",
      "duration             0\n",
      "date                 0\n",
      "month                0\n",
      "minute_price         0\n",
      "start_ride_price     0\n",
      "subscription_fee     0\n",
      "dtype: int64\n"
     ]
    }
   ],
   "source": [
    "subscription_data = merged_data[merged_data['subscription_type'] == 'ultra']\n",
    "no_subscription_data = merged_data[merged_data['subscription_type'] == 'free']\n",
    "\n",
    "display(subscription_data)\n",
    "display(no_subscription_data)\n",
    "print()\n",
    "print(subscription_data.info())\n",
    "print()\n",
    "print(no_subscription_data.info())\n",
    "print()\n",
    "print(subscription_data.isna().sum())\n",
    "print()\n",
    "print(no_subscription_data.isna().sum())"
   ]
  },
  {
   "cell_type": "markdown",
   "id": "c2539f1f",
   "metadata": {},
   "source": [
    "**Вывод:** \n",
    "\n",
    "- Объединила данные о пользователях, поездках и подписках в один датафрейм.\n",
    "- Создала два датафрейма: c данными о пользователях без подписки и с данными о пользователях с подпиской.\n",
    "- При объединении данных и создании отдельных датафреймов все данные сохранили целостность и полноту."
   ]
  },
  {
   "cell_type": "markdown",
   "id": "9c1b80c6",
   "metadata": {},
   "source": [
    "**4.3. Визуализируем информацию о расстоянии и времени поездок для пользователей обеих категорий.**"
   ]
  },
  {
   "cell_type": "code",
   "execution_count": 55,
   "id": "31f672c1",
   "metadata": {},
   "outputs": [
    {
     "data": {
      "image/png": "[encoded data removed]",
      "text/plain": [
       "<Figure size 1200x600 with 1 Axes>"
      ]
     },
     "metadata": {},
     "output_type": "display_data"
    }
   ],
   "source": [
    "# Визуализация расстояния поездок\n",
    "plt.figure(figsize=(12, 6))\n",
    "\n",
    "sns.histplot(no_subscription_data['distance'], bins=100, kde=True, color='skyblue', label='Без подписки')\n",
    "sns.histplot(subscription_data['distance'], bins=100, kde=True, color='orange', label='С подпиской')\n",
    "\n",
    "plt.title('Сравнение распределения расстояний поездок')\n",
    "plt.xlabel('Расстояние (метры)')\n",
    "plt.ylabel('Количество поездок')\n",
    "plt.legend()\n",
    "\n",
    "plt.tight_layout()\n",
    "plt.show()"
   ]
  },
  {
   "cell_type": "code",
   "execution_count": 56,
   "id": "268a7a08",
   "metadata": {},
   "outputs": [
    {
     "data": {
      "image/png": "[encoded data removed]",
      "text/plain": [
       "<Figure size 1200x600 with 1 Axes>"
      ]
     },
     "metadata": {},
     "output_type": "display_data"
    }
   ],
   "source": [
    "# Визуализация времени поездок\n",
    "plt.figure(figsize=(12, 6))\n",
    "\n",
    "sns.histplot(no_subscription_data['duration'], bins=100, kde=True, color='skyblue', label='Без подписки')\n",
    "sns.histplot(subscription_data['duration'], bins=100, kde=True, color='orange', label='С подпиской')\n",
    "\n",
    "plt.title('Сравнение распределения продолжительности поездок')\n",
    "plt.xlabel('Продолжительность (минуты)')\n",
    "plt.ylabel('Количество поездок')\n",
    "plt.legend()\n",
    "\n",
    "plt.tight_layout()\n",
    "plt.show()"
   ]
  },
  {
   "cell_type": "markdown",
   "id": "4c6dffcc",
   "metadata": {},
   "source": [
    "**Вывод:** Пользователи с подпиской и без нее в целом имеют схожие модели поведения. И продолжительность, и расстояние за поездку совпадают.\n",
    "У пользователей без подписки есть поездки меньше метра, видимо это тестовые поездки новых пользователей, которые только пробуют сервис."
   ]
  },
  {
   "cell_type": "markdown",
   "id": "402d620f",
   "metadata": {},
   "source": [
    "### Подсчёт выручки"
   ]
  },
  {
   "cell_type": "markdown",
   "id": "967a310f",
   "metadata": {},
   "source": [
    "Продолжительность каждой поездки в каждой строке исходного датафрейма для подсчёта стоимости округляется до следующего целого числа: например, значения 25.3, 25.5 и 26.0 преобразованы к 26."
   ]
  },
  {
   "cell_type": "code",
   "execution_count": 60,
   "id": "e3152ad1",
   "metadata": {},
   "outputs": [],
   "source": [
    "merged_data['duration'] = np.ceil(merged_data['duration']).astype(int)"
   ]
  },
  {
   "cell_type": "code",
   "execution_count": 61,
   "id": "a92335e7",
   "metadata": {},
   "outputs": [
    {
     "data": {
      "text/html": [
       "<div>\n",
       "<style scoped>\n",
       "    .dataframe tbody tr th:only-of-type {\n",
       "        vertical-align: middle;\n",
       "    }\n",
       "\n",
       "    .dataframe tbody tr th {\n",
       "        vertical-align: top;\n",
       "    }\n",
       "\n",
       "    .dataframe thead th {\n",
       "        text-align: right;\n",
       "    }\n",
       "</style>\n",
       "<table border=\"1\" class=\"dataframe\">\n",
       "  <thead>\n",
       "    <tr style=\"text-align: right;\">\n",
       "      <th></th>\n",
       "      <th>user_id</th>\n",
       "      <th>name</th>\n",
       "      <th>age</th>\n",
       "      <th>city</th>\n",
       "      <th>subscription_type</th>\n",
       "      <th>distance</th>\n",
       "      <th>duration</th>\n",
       "      <th>date</th>\n",
       "      <th>month</th>\n",
       "      <th>minute_price</th>\n",
       "      <th>start_ride_price</th>\n",
       "      <th>subscription_fee</th>\n",
       "    </tr>\n",
       "  </thead>\n",
       "  <tbody>\n",
       "    <tr>\n",
       "      <th>0</th>\n",
       "      <td>1</td>\n",
       "      <td>Кира</td>\n",
       "      <td>22</td>\n",
       "      <td>Тюмень</td>\n",
       "      <td>ultra</td>\n",
       "      <td>4409.919140</td>\n",
       "      <td>26</td>\n",
       "      <td>2021-01-01</td>\n",
       "      <td>1</td>\n",
       "      <td>6</td>\n",
       "      <td>0</td>\n",
       "      <td>199</td>\n",
       "    </tr>\n",
       "    <tr>\n",
       "      <th>1</th>\n",
       "      <td>1</td>\n",
       "      <td>Кира</td>\n",
       "      <td>22</td>\n",
       "      <td>Тюмень</td>\n",
       "      <td>ultra</td>\n",
       "      <td>2617.592153</td>\n",
       "      <td>16</td>\n",
       "      <td>2021-01-18</td>\n",
       "      <td>1</td>\n",
       "      <td>6</td>\n",
       "      <td>0</td>\n",
       "      <td>199</td>\n",
       "    </tr>\n",
       "    <tr>\n",
       "      <th>2</th>\n",
       "      <td>1</td>\n",
       "      <td>Кира</td>\n",
       "      <td>22</td>\n",
       "      <td>Тюмень</td>\n",
       "      <td>ultra</td>\n",
       "      <td>754.159807</td>\n",
       "      <td>7</td>\n",
       "      <td>2021-04-20</td>\n",
       "      <td>4</td>\n",
       "      <td>6</td>\n",
       "      <td>0</td>\n",
       "      <td>199</td>\n",
       "    </tr>\n",
       "    <tr>\n",
       "      <th>3</th>\n",
       "      <td>1</td>\n",
       "      <td>Кира</td>\n",
       "      <td>22</td>\n",
       "      <td>Тюмень</td>\n",
       "      <td>ultra</td>\n",
       "      <td>2694.783254</td>\n",
       "      <td>19</td>\n",
       "      <td>2021-08-11</td>\n",
       "      <td>8</td>\n",
       "      <td>6</td>\n",
       "      <td>0</td>\n",
       "      <td>199</td>\n",
       "    </tr>\n",
       "    <tr>\n",
       "      <th>4</th>\n",
       "      <td>1</td>\n",
       "      <td>Кира</td>\n",
       "      <td>22</td>\n",
       "      <td>Тюмень</td>\n",
       "      <td>ultra</td>\n",
       "      <td>4028.687306</td>\n",
       "      <td>27</td>\n",
       "      <td>2021-08-28</td>\n",
       "      <td>8</td>\n",
       "      <td>6</td>\n",
       "      <td>0</td>\n",
       "      <td>199</td>\n",
       "    </tr>\n",
       "    <tr>\n",
       "      <th>...</th>\n",
       "      <td>...</td>\n",
       "      <td>...</td>\n",
       "      <td>...</td>\n",
       "      <td>...</td>\n",
       "      <td>...</td>\n",
       "      <td>...</td>\n",
       "      <td>...</td>\n",
       "      <td>...</td>\n",
       "      <td>...</td>\n",
       "      <td>...</td>\n",
       "      <td>...</td>\n",
       "      <td>...</td>\n",
       "    </tr>\n",
       "    <tr>\n",
       "      <th>18063</th>\n",
       "      <td>1534</td>\n",
       "      <td>Альберт</td>\n",
       "      <td>25</td>\n",
       "      <td>Краснодар</td>\n",
       "      <td>free</td>\n",
       "      <td>3781.098080</td>\n",
       "      <td>20</td>\n",
       "      <td>2021-11-04</td>\n",
       "      <td>11</td>\n",
       "      <td>8</td>\n",
       "      <td>50</td>\n",
       "      <td>0</td>\n",
       "    </tr>\n",
       "    <tr>\n",
       "      <th>18064</th>\n",
       "      <td>1534</td>\n",
       "      <td>Альберт</td>\n",
       "      <td>25</td>\n",
       "      <td>Краснодар</td>\n",
       "      <td>free</td>\n",
       "      <td>2840.423057</td>\n",
       "      <td>22</td>\n",
       "      <td>2021-11-16</td>\n",
       "      <td>11</td>\n",
       "      <td>8</td>\n",
       "      <td>50</td>\n",
       "      <td>0</td>\n",
       "    </tr>\n",
       "    <tr>\n",
       "      <th>18065</th>\n",
       "      <td>1534</td>\n",
       "      <td>Альберт</td>\n",
       "      <td>25</td>\n",
       "      <td>Краснодар</td>\n",
       "      <td>free</td>\n",
       "      <td>3826.185507</td>\n",
       "      <td>19</td>\n",
       "      <td>2021-11-18</td>\n",
       "      <td>11</td>\n",
       "      <td>8</td>\n",
       "      <td>50</td>\n",
       "      <td>0</td>\n",
       "    </tr>\n",
       "    <tr>\n",
       "      <th>18066</th>\n",
       "      <td>1534</td>\n",
       "      <td>Альберт</td>\n",
       "      <td>25</td>\n",
       "      <td>Краснодар</td>\n",
       "      <td>free</td>\n",
       "      <td>2902.308661</td>\n",
       "      <td>17</td>\n",
       "      <td>2021-11-27</td>\n",
       "      <td>11</td>\n",
       "      <td>8</td>\n",
       "      <td>50</td>\n",
       "      <td>0</td>\n",
       "    </tr>\n",
       "    <tr>\n",
       "      <th>18067</th>\n",
       "      <td>1534</td>\n",
       "      <td>Альберт</td>\n",
       "      <td>25</td>\n",
       "      <td>Краснодар</td>\n",
       "      <td>free</td>\n",
       "      <td>2371.711192</td>\n",
       "      <td>16</td>\n",
       "      <td>2021-12-29</td>\n",
       "      <td>12</td>\n",
       "      <td>8</td>\n",
       "      <td>50</td>\n",
       "      <td>0</td>\n",
       "    </tr>\n",
       "  </tbody>\n",
       "</table>\n",
       "<p>18068 rows × 12 columns</p>\n",
       "</div>"
      ],
      "text/plain": [
       "       user_id     name  age       city subscription_type     distance  \\\n",
       "0            1     Кира   22     Тюмень             ultra  4409.919140   \n",
       "1            1     Кира   22     Тюмень             ultra  2617.592153   \n",
       "2            1     Кира   22     Тюмень             ultra   754.159807   \n",
       "3            1     Кира   22     Тюмень             ultra  2694.783254   \n",
       "4            1     Кира   22     Тюмень             ultra  4028.687306   \n",
       "...        ...      ...  ...        ...               ...          ...   \n",
       "18063     1534  Альберт   25  Краснодар              free  3781.098080   \n",
       "18064     1534  Альберт   25  Краснодар              free  2840.423057   \n",
       "18065     1534  Альберт   25  Краснодар              free  3826.185507   \n",
       "18066     1534  Альберт   25  Краснодар              free  2902.308661   \n",
       "18067     1534  Альберт   25  Краснодар              free  2371.711192   \n",
       "\n",
       "       duration       date  month  minute_price  start_ride_price  \\\n",
       "0            26 2021-01-01      1             6                 0   \n",
       "1            16 2021-01-18      1             6                 0   \n",
       "2             7 2021-04-20      4             6                 0   \n",
       "3            19 2021-08-11      8             6                 0   \n",
       "4            27 2021-08-28      8             6                 0   \n",
       "...         ...        ...    ...           ...               ...   \n",
       "18063        20 2021-11-04     11             8                50   \n",
       "18064        22 2021-11-16     11             8                50   \n",
       "18065        19 2021-11-18     11             8                50   \n",
       "18066        17 2021-11-27     11             8                50   \n",
       "18067        16 2021-12-29     12             8                50   \n",
       "\n",
       "       subscription_fee  \n",
       "0                   199  \n",
       "1                   199  \n",
       "2                   199  \n",
       "3                   199  \n",
       "4                   199  \n",
       "...                 ...  \n",
       "18063                 0  \n",
       "18064                 0  \n",
       "18065                 0  \n",
       "18066                 0  \n",
       "18067                 0  \n",
       "\n",
       "[18068 rows x 12 columns]"
      ]
     },
     "metadata": {},
     "output_type": "display_data"
    }
   ],
   "source": [
    "display(merged_data)"
   ]
  },
  {
   "cell_type": "markdown",
   "id": "c2cf7636",
   "metadata": {},
   "source": [
    "Агрегирование данных. "
   ]
  },
  {
   "cell_type": "code",
   "execution_count": 63,
   "id": "2c37107f",
   "metadata": {},
   "outputs": [
    {
     "data": {
      "text/html": [
       "<div>\n",
       "<style scoped>\n",
       "    .dataframe tbody tr th:only-of-type {\n",
       "        vertical-align: middle;\n",
       "    }\n",
       "\n",
       "    .dataframe tbody tr th {\n",
       "        vertical-align: top;\n",
       "    }\n",
       "\n",
       "    .dataframe thead th {\n",
       "        text-align: right;\n",
       "    }\n",
       "</style>\n",
       "<table border=\"1\" class=\"dataframe\">\n",
       "  <thead>\n",
       "    <tr style=\"text-align: right;\">\n",
       "      <th></th>\n",
       "      <th>user_id</th>\n",
       "      <th>month</th>\n",
       "      <th>subscription_type</th>\n",
       "      <th>minute_price</th>\n",
       "      <th>start_ride_price</th>\n",
       "      <th>subscription_fee</th>\n",
       "      <th>total_distance</th>\n",
       "      <th>trip_count</th>\n",
       "      <th>total_duration</th>\n",
       "    </tr>\n",
       "  </thead>\n",
       "  <tbody>\n",
       "    <tr>\n",
       "      <th>0</th>\n",
       "      <td>1</td>\n",
       "      <td>1</td>\n",
       "      <td>ultra</td>\n",
       "      <td>6</td>\n",
       "      <td>0</td>\n",
       "      <td>199</td>\n",
       "      <td>7027.511294</td>\n",
       "      <td>2</td>\n",
       "      <td>42</td>\n",
       "    </tr>\n",
       "    <tr>\n",
       "      <th>1</th>\n",
       "      <td>1</td>\n",
       "      <td>4</td>\n",
       "      <td>ultra</td>\n",
       "      <td>6</td>\n",
       "      <td>0</td>\n",
       "      <td>199</td>\n",
       "      <td>754.159807</td>\n",
       "      <td>1</td>\n",
       "      <td>7</td>\n",
       "    </tr>\n",
       "    <tr>\n",
       "      <th>2</th>\n",
       "      <td>1</td>\n",
       "      <td>8</td>\n",
       "      <td>ultra</td>\n",
       "      <td>6</td>\n",
       "      <td>0</td>\n",
       "      <td>199</td>\n",
       "      <td>6723.470560</td>\n",
       "      <td>2</td>\n",
       "      <td>46</td>\n",
       "    </tr>\n",
       "    <tr>\n",
       "      <th>3</th>\n",
       "      <td>1</td>\n",
       "      <td>10</td>\n",
       "      <td>ultra</td>\n",
       "      <td>6</td>\n",
       "      <td>0</td>\n",
       "      <td>199</td>\n",
       "      <td>5809.911100</td>\n",
       "      <td>2</td>\n",
       "      <td>32</td>\n",
       "    </tr>\n",
       "    <tr>\n",
       "      <th>4</th>\n",
       "      <td>1</td>\n",
       "      <td>11</td>\n",
       "      <td>ultra</td>\n",
       "      <td>6</td>\n",
       "      <td>0</td>\n",
       "      <td>199</td>\n",
       "      <td>7003.499363</td>\n",
       "      <td>3</td>\n",
       "      <td>56</td>\n",
       "    </tr>\n",
       "    <tr>\n",
       "      <th>...</th>\n",
       "      <td>...</td>\n",
       "      <td>...</td>\n",
       "      <td>...</td>\n",
       "      <td>...</td>\n",
       "      <td>...</td>\n",
       "      <td>...</td>\n",
       "      <td>...</td>\n",
       "      <td>...</td>\n",
       "      <td>...</td>\n",
       "    </tr>\n",
       "    <tr>\n",
       "      <th>11326</th>\n",
       "      <td>1534</td>\n",
       "      <td>6</td>\n",
       "      <td>free</td>\n",
       "      <td>8</td>\n",
       "      <td>50</td>\n",
       "      <td>0</td>\n",
       "      <td>3409.468534</td>\n",
       "      <td>2</td>\n",
       "      <td>26</td>\n",
       "    </tr>\n",
       "    <tr>\n",
       "      <th>11327</th>\n",
       "      <td>1534</td>\n",
       "      <td>8</td>\n",
       "      <td>free</td>\n",
       "      <td>8</td>\n",
       "      <td>50</td>\n",
       "      <td>0</td>\n",
       "      <td>7622.453034</td>\n",
       "      <td>2</td>\n",
       "      <td>48</td>\n",
       "    </tr>\n",
       "    <tr>\n",
       "      <th>11328</th>\n",
       "      <td>1534</td>\n",
       "      <td>9</td>\n",
       "      <td>free</td>\n",
       "      <td>8</td>\n",
       "      <td>50</td>\n",
       "      <td>0</td>\n",
       "      <td>4928.173852</td>\n",
       "      <td>1</td>\n",
       "      <td>23</td>\n",
       "    </tr>\n",
       "    <tr>\n",
       "      <th>11329</th>\n",
       "      <td>1534</td>\n",
       "      <td>11</td>\n",
       "      <td>free</td>\n",
       "      <td>8</td>\n",
       "      <td>50</td>\n",
       "      <td>0</td>\n",
       "      <td>13350.015305</td>\n",
       "      <td>4</td>\n",
       "      <td>78</td>\n",
       "    </tr>\n",
       "    <tr>\n",
       "      <th>11330</th>\n",
       "      <td>1534</td>\n",
       "      <td>12</td>\n",
       "      <td>free</td>\n",
       "      <td>8</td>\n",
       "      <td>50</td>\n",
       "      <td>0</td>\n",
       "      <td>2371.711192</td>\n",
       "      <td>1</td>\n",
       "      <td>16</td>\n",
       "    </tr>\n",
       "  </tbody>\n",
       "</table>\n",
       "<p>11331 rows × 9 columns</p>\n",
       "</div>"
      ],
      "text/plain": [
       "       user_id  month subscription_type  minute_price  start_ride_price  \\\n",
       "0            1      1             ultra             6                 0   \n",
       "1            1      4             ultra             6                 0   \n",
       "2            1      8             ultra             6                 0   \n",
       "3            1     10             ultra             6                 0   \n",
       "4            1     11             ultra             6                 0   \n",
       "...        ...    ...               ...           ...               ...   \n",
       "11326     1534      6              free             8                50   \n",
       "11327     1534      8              free             8                50   \n",
       "11328     1534      9              free             8                50   \n",
       "11329     1534     11              free             8                50   \n",
       "11330     1534     12              free             8                50   \n",
       "\n",
       "       subscription_fee  total_distance  trip_count  total_duration  \n",
       "0                   199     7027.511294           2              42  \n",
       "1                   199      754.159807           1               7  \n",
       "2                   199     6723.470560           2              46  \n",
       "3                   199     5809.911100           2              32  \n",
       "4                   199     7003.499363           3              56  \n",
       "...                 ...             ...         ...             ...  \n",
       "11326                 0     3409.468534           2              26  \n",
       "11327                 0     7622.453034           2              48  \n",
       "11328                 0     4928.173852           1              23  \n",
       "11329                 0    13350.015305           4              78  \n",
       "11330                 0     2371.711192           1              16  \n",
       "\n",
       "[11331 rows x 9 columns]"
      ]
     },
     "metadata": {},
     "output_type": "display_data"
    }
   ],
   "source": [
    "aggregated_data = merged_data.groupby(['user_id', 'month']).agg(\n",
    "    subscription_type=pd.NamedAgg(column='subscription_type', aggfunc='first'),\n",
    "    minute_price=pd.NamedAgg(column='minute_price', aggfunc='first'),\n",
    "    start_ride_price=pd.NamedAgg(column='start_ride_price', aggfunc='first'),\n",
    "    subscription_fee=pd.NamedAgg(column='subscription_fee', aggfunc='first'),\n",
    "    total_distance=pd.NamedAgg(column='distance', aggfunc='sum'),\n",
    "    trip_count=pd.NamedAgg(column='distance', aggfunc='count'),\n",
    "    total_duration=pd.NamedAgg(column='duration', aggfunc='sum'),\n",
    ").reset_index()\n",
    "\n",
    "display(aggregated_data)"
   ]
  },
  {
   "cell_type": "markdown",
   "id": "ffca6d53",
   "metadata": {},
   "source": [
    "**Помесячная выручка считается по формуле: (стоимость старта поездки × количество поездок) + (стоимость одной минуты поездки × общая продолжительность всех поездок в минутах) + стоимость подписки.**"
   ]
  },
  {
   "cell_type": "code",
   "execution_count": 65,
   "id": "7d6371e5",
   "metadata": {},
   "outputs": [
    {
     "data": {
      "text/html": [
       "<div>\n",
       "<style scoped>\n",
       "    .dataframe tbody tr th:only-of-type {\n",
       "        vertical-align: middle;\n",
       "    }\n",
       "\n",
       "    .dataframe tbody tr th {\n",
       "        vertical-align: top;\n",
       "    }\n",
       "\n",
       "    .dataframe thead th {\n",
       "        text-align: right;\n",
       "    }\n",
       "</style>\n",
       "<table border=\"1\" class=\"dataframe\">\n",
       "  <thead>\n",
       "    <tr style=\"text-align: right;\">\n",
       "      <th></th>\n",
       "      <th>user_id</th>\n",
       "      <th>month</th>\n",
       "      <th>subscription_type</th>\n",
       "      <th>minute_price</th>\n",
       "      <th>start_ride_price</th>\n",
       "      <th>subscription_fee</th>\n",
       "      <th>total_distance</th>\n",
       "      <th>trip_count</th>\n",
       "      <th>total_duration</th>\n",
       "      <th>monthly_revenue</th>\n",
       "    </tr>\n",
       "  </thead>\n",
       "  <tbody>\n",
       "    <tr>\n",
       "      <th>0</th>\n",
       "      <td>1</td>\n",
       "      <td>1</td>\n",
       "      <td>ultra</td>\n",
       "      <td>6</td>\n",
       "      <td>0</td>\n",
       "      <td>199</td>\n",
       "      <td>7027.511294</td>\n",
       "      <td>2</td>\n",
       "      <td>42</td>\n",
       "      <td>451</td>\n",
       "    </tr>\n",
       "    <tr>\n",
       "      <th>1</th>\n",
       "      <td>1</td>\n",
       "      <td>4</td>\n",
       "      <td>ultra</td>\n",
       "      <td>6</td>\n",
       "      <td>0</td>\n",
       "      <td>199</td>\n",
       "      <td>754.159807</td>\n",
       "      <td>1</td>\n",
       "      <td>7</td>\n",
       "      <td>241</td>\n",
       "    </tr>\n",
       "    <tr>\n",
       "      <th>2</th>\n",
       "      <td>1</td>\n",
       "      <td>8</td>\n",
       "      <td>ultra</td>\n",
       "      <td>6</td>\n",
       "      <td>0</td>\n",
       "      <td>199</td>\n",
       "      <td>6723.470560</td>\n",
       "      <td>2</td>\n",
       "      <td>46</td>\n",
       "      <td>475</td>\n",
       "    </tr>\n",
       "    <tr>\n",
       "      <th>3</th>\n",
       "      <td>1</td>\n",
       "      <td>10</td>\n",
       "      <td>ultra</td>\n",
       "      <td>6</td>\n",
       "      <td>0</td>\n",
       "      <td>199</td>\n",
       "      <td>5809.911100</td>\n",
       "      <td>2</td>\n",
       "      <td>32</td>\n",
       "      <td>391</td>\n",
       "    </tr>\n",
       "    <tr>\n",
       "      <th>4</th>\n",
       "      <td>1</td>\n",
       "      <td>11</td>\n",
       "      <td>ultra</td>\n",
       "      <td>6</td>\n",
       "      <td>0</td>\n",
       "      <td>199</td>\n",
       "      <td>7003.499363</td>\n",
       "      <td>3</td>\n",
       "      <td>56</td>\n",
       "      <td>535</td>\n",
       "    </tr>\n",
       "    <tr>\n",
       "      <th>...</th>\n",
       "      <td>...</td>\n",
       "      <td>...</td>\n",
       "      <td>...</td>\n",
       "      <td>...</td>\n",
       "      <td>...</td>\n",
       "      <td>...</td>\n",
       "      <td>...</td>\n",
       "      <td>...</td>\n",
       "      <td>...</td>\n",
       "      <td>...</td>\n",
       "    </tr>\n",
       "    <tr>\n",
       "      <th>11326</th>\n",
       "      <td>1534</td>\n",
       "      <td>6</td>\n",
       "      <td>free</td>\n",
       "      <td>8</td>\n",
       "      <td>50</td>\n",
       "      <td>0</td>\n",
       "      <td>3409.468534</td>\n",
       "      <td>2</td>\n",
       "      <td>26</td>\n",
       "      <td>308</td>\n",
       "    </tr>\n",
       "    <tr>\n",
       "      <th>11327</th>\n",
       "      <td>1534</td>\n",
       "      <td>8</td>\n",
       "      <td>free</td>\n",
       "      <td>8</td>\n",
       "      <td>50</td>\n",
       "      <td>0</td>\n",
       "      <td>7622.453034</td>\n",
       "      <td>2</td>\n",
       "      <td>48</td>\n",
       "      <td>484</td>\n",
       "    </tr>\n",
       "    <tr>\n",
       "      <th>11328</th>\n",
       "      <td>1534</td>\n",
       "      <td>9</td>\n",
       "      <td>free</td>\n",
       "      <td>8</td>\n",
       "      <td>50</td>\n",
       "      <td>0</td>\n",
       "      <td>4928.173852</td>\n",
       "      <td>1</td>\n",
       "      <td>23</td>\n",
       "      <td>234</td>\n",
       "    </tr>\n",
       "    <tr>\n",
       "      <th>11329</th>\n",
       "      <td>1534</td>\n",
       "      <td>11</td>\n",
       "      <td>free</td>\n",
       "      <td>8</td>\n",
       "      <td>50</td>\n",
       "      <td>0</td>\n",
       "      <td>13350.015305</td>\n",
       "      <td>4</td>\n",
       "      <td>78</td>\n",
       "      <td>824</td>\n",
       "    </tr>\n",
       "    <tr>\n",
       "      <th>11330</th>\n",
       "      <td>1534</td>\n",
       "      <td>12</td>\n",
       "      <td>free</td>\n",
       "      <td>8</td>\n",
       "      <td>50</td>\n",
       "      <td>0</td>\n",
       "      <td>2371.711192</td>\n",
       "      <td>1</td>\n",
       "      <td>16</td>\n",
       "      <td>178</td>\n",
       "    </tr>\n",
       "  </tbody>\n",
       "</table>\n",
       "<p>11331 rows × 10 columns</p>\n",
       "</div>"
      ],
      "text/plain": [
       "       user_id  month subscription_type  minute_price  start_ride_price  \\\n",
       "0            1      1             ultra             6                 0   \n",
       "1            1      4             ultra             6                 0   \n",
       "2            1      8             ultra             6                 0   \n",
       "3            1     10             ultra             6                 0   \n",
       "4            1     11             ultra             6                 0   \n",
       "...        ...    ...               ...           ...               ...   \n",
       "11326     1534      6              free             8                50   \n",
       "11327     1534      8              free             8                50   \n",
       "11328     1534      9              free             8                50   \n",
       "11329     1534     11              free             8                50   \n",
       "11330     1534     12              free             8                50   \n",
       "\n",
       "       subscription_fee  total_distance  trip_count  total_duration  \\\n",
       "0                   199     7027.511294           2              42   \n",
       "1                   199      754.159807           1               7   \n",
       "2                   199     6723.470560           2              46   \n",
       "3                   199     5809.911100           2              32   \n",
       "4                   199     7003.499363           3              56   \n",
       "...                 ...             ...         ...             ...   \n",
       "11326                 0     3409.468534           2              26   \n",
       "11327                 0     7622.453034           2              48   \n",
       "11328                 0     4928.173852           1              23   \n",
       "11329                 0    13350.015305           4              78   \n",
       "11330                 0     2371.711192           1              16   \n",
       "\n",
       "       monthly_revenue  \n",
       "0                  451  \n",
       "1                  241  \n",
       "2                  475  \n",
       "3                  391  \n",
       "4                  535  \n",
       "...                ...  \n",
       "11326              308  \n",
       "11327              484  \n",
       "11328              234  \n",
       "11329              824  \n",
       "11330              178  \n",
       "\n",
       "[11331 rows x 10 columns]"
      ]
     },
     "metadata": {},
     "output_type": "display_data"
    }
   ],
   "source": [
    "aggregated_data['monthly_revenue'] = (aggregated_data['start_ride_price']*aggregated_data['trip_count']) + (aggregated_data['minute_price']*aggregated_data['total_duration']) + aggregated_data['subscription_fee']\n",
    "\n",
    "display(aggregated_data)"
   ]
  },
  {
   "cell_type": "code",
   "execution_count": 66,
   "id": "8f0c7ce6",
   "metadata": {},
   "outputs": [
    {
     "data": {
      "text/plain": [
       "subscription_type\n",
       "free     328.641365\n",
       "ultra    362.792191\n",
       "Name: monthly_revenue, dtype: float64"
      ]
     },
     "execution_count": 66,
     "metadata": {},
     "output_type": "execute_result"
    }
   ],
   "source": [
    "# Код ревьюера\n",
    "aggregated_data.groupby('subscription_type')['monthly_revenue'].mean()"
   ]
  },
  {
   "cell_type": "code",
   "execution_count": 67,
   "id": "71bb7399",
   "metadata": {},
   "outputs": [
    {
     "data": {
      "image/png": "[encoded data removed]",
      "text/plain": [
       "<Figure size 1200x600 with 2 Axes>"
      ]
     },
     "metadata": {},
     "output_type": "display_data"
    }
   ],
   "source": [
    "# Визуализация выручки пользователей\n",
    "plt.figure(figsize=(12, 6))\n",
    "\n",
    "plt.subplot(1, 2, 1)\n",
    "sns.histplot(aggregated_data[aggregated_data['subscription_type']=='ultra']['monthly_revenue'], bins=35, kde=True, color='skyblue')\n",
    "plt.title('Распределение выручки пользователей с подпиской ultra')\n",
    "plt.xlabel('Выручка (рубли)')\n",
    "plt.ylabel('Количество пользователей')\n",
    "\n",
    "plt.subplot(1, 2, 2)\n",
    "sns.histplot(aggregated_data[aggregated_data['subscription_type']=='free']['monthly_revenue'], bins=40, kde=True, color='orange')\n",
    "plt.title('Распределение выручки пользователей с бесплатной подпиской')\n",
    "plt.xlabel('Выручка (рубли)')\n",
    "plt.ylabel('Количество пользователей')\n",
    "\n",
    "plt.tight_layout()\n",
    "plt.show()"
   ]
  },
  {
   "cell_type": "code",
   "execution_count": 68,
   "id": "0c1d47e4",
   "metadata": {},
   "outputs": [
    {
     "data": {
      "text/html": [
       "<div>\n",
       "<style scoped>\n",
       "    .dataframe tbody tr th:only-of-type {\n",
       "        vertical-align: middle;\n",
       "    }\n",
       "\n",
       "    .dataframe tbody tr th {\n",
       "        vertical-align: top;\n",
       "    }\n",
       "\n",
       "    .dataframe thead th {\n",
       "        text-align: right;\n",
       "    }\n",
       "</style>\n",
       "<table border=\"1\" class=\"dataframe\">\n",
       "  <thead>\n",
       "    <tr style=\"text-align: right;\">\n",
       "      <th></th>\n",
       "      <th>subscription_type</th>\n",
       "      <th>users</th>\n",
       "      <th>total_revenue</th>\n",
       "      <th>revenue_per_user</th>\n",
       "    </tr>\n",
       "  </thead>\n",
       "  <tbody>\n",
       "    <tr>\n",
       "      <th>0</th>\n",
       "      <td>free</td>\n",
       "      <td>6798</td>\n",
       "      <td>2234104</td>\n",
       "      <td>328.641365</td>\n",
       "    </tr>\n",
       "    <tr>\n",
       "      <th>1</th>\n",
       "      <td>ultra</td>\n",
       "      <td>4533</td>\n",
       "      <td>1644537</td>\n",
       "      <td>362.792191</td>\n",
       "    </tr>\n",
       "  </tbody>\n",
       "</table>\n",
       "</div>"
      ],
      "text/plain": [
       "  subscription_type  users  total_revenue  revenue_per_user\n",
       "0              free   6798        2234104        328.641365\n",
       "1             ultra   4533        1644537        362.792191"
      ]
     },
     "metadata": {},
     "output_type": "display_data"
    }
   ],
   "source": [
    "revenue_data = aggregated_data.groupby('subscription_type').agg(\n",
    "    users=pd.NamedAgg(column='user_id', aggfunc='count'),\n",
    "    total_revenue=pd.NamedAgg(column='monthly_revenue', aggfunc='sum')\n",
    ").reset_index()\n",
    "\n",
    "revenue_data['revenue_per_user'] = revenue_data['total_revenue'] / revenue_data['users']\n",
    "\n",
    "display(revenue_data)"
   ]
  },
  {
   "cell_type": "markdown",
   "id": "e7f0b2e2",
   "metadata": {},
   "source": [
    "**Вывод:** \n",
    "\n",
    "    - количество пользователей без подписки почти в 1.5 раза больше, чем пользователей с подпиской.\n",
    "    - общая выручка от пользователей без подписки (2 234 104 руб) выше, чем от пользователей с подпиской (1 644 537 руб). \n",
    "    - средняя выручка на одного пользователя с подпиской (362 руб) выше, чем у пользователей с бесплатной подпиской (328 руб). "
   ]
  },
  {
   "cell_type": "markdown",
   "id": "41545ac0",
   "metadata": {},
   "source": [
    "### Проверка гипотез"
   ]
  },
  {
   "cell_type": "markdown",
   "id": "9329575d",
   "metadata": {},
   "source": [
    "6.1 Важно понять, тратят ли пользователи с подпиской больше времени на поездки? Если да, то пользователи с подпиской могут быть «выгоднее» для компании. Проверим гипотезу."
   ]
  },
  {
   "cell_type": "markdown",
   "id": "049137e2",
   "metadata": {},
   "source": [
    "**Нулевая гипотеза:** Пользователи с подпиской и без нее тратят на поездки одинаковое количество времени.\n",
    "\n",
    "**Альтернативная гипотеза:** Пользователи с подпиской тратят больше времени на поездки, чем пользователи без подписки."
   ]
  },
  {
   "cell_type": "code",
   "execution_count": 73,
   "id": "6c2f25dc",
   "metadata": {},
   "outputs": [
    {
     "name": "stdout",
     "output_type": "stream",
     "text": [
      "p-значение: 2.4959453720736625e-34\n",
      "Отвергаем нулевую гипотезу: пользователи с подпиской тратят больше времени на поездки, чем пользователи без подписки.\n"
     ]
    }
   ],
   "source": [
    "# задаём уровень значимости\n",
    "alpha = 0.05\n",
    "\n",
    "# время на поездки пользователей с подпиской\n",
    "ultra_duration = merged_data[merged_data['subscription_type']=='ultra']['duration']\n",
    "\n",
    "# время на поездки пользователей без подписки\n",
    "free_duration = merged_data[merged_data['subscription_type']=='free']['duration']\n",
    "\n",
    "# проводим ttest для двух выборок, в качестве альтернативной используем одностороннюю гипотезу «больше»\n",
    "results = st.ttest_ind(ultra_duration, free_duration, alternative='greater')\n",
    "\n",
    "# выводим на экран получившееся p-значение\n",
    "print('p-значение:', results.pvalue)\n",
    "\n",
    "if results.pvalue < alpha: # сравните получившееся p-значение с alpha\n",
    "    print('Отвергаем нулевую гипотезу: пользователи с подпиской тратят больше времени на поездки, чем пользователи без подписки.')\n",
    "else:\n",
    "    print('Не получилось отвергнуть нулевую гипотезу: пользователи с подпиской и без нее тратят на поездки одинаковое количество времени.')"
   ]
  },
  {
   "cell_type": "code",
   "execution_count": 74,
   "id": "51fa128b",
   "metadata": {},
   "outputs": [
    {
     "name": "stdout",
     "output_type": "stream",
     "text": [
      "count    6500.000000\n",
      "mean       19.037692\n",
      "std         5.577439\n",
      "min         4.000000\n",
      "25%        15.000000\n",
      "50%        19.000000\n",
      "75%        22.000000\n",
      "max        41.000000\n",
      "Name: duration, dtype: float64\n",
      "\n",
      "count    11568.000000\n",
      "mean        17.890992\n",
      "std          6.330250\n",
      "min          1.000000\n",
      "25%         13.000000\n",
      "50%         18.000000\n",
      "75%         22.000000\n",
      "max         35.000000\n",
      "Name: duration, dtype: float64\n"
     ]
    }
   ],
   "source": [
    "print(merged_data[merged_data['subscription_type']=='ultra']['duration'].describe())\n",
    "print()\n",
    "print(merged_data[merged_data['subscription_type']=='free']['duration'].describe())"
   ]
  },
  {
   "cell_type": "markdown",
   "id": "8558e099",
   "metadata": {},
   "source": [
    "**Вывод:** Пользователи с подпиской тратят больше времени на поездки."
   ]
  },
  {
   "cell_type": "markdown",
   "id": "bf197f61",
   "metadata": {},
   "source": [
    "6.2 Расстояние одной поездки в 3130 метров — оптимальное с точки зрения износа самоката. Можно ли сказать, что среднее расстояние, которое проезжают пользователи с подпиской за одну поездку, не превышает 3130 метров? Проверим гипотезу."
   ]
  },
  {
   "cell_type": "markdown",
   "id": "c4386e7b",
   "metadata": {},
   "source": [
    "**Нулевая гипотеза:** Пользователи с подпиской за одну поездку проезжают ровно 3130 метров.\n",
    "\n",
    "**Альтернативная гипотеза:** Пользователи с подпиской за одну поездку проезжают больше 3130 метров."
   ]
  },
  {
   "cell_type": "code",
   "execution_count": 78,
   "id": "adcbabad",
   "metadata": {},
   "outputs": [
    {
     "name": "stdout",
     "output_type": "stream",
     "text": [
      "p-значение: 0.9195368847849785\n",
      "Не получилось отвергнуть нулевую гипотезу: пользователи с подпиской за одну поездку проезжают не больше 3130 метров\n"
     ]
    }
   ],
   "source": [
    "alpha = 0.05\n",
    "\n",
    "interested_value = 3130\n",
    "\n",
    "ultra_distance = merged_data[merged_data['subscription_type']=='ultra']['distance']\n",
    "\n",
    "results = st.ttest_1samp(ultra_distance, interested_value, alternative='greater')\n",
    "\n",
    "print('p-значение:', results.pvalue)\n",
    "\n",
    "if results.pvalue < alpha: \n",
    "    print('Отвергаем нулевую гипотезу: пользователи с подпиской за одну поездку проезжают значимо больше 3130 метров')\n",
    "else:\n",
    "    print('Не получилось отвергнуть нулевую гипотезу: пользователи с подпиской за одну поездку проезжают не больше 3130 метров')"
   ]
  },
  {
   "cell_type": "code",
   "execution_count": 79,
   "id": "6a27183a",
   "metadata": {},
   "outputs": [
    {
     "data": {
      "text/plain": [
       "count    6500.000000\n",
       "mean     3115.445388\n",
       "std       836.895330\n",
       "min       244.210438\n",
       "25%      2785.444017\n",
       "50%      3148.637229\n",
       "75%      3560.574425\n",
       "max      5699.769662\n",
       "Name: distance, dtype: float64"
      ]
     },
     "execution_count": 79,
     "metadata": {},
     "output_type": "execute_result"
    }
   ],
   "source": [
    "merged_data[merged_data['subscription_type']=='ultra']['distance'].describe()"
   ]
  },
  {
   "cell_type": "markdown",
   "id": "29c8a845",
   "metadata": {},
   "source": [
    "**Вывод:** Среднее расстояние, которое проезжают пользователи с подпиской за одну поездку, не превышает 3130 метров (оптимальное расстояние с точки зрения износа самоката). \n",
    "Это означает, что пользователи с подпиской не способствуют повышенному износу самокатов, частота и степень износа остаются в пределах нормальных эксплуатационных условий."
   ]
  },
  {
   "cell_type": "markdown",
   "id": "4b91b0e2",
   "metadata": {},
   "source": [
    "6.3 Проверим гипотезу о том, будет ли помесячная выручка от пользователей с подпиской по месяцам выше, чем выручка от пользователей без подписки."
   ]
  },
  {
   "cell_type": "markdown",
   "id": "9b2f3217",
   "metadata": {},
   "source": [
    "**Нулевая гипотеза:** Помесячные выручки от пользователей с подпиской и без нее одинаковые.\n",
    "\n",
    "**Альтернативная гипотеза:** Помесячная выручка от пользователей с подпиской по месяцам выше, чем выручка от пользователей без подписки."
   ]
  },
  {
   "cell_type": "code",
   "execution_count": 83,
   "id": "d1670ba1",
   "metadata": {},
   "outputs": [
    {
     "name": "stdout",
     "output_type": "stream",
     "text": [
      "p-значение: 1.8850394384715216e-31\n",
      "Отвергаем нулевую гипотезу: помесячная выручка от пользователей с подпиской по месяцам выше, чем выручка от пользователей без подписки.\n"
     ]
    }
   ],
   "source": [
    "alpha = 0.05\n",
    "\n",
    "# время на поездки пользователей с подпиской\n",
    "ultra_monthly_revenue = aggregated_data[aggregated_data['subscription_type']=='ultra']['monthly_revenue']\n",
    "\n",
    "# время на поездки пользователей без подписки\n",
    "free_monthly_revenue = aggregated_data[aggregated_data['subscription_type']=='free']['monthly_revenue']\n",
    "\n",
    "# проводим ttest для двух выборок, в качестве альтернативной используем одностороннюю гипотезу «больше»\n",
    "results = st.ttest_ind(ultra_monthly_revenue, free_monthly_revenue, alternative='greater')\n",
    "\n",
    "# выводим на экран получившееся p-значение\n",
    "print('p-значение:', results.pvalue)\n",
    "\n",
    "if results.pvalue < alpha: # сравните получившееся p-значение с alpha\n",
    "    print('Отвергаем нулевую гипотезу: помесячная выручка от пользователей с подпиской по месяцам выше, чем выручка от пользователей без подписки.')\n",
    "else:\n",
    "    print('Не получилось отвергнуть нулевую гипотезу: помесячные выручки от пользователей с подпиской и без нее одинаковые.')"
   ]
  },
  {
   "cell_type": "code",
   "execution_count": 84,
   "id": "9e20333b",
   "metadata": {},
   "outputs": [
    {
     "name": "stdout",
     "output_type": "stream",
     "text": [
      "count    4533.000000\n",
      "mean      362.792191\n",
      "std        88.262737\n",
      "min       223.000000\n",
      "25%       301.000000\n",
      "50%       337.000000\n",
      "75%       409.000000\n",
      "max       955.000000\n",
      "Name: monthly_revenue, dtype: float64\n",
      "\n",
      "count    6798.000000\n",
      "mean      328.641365\n",
      "std       183.868330\n",
      "min        58.000000\n",
      "25%       194.000000\n",
      "50%       274.000000\n",
      "75%       428.000000\n",
      "max      1444.000000\n",
      "Name: monthly_revenue, dtype: float64\n"
     ]
    }
   ],
   "source": [
    "print(aggregated_data[aggregated_data['subscription_type']=='ultra']['monthly_revenue'].describe())\n",
    "print()\n",
    "print(aggregated_data[aggregated_data['subscription_type']=='free']['monthly_revenue'].describe())"
   ]
  },
  {
   "cell_type": "markdown",
   "id": "522dba40",
   "metadata": {},
   "source": [
    "**Вывод:** Выручка от пользователей с подпиской по месяцам выше, чем выручка от пользователей без подписки."
   ]
  },
  {
   "cell_type": "markdown",
   "id": "da1e1cdb",
   "metadata": {},
   "source": [
    "6.4 Представим такую ситуацию: техническая команда сервиса обновила сервера, с которыми взаимодействует мобильное приложение. Она надеется, что из-за этого количество обращений в техподдержку значимо снизится. Некоторый файл содержит для каждого пользователя данные о количестве обращений до обновления и после него. Какой тест вам понадобился бы для проверки этой гипотезы?"
   ]
  },
  {
   "cell_type": "markdown",
   "id": "040f7958",
   "metadata": {},
   "source": [
    "**Вывод:** Поскольку у нас есть две выборки, до и после обновления, и они зависимы, то подойдет *односторонняя* гипотеза о равенстве средних для зависимых (парных) выборок: scipy.stats.ttest_rel().\n",
    "При статистической значимости равной 0.05:\n",
    "- если p-value меньше 0.05, мы отклоняем нулевую гипотезу и заключаем, что количество обращений снизилось.\n",
    "- если p-value больше или равно 0.05, у нас недостаточно доказательств, чтобы утверждать, что количество обращений снизилось."
   ]
  },
  {
   "cell_type": "markdown",
   "id": "61213c5e",
   "metadata": {},
   "source": [
    "### Распределения"
   ]
  },
  {
   "cell_type": "markdown",
   "id": "cb2e1364",
   "metadata": {},
   "source": [
    "7.1 Отделу маркетинга GoFast поставили задачу: нужно провести акцию с раздачей промокодов на один бесплатный месяц подписки, в рамках которой как минимум 100 существующих клиентов должны продлить эту подписку. То есть по завершении периода действия подписки пользователь может либо отказаться от неё, либо продлить, совершив соответствующий платёж. \n",
    "Эта акция уже проводилась ранее и по итогу выяснилось, что после бесплатного пробного периода подписку продлевают 10 % пользователей. Выясните, какое минимальное количество промокодов нужно разослать, чтобы вероятность не выполнить план была примерно 5 %. Подберите параметры распределения, описывающего эту ситуацию, постройте график распределения и сформулируйте ответ на вопрос о количестве промокодов."
   ]
  },
  {
   "cell_type": "markdown",
   "id": "70d5318c",
   "metadata": {},
   "source": [
    "Эта задача описывается биномиальным распределением. Пусть N — это количество разосланных промокодов, p=0.1 — вероятность того, что пользователь продлит подписку, и k=100 — минимальное количество продлений, чтобы выполнить план.\n",
    "\n",
    "Нам нужно найти такое минимальное N, чтобы вероятность того, что количество продлений X будет меньше 100, была равна 5%: P(X<100)≈0.05.\n",
    "\n",
    "Для этого воспользуемся функцией распределения биномиального распределения (cdf).\n",
    "\n",
    "Сначала создадим функцию, которая находит минимальное N, удовлетворяющее данному условию."
   ]
  },
  {
   "cell_type": "code",
   "execution_count": 91,
   "id": "6914f1da",
   "metadata": {},
   "outputs": [
    {
     "data": {
      "text/plain": [
       "1161"
      ]
     },
     "execution_count": 91,
     "metadata": {},
     "output_type": "execute_result"
    }
   ],
   "source": [
    "p = 0.10  # вероятность продления подписки\n",
    "k = 100   # необходимое количество успешных продлений\n",
    "alpha = 0.05  # вероятность не выполнить план\n",
    "\n",
    "def find_min_N(p, k, alpha):\n",
    "    n = k  # Начнем с N, равного k\n",
    "    while True:\n",
    "        prob = st.binom.cdf(k - 1, n, p)  # P(X < k) для биномиального распределения\n",
    "        if prob <= alpha:\n",
    "            return n\n",
    "        n += 1\n",
    "\n",
    "n_min = find_min_N(p, k, alpha)\n",
    "n_min"
   ]
  },
  {
   "cell_type": "markdown",
   "id": "fb86241b",
   "metadata": {},
   "source": [
    "**Вывод:** Отделу маркетинга необходимо разослать промокоды 1161 клиентам, чтобы после акции достичь 100 продлений подписок."
   ]
  },
  {
   "cell_type": "code",
   "execution_count": 93,
   "id": "d24d968f-e541-4786-b444-6a6b6c43e28b",
   "metadata": {},
   "outputs": [
    {
     "data": {
      "image/png": "[encoded data removed]",
      "text/plain": [
       "<Figure size 1200x600 with 1 Axes>"
      ]
     },
     "metadata": {},
     "output_type": "display_data"
    }
   ],
   "source": [
    "# Биномиальное распределение\n",
    "x = np.arange(0, n_min + 1)\n",
    "y = st.binom.pmf(x, n_min, p)\n",
    "\n",
    "plt.figure(figsize=(12, 6))\n",
    "plt.bar(x, y, color='skyblue')\n",
    "\n",
    "plt.axvline(k, color='red', linestyle='--', label=f'{k} успешных продлений')\n",
    "plt.title(f'Биномиальное распределение (n={n_min}, p={p})')\n",
    "plt.xlabel('Количество успешных продлений')\n",
    "plt.ylabel('Вероятность')\n",
    "plt.legend()\n",
    "\n",
    "plt.show()"
   ]
  },
  {
   "cell_type": "markdown",
   "id": "a7e6dd4b",
   "metadata": {},
   "source": [
    "7.2 Отдел маркетинга рассылает клиентам push-уведомления в мобильном приложении. Клиенты могут открыть его или не открывать. Известно, что уведомления открывают около 40 % получивших клиентов. Отдел планирует разослать 1 млн уведомлений. С помощью аппроксимации постройте примерный график распределения и оцените вероятность того, что уведомление откроют не более 399,5 тыс. пользователей."
   ]
  },
  {
   "cell_type": "code",
   "execution_count": 95,
   "id": "be8ad908",
   "metadata": {},
   "outputs": [
    {
     "name": "stdout",
     "output_type": "stream",
     "text": [
      "0.15371708296369768\n"
     ]
    }
   ],
   "source": [
    "n = 1000000 # количество отправленных уведомлений \n",
    "p = 0.4     # вероятность открытия уведомления \n",
    "\n",
    "# зададим мат.ожидание и ст.отклонение нормального распределения равными\n",
    "# мат.ожиданию и ст.отклонению биномиального распределения\n",
    "mu = n * p\n",
    "sigma = np.sqrt(n * p * (1 - p))\n",
    "\n",
    "# задаём нормальное распределение\n",
    "distr = st.norm(mu, sigma) \n",
    "\n",
    "# считаем вероятность хвоста слева от 399500\n",
    "result = distr.cdf(399500)\n",
    "print(result)"
   ]
  },
  {
   "cell_type": "markdown",
   "id": "9aefd69e",
   "metadata": {},
   "source": [
    "Построим гистограмму и аппроксимацию нормальным распределением."
   ]
  },
  {
   "cell_type": "code",
   "execution_count": 97,
   "id": "07258faa",
   "metadata": {},
   "outputs": [
    {
     "data": {
      "image/png": "[encoded data removed]",
      "text/plain": [
       "<Figure size 1200x800 with 1 Axes>"
      ]
     },
     "metadata": {},
     "output_type": "display_data"
    }
   ],
   "source": [
    "sample_binom = np.random.binomial(n, p, 10000)\n",
    "\n",
    "plt.figure(figsize=(12, 8))\n",
    "plt.hist(sample_binom, bins=50, density=True, alpha=0.6, color='skyblue', label='Гистрограмма')\n",
    "\n",
    "# Плотность нормального распределения\n",
    "x = np.linspace(mu - 4*sigma, mu + 4*sigma, 1000)\n",
    "y = st.norm.pdf(x, mu, sigma)\n",
    "plt.plot(x, y, color='orange', label='Нормальное распределение')\n",
    "\n",
    "plt.axvline(399500, color='red', linestyle='--', label='399500')\n",
    "plt.title(f'Нормальная аппроксимация биномиального распределения (n={n}, p={p})')\n",
    "plt.xlabel('Количество открытий уведомлений')\n",
    "plt.ylabel('Плотность вероятности')\n",
    "plt.legend()\n",
    "\n",
    "plt.show()"
   ]
  },
  {
   "cell_type": "markdown",
   "id": "220e124e",
   "metadata": {},
   "source": [
    "**Вывод:** Вероятность того, что после отправки 1 000 000 уведомлений,  количество пользователей, не открывших уведомление, составит не более 399 500 человек, - примерно 15%."
   ]
  },
  {
   "cell_type": "markdown",
   "id": "6b25977f",
   "metadata": {},
   "source": [
    "### Выводы"
   ]
  },
  {
   "cell_type": "markdown",
   "id": "aa4821fe",
   "metadata": {},
   "source": [
    "**1. Общая информация о данных:**\n",
    "\n",
    "1. Таблица *users* содержит информацию о пользователях, включая их уникальные идентификаторы, имена, возраст, города и типы подписок. Размер таблицы: *1565 строк, 5 столбцов*.\n",
    "2. Таблица *rides* содержит данные о поездках, включая уникальные идентификаторы пользователей, расстояния, продолжительность сессий и даты поездок. Размер таблицы: *18068 строк, 4 столбца*.\n",
    "3. Таблица *subscriptions* включает информацию о различных типах подписок, стоимости одной минуты поездки, стоимости начала поездки и ежемесячной плате. Размер таблицы: *2 строки, 4 столбца*."
   ]
  },
  {
   "cell_type": "markdown",
   "id": "b1de177d",
   "metadata": {},
   "source": [
    "**2. Предобработка данных:**\n",
    "\n",
    "- *Пропущенные значения:* нет.\n",
    "- *Типы данных:* тип данных изменен в 1 столбце: date:  object -> datetime.\n",
    "- *Дубликаты:* удалены неявные дубликаты в таблице users: 31 строка из 1565 строк (2%).\n",
    "- *Аномальные значения:* нет.\n",
    "- *Новые параметры:* добавлен новый столбец с номером месяца на основе столбца date."
   ]
  },
  {
   "cell_type": "markdown",
   "id": "da9df12b",
   "metadata": {},
   "source": [
    "**3. Исследовательский анализ данных:**\n",
    "\n",
    "1. *Частота встречаемости городов:* больше всего пользователей сервиса в Пятигорске, меньше всего в Москве..\n",
    "2. *Соотношение пользователей с подпиской и без подписки:* всего пользоватлей: 1534. Пользователи с подпиской Ultra - 699(45.6%), пользователи без подписки - 835(54.4%).\n",
    "3. *Возраст пользователей:* большая часть пользователей - в возрасте от 22 до 28 лет. Средний возраст пользователя - 25 лет. Самый младший пользователь - 12 лет, самый старший - 43 года.\n",
    "4. *Расстояние, которое пользователь преодолел за одну поездку:* большинство поездок имеют расстояние от 2543 до 3776 метров. Среднее расстояние составляет 3070 метров. Самое короткое расстояние — 0.8 метра, самое длинное — 7211 метров. Данные распределены нормально, большинство поездок сконцентрированы вокруг среднего значения.\n",
    "5. *Продолжительность поездок:* большинство поездок имеют продолжительность от 14 до 22 минут. Средняя продолжительность поездок - 18 минут. Самая короткая поездка — 0.5 минут, самое длинная — 41 минута. Данные распределены норомально, большинство поездок сконцентрированы вокруг среднего значения."
   ]
  },
  {
   "cell_type": "markdown",
   "id": "848fc416",
   "metadata": {},
   "source": [
    "Далее все данные были объединены в единую таблицу для проверки гипотез, выдвинутых продакт-менеджерами сервиса."
   ]
  },
  {
   "cell_type": "markdown",
   "id": "c0f185e5",
   "metadata": {},
   "source": [
    "**4. Подсчёт выручки:** \n",
    "- количество пользователей без подписки почти в 1.5 раза больше, чем пользователей с подпиской.\n",
    "- общая выручка от пользователей без подписки (2 234 104 руб) выше, чем от пользователей с подпиской (1 644 537 руб). \n",
    "- средняя выручка на одного пользователя с подпиской (362 руб) выше, чем у пользователей с бесплатной подпиской (328 руб). "
   ]
  },
  {
   "cell_type": "markdown",
   "id": "53e13b46",
   "metadata": {},
   "source": [
    "**5. Проверка гипотез:**\n",
    "\n",
    "Все три гипотезы, выдвинутые продакт-менеджерами, оказались верными. \n",
    "\n",
    "1. *Гипотеза №1:* У пользователей с подпиской продолжительность одной поездки в среднем дольше, чем у пользователей без подписки. Гипотеза подтвердилась.\n",
    "2. *Гипотеза №2:* Пользователи с подпиской в среднем проезжают не больше 3130 метров (оптимальное расстояние с точки зрения износа самоката). Гипотеза подтвердилась.\n",
    "3. *Гипотеза №3:* Пользователи с подпиской приносят по месяцам компании больше денег, чем пользователи без подписки. Гипотеза подтвердилась."
   ]
  }
 ],
 "metadata": {
  "ExecuteTimeLog": [
   {
    "duration": 379,
    "start_time": "2024-07-15T08:34:34.266Z"
   },
   {
    "duration": 99,
    "start_time": "2024-07-15T08:34:35.783Z"
   },
   {
    "duration": 269,
    "start_time": "2024-07-15T08:35:27.195Z"
   },
   {
    "duration": 22,
    "start_time": "2024-07-15T08:37:17.262Z"
   },
   {
    "duration": 21,
    "start_time": "2024-07-15T08:37:56.539Z"
   },
   {
    "duration": 20,
    "start_time": "2024-07-15T08:38:24.130Z"
   },
   {
    "duration": 20,
    "start_time": "2024-07-15T08:48:34.160Z"
   },
   {
    "duration": 7,
    "start_time": "2024-07-15T08:53:05.321Z"
   },
   {
    "duration": 9,
    "start_time": "2024-07-15T08:53:45.243Z"
   },
   {
    "duration": 9,
    "start_time": "2024-07-15T08:53:57.108Z"
   },
   {
    "duration": 9,
    "start_time": "2024-07-15T08:55:01.109Z"
   },
   {
    "duration": 12,
    "start_time": "2024-07-15T08:55:18.968Z"
   },
   {
    "duration": 8,
    "start_time": "2024-07-15T08:55:56.426Z"
   },
   {
    "duration": 59,
    "start_time": "2024-07-15T08:59:03.278Z"
   },
   {
    "duration": 50,
    "start_time": "2024-07-15T12:16:12.657Z"
   },
   {
    "duration": 394,
    "start_time": "2024-07-15T12:16:20.014Z"
   },
   {
    "duration": 366,
    "start_time": "2024-07-15T12:16:20.410Z"
   },
   {
    "duration": 35,
    "start_time": "2024-07-15T12:16:20.777Z"
   },
   {
    "duration": 10,
    "start_time": "2024-07-15T12:16:20.814Z"
   },
   {
    "duration": 10,
    "start_time": "2024-07-15T12:16:20.826Z"
   },
   {
    "duration": 79,
    "start_time": "2024-07-15T12:17:13.614Z"
   },
   {
    "duration": 24,
    "start_time": "2024-07-15T12:17:23.330Z"
   },
   {
    "duration": 54,
    "start_time": "2024-07-16T02:17:06.288Z"
   },
   {
    "duration": 322,
    "start_time": "2024-07-16T02:17:11.958Z"
   },
   {
    "duration": 263,
    "start_time": "2024-07-16T02:17:12.281Z"
   },
   {
    "duration": 20,
    "start_time": "2024-07-16T02:17:12.545Z"
   },
   {
    "duration": 36,
    "start_time": "2024-07-16T02:17:12.566Z"
   },
   {
    "duration": 10,
    "start_time": "2024-07-16T02:17:12.606Z"
   },
   {
    "duration": 17,
    "start_time": "2024-07-16T02:17:51.428Z"
   },
   {
    "duration": 16,
    "start_time": "2024-07-16T02:18:01.297Z"
   },
   {
    "duration": 7,
    "start_time": "2024-07-16T02:23:04.236Z"
   },
   {
    "duration": 33,
    "start_time": "2024-07-16T02:27:52.236Z"
   },
   {
    "duration": 15,
    "start_time": "2024-07-16T02:28:15.654Z"
   },
   {
    "duration": 15,
    "start_time": "2024-07-16T02:28:21.934Z"
   },
   {
    "duration": 1231,
    "start_time": "2024-07-16T02:30:31.698Z"
   },
   {
    "duration": 9,
    "start_time": "2024-07-16T02:30:46.789Z"
   },
   {
    "duration": 8,
    "start_time": "2024-07-16T02:32:10.502Z"
   },
   {
    "duration": 10,
    "start_time": "2024-07-16T02:32:36.802Z"
   },
   {
    "duration": 8,
    "start_time": "2024-07-16T02:32:43.732Z"
   },
   {
    "duration": 4,
    "start_time": "2024-07-16T02:53:25.998Z"
   },
   {
    "duration": 6,
    "start_time": "2024-07-16T02:54:05.612Z"
   },
   {
    "duration": 6,
    "start_time": "2024-07-16T02:54:13.778Z"
   },
   {
    "duration": 384,
    "start_time": "2024-07-16T02:55:48.574Z"
   },
   {
    "duration": 62,
    "start_time": "2024-07-16T02:55:48.960Z"
   },
   {
    "duration": 21,
    "start_time": "2024-07-16T02:55:49.023Z"
   },
   {
    "duration": 42,
    "start_time": "2024-07-16T02:55:49.045Z"
   },
   {
    "duration": 18,
    "start_time": "2024-07-16T02:55:49.089Z"
   },
   {
    "duration": 15,
    "start_time": "2024-07-16T02:55:49.109Z"
   },
   {
    "duration": 16,
    "start_time": "2024-07-16T02:55:49.126Z"
   },
   {
    "duration": 101,
    "start_time": "2024-07-16T02:55:49.143Z"
   },
   {
    "duration": 0,
    "start_time": "2024-07-16T02:55:49.246Z"
   },
   {
    "duration": 0,
    "start_time": "2024-07-16T02:55:49.246Z"
   },
   {
    "duration": 0,
    "start_time": "2024-07-16T02:55:49.247Z"
   },
   {
    "duration": 78,
    "start_time": "2024-07-16T02:57:58.562Z"
   },
   {
    "duration": 4,
    "start_time": "2024-07-16T03:03:19.598Z"
   },
   {
    "duration": 6,
    "start_time": "2024-07-16T03:03:34.262Z"
   },
   {
    "duration": 5,
    "start_time": "2024-07-16T03:03:43.170Z"
   },
   {
    "duration": 1192,
    "start_time": "2024-07-16T03:05:04.963Z"
   },
   {
    "duration": 62,
    "start_time": "2024-07-16T03:05:06.156Z"
   },
   {
    "duration": 19,
    "start_time": "2024-07-16T03:05:06.219Z"
   },
   {
    "duration": 45,
    "start_time": "2024-07-16T03:05:06.239Z"
   },
   {
    "duration": 12,
    "start_time": "2024-07-16T03:05:06.285Z"
   },
   {
    "duration": 9,
    "start_time": "2024-07-16T03:05:06.299Z"
   },
   {
    "duration": 7,
    "start_time": "2024-07-16T03:05:06.309Z"
   },
   {
    "duration": 82,
    "start_time": "2024-07-16T03:05:06.317Z"
   },
   {
    "duration": 0,
    "start_time": "2024-07-16T03:05:06.400Z"
   },
   {
    "duration": 0,
    "start_time": "2024-07-16T03:05:06.401Z"
   },
   {
    "duration": 0,
    "start_time": "2024-07-16T03:05:06.402Z"
   },
   {
    "duration": 0,
    "start_time": "2024-07-16T03:05:06.404Z"
   },
   {
    "duration": 105,
    "start_time": "2024-07-16T03:19:28.296Z"
   },
   {
    "duration": 966,
    "start_time": "2024-07-16T03:19:35.058Z"
   },
   {
    "duration": 60,
    "start_time": "2024-07-16T03:19:36.026Z"
   },
   {
    "duration": 17,
    "start_time": "2024-07-16T03:19:36.088Z"
   },
   {
    "duration": 51,
    "start_time": "2024-07-16T03:19:36.106Z"
   },
   {
    "duration": 11,
    "start_time": "2024-07-16T03:19:36.159Z"
   },
   {
    "duration": 8,
    "start_time": "2024-07-16T03:19:36.171Z"
   },
   {
    "duration": 13,
    "start_time": "2024-07-16T03:19:36.180Z"
   },
   {
    "duration": 67,
    "start_time": "2024-07-16T03:19:36.194Z"
   },
   {
    "duration": 0,
    "start_time": "2024-07-16T03:19:36.263Z"
   },
   {
    "duration": 0,
    "start_time": "2024-07-16T03:19:36.264Z"
   },
   {
    "duration": 0,
    "start_time": "2024-07-16T03:19:36.265Z"
   },
   {
    "duration": 0,
    "start_time": "2024-07-16T03:19:36.266Z"
   },
   {
    "duration": 89,
    "start_time": "2024-07-16T03:19:39.815Z"
   },
   {
    "duration": 170,
    "start_time": "2024-07-16T03:19:55.036Z"
   },
   {
    "duration": 14,
    "start_time": "2024-07-16T03:20:54.820Z"
   },
   {
    "duration": 257,
    "start_time": "2024-07-16T03:23:36.780Z"
   },
   {
    "duration": 18,
    "start_time": "2024-07-16T03:25:32.515Z"
   },
   {
    "duration": 14,
    "start_time": "2024-07-16T03:29:39.965Z"
   },
   {
    "duration": 10,
    "start_time": "2024-07-16T03:32:16.848Z"
   },
   {
    "duration": 104,
    "start_time": "2024-07-16T03:32:48.868Z"
   },
   {
    "duration": 321,
    "start_time": "2024-07-16T03:33:05.804Z"
   },
   {
    "duration": 184,
    "start_time": "2024-07-16T03:33:19.832Z"
   },
   {
    "duration": 201,
    "start_time": "2024-07-16T03:33:35.518Z"
   },
   {
    "duration": 116,
    "start_time": "2024-07-16T03:33:49.205Z"
   },
   {
    "duration": 147,
    "start_time": "2024-07-16T03:34:07.759Z"
   },
   {
    "duration": 1084,
    "start_time": "2024-07-16T03:35:42.361Z"
   },
   {
    "duration": 61,
    "start_time": "2024-07-16T03:35:43.446Z"
   },
   {
    "duration": 18,
    "start_time": "2024-07-16T03:35:43.508Z"
   },
   {
    "duration": 19,
    "start_time": "2024-07-16T03:35:43.527Z"
   },
   {
    "duration": 15,
    "start_time": "2024-07-16T03:35:43.547Z"
   },
   {
    "duration": 7,
    "start_time": "2024-07-16T03:35:43.563Z"
   },
   {
    "duration": 10,
    "start_time": "2024-07-16T03:35:43.571Z"
   },
   {
    "duration": 63,
    "start_time": "2024-07-16T03:35:43.582Z"
   },
   {
    "duration": 0,
    "start_time": "2024-07-16T03:35:43.646Z"
   },
   {
    "duration": 0,
    "start_time": "2024-07-16T03:35:43.647Z"
   },
   {
    "duration": 0,
    "start_time": "2024-07-16T03:35:43.648Z"
   },
   {
    "duration": 0,
    "start_time": "2024-07-16T03:35:43.649Z"
   },
   {
    "duration": 257,
    "start_time": "2024-07-16T03:35:44.951Z"
   },
   {
    "duration": 63,
    "start_time": "2024-07-16T03:36:09.173Z"
   },
   {
    "duration": 182,
    "start_time": "2024-07-16T03:39:22.760Z"
   },
   {
    "duration": 105,
    "start_time": "2024-07-16T03:39:37.646Z"
   },
   {
    "duration": 102,
    "start_time": "2024-07-16T03:39:54.019Z"
   },
   {
    "duration": 332,
    "start_time": "2024-07-16T03:40:09.734Z"
   },
   {
    "duration": 364,
    "start_time": "2024-07-16T03:41:16.561Z"
   },
   {
    "duration": 348,
    "start_time": "2024-07-16T03:42:22.600Z"
   },
   {
    "duration": 348,
    "start_time": "2024-07-16T03:42:31.907Z"
   },
   {
    "duration": 227,
    "start_time": "2024-07-16T03:42:43.291Z"
   },
   {
    "duration": 284,
    "start_time": "2024-07-16T03:43:07.226Z"
   },
   {
    "duration": 231,
    "start_time": "2024-07-16T03:43:13.777Z"
   },
   {
    "duration": 72,
    "start_time": "2024-07-16T03:47:21.462Z"
   },
   {
    "duration": 127,
    "start_time": "2024-07-16T03:47:51.691Z"
   },
   {
    "duration": 185,
    "start_time": "2024-07-16T03:51:14.217Z"
   },
   {
    "duration": 152,
    "start_time": "2024-07-16T03:51:25.263Z"
   },
   {
    "duration": 75,
    "start_time": "2024-07-16T03:53:11.958Z"
   },
   {
    "duration": 126,
    "start_time": "2024-07-16T03:53:17.904Z"
   },
   {
    "duration": 47,
    "start_time": "2024-07-16T06:07:59.788Z"
   },
   {
    "duration": 1273,
    "start_time": "2024-07-16T06:08:05.114Z"
   },
   {
    "duration": 286,
    "start_time": "2024-07-16T06:08:06.388Z"
   },
   {
    "duration": 20,
    "start_time": "2024-07-16T06:08:06.675Z"
   },
   {
    "duration": 32,
    "start_time": "2024-07-16T06:08:06.697Z"
   },
   {
    "duration": 12,
    "start_time": "2024-07-16T06:08:06.731Z"
   },
   {
    "duration": 9,
    "start_time": "2024-07-16T06:08:06.744Z"
   },
   {
    "duration": 7,
    "start_time": "2024-07-16T06:08:06.754Z"
   },
   {
    "duration": 9,
    "start_time": "2024-07-16T06:08:06.763Z"
   },
   {
    "duration": 41,
    "start_time": "2024-07-16T06:08:06.773Z"
   },
   {
    "duration": 333,
    "start_time": "2024-07-16T06:08:06.816Z"
   },
   {
    "duration": 173,
    "start_time": "2024-07-16T06:08:07.150Z"
   },
   {
    "duration": 208,
    "start_time": "2024-07-16T06:08:19.206Z"
   },
   {
    "duration": 132,
    "start_time": "2024-07-16T06:08:44.208Z"
   },
   {
    "duration": 92,
    "start_time": "2024-07-16T06:08:56.444Z"
   },
   {
    "duration": 207,
    "start_time": "2024-07-16T06:10:15.627Z"
   },
   {
    "duration": 400,
    "start_time": "2024-07-16T06:10:24.933Z"
   },
   {
    "duration": 254,
    "start_time": "2024-07-16T06:10:33.662Z"
   },
   {
    "duration": 303,
    "start_time": "2024-07-16T06:10:40.722Z"
   },
   {
    "duration": 155,
    "start_time": "2024-07-16T06:10:49.365Z"
   },
   {
    "duration": 218,
    "start_time": "2024-07-16T06:11:51.513Z"
   },
   {
    "duration": 238,
    "start_time": "2024-07-16T06:12:05.774Z"
   },
   {
    "duration": 181,
    "start_time": "2024-07-16T06:12:29.772Z"
   },
   {
    "duration": 223,
    "start_time": "2024-07-16T06:12:46.140Z"
   },
   {
    "duration": 146,
    "start_time": "2024-07-16T06:13:08.189Z"
   },
   {
    "duration": 314,
    "start_time": "2024-07-16T06:17:05.028Z"
   },
   {
    "duration": 325,
    "start_time": "2024-07-16T06:17:20.737Z"
   },
   {
    "duration": 299,
    "start_time": "2024-07-16T06:18:51.516Z"
   },
   {
    "duration": 307,
    "start_time": "2024-07-16T06:19:23.975Z"
   },
   {
    "duration": 293,
    "start_time": "2024-07-16T06:19:48.288Z"
   },
   {
    "duration": 390,
    "start_time": "2024-07-16T06:20:23.251Z"
   },
   {
    "duration": 158,
    "start_time": "2024-07-16T06:22:53.704Z"
   },
   {
    "duration": 306,
    "start_time": "2024-07-16T06:23:19.495Z"
   },
   {
    "duration": 318,
    "start_time": "2024-07-16T06:24:24.609Z"
   },
   {
    "duration": 338,
    "start_time": "2024-07-16T06:27:40.649Z"
   },
   {
    "duration": 14,
    "start_time": "2024-07-16T06:28:18.174Z"
   },
   {
    "duration": 361,
    "start_time": "2024-07-16T06:28:33.130Z"
   },
   {
    "duration": 1030,
    "start_time": "2024-07-16T06:31:43.932Z"
   },
   {
    "duration": 63,
    "start_time": "2024-07-16T06:31:44.964Z"
   },
   {
    "duration": 18,
    "start_time": "2024-07-16T06:31:45.028Z"
   },
   {
    "duration": 54,
    "start_time": "2024-07-16T06:31:45.048Z"
   },
   {
    "duration": 27,
    "start_time": "2024-07-16T06:31:45.104Z"
   },
   {
    "duration": 17,
    "start_time": "2024-07-16T06:31:45.132Z"
   },
   {
    "duration": 17,
    "start_time": "2024-07-16T06:31:45.151Z"
   },
   {
    "duration": 26,
    "start_time": "2024-07-16T06:31:45.169Z"
   },
   {
    "duration": 16,
    "start_time": "2024-07-16T06:31:45.196Z"
   },
   {
    "duration": 232,
    "start_time": "2024-07-16T06:31:45.213Z"
   },
   {
    "duration": 178,
    "start_time": "2024-07-16T06:31:45.446Z"
   },
   {
    "duration": 380,
    "start_time": "2024-07-16T06:31:45.625Z"
   },
   {
    "duration": 194,
    "start_time": "2024-07-16T06:32:38.198Z"
   },
   {
    "duration": 264,
    "start_time": "2024-07-16T06:32:54.663Z"
   },
   {
    "duration": 78,
    "start_time": "2024-07-16T06:35:11.535Z"
   },
   {
    "duration": 360,
    "start_time": "2024-07-16T06:38:01.853Z"
   },
   {
    "duration": 368,
    "start_time": "2024-07-16T06:39:16.334Z"
   },
   {
    "duration": 326,
    "start_time": "2024-07-16T06:39:30.376Z"
   },
   {
    "duration": 434,
    "start_time": "2024-07-16T06:39:37.048Z"
   },
   {
    "duration": 340,
    "start_time": "2024-07-16T06:39:53.381Z"
   },
   {
    "duration": 383,
    "start_time": "2024-07-16T06:40:05.510Z"
   },
   {
    "duration": 330,
    "start_time": "2024-07-16T06:40:28.087Z"
   },
   {
    "duration": 323,
    "start_time": "2024-07-16T06:40:40.298Z"
   },
   {
    "duration": 255,
    "start_time": "2024-07-16T06:41:00.588Z"
   },
   {
    "duration": 1091,
    "start_time": "2024-07-16T06:43:31.464Z"
   },
   {
    "duration": 64,
    "start_time": "2024-07-16T06:43:32.557Z"
   },
   {
    "duration": 20,
    "start_time": "2024-07-16T06:43:32.623Z"
   },
   {
    "duration": 20,
    "start_time": "2024-07-16T06:43:32.644Z"
   },
   {
    "duration": 60,
    "start_time": "2024-07-16T06:43:32.666Z"
   },
   {
    "duration": 89,
    "start_time": "2024-07-16T06:43:32.727Z"
   },
   {
    "duration": 48,
    "start_time": "2024-07-16T06:43:32.817Z"
   },
   {
    "duration": 27,
    "start_time": "2024-07-16T06:43:32.866Z"
   },
   {
    "duration": 10,
    "start_time": "2024-07-16T06:43:32.894Z"
   },
   {
    "duration": 244,
    "start_time": "2024-07-16T06:43:32.905Z"
   },
   {
    "duration": 183,
    "start_time": "2024-07-16T06:43:33.150Z"
   },
   {
    "duration": 387,
    "start_time": "2024-07-16T06:43:33.334Z"
   },
   {
    "duration": 351,
    "start_time": "2024-07-16T06:45:02.433Z"
   },
   {
    "duration": 374,
    "start_time": "2024-07-16T06:47:14.782Z"
   },
   {
    "duration": 356,
    "start_time": "2024-07-16T06:49:19.030Z"
   },
   {
    "duration": 344,
    "start_time": "2024-07-16T06:49:34.222Z"
   },
   {
    "duration": 355,
    "start_time": "2024-07-16T06:49:53.323Z"
   },
   {
    "duration": 1344,
    "start_time": "2024-07-16T06:50:18.963Z"
   },
   {
    "duration": 925,
    "start_time": "2024-07-16T06:54:16.524Z"
   },
   {
    "duration": 1366,
    "start_time": "2024-07-16T06:54:43.543Z"
   },
   {
    "duration": 337,
    "start_time": "2024-07-16T06:54:57.424Z"
   },
   {
    "duration": 1038,
    "start_time": "2024-07-16T07:04:53.546Z"
   },
   {
    "duration": 63,
    "start_time": "2024-07-16T07:04:54.585Z"
   },
   {
    "duration": 18,
    "start_time": "2024-07-16T07:04:54.649Z"
   },
   {
    "duration": 20,
    "start_time": "2024-07-16T07:04:54.668Z"
   },
   {
    "duration": 11,
    "start_time": "2024-07-16T07:04:54.690Z"
   },
   {
    "duration": 9,
    "start_time": "2024-07-16T07:04:54.712Z"
   },
   {
    "duration": 7,
    "start_time": "2024-07-16T07:04:54.722Z"
   },
   {
    "duration": 12,
    "start_time": "2024-07-16T07:04:54.730Z"
   },
   {
    "duration": 18,
    "start_time": "2024-07-16T07:04:54.743Z"
   },
   {
    "duration": 280,
    "start_time": "2024-07-16T07:04:54.762Z"
   },
   {
    "duration": 187,
    "start_time": "2024-07-16T07:04:55.043Z"
   },
   {
    "duration": 415,
    "start_time": "2024-07-16T07:04:55.231Z"
   },
   {
    "duration": 1427,
    "start_time": "2024-07-16T07:04:55.647Z"
   },
   {
    "duration": 350,
    "start_time": "2024-07-16T07:04:57.077Z"
   },
   {
    "duration": 228,
    "start_time": "2024-07-16T07:06:51.216Z"
   },
   {
    "duration": 1051,
    "start_time": "2024-07-16T07:11:02.122Z"
   },
   {
    "duration": 64,
    "start_time": "2024-07-16T07:11:03.175Z"
   },
   {
    "duration": 20,
    "start_time": "2024-07-16T07:11:03.241Z"
   },
   {
    "duration": 22,
    "start_time": "2024-07-16T07:11:03.262Z"
   },
   {
    "duration": 11,
    "start_time": "2024-07-16T07:11:03.286Z"
   },
   {
    "duration": 19,
    "start_time": "2024-07-16T07:11:03.298Z"
   },
   {
    "duration": 8,
    "start_time": "2024-07-16T07:11:03.318Z"
   },
   {
    "duration": 9,
    "start_time": "2024-07-16T07:11:03.328Z"
   },
   {
    "duration": 6,
    "start_time": "2024-07-16T07:11:03.338Z"
   },
   {
    "duration": 289,
    "start_time": "2024-07-16T07:11:03.345Z"
   },
   {
    "duration": 197,
    "start_time": "2024-07-16T07:11:03.635Z"
   },
   {
    "duration": 379,
    "start_time": "2024-07-16T07:11:03.833Z"
   },
   {
    "duration": 1361,
    "start_time": "2024-07-16T07:11:04.213Z"
   },
   {
    "duration": 339,
    "start_time": "2024-07-16T07:11:05.576Z"
   },
   {
    "duration": 1288,
    "start_time": "2024-07-16T10:35:24.448Z"
   },
   {
    "duration": 294,
    "start_time": "2024-07-16T10:35:25.738Z"
   },
   {
    "duration": 32,
    "start_time": "2024-07-16T10:35:26.034Z"
   },
   {
    "duration": 30,
    "start_time": "2024-07-16T10:35:26.067Z"
   },
   {
    "duration": 19,
    "start_time": "2024-07-16T10:35:26.099Z"
   },
   {
    "duration": 14,
    "start_time": "2024-07-16T10:35:26.119Z"
   },
   {
    "duration": 11,
    "start_time": "2024-07-16T10:35:26.135Z"
   },
   {
    "duration": 13,
    "start_time": "2024-07-16T10:35:26.148Z"
   },
   {
    "duration": 47,
    "start_time": "2024-07-16T10:35:26.163Z"
   },
   {
    "duration": 276,
    "start_time": "2024-07-16T10:35:26.211Z"
   },
   {
    "duration": 227,
    "start_time": "2024-07-16T10:35:26.489Z"
   },
   {
    "duration": 428,
    "start_time": "2024-07-16T10:35:26.717Z"
   },
   {
    "duration": 1822,
    "start_time": "2024-07-16T10:35:27.147Z"
   },
   {
    "duration": 398,
    "start_time": "2024-07-16T10:35:28.972Z"
   },
   {
    "duration": 1211,
    "start_time": "2024-07-16T10:42:53.027Z"
   },
   {
    "duration": 68,
    "start_time": "2024-07-16T10:42:54.240Z"
   },
   {
    "duration": 23,
    "start_time": "2024-07-16T10:42:54.309Z"
   },
   {
    "duration": 25,
    "start_time": "2024-07-16T10:42:54.335Z"
   },
   {
    "duration": 16,
    "start_time": "2024-07-16T10:42:54.361Z"
   },
   {
    "duration": 11,
    "start_time": "2024-07-16T10:42:54.405Z"
   },
   {
    "duration": 9,
    "start_time": "2024-07-16T10:42:54.418Z"
   },
   {
    "duration": 80,
    "start_time": "2024-07-16T10:42:54.429Z"
   },
   {
    "duration": 8,
    "start_time": "2024-07-16T10:42:54.511Z"
   },
   {
    "duration": 243,
    "start_time": "2024-07-16T10:42:54.521Z"
   },
   {
    "duration": 266,
    "start_time": "2024-07-16T10:42:54.766Z"
   },
   {
    "duration": 401,
    "start_time": "2024-07-16T10:42:55.034Z"
   },
   {
    "duration": 1766,
    "start_time": "2024-07-16T10:42:55.437Z"
   },
   {
    "duration": 429,
    "start_time": "2024-07-16T10:42:57.204Z"
   },
   {
    "duration": 41,
    "start_time": "2024-07-17T01:44:47.293Z"
   },
   {
    "duration": 1177,
    "start_time": "2024-07-17T01:44:54.886Z"
   },
   {
    "duration": 276,
    "start_time": "2024-07-17T01:44:56.065Z"
   },
   {
    "duration": 20,
    "start_time": "2024-07-17T01:44:56.342Z"
   },
   {
    "duration": 81,
    "start_time": "2024-07-17T01:44:56.364Z"
   },
   {
    "duration": 16,
    "start_time": "2024-07-17T01:44:56.446Z"
   },
   {
    "duration": 9,
    "start_time": "2024-07-17T01:44:56.463Z"
   },
   {
    "duration": 17,
    "start_time": "2024-07-17T01:44:56.474Z"
   },
   {
    "duration": 10,
    "start_time": "2024-07-17T01:44:56.492Z"
   },
   {
    "duration": 6,
    "start_time": "2024-07-17T01:44:56.503Z"
   },
   {
    "duration": 250,
    "start_time": "2024-07-17T01:44:56.512Z"
   },
   {
    "duration": 161,
    "start_time": "2024-07-17T01:44:56.763Z"
   },
   {
    "duration": 368,
    "start_time": "2024-07-17T01:44:56.925Z"
   },
   {
    "duration": 1269,
    "start_time": "2024-07-17T01:44:57.294Z"
   },
   {
    "duration": 316,
    "start_time": "2024-07-17T01:44:58.564Z"
   },
   {
    "duration": 97,
    "start_time": "2024-07-17T01:44:58.881Z"
   },
   {
    "duration": 20,
    "start_time": "2024-07-17T01:45:40.123Z"
   },
   {
    "duration": 21,
    "start_time": "2024-07-17T01:55:48.135Z"
   },
   {
    "duration": 88,
    "start_time": "2024-07-17T02:01:33.286Z"
   },
   {
    "duration": 696,
    "start_time": "2024-07-17T02:01:51.766Z"
   },
   {
    "duration": 655,
    "start_time": "2024-07-17T02:02:28.410Z"
   },
   {
    "duration": 772,
    "start_time": "2024-07-17T02:02:49.590Z"
   },
   {
    "duration": 346,
    "start_time": "2024-07-17T02:02:58.957Z"
   },
   {
    "duration": 1234,
    "start_time": "2024-07-17T02:03:07.706Z"
   },
   {
    "duration": 388,
    "start_time": "2024-07-17T02:03:12.925Z"
   },
   {
    "duration": 202,
    "start_time": "2024-07-17T02:03:18.805Z"
   },
   {
    "duration": 756,
    "start_time": "2024-07-17T02:05:10.950Z"
   },
   {
    "duration": 661,
    "start_time": "2024-07-17T02:06:18.718Z"
   },
   {
    "duration": 699,
    "start_time": "2024-07-17T02:06:37.637Z"
   },
   {
    "duration": 725,
    "start_time": "2024-07-17T02:10:50.085Z"
   },
   {
    "duration": 672,
    "start_time": "2024-07-17T02:11:11.641Z"
   },
   {
    "duration": 896,
    "start_time": "2024-07-17T02:11:33.640Z"
   },
   {
    "duration": 782,
    "start_time": "2024-07-17T02:11:53.559Z"
   },
   {
    "duration": 815,
    "start_time": "2024-07-17T02:12:14.229Z"
   },
   {
    "duration": 18,
    "start_time": "2024-07-17T02:32:16.373Z"
   },
   {
    "duration": 21,
    "start_time": "2024-07-17T02:32:26.367Z"
   },
   {
    "duration": 28,
    "start_time": "2024-07-17T02:38:49.842Z"
   },
   {
    "duration": 35,
    "start_time": "2024-07-17T02:39:02.312Z"
   },
   {
    "duration": 21,
    "start_time": "2024-07-17T02:41:25.972Z"
   },
   {
    "duration": 8,
    "start_time": "2024-07-17T02:44:35.633Z"
   },
   {
    "duration": 4,
    "start_time": "2024-07-17T02:46:47.723Z"
   },
   {
    "duration": 3,
    "start_time": "2024-07-17T03:08:55.324Z"
   },
   {
    "duration": 3,
    "start_time": "2024-07-17T03:10:50.635Z"
   },
   {
    "duration": 73,
    "start_time": "2024-07-17T03:10:51.300Z"
   },
   {
    "duration": 185,
    "start_time": "2024-07-17T03:10:52.339Z"
   },
   {
    "duration": 1030,
    "start_time": "2024-07-17T03:11:04.414Z"
   },
   {
    "duration": 63,
    "start_time": "2024-07-17T03:11:05.446Z"
   },
   {
    "duration": 57,
    "start_time": "2024-07-17T03:11:05.510Z"
   },
   {
    "duration": 68,
    "start_time": "2024-07-17T03:11:05.569Z"
   },
   {
    "duration": 11,
    "start_time": "2024-07-17T03:11:05.639Z"
   },
   {
    "duration": 9,
    "start_time": "2024-07-17T03:11:05.651Z"
   },
   {
    "duration": 6,
    "start_time": "2024-07-17T03:11:05.661Z"
   },
   {
    "duration": 14,
    "start_time": "2024-07-17T03:11:05.668Z"
   },
   {
    "duration": 12,
    "start_time": "2024-07-17T03:11:05.684Z"
   },
   {
    "duration": 238,
    "start_time": "2024-07-17T03:11:05.697Z"
   },
   {
    "duration": 179,
    "start_time": "2024-07-17T03:11:05.937Z"
   },
   {
    "duration": 365,
    "start_time": "2024-07-17T03:11:06.117Z"
   },
   {
    "duration": 1264,
    "start_time": "2024-07-17T03:11:06.483Z"
   },
   {
    "duration": 336,
    "start_time": "2024-07-17T03:11:07.749Z"
   },
   {
    "duration": 30,
    "start_time": "2024-07-17T03:11:08.086Z"
   },
   {
    "duration": 22,
    "start_time": "2024-07-17T03:11:08.117Z"
   },
   {
    "duration": 814,
    "start_time": "2024-07-17T03:11:08.140Z"
   },
   {
    "duration": 747,
    "start_time": "2024-07-17T03:11:08.955Z"
   },
   {
    "duration": 3,
    "start_time": "2024-07-17T03:11:09.704Z"
   },
   {
    "duration": 67,
    "start_time": "2024-07-17T03:11:09.708Z"
   },
   {
    "duration": 0,
    "start_time": "2024-07-17T03:11:09.776Z"
   },
   {
    "duration": 0,
    "start_time": "2024-07-17T03:11:09.777Z"
   },
   {
    "duration": 88,
    "start_time": "2024-07-17T03:16:44.808Z"
   },
   {
    "duration": 3,
    "start_time": "2024-07-17T03:16:49.058Z"
   },
   {
    "duration": 261,
    "start_time": "2024-07-17T03:16:50.169Z"
   },
   {
    "duration": 8,
    "start_time": "2024-07-17T03:16:51.741Z"
   },
   {
    "duration": 25,
    "start_time": "2024-07-17T03:17:06.832Z"
   },
   {
    "duration": 49,
    "start_time": "2024-07-17T07:37:47.873Z"
   },
   {
    "duration": 1316,
    "start_time": "2024-07-17T07:38:01.543Z"
   },
   {
    "duration": 405,
    "start_time": "2024-07-17T07:38:02.861Z"
   },
   {
    "duration": 23,
    "start_time": "2024-07-17T07:38:03.268Z"
   },
   {
    "duration": 25,
    "start_time": "2024-07-17T07:38:03.292Z"
   },
   {
    "duration": 15,
    "start_time": "2024-07-17T07:38:03.320Z"
   },
   {
    "duration": 21,
    "start_time": "2024-07-17T07:38:03.336Z"
   },
   {
    "duration": 15,
    "start_time": "2024-07-17T07:38:03.359Z"
   },
   {
    "duration": 49,
    "start_time": "2024-07-17T07:38:03.375Z"
   },
   {
    "duration": 9,
    "start_time": "2024-07-17T07:38:03.425Z"
   },
   {
    "duration": 351,
    "start_time": "2024-07-17T07:38:03.436Z"
   },
   {
    "duration": 225,
    "start_time": "2024-07-17T07:38:03.788Z"
   },
   {
    "duration": 425,
    "start_time": "2024-07-17T07:38:04.015Z"
   },
   {
    "duration": 1757,
    "start_time": "2024-07-17T07:38:04.442Z"
   },
   {
    "duration": 400,
    "start_time": "2024-07-17T07:38:06.207Z"
   },
   {
    "duration": 25,
    "start_time": "2024-07-17T07:38:06.608Z"
   },
   {
    "duration": 27,
    "start_time": "2024-07-17T07:38:06.635Z"
   },
   {
    "duration": 967,
    "start_time": "2024-07-17T07:38:06.664Z"
   },
   {
    "duration": 877,
    "start_time": "2024-07-17T07:38:07.633Z"
   },
   {
    "duration": 5,
    "start_time": "2024-07-17T07:38:08.512Z"
   },
   {
    "duration": 76,
    "start_time": "2024-07-17T07:38:08.541Z"
   },
   {
    "duration": 0,
    "start_time": "2024-07-17T07:38:08.619Z"
   },
   {
    "duration": 0,
    "start_time": "2024-07-17T07:38:08.620Z"
   },
   {
    "duration": 18,
    "start_time": "2024-07-17T07:38:13.479Z"
   },
   {
    "duration": 40,
    "start_time": "2024-07-17T07:53:12.021Z"
   },
   {
    "duration": 7,
    "start_time": "2024-07-17T07:54:53.501Z"
   },
   {
    "duration": 17,
    "start_time": "2024-07-17T07:55:32.480Z"
   },
   {
    "duration": 73,
    "start_time": "2024-07-17T07:59:51.563Z"
   },
   {
    "duration": 797,
    "start_time": "2024-07-17T08:00:49.808Z"
   },
   {
    "duration": 688,
    "start_time": "2024-07-17T08:04:01.123Z"
   },
   {
    "duration": 68,
    "start_time": "2024-07-17T08:10:12.000Z"
   },
   {
    "duration": 61,
    "start_time": "2024-07-17T08:10:46.237Z"
   },
   {
    "duration": 18,
    "start_time": "2024-07-17T08:11:15.263Z"
   },
   {
    "duration": 24,
    "start_time": "2024-07-17T08:12:44.703Z"
   },
   {
    "duration": 25,
    "start_time": "2024-07-17T08:15:06.330Z"
   },
   {
    "duration": 18,
    "start_time": "2024-07-17T08:16:51.703Z"
   },
   {
    "duration": 69,
    "start_time": "2024-07-18T02:44:30.611Z"
   },
   {
    "duration": 1418,
    "start_time": "2024-07-18T02:44:39.505Z"
   },
   {
    "duration": 277,
    "start_time": "2024-07-18T02:44:40.926Z"
   },
   {
    "duration": 23,
    "start_time": "2024-07-18T02:44:41.204Z"
   },
   {
    "duration": 26,
    "start_time": "2024-07-18T02:44:41.229Z"
   },
   {
    "duration": 14,
    "start_time": "2024-07-18T02:44:41.257Z"
   },
   {
    "duration": 10,
    "start_time": "2024-07-18T02:44:41.273Z"
   },
   {
    "duration": 8,
    "start_time": "2024-07-18T02:44:41.285Z"
   },
   {
    "duration": 10,
    "start_time": "2024-07-18T02:44:41.294Z"
   },
   {
    "duration": 7,
    "start_time": "2024-07-18T02:44:41.305Z"
   },
   {
    "duration": 280,
    "start_time": "2024-07-18T02:44:41.346Z"
   },
   {
    "duration": 223,
    "start_time": "2024-07-18T02:44:41.627Z"
   },
   {
    "duration": 420,
    "start_time": "2024-07-18T02:44:41.852Z"
   },
   {
    "duration": 1843,
    "start_time": "2024-07-18T02:44:42.274Z"
   },
   {
    "duration": 406,
    "start_time": "2024-07-18T02:44:44.121Z"
   },
   {
    "duration": 36,
    "start_time": "2024-07-18T02:44:44.529Z"
   },
   {
    "duration": 27,
    "start_time": "2024-07-18T02:44:44.567Z"
   },
   {
    "duration": 976,
    "start_time": "2024-07-18T02:44:44.596Z"
   },
   {
    "duration": 867,
    "start_time": "2024-07-18T02:44:45.574Z"
   },
   {
    "duration": 5,
    "start_time": "2024-07-18T02:44:46.442Z"
   },
   {
    "duration": 37,
    "start_time": "2024-07-18T02:44:46.448Z"
   },
   {
    "duration": 54,
    "start_time": "2024-07-18T02:44:46.487Z"
   },
   {
    "duration": 16,
    "start_time": "2024-07-18T02:44:46.542Z"
   },
   {
    "duration": 788,
    "start_time": "2024-07-18T02:44:46.560Z"
   },
   {
    "duration": 0,
    "start_time": "2024-07-18T02:44:47.473Z"
   },
   {
    "duration": 0,
    "start_time": "2024-07-18T02:44:47.475Z"
   },
   {
    "duration": 23,
    "start_time": "2024-07-18T02:44:52.748Z"
   },
   {
    "duration": 20,
    "start_time": "2024-07-18T02:45:07.287Z"
   },
   {
    "duration": 18,
    "start_time": "2024-07-18T02:51:16.500Z"
   },
   {
    "duration": 87,
    "start_time": "2024-07-18T02:51:22.898Z"
   },
   {
    "duration": 1056,
    "start_time": "2024-07-18T02:51:41.810Z"
   },
   {
    "duration": 1186,
    "start_time": "2024-07-18T02:52:19.261Z"
   },
   {
    "duration": 15,
    "start_time": "2024-07-18T02:54:40.028Z"
   },
   {
    "duration": 1200,
    "start_time": "2024-07-18T02:55:18.566Z"
   },
   {
    "duration": 68,
    "start_time": "2024-07-18T02:55:19.768Z"
   },
   {
    "duration": 21,
    "start_time": "2024-07-18T02:55:19.838Z"
   },
   {
    "duration": 26,
    "start_time": "2024-07-18T02:55:19.861Z"
   },
   {
    "duration": 15,
    "start_time": "2024-07-18T02:55:19.888Z"
   },
   {
    "duration": 11,
    "start_time": "2024-07-18T02:55:19.904Z"
   },
   {
    "duration": 36,
    "start_time": "2024-07-18T02:55:19.916Z"
   },
   {
    "duration": 13,
    "start_time": "2024-07-18T02:55:19.954Z"
   },
   {
    "duration": 7,
    "start_time": "2024-07-18T02:55:19.969Z"
   },
   {
    "duration": 307,
    "start_time": "2024-07-18T02:55:19.978Z"
   },
   {
    "duration": 206,
    "start_time": "2024-07-18T02:55:20.287Z"
   },
   {
    "duration": 499,
    "start_time": "2024-07-18T02:55:20.495Z"
   },
   {
    "duration": 1760,
    "start_time": "2024-07-18T02:55:20.996Z"
   },
   {
    "duration": 420,
    "start_time": "2024-07-18T02:55:22.758Z"
   },
   {
    "duration": 24,
    "start_time": "2024-07-18T02:55:23.180Z"
   },
   {
    "duration": 45,
    "start_time": "2024-07-18T02:55:23.206Z"
   },
   {
    "duration": 901,
    "start_time": "2024-07-18T02:55:23.253Z"
   },
   {
    "duration": 823,
    "start_time": "2024-07-18T02:55:24.156Z"
   },
   {
    "duration": 4,
    "start_time": "2024-07-18T02:55:24.981Z"
   },
   {
    "duration": 21,
    "start_time": "2024-07-18T02:55:24.987Z"
   },
   {
    "duration": 59,
    "start_time": "2024-07-18T02:55:25.010Z"
   },
   {
    "duration": 16,
    "start_time": "2024-07-18T02:55:25.071Z"
   },
   {
    "duration": 835,
    "start_time": "2024-07-18T02:55:25.088Z"
   },
   {
    "duration": 29,
    "start_time": "2024-07-18T02:55:25.925Z"
   },
   {
    "duration": 12,
    "start_time": "2024-07-18T02:55:25.956Z"
   },
   {
    "duration": 22,
    "start_time": "2024-07-18T02:56:34.809Z"
   },
   {
    "duration": 12,
    "start_time": "2024-07-18T02:58:42.507Z"
   },
   {
    "duration": 12,
    "start_time": "2024-07-18T02:58:56.529Z"
   },
   {
    "duration": 10,
    "start_time": "2024-07-18T03:16:27.170Z"
   },
   {
    "duration": 8,
    "start_time": "2024-07-18T03:16:45.635Z"
   },
   {
    "duration": 1192,
    "start_time": "2024-07-18T03:17:42.291Z"
   },
   {
    "duration": 69,
    "start_time": "2024-07-18T03:17:43.485Z"
   },
   {
    "duration": 23,
    "start_time": "2024-07-18T03:17:43.556Z"
   },
   {
    "duration": 26,
    "start_time": "2024-07-18T03:17:43.580Z"
   },
   {
    "duration": 13,
    "start_time": "2024-07-18T03:17:43.608Z"
   },
   {
    "duration": 29,
    "start_time": "2024-07-18T03:17:43.622Z"
   },
   {
    "duration": 8,
    "start_time": "2024-07-18T03:17:43.653Z"
   },
   {
    "duration": 14,
    "start_time": "2024-07-18T03:17:43.663Z"
   },
   {
    "duration": 9,
    "start_time": "2024-07-18T03:17:43.679Z"
   },
   {
    "duration": 310,
    "start_time": "2024-07-18T03:17:43.689Z"
   },
   {
    "duration": 262,
    "start_time": "2024-07-18T03:17:44.001Z"
   },
   {
    "duration": 423,
    "start_time": "2024-07-18T03:17:44.265Z"
   },
   {
    "duration": 1779,
    "start_time": "2024-07-18T03:17:44.690Z"
   },
   {
    "duration": 409,
    "start_time": "2024-07-18T03:17:46.472Z"
   },
   {
    "duration": 24,
    "start_time": "2024-07-18T03:17:46.882Z"
   },
   {
    "duration": 43,
    "start_time": "2024-07-18T03:17:46.907Z"
   },
   {
    "duration": 980,
    "start_time": "2024-07-18T03:17:46.952Z"
   },
   {
    "duration": 954,
    "start_time": "2024-07-18T03:17:47.934Z"
   },
   {
    "duration": 5,
    "start_time": "2024-07-18T03:17:48.889Z"
   },
   {
    "duration": 24,
    "start_time": "2024-07-18T03:17:48.895Z"
   },
   {
    "duration": 57,
    "start_time": "2024-07-18T03:17:48.921Z"
   },
   {
    "duration": 17,
    "start_time": "2024-07-18T03:17:48.979Z"
   },
   {
    "duration": 843,
    "start_time": "2024-07-18T03:17:48.998Z"
   },
   {
    "duration": 20,
    "start_time": "2024-07-18T03:17:49.843Z"
   },
   {
    "duration": 11,
    "start_time": "2024-07-18T03:17:49.865Z"
   },
   {
    "duration": 14,
    "start_time": "2024-07-18T03:17:49.878Z"
   },
   {
    "duration": 7,
    "start_time": "2024-07-18T03:17:49.904Z"
   },
   {
    "duration": 8,
    "start_time": "2024-07-18T03:18:02.243Z"
   },
   {
    "duration": 9,
    "start_time": "2024-07-18T03:22:13.845Z"
   },
   {
    "duration": 10,
    "start_time": "2024-07-18T03:22:48.414Z"
   },
   {
    "duration": 67,
    "start_time": "2024-07-18T03:24:19.061Z"
   },
   {
    "duration": 1269,
    "start_time": "2024-07-18T03:38:49.641Z"
   },
   {
    "duration": 68,
    "start_time": "2024-07-18T03:38:50.912Z"
   },
   {
    "duration": 22,
    "start_time": "2024-07-18T03:38:50.981Z"
   },
   {
    "duration": 24,
    "start_time": "2024-07-18T03:38:51.004Z"
   },
   {
    "duration": 25,
    "start_time": "2024-07-18T03:38:51.030Z"
   },
   {
    "duration": 10,
    "start_time": "2024-07-18T03:38:51.056Z"
   },
   {
    "duration": 8,
    "start_time": "2024-07-18T03:38:51.068Z"
   },
   {
    "duration": 9,
    "start_time": "2024-07-18T03:38:51.078Z"
   },
   {
    "duration": 6,
    "start_time": "2024-07-18T03:38:51.089Z"
   },
   {
    "duration": 296,
    "start_time": "2024-07-18T03:38:51.096Z"
   },
   {
    "duration": 254,
    "start_time": "2024-07-18T03:38:51.394Z"
   },
   {
    "duration": 417,
    "start_time": "2024-07-18T03:38:51.650Z"
   },
   {
    "duration": 1842,
    "start_time": "2024-07-18T03:38:52.069Z"
   },
   {
    "duration": 378,
    "start_time": "2024-07-18T03:38:53.914Z"
   },
   {
    "duration": 24,
    "start_time": "2024-07-18T03:38:54.294Z"
   },
   {
    "duration": 42,
    "start_time": "2024-07-18T03:38:54.320Z"
   },
   {
    "duration": 937,
    "start_time": "2024-07-18T03:38:54.364Z"
   },
   {
    "duration": 848,
    "start_time": "2024-07-18T03:38:55.303Z"
   },
   {
    "duration": 4,
    "start_time": "2024-07-18T03:38:56.152Z"
   },
   {
    "duration": 19,
    "start_time": "2024-07-18T03:38:56.158Z"
   },
   {
    "duration": 40,
    "start_time": "2024-07-18T03:38:56.179Z"
   },
   {
    "duration": 1190,
    "start_time": "2024-07-18T03:38:56.256Z"
   },
   {
    "duration": 0,
    "start_time": "2024-07-18T03:38:57.448Z"
   },
   {
    "duration": 0,
    "start_time": "2024-07-18T03:38:57.449Z"
   },
   {
    "duration": 0,
    "start_time": "2024-07-18T03:38:57.450Z"
   },
   {
    "duration": 0,
    "start_time": "2024-07-18T03:38:57.452Z"
   },
   {
    "duration": 0,
    "start_time": "2024-07-18T03:38:57.453Z"
   },
   {
    "duration": 0,
    "start_time": "2024-07-18T03:38:57.454Z"
   },
   {
    "duration": 0,
    "start_time": "2024-07-18T03:38:57.455Z"
   },
   {
    "duration": 17,
    "start_time": "2024-07-18T03:39:04.781Z"
   },
   {
    "duration": 789,
    "start_time": "2024-07-18T03:39:21.424Z"
   },
   {
    "duration": 50,
    "start_time": "2024-07-18T10:32:57.792Z"
   },
   {
    "duration": 1359,
    "start_time": "2024-07-18T10:33:04.834Z"
   },
   {
    "duration": 694,
    "start_time": "2024-07-18T10:33:06.195Z"
   },
   {
    "duration": 24,
    "start_time": "2024-07-18T10:33:06.890Z"
   },
   {
    "duration": 25,
    "start_time": "2024-07-18T10:33:06.916Z"
   },
   {
    "duration": 15,
    "start_time": "2024-07-18T10:33:06.943Z"
   },
   {
    "duration": 11,
    "start_time": "2024-07-18T10:33:06.960Z"
   },
   {
    "duration": 39,
    "start_time": "2024-07-18T10:33:06.973Z"
   },
   {
    "duration": 12,
    "start_time": "2024-07-18T10:33:07.014Z"
   },
   {
    "duration": 7,
    "start_time": "2024-07-18T10:33:07.027Z"
   },
   {
    "duration": 376,
    "start_time": "2024-07-18T10:33:07.036Z"
   },
   {
    "duration": 204,
    "start_time": "2024-07-18T10:33:07.414Z"
   },
   {
    "duration": 438,
    "start_time": "2024-07-18T10:33:07.619Z"
   },
   {
    "duration": 1778,
    "start_time": "2024-07-18T10:33:08.058Z"
   },
   {
    "duration": 405,
    "start_time": "2024-07-18T10:33:09.839Z"
   },
   {
    "duration": 23,
    "start_time": "2024-07-18T10:33:10.246Z"
   },
   {
    "duration": 46,
    "start_time": "2024-07-18T10:33:10.271Z"
   },
   {
    "duration": 1004,
    "start_time": "2024-07-18T10:33:10.319Z"
   },
   {
    "duration": 797,
    "start_time": "2024-07-18T10:33:11.324Z"
   },
   {
    "duration": 5,
    "start_time": "2024-07-18T10:33:12.122Z"
   },
   {
    "duration": 28,
    "start_time": "2024-07-18T10:33:12.128Z"
   },
   {
    "duration": 59,
    "start_time": "2024-07-18T10:33:12.158Z"
   },
   {
    "duration": 17,
    "start_time": "2024-07-18T10:33:12.219Z"
   },
   {
    "duration": 832,
    "start_time": "2024-07-18T10:33:12.238Z"
   },
   {
    "duration": 119,
    "start_time": "2024-07-18T10:33:13.071Z"
   },
   {
    "duration": 0,
    "start_time": "2024-07-18T10:33:13.192Z"
   },
   {
    "duration": 0,
    "start_time": "2024-07-18T10:33:13.192Z"
   },
   {
    "duration": 0,
    "start_time": "2024-07-18T10:33:13.194Z"
   },
   {
    "duration": 0,
    "start_time": "2024-07-18T10:33:13.195Z"
   },
   {
    "duration": 0,
    "start_time": "2024-07-18T10:33:13.207Z"
   },
   {
    "duration": 10,
    "start_time": "2024-07-18T10:33:18.259Z"
   },
   {
    "duration": 11,
    "start_time": "2024-07-18T10:34:18.968Z"
   },
   {
    "duration": 9,
    "start_time": "2024-07-18T10:34:24.821Z"
   },
   {
    "duration": 1121,
    "start_time": "2024-07-18T10:39:55.110Z"
   },
   {
    "duration": 79,
    "start_time": "2024-07-18T10:39:56.233Z"
   },
   {
    "duration": 25,
    "start_time": "2024-07-18T10:39:56.313Z"
   },
   {
    "duration": 26,
    "start_time": "2024-07-18T10:39:56.340Z"
   },
   {
    "duration": 40,
    "start_time": "2024-07-18T10:39:56.368Z"
   },
   {
    "duration": 12,
    "start_time": "2024-07-18T10:39:56.410Z"
   },
   {
    "duration": 10,
    "start_time": "2024-07-18T10:39:56.424Z"
   },
   {
    "duration": 34,
    "start_time": "2024-07-18T10:39:56.436Z"
   },
   {
    "duration": 23,
    "start_time": "2024-07-18T10:39:56.472Z"
   },
   {
    "duration": 260,
    "start_time": "2024-07-18T10:39:56.499Z"
   },
   {
    "duration": 256,
    "start_time": "2024-07-18T10:39:56.761Z"
   },
   {
    "duration": 439,
    "start_time": "2024-07-18T10:39:57.020Z"
   },
   {
    "duration": 1740,
    "start_time": "2024-07-18T10:39:57.460Z"
   },
   {
    "duration": 394,
    "start_time": "2024-07-18T10:39:59.201Z"
   },
   {
    "duration": 28,
    "start_time": "2024-07-18T10:39:59.597Z"
   },
   {
    "duration": 28,
    "start_time": "2024-07-18T10:39:59.627Z"
   },
   {
    "duration": 974,
    "start_time": "2024-07-18T10:39:59.656Z"
   },
   {
    "duration": 895,
    "start_time": "2024-07-18T10:40:00.631Z"
   },
   {
    "duration": 4,
    "start_time": "2024-07-18T10:40:01.528Z"
   },
   {
    "duration": 66,
    "start_time": "2024-07-18T10:40:01.534Z"
   },
   {
    "duration": 78,
    "start_time": "2024-07-18T10:40:01.602Z"
   },
   {
    "duration": 18,
    "start_time": "2024-07-18T10:40:01.682Z"
   },
   {
    "duration": 824,
    "start_time": "2024-07-18T10:40:01.701Z"
   },
   {
    "duration": 119,
    "start_time": "2024-07-18T10:40:02.526Z"
   },
   {
    "duration": 0,
    "start_time": "2024-07-18T10:40:02.647Z"
   },
   {
    "duration": 0,
    "start_time": "2024-07-18T10:40:02.648Z"
   },
   {
    "duration": 0,
    "start_time": "2024-07-18T10:40:02.650Z"
   },
   {
    "duration": 0,
    "start_time": "2024-07-18T10:40:02.651Z"
   },
   {
    "duration": 0,
    "start_time": "2024-07-18T10:40:02.652Z"
   },
   {
    "duration": 1294,
    "start_time": "2024-07-18T10:41:36.831Z"
   },
   {
    "duration": 1242,
    "start_time": "2024-07-18T10:41:51.491Z"
   },
   {
    "duration": 79,
    "start_time": "2024-07-18T10:41:52.735Z"
   },
   {
    "duration": 35,
    "start_time": "2024-07-18T10:41:52.816Z"
   },
   {
    "duration": 28,
    "start_time": "2024-07-18T10:41:52.852Z"
   },
   {
    "duration": 37,
    "start_time": "2024-07-18T10:41:52.883Z"
   },
   {
    "duration": 23,
    "start_time": "2024-07-18T10:41:52.922Z"
   },
   {
    "duration": 17,
    "start_time": "2024-07-18T10:41:52.947Z"
   },
   {
    "duration": 12,
    "start_time": "2024-07-18T10:41:52.966Z"
   },
   {
    "duration": 7,
    "start_time": "2024-07-18T10:41:52.980Z"
   },
   {
    "duration": 281,
    "start_time": "2024-07-18T10:41:52.988Z"
   },
   {
    "duration": 241,
    "start_time": "2024-07-18T10:41:53.271Z"
   },
   {
    "duration": 439,
    "start_time": "2024-07-18T10:41:53.514Z"
   },
   {
    "duration": 1761,
    "start_time": "2024-07-18T10:41:53.954Z"
   },
   {
    "duration": 414,
    "start_time": "2024-07-18T10:41:55.718Z"
   },
   {
    "duration": 24,
    "start_time": "2024-07-18T10:41:56.133Z"
   },
   {
    "duration": 27,
    "start_time": "2024-07-18T10:41:56.159Z"
   },
   {
    "duration": 938,
    "start_time": "2024-07-18T10:41:56.187Z"
   },
   {
    "duration": 823,
    "start_time": "2024-07-18T10:41:57.126Z"
   },
   {
    "duration": 4,
    "start_time": "2024-07-18T10:41:57.951Z"
   },
   {
    "duration": 19,
    "start_time": "2024-07-18T10:41:57.956Z"
   },
   {
    "duration": 57,
    "start_time": "2024-07-18T10:41:57.977Z"
   },
   {
    "duration": 16,
    "start_time": "2024-07-18T10:41:58.036Z"
   },
   {
    "duration": 814,
    "start_time": "2024-07-18T10:41:58.054Z"
   },
   {
    "duration": 0,
    "start_time": "2024-07-18T10:42:00.099Z"
   },
   {
    "duration": 0,
    "start_time": "2024-07-18T10:42:00.100Z"
   },
   {
    "duration": 0,
    "start_time": "2024-07-18T10:42:00.101Z"
   },
   {
    "duration": 0,
    "start_time": "2024-07-18T10:42:00.103Z"
   },
   {
    "duration": 0,
    "start_time": "2024-07-18T10:42:00.104Z"
   },
   {
    "duration": 0,
    "start_time": "2024-07-18T10:42:00.105Z"
   },
   {
    "duration": 1029,
    "start_time": "2024-07-18T10:42:03.077Z"
   },
   {
    "duration": 19,
    "start_time": "2024-07-18T10:42:39.730Z"
   },
   {
    "duration": 19,
    "start_time": "2024-07-18T10:43:33.192Z"
   },
   {
    "duration": 17,
    "start_time": "2024-07-18T10:45:21.189Z"
   },
   {
    "duration": 14,
    "start_time": "2024-07-18T10:46:08.619Z"
   },
   {
    "duration": 10,
    "start_time": "2024-07-18T10:46:29.634Z"
   },
   {
    "duration": 11,
    "start_time": "2024-07-18T10:48:37.567Z"
   },
   {
    "duration": 11,
    "start_time": "2024-07-18T10:49:14.623Z"
   },
   {
    "duration": 3396,
    "start_time": "2024-07-18T10:49:27.744Z"
   },
   {
    "duration": 68,
    "start_time": "2024-07-19T02:33:48.732Z"
   },
   {
    "duration": 1607,
    "start_time": "2024-07-19T02:33:55.459Z"
   },
   {
    "duration": 276,
    "start_time": "2024-07-19T02:33:57.068Z"
   },
   {
    "duration": 33,
    "start_time": "2024-07-19T02:33:57.349Z"
   },
   {
    "duration": 32,
    "start_time": "2024-07-19T02:33:57.384Z"
   },
   {
    "duration": 48,
    "start_time": "2024-07-19T02:33:57.418Z"
   },
   {
    "duration": 17,
    "start_time": "2024-07-19T02:33:57.467Z"
   },
   {
    "duration": 9,
    "start_time": "2024-07-19T02:33:57.485Z"
   },
   {
    "duration": 37,
    "start_time": "2024-07-19T02:33:57.496Z"
   },
   {
    "duration": 16,
    "start_time": "2024-07-19T02:33:57.536Z"
   },
   {
    "duration": 340,
    "start_time": "2024-07-19T02:33:57.555Z"
   },
   {
    "duration": 283,
    "start_time": "2024-07-19T02:33:57.897Z"
   },
   {
    "duration": 452,
    "start_time": "2024-07-19T02:33:58.182Z"
   },
   {
    "duration": 2104,
    "start_time": "2024-07-19T02:33:58.636Z"
   },
   {
    "duration": 484,
    "start_time": "2024-07-19T02:34:00.746Z"
   },
   {
    "duration": 31,
    "start_time": "2024-07-19T02:34:01.232Z"
   },
   {
    "duration": 471,
    "start_time": "2024-07-19T02:34:01.265Z"
   },
   {
    "duration": 1032,
    "start_time": "2024-07-19T02:34:01.738Z"
   },
   {
    "duration": 923,
    "start_time": "2024-07-19T02:34:02.773Z"
   },
   {
    "duration": 5,
    "start_time": "2024-07-19T02:34:03.698Z"
   },
   {
    "duration": 55,
    "start_time": "2024-07-19T02:34:03.704Z"
   },
   {
    "duration": 48,
    "start_time": "2024-07-19T02:34:03.763Z"
   },
   {
    "duration": 16,
    "start_time": "2024-07-19T02:34:03.813Z"
   },
   {
    "duration": 1009,
    "start_time": "2024-07-19T02:34:03.831Z"
   },
   {
    "duration": 29,
    "start_time": "2024-07-19T02:34:04.842Z"
   },
   {
    "duration": 51,
    "start_time": "2024-07-19T02:34:04.873Z"
   },
   {
    "duration": 16,
    "start_time": "2024-07-19T02:34:04.926Z"
   },
   {
    "duration": 22,
    "start_time": "2024-07-19T02:34:04.945Z"
   },
   {
    "duration": 12,
    "start_time": "2024-07-19T02:34:04.969Z"
   },
   {
    "duration": 13,
    "start_time": "2024-07-19T02:34:04.983Z"
   },
   {
    "duration": 16,
    "start_time": "2024-07-19T02:34:04.998Z"
   },
   {
    "duration": 161,
    "start_time": "2024-07-19T02:34:05.016Z"
   },
   {
    "duration": 0,
    "start_time": "2024-07-19T02:34:05.179Z"
   },
   {
    "duration": 170,
    "start_time": "2024-07-19T02:34:11.628Z"
   },
   {
    "duration": 3571,
    "start_time": "2024-07-19T02:34:15.896Z"
   },
   {
    "duration": 284,
    "start_time": "2024-07-19T02:35:49.733Z"
   },
   {
    "duration": 10,
    "start_time": "2024-07-19T02:39:09.980Z"
   },
   {
    "duration": 19,
    "start_time": "2024-07-19T02:39:18.510Z"
   },
   {
    "duration": 1888,
    "start_time": "2024-07-19T02:39:26.376Z"
   },
   {
    "duration": 327,
    "start_time": "2024-07-19T02:49:00.608Z"
   },
   {
    "duration": 1898,
    "start_time": "2024-07-19T02:57:11.642Z"
   },
   {
    "duration": 486,
    "start_time": "2024-07-19T02:57:30.544Z"
   },
   {
    "duration": 1832,
    "start_time": "2024-07-19T02:57:44.075Z"
   },
   {
    "duration": 510,
    "start_time": "2024-07-19T02:58:07.364Z"
   },
   {
    "duration": 12,
    "start_time": "2024-07-19T03:09:45.029Z"
   },
   {
    "duration": 6,
    "start_time": "2024-07-19T03:10:12.182Z"
   },
   {
    "duration": 13,
    "start_time": "2024-07-19T03:13:14.208Z"
   },
   {
    "duration": 203,
    "start_time": "2024-07-19T03:13:19.964Z"
   },
   {
    "duration": 360,
    "start_time": "2024-07-19T03:13:34.256Z"
   },
   {
    "duration": 350,
    "start_time": "2024-07-19T03:14:29.468Z"
   },
   {
    "duration": 696,
    "start_time": "2024-07-19T03:21:08.301Z"
   },
   {
    "duration": 138,
    "start_time": "2024-07-19T03:21:53.806Z"
   },
   {
    "duration": 146,
    "start_time": "2024-07-19T03:22:24.057Z"
   },
   {
    "duration": 237,
    "start_time": "2024-07-19T03:25:33.188Z"
   },
   {
    "duration": 272,
    "start_time": "2024-07-19T03:25:59.094Z"
   },
   {
    "duration": 249,
    "start_time": "2024-07-19T03:26:38.193Z"
   },
   {
    "duration": 433,
    "start_time": "2024-07-19T03:27:19.098Z"
   },
   {
    "duration": 505,
    "start_time": "2024-07-19T03:28:07.310Z"
   },
   {
    "duration": 447,
    "start_time": "2024-07-19T03:28:16.127Z"
   },
   {
    "duration": 98,
    "start_time": "2024-07-19T03:30:34.260Z"
   },
   {
    "duration": 325,
    "start_time": "2024-07-19T03:35:47.775Z"
   },
   {
    "duration": 295,
    "start_time": "2024-07-19T03:36:11.732Z"
   },
   {
    "duration": 387,
    "start_time": "2024-07-19T03:36:25.482Z"
   },
   {
    "duration": 1846,
    "start_time": "2024-07-19T03:36:34.787Z"
   },
   {
    "duration": 403,
    "start_time": "2024-07-19T03:36:45.054Z"
   },
   {
    "duration": 931,
    "start_time": "2024-07-19T03:36:55.376Z"
   },
   {
    "duration": 610,
    "start_time": "2024-07-19T03:37:03.778Z"
   },
   {
    "duration": 803,
    "start_time": "2024-07-19T03:37:21.260Z"
   },
   {
    "duration": 968,
    "start_time": "2024-07-19T03:37:33.558Z"
   },
   {
    "duration": 896,
    "start_time": "2024-07-19T03:37:39.113Z"
   },
   {
    "duration": 486,
    "start_time": "2024-07-19T03:37:51.995Z"
   },
   {
    "duration": 1203,
    "start_time": "2024-07-19T04:04:42.189Z"
   },
   {
    "duration": 71,
    "start_time": "2024-07-19T04:04:43.394Z"
   },
   {
    "duration": 21,
    "start_time": "2024-07-19T04:04:43.467Z"
   },
   {
    "duration": 23,
    "start_time": "2024-07-19T04:04:43.489Z"
   },
   {
    "duration": 14,
    "start_time": "2024-07-19T04:04:43.514Z"
   },
   {
    "duration": 26,
    "start_time": "2024-07-19T04:04:43.529Z"
   },
   {
    "duration": 11,
    "start_time": "2024-07-19T04:04:43.556Z"
   },
   {
    "duration": 14,
    "start_time": "2024-07-19T04:04:43.569Z"
   },
   {
    "duration": 26,
    "start_time": "2024-07-19T04:04:43.584Z"
   },
   {
    "duration": 347,
    "start_time": "2024-07-19T04:04:43.612Z"
   },
   {
    "duration": 225,
    "start_time": "2024-07-19T04:04:43.961Z"
   },
   {
    "duration": 388,
    "start_time": "2024-07-19T04:04:44.188Z"
   },
   {
    "duration": 1840,
    "start_time": "2024-07-19T04:04:44.578Z"
   },
   {
    "duration": 379,
    "start_time": "2024-07-19T04:04:46.421Z"
   },
   {
    "duration": 30,
    "start_time": "2024-07-19T04:04:46.802Z"
   },
   {
    "duration": 39,
    "start_time": "2024-07-19T04:04:46.845Z"
   },
   {
    "duration": 1141,
    "start_time": "2024-07-19T04:04:46.885Z"
   },
   {
    "duration": 954,
    "start_time": "2024-07-19T04:04:48.028Z"
   },
   {
    "duration": 4,
    "start_time": "2024-07-19T04:04:48.984Z"
   },
   {
    "duration": 31,
    "start_time": "2024-07-19T04:04:48.990Z"
   },
   {
    "duration": 59,
    "start_time": "2024-07-19T04:04:49.022Z"
   },
   {
    "duration": 17,
    "start_time": "2024-07-19T04:04:49.082Z"
   },
   {
    "duration": 964,
    "start_time": "2024-07-19T04:04:49.100Z"
   },
   {
    "duration": 25,
    "start_time": "2024-07-19T04:04:50.066Z"
   },
   {
    "duration": 12,
    "start_time": "2024-07-19T04:04:50.092Z"
   },
   {
    "duration": 53,
    "start_time": "2024-07-19T04:04:50.105Z"
   },
   {
    "duration": 9,
    "start_time": "2024-07-19T04:04:50.159Z"
   },
   {
    "duration": 47,
    "start_time": "2024-07-19T04:04:50.169Z"
   },
   {
    "duration": 10,
    "start_time": "2024-07-19T04:04:50.218Z"
   },
   {
    "duration": 42,
    "start_time": "2024-07-19T04:04:50.229Z"
   },
   {
    "duration": 292,
    "start_time": "2024-07-19T04:04:50.273Z"
   },
   {
    "duration": 0,
    "start_time": "2024-07-19T04:04:50.566Z"
   },
   {
    "duration": 0,
    "start_time": "2024-07-19T04:04:50.568Z"
   },
   {
    "duration": 1196,
    "start_time": "2024-07-19T04:34:34.291Z"
   },
   {
    "duration": 76,
    "start_time": "2024-07-19T04:34:35.497Z"
   },
   {
    "duration": 25,
    "start_time": "2024-07-19T04:34:35.575Z"
   },
   {
    "duration": 25,
    "start_time": "2024-07-19T04:34:35.602Z"
   },
   {
    "duration": 35,
    "start_time": "2024-07-19T04:34:35.630Z"
   },
   {
    "duration": 13,
    "start_time": "2024-07-19T04:34:35.666Z"
   },
   {
    "duration": 11,
    "start_time": "2024-07-19T04:34:35.680Z"
   },
   {
    "duration": 13,
    "start_time": "2024-07-19T04:34:35.693Z"
   },
   {
    "duration": 7,
    "start_time": "2024-07-19T04:34:35.708Z"
   },
   {
    "duration": 325,
    "start_time": "2024-07-19T04:34:35.716Z"
   },
   {
    "duration": 241,
    "start_time": "2024-07-19T04:34:36.042Z"
   },
   {
    "duration": 408,
    "start_time": "2024-07-19T04:34:36.285Z"
   },
   {
    "duration": 1896,
    "start_time": "2024-07-19T04:34:36.695Z"
   },
   {
    "duration": 399,
    "start_time": "2024-07-19T04:34:38.594Z"
   },
   {
    "duration": 23,
    "start_time": "2024-07-19T04:34:38.995Z"
   },
   {
    "duration": 55,
    "start_time": "2024-07-19T04:34:39.020Z"
   },
   {
    "duration": 1096,
    "start_time": "2024-07-19T04:34:39.077Z"
   },
   {
    "duration": 919,
    "start_time": "2024-07-19T04:34:40.175Z"
   },
   {
    "duration": 4,
    "start_time": "2024-07-19T04:34:41.096Z"
   },
   {
    "duration": 19,
    "start_time": "2024-07-19T04:34:41.102Z"
   },
   {
    "duration": 60,
    "start_time": "2024-07-19T04:34:41.122Z"
   },
   {
    "duration": 17,
    "start_time": "2024-07-19T04:34:41.183Z"
   },
   {
    "duration": 843,
    "start_time": "2024-07-19T04:34:41.201Z"
   },
   {
    "duration": 26,
    "start_time": "2024-07-19T04:34:42.048Z"
   },
   {
    "duration": 11,
    "start_time": "2024-07-19T04:34:42.077Z"
   },
   {
    "duration": 15,
    "start_time": "2024-07-19T04:34:42.090Z"
   },
   {
    "duration": 8,
    "start_time": "2024-07-19T04:34:42.107Z"
   },
   {
    "duration": 18,
    "start_time": "2024-07-19T04:34:42.146Z"
   },
   {
    "duration": 9,
    "start_time": "2024-07-19T04:34:42.166Z"
   },
   {
    "duration": 30,
    "start_time": "2024-07-19T04:34:42.176Z"
   },
   {
    "duration": 259,
    "start_time": "2024-07-19T04:34:42.210Z"
   },
   {
    "duration": 0,
    "start_time": "2024-07-19T04:34:42.471Z"
   },
   {
    "duration": 0,
    "start_time": "2024-07-19T04:34:42.472Z"
   },
   {
    "duration": 1,
    "start_time": "2024-07-19T04:34:42.473Z"
   },
   {
    "duration": 0,
    "start_time": "2024-07-19T04:34:42.475Z"
   },
   {
    "duration": 0,
    "start_time": "2024-07-19T04:34:42.476Z"
   },
   {
    "duration": 0,
    "start_time": "2024-07-19T04:34:42.477Z"
   },
   {
    "duration": 24,
    "start_time": "2024-07-19T04:34:42.636Z"
   },
   {
    "duration": 11,
    "start_time": "2024-07-19T04:34:43.081Z"
   },
   {
    "duration": 9,
    "start_time": "2024-07-19T04:34:43.679Z"
   },
   {
    "duration": 15,
    "start_time": "2024-07-19T04:34:43.983Z"
   },
   {
    "duration": 10,
    "start_time": "2024-07-19T04:34:44.449Z"
   },
   {
    "duration": 310,
    "start_time": "2024-07-19T04:34:45.470Z"
   },
   {
    "duration": 274,
    "start_time": "2024-07-19T04:34:46.206Z"
   },
   {
    "duration": 383,
    "start_time": "2024-07-19T04:34:47.009Z"
   },
   {
    "duration": 1892,
    "start_time": "2024-07-19T04:34:47.874Z"
   },
   {
    "duration": 396,
    "start_time": "2024-07-19T04:34:49.769Z"
   },
   {
    "duration": 25,
    "start_time": "2024-07-19T04:34:50.167Z"
   },
   {
    "duration": 30,
    "start_time": "2024-07-19T04:34:50.194Z"
   },
   {
    "duration": 998,
    "start_time": "2024-07-19T04:34:50.525Z"
   },
   {
    "duration": 857,
    "start_time": "2024-07-19T04:34:51.525Z"
   },
   {
    "duration": 4,
    "start_time": "2024-07-19T04:34:52.384Z"
   },
   {
    "duration": 23,
    "start_time": "2024-07-19T04:34:52.389Z"
   },
   {
    "duration": 41,
    "start_time": "2024-07-19T04:34:52.476Z"
   },
   {
    "duration": 40,
    "start_time": "2024-07-19T04:34:53.120Z"
   },
   {
    "duration": 701,
    "start_time": "2024-07-19T04:34:53.259Z"
   },
   {
    "duration": 19,
    "start_time": "2024-07-19T04:34:53.962Z"
   },
   {
    "duration": 12,
    "start_time": "2024-07-19T04:34:54.807Z"
   },
   {
    "duration": 15,
    "start_time": "2024-07-19T04:34:55.217Z"
   },
   {
    "duration": 9,
    "start_time": "2024-07-19T04:34:56.040Z"
   },
   {
    "duration": 12,
    "start_time": "2024-07-19T04:34:56.300Z"
   },
   {
    "duration": 10,
    "start_time": "2024-07-19T04:34:57.309Z"
   },
   {
    "duration": 15,
    "start_time": "2024-07-19T04:34:57.716Z"
   },
   {
    "duration": 1270,
    "start_time": "2024-07-19T13:18:11.091Z"
   },
   {
    "duration": 292,
    "start_time": "2024-07-19T13:18:12.365Z"
   },
   {
    "duration": 28,
    "start_time": "2024-07-19T13:18:12.659Z"
   },
   {
    "duration": 65,
    "start_time": "2024-07-19T13:18:12.689Z"
   },
   {
    "duration": 14,
    "start_time": "2024-07-19T13:18:12.762Z"
   },
   {
    "duration": 16,
    "start_time": "2024-07-19T13:18:12.778Z"
   },
   {
    "duration": 29,
    "start_time": "2024-07-19T13:18:12.796Z"
   },
   {
    "duration": 37,
    "start_time": "2024-07-19T13:18:12.826Z"
   },
   {
    "duration": 14,
    "start_time": "2024-07-19T13:18:12.865Z"
   },
   {
    "duration": 373,
    "start_time": "2024-07-19T13:18:12.880Z"
   },
   {
    "duration": 240,
    "start_time": "2024-07-19T13:18:13.259Z"
   },
   {
    "duration": 380,
    "start_time": "2024-07-19T13:18:13.500Z"
   },
   {
    "duration": 1947,
    "start_time": "2024-07-19T13:18:13.882Z"
   },
   {
    "duration": 438,
    "start_time": "2024-07-19T13:18:15.834Z"
   },
   {
    "duration": 30,
    "start_time": "2024-07-19T13:18:16.274Z"
   },
   {
    "duration": 49,
    "start_time": "2024-07-19T13:18:16.306Z"
   },
   {
    "duration": 1103,
    "start_time": "2024-07-19T13:18:16.358Z"
   },
   {
    "duration": 898,
    "start_time": "2024-07-19T13:18:17.463Z"
   },
   {
    "duration": 4,
    "start_time": "2024-07-19T13:18:18.364Z"
   },
   {
    "duration": 20,
    "start_time": "2024-07-19T13:18:18.370Z"
   },
   {
    "duration": 69,
    "start_time": "2024-07-19T13:18:18.392Z"
   },
   {
    "duration": 17,
    "start_time": "2024-07-19T13:18:18.463Z"
   },
   {
    "duration": 901,
    "start_time": "2024-07-19T13:18:18.482Z"
   },
   {
    "duration": 20,
    "start_time": "2024-07-19T13:18:19.385Z"
   },
   {
    "duration": 30,
    "start_time": "2024-07-19T13:18:19.406Z"
   },
   {
    "duration": 54,
    "start_time": "2024-07-19T13:18:19.438Z"
   },
   {
    "duration": 31,
    "start_time": "2024-07-19T13:18:19.494Z"
   },
   {
    "duration": 47,
    "start_time": "2024-07-19T13:18:19.527Z"
   },
   {
    "duration": 19,
    "start_time": "2024-07-19T13:18:19.576Z"
   },
   {
    "duration": 46,
    "start_time": "2024-07-19T13:18:19.597Z"
   },
   {
    "duration": 252,
    "start_time": "2024-07-19T13:18:19.644Z"
   },
   {
    "duration": 0,
    "start_time": "2024-07-19T13:18:19.898Z"
   },
   {
    "duration": 0,
    "start_time": "2024-07-19T13:18:19.899Z"
   },
   {
    "duration": 10,
    "start_time": "2024-07-19T13:24:56.457Z"
   },
   {
    "duration": 65,
    "start_time": "2024-07-19T13:29:51.660Z"
   },
   {
    "duration": 6,
    "start_time": "2024-07-19T13:32:26.872Z"
   },
   {
    "duration": 483,
    "start_time": "2024-07-19T13:32:29.133Z"
   },
   {
    "duration": 77,
    "start_time": "2024-07-19T13:34:01.487Z"
   },
   {
    "duration": 12,
    "start_time": "2024-07-19T15:57:00.918Z"
   },
   {
    "duration": 75,
    "start_time": "2024-07-21T07:09:39.597Z"
   },
   {
    "duration": 2,
    "start_time": "2024-07-21T07:12:06.848Z"
   },
   {
    "duration": 63,
    "start_time": "2024-07-21T08:01:56.779Z"
   },
   {
    "duration": 52,
    "start_time": "2024-07-22T02:53:42.422Z"
   },
   {
    "duration": 1408,
    "start_time": "2024-07-22T02:53:50.605Z"
   },
   {
    "duration": 287,
    "start_time": "2024-07-22T02:53:52.015Z"
   },
   {
    "duration": 23,
    "start_time": "2024-07-22T02:53:52.304Z"
   },
   {
    "duration": 27,
    "start_time": "2024-07-22T02:53:52.328Z"
   },
   {
    "duration": 14,
    "start_time": "2024-07-22T02:53:52.357Z"
   },
   {
    "duration": 127,
    "start_time": "2024-07-22T02:53:52.373Z"
   },
   {
    "duration": 0,
    "start_time": "2024-07-22T02:53:52.503Z"
   },
   {
    "duration": 0,
    "start_time": "2024-07-22T02:53:52.504Z"
   },
   {
    "duration": 0,
    "start_time": "2024-07-22T02:53:52.506Z"
   },
   {
    "duration": 0,
    "start_time": "2024-07-22T02:53:52.507Z"
   },
   {
    "duration": 0,
    "start_time": "2024-07-22T02:53:52.508Z"
   },
   {
    "duration": 0,
    "start_time": "2024-07-22T02:53:52.510Z"
   },
   {
    "duration": 0,
    "start_time": "2024-07-22T02:53:52.511Z"
   },
   {
    "duration": 0,
    "start_time": "2024-07-22T02:53:52.513Z"
   },
   {
    "duration": 0,
    "start_time": "2024-07-22T02:53:52.515Z"
   },
   {
    "duration": 0,
    "start_time": "2024-07-22T02:53:52.516Z"
   },
   {
    "duration": 0,
    "start_time": "2024-07-22T02:53:52.517Z"
   },
   {
    "duration": 0,
    "start_time": "2024-07-22T02:53:52.519Z"
   },
   {
    "duration": 0,
    "start_time": "2024-07-22T02:53:52.520Z"
   },
   {
    "duration": 0,
    "start_time": "2024-07-22T02:53:52.546Z"
   },
   {
    "duration": 0,
    "start_time": "2024-07-22T02:53:52.547Z"
   },
   {
    "duration": 0,
    "start_time": "2024-07-22T02:53:52.548Z"
   },
   {
    "duration": 0,
    "start_time": "2024-07-22T02:53:52.549Z"
   },
   {
    "duration": 0,
    "start_time": "2024-07-22T02:53:52.550Z"
   },
   {
    "duration": 0,
    "start_time": "2024-07-22T02:53:52.551Z"
   },
   {
    "duration": 0,
    "start_time": "2024-07-22T02:53:52.553Z"
   },
   {
    "duration": 0,
    "start_time": "2024-07-22T02:53:52.554Z"
   },
   {
    "duration": 0,
    "start_time": "2024-07-22T02:53:52.555Z"
   },
   {
    "duration": 0,
    "start_time": "2024-07-22T02:53:52.556Z"
   },
   {
    "duration": 0,
    "start_time": "2024-07-22T02:53:52.557Z"
   },
   {
    "duration": 0,
    "start_time": "2024-07-22T02:53:52.558Z"
   },
   {
    "duration": 0,
    "start_time": "2024-07-22T02:53:52.559Z"
   },
   {
    "duration": 0,
    "start_time": "2024-07-22T02:53:52.561Z"
   },
   {
    "duration": 0,
    "start_time": "2024-07-22T02:53:52.562Z"
   },
   {
    "duration": 0,
    "start_time": "2024-07-22T02:53:52.563Z"
   },
   {
    "duration": 23,
    "start_time": "2024-07-22T02:54:13.920Z"
   },
   {
    "duration": 19,
    "start_time": "2024-07-22T02:55:01.072Z"
   },
   {
    "duration": 93,
    "start_time": "2024-07-22T02:56:41.012Z"
   },
   {
    "duration": 14,
    "start_time": "2024-07-22T02:56:51.491Z"
   },
   {
    "duration": 11,
    "start_time": "2024-07-22T02:57:08.266Z"
   },
   {
    "duration": 10,
    "start_time": "2024-07-22T02:57:49.926Z"
   },
   {
    "duration": 13,
    "start_time": "2024-07-22T03:01:35.643Z"
   },
   {
    "duration": 16,
    "start_time": "2024-07-22T03:04:17.111Z"
   },
   {
    "duration": 9,
    "start_time": "2024-07-22T03:05:50.431Z"
   },
   {
    "duration": 14,
    "start_time": "2024-07-22T03:06:06.552Z"
   },
   {
    "duration": 9,
    "start_time": "2024-07-22T03:06:52.298Z"
   },
   {
    "duration": 9,
    "start_time": "2024-07-22T03:07:21.396Z"
   },
   {
    "duration": 16,
    "start_time": "2024-07-22T03:07:34.231Z"
   },
   {
    "duration": 14,
    "start_time": "2024-07-22T03:08:04.642Z"
   },
   {
    "duration": 13,
    "start_time": "2024-07-22T03:09:09.827Z"
   },
   {
    "duration": 14,
    "start_time": "2024-07-22T03:10:54.772Z"
   },
   {
    "duration": 10,
    "start_time": "2024-07-22T03:15:18.726Z"
   },
   {
    "duration": 68,
    "start_time": "2024-07-22T03:17:33.106Z"
   },
   {
    "duration": 1875,
    "start_time": "2024-07-22T03:18:07.545Z"
   },
   {
    "duration": 355,
    "start_time": "2024-07-22T03:18:58.034Z"
   },
   {
    "duration": 17,
    "start_time": "2024-07-22T03:31:00.853Z"
   },
   {
    "duration": 1279,
    "start_time": "2024-07-22T03:31:08.367Z"
   },
   {
    "duration": 70,
    "start_time": "2024-07-22T03:31:09.648Z"
   },
   {
    "duration": 23,
    "start_time": "2024-07-22T03:31:09.719Z"
   },
   {
    "duration": 24,
    "start_time": "2024-07-22T03:31:09.744Z"
   },
   {
    "duration": 13,
    "start_time": "2024-07-22T03:31:09.770Z"
   },
   {
    "duration": 15,
    "start_time": "2024-07-22T03:31:09.784Z"
   },
   {
    "duration": 11,
    "start_time": "2024-07-22T03:31:09.801Z"
   },
   {
    "duration": 40,
    "start_time": "2024-07-22T03:31:09.814Z"
   },
   {
    "duration": 11,
    "start_time": "2024-07-22T03:31:09.856Z"
   },
   {
    "duration": 13,
    "start_time": "2024-07-22T03:31:09.870Z"
   },
   {
    "duration": 8,
    "start_time": "2024-07-22T03:31:09.884Z"
   },
   {
    "duration": 7,
    "start_time": "2024-07-22T03:31:09.894Z"
   },
   {
    "duration": 336,
    "start_time": "2024-07-22T03:31:09.902Z"
   },
   {
    "duration": 228,
    "start_time": "2024-07-22T03:31:10.246Z"
   },
   {
    "duration": 386,
    "start_time": "2024-07-22T03:31:10.477Z"
   },
   {
    "duration": 1774,
    "start_time": "2024-07-22T03:31:10.865Z"
   },
   {
    "duration": 385,
    "start_time": "2024-07-22T03:31:12.641Z"
   },
   {
    "duration": 33,
    "start_time": "2024-07-22T03:31:13.028Z"
   },
   {
    "duration": 964,
    "start_time": "2024-07-22T03:31:13.090Z"
   },
   {
    "duration": 836,
    "start_time": "2024-07-22T03:31:14.056Z"
   },
   {
    "duration": 5,
    "start_time": "2024-07-22T03:31:14.893Z"
   },
   {
    "duration": 58,
    "start_time": "2024-07-22T03:31:14.899Z"
   },
   {
    "duration": 43,
    "start_time": "2024-07-22T03:31:14.959Z"
   },
   {
    "duration": 18,
    "start_time": "2024-07-22T03:31:15.004Z"
   },
   {
    "duration": 48,
    "start_time": "2024-07-22T03:31:15.024Z"
   },
   {
    "duration": 792,
    "start_time": "2024-07-22T03:31:15.073Z"
   },
   {
    "duration": 20,
    "start_time": "2024-07-22T03:31:15.868Z"
   },
   {
    "duration": 12,
    "start_time": "2024-07-22T03:31:15.890Z"
   },
   {
    "duration": 43,
    "start_time": "2024-07-22T03:31:15.904Z"
   },
   {
    "duration": 8,
    "start_time": "2024-07-22T03:31:15.949Z"
   },
   {
    "duration": 23,
    "start_time": "2024-07-22T03:31:15.959Z"
   },
   {
    "duration": 10,
    "start_time": "2024-07-22T03:31:15.984Z"
   },
   {
    "duration": 15,
    "start_time": "2024-07-22T03:31:15.996Z"
   },
   {
    "duration": 305,
    "start_time": "2024-07-22T03:31:16.012Z"
   },
   {
    "duration": 0,
    "start_time": "2024-07-22T03:31:16.319Z"
   },
   {
    "duration": 0,
    "start_time": "2024-07-22T03:31:16.320Z"
   },
   {
    "duration": 0,
    "start_time": "2024-07-22T03:31:16.322Z"
   },
   {
    "duration": 41,
    "start_time": "2024-07-22T03:33:45.976Z"
   },
   {
    "duration": 28,
    "start_time": "2024-07-22T03:35:45.536Z"
   },
   {
    "duration": 39,
    "start_time": "2024-07-22T03:36:00.775Z"
   },
   {
    "duration": 36,
    "start_time": "2024-07-22T03:38:06.006Z"
   },
   {
    "duration": 48,
    "start_time": "2024-07-22T03:38:53.915Z"
   },
   {
    "duration": 8,
    "start_time": "2024-07-22T03:39:29.563Z"
   },
   {
    "duration": 73,
    "start_time": "2024-07-22T03:41:56.957Z"
   },
   {
    "duration": 64,
    "start_time": "2024-07-22T03:42:28.255Z"
   },
   {
    "duration": 57,
    "start_time": "2024-07-22T03:43:04.413Z"
   },
   {
    "duration": 96,
    "start_time": "2024-07-22T03:45:37.006Z"
   },
   {
    "duration": 11,
    "start_time": "2024-07-22T03:49:47.143Z"
   },
   {
    "duration": 9,
    "start_time": "2024-07-22T03:52:06.616Z"
   },
   {
    "duration": 134,
    "start_time": "2024-07-22T04:09:57.122Z"
   },
   {
    "duration": 2333,
    "start_time": "2024-07-22T04:11:10.458Z"
   },
   {
    "duration": 2387,
    "start_time": "2024-07-22T04:11:31.198Z"
   },
   {
    "duration": 2405,
    "start_time": "2024-07-22T04:11:49.920Z"
   },
   {
    "duration": 13,
    "start_time": "2024-07-22T04:12:24.901Z"
   },
   {
    "duration": 1221,
    "start_time": "2024-07-22T04:12:37.250Z"
   },
   {
    "duration": 84,
    "start_time": "2024-07-22T04:12:38.473Z"
   },
   {
    "duration": 31,
    "start_time": "2024-07-22T04:12:38.559Z"
   },
   {
    "duration": 64,
    "start_time": "2024-07-22T04:12:38.593Z"
   },
   {
    "duration": 22,
    "start_time": "2024-07-22T04:12:38.660Z"
   },
   {
    "duration": 24,
    "start_time": "2024-07-22T04:12:38.684Z"
   },
   {
    "duration": 15,
    "start_time": "2024-07-22T04:12:38.710Z"
   },
   {
    "duration": 23,
    "start_time": "2024-07-22T04:12:38.727Z"
   },
   {
    "duration": 10,
    "start_time": "2024-07-22T04:12:38.752Z"
   },
   {
    "duration": 20,
    "start_time": "2024-07-22T04:12:38.765Z"
   },
   {
    "duration": 8,
    "start_time": "2024-07-22T04:12:38.787Z"
   },
   {
    "duration": 16,
    "start_time": "2024-07-22T04:12:38.797Z"
   },
   {
    "duration": 402,
    "start_time": "2024-07-22T04:12:38.814Z"
   },
   {
    "duration": 276,
    "start_time": "2024-07-22T04:12:39.218Z"
   },
   {
    "duration": 384,
    "start_time": "2024-07-22T04:12:39.496Z"
   },
   {
    "duration": 1836,
    "start_time": "2024-07-22T04:12:39.882Z"
   },
   {
    "duration": 348,
    "start_time": "2024-07-22T04:12:41.720Z"
   },
   {
    "duration": 58,
    "start_time": "2024-07-22T04:12:42.070Z"
   },
   {
    "duration": 75,
    "start_time": "2024-07-22T04:12:42.146Z"
   },
   {
    "duration": 955,
    "start_time": "2024-07-22T04:12:42.222Z"
   },
   {
    "duration": 864,
    "start_time": "2024-07-22T04:12:43.179Z"
   },
   {
    "duration": 4,
    "start_time": "2024-07-22T04:12:44.045Z"
   },
   {
    "duration": 35,
    "start_time": "2024-07-22T04:12:44.051Z"
   },
   {
    "duration": 66,
    "start_time": "2024-07-22T04:12:44.088Z"
   },
   {
    "duration": 25,
    "start_time": "2024-07-22T04:12:44.156Z"
   },
   {
    "duration": 8,
    "start_time": "2024-07-22T04:12:44.183Z"
   },
   {
    "duration": 853,
    "start_time": "2024-07-22T04:12:44.193Z"
   },
   {
    "duration": 19,
    "start_time": "2024-07-22T04:12:45.050Z"
   },
   {
    "duration": 52,
    "start_time": "2024-07-22T04:12:45.071Z"
   },
   {
    "duration": 17,
    "start_time": "2024-07-22T04:12:45.125Z"
   },
   {
    "duration": 8,
    "start_time": "2024-07-22T04:12:45.144Z"
   },
   {
    "duration": 27,
    "start_time": "2024-07-22T04:12:45.154Z"
   },
   {
    "duration": 24,
    "start_time": "2024-07-22T04:12:45.183Z"
   },
   {
    "duration": 43,
    "start_time": "2024-07-22T04:12:45.209Z"
   },
   {
    "duration": 147,
    "start_time": "2024-07-22T04:12:45.254Z"
   },
   {
    "duration": 2253,
    "start_time": "2024-07-22T04:12:45.402Z"
   },
   {
    "duration": 7,
    "start_time": "2024-07-22T04:12:47.657Z"
   },
   {
    "duration": 627,
    "start_time": "2024-07-22T04:12:48.588Z"
   },
   {
    "duration": 424,
    "start_time": "2024-07-22T04:12:50.187Z"
   },
   {
    "duration": 130,
    "start_time": "2024-07-22T04:13:56.930Z"
   },
   {
    "duration": 2210,
    "start_time": "2024-07-22T04:14:01.409Z"
   },
   {
    "duration": 2528,
    "start_time": "2024-07-22T04:14:27.401Z"
   },
   {
    "duration": 2315,
    "start_time": "2024-07-22T04:14:39.939Z"
   },
   {
    "duration": 2425,
    "start_time": "2024-07-22T04:15:29.861Z"
   },
   {
    "duration": 860,
    "start_time": "2024-07-22T04:18:46.986Z"
   },
   {
    "duration": 908,
    "start_time": "2024-07-22T04:19:12.739Z"
   },
   {
    "duration": 1244,
    "start_time": "2024-07-22T04:26:50.383Z"
   },
   {
    "duration": 75,
    "start_time": "2024-07-22T04:26:51.630Z"
   },
   {
    "duration": 25,
    "start_time": "2024-07-22T04:26:51.706Z"
   },
   {
    "duration": 30,
    "start_time": "2024-07-22T04:26:51.732Z"
   },
   {
    "duration": 17,
    "start_time": "2024-07-22T04:26:51.765Z"
   },
   {
    "duration": 16,
    "start_time": "2024-07-22T04:26:51.784Z"
   },
   {
    "duration": 49,
    "start_time": "2024-07-22T04:26:51.802Z"
   },
   {
    "duration": 12,
    "start_time": "2024-07-22T04:26:51.853Z"
   },
   {
    "duration": 13,
    "start_time": "2024-07-22T04:26:51.868Z"
   },
   {
    "duration": 19,
    "start_time": "2024-07-22T04:26:51.883Z"
   },
   {
    "duration": 46,
    "start_time": "2024-07-22T04:26:51.904Z"
   },
   {
    "duration": 19,
    "start_time": "2024-07-22T04:26:51.952Z"
   },
   {
    "duration": 353,
    "start_time": "2024-07-22T04:26:51.973Z"
   },
   {
    "duration": 265,
    "start_time": "2024-07-22T04:26:52.329Z"
   },
   {
    "duration": 413,
    "start_time": "2024-07-22T04:26:52.596Z"
   },
   {
    "duration": 1890,
    "start_time": "2024-07-22T04:26:53.010Z"
   },
   {
    "duration": 403,
    "start_time": "2024-07-22T04:26:54.902Z"
   },
   {
    "duration": 58,
    "start_time": "2024-07-22T04:26:55.306Z"
   },
   {
    "duration": 95,
    "start_time": "2024-07-22T04:26:55.366Z"
   },
   {
    "duration": 969,
    "start_time": "2024-07-22T04:26:55.463Z"
   },
   {
    "duration": 949,
    "start_time": "2024-07-22T04:26:56.433Z"
   },
   {
    "duration": 5,
    "start_time": "2024-07-22T04:26:57.384Z"
   },
   {
    "duration": 21,
    "start_time": "2024-07-22T04:26:57.390Z"
   },
   {
    "duration": 68,
    "start_time": "2024-07-22T04:26:57.413Z"
   },
   {
    "duration": 17,
    "start_time": "2024-07-22T04:26:57.483Z"
   },
   {
    "duration": 7,
    "start_time": "2024-07-22T04:26:57.502Z"
   },
   {
    "duration": 866,
    "start_time": "2024-07-22T04:26:57.511Z"
   },
   {
    "duration": 28,
    "start_time": "2024-07-22T04:26:58.379Z"
   },
   {
    "duration": 12,
    "start_time": "2024-07-22T04:26:58.409Z"
   },
   {
    "duration": 56,
    "start_time": "2024-07-22T04:26:58.423Z"
   },
   {
    "duration": 10,
    "start_time": "2024-07-22T04:26:58.481Z"
   },
   {
    "duration": 15,
    "start_time": "2024-07-22T04:26:58.493Z"
   },
   {
    "duration": 11,
    "start_time": "2024-07-22T04:26:58.509Z"
   },
   {
    "duration": 40,
    "start_time": "2024-07-22T04:26:58.522Z"
   },
   {
    "duration": 262,
    "start_time": "2024-07-22T04:26:58.565Z"
   },
   {
    "duration": 62,
    "start_time": "2024-07-22T06:41:40.274Z"
   },
   {
    "duration": 1343,
    "start_time": "2024-07-22T06:41:47.466Z"
   },
   {
    "duration": 295,
    "start_time": "2024-07-22T06:41:48.811Z"
   },
   {
    "duration": 24,
    "start_time": "2024-07-22T06:41:49.108Z"
   },
   {
    "duration": 25,
    "start_time": "2024-07-22T06:41:49.134Z"
   },
   {
    "duration": 14,
    "start_time": "2024-07-22T06:41:49.161Z"
   },
   {
    "duration": 16,
    "start_time": "2024-07-22T06:41:49.177Z"
   },
   {
    "duration": 11,
    "start_time": "2024-07-22T06:41:49.194Z"
   },
   {
    "duration": 9,
    "start_time": "2024-07-22T06:41:49.206Z"
   },
   {
    "duration": 25,
    "start_time": "2024-07-22T06:41:49.217Z"
   },
   {
    "duration": 18,
    "start_time": "2024-07-22T06:41:49.268Z"
   },
   {
    "duration": 16,
    "start_time": "2024-07-22T06:41:49.288Z"
   },
   {
    "duration": 21,
    "start_time": "2024-07-22T06:41:49.306Z"
   },
   {
    "duration": 365,
    "start_time": "2024-07-22T06:41:49.329Z"
   },
   {
    "duration": 223,
    "start_time": "2024-07-22T06:41:49.695Z"
   },
   {
    "duration": 382,
    "start_time": "2024-07-22T06:41:49.919Z"
   },
   {
    "duration": 1837,
    "start_time": "2024-07-22T06:41:50.303Z"
   },
   {
    "duration": 369,
    "start_time": "2024-07-22T06:41:52.142Z"
   },
   {
    "duration": 55,
    "start_time": "2024-07-22T06:41:52.513Z"
   },
   {
    "duration": 65,
    "start_time": "2024-07-22T06:41:52.570Z"
   },
   {
    "duration": 1082,
    "start_time": "2024-07-22T06:41:52.637Z"
   },
   {
    "duration": 809,
    "start_time": "2024-07-22T06:41:53.720Z"
   },
   {
    "duration": 5,
    "start_time": "2024-07-22T06:41:54.530Z"
   },
   {
    "duration": 31,
    "start_time": "2024-07-22T06:41:54.537Z"
   },
   {
    "duration": 181,
    "start_time": "2024-07-22T06:41:54.570Z"
   },
   {
    "duration": 20,
    "start_time": "2024-07-22T06:41:54.752Z"
   },
   {
    "duration": 7,
    "start_time": "2024-07-22T06:41:54.773Z"
   },
   {
    "duration": 681,
    "start_time": "2024-07-22T06:41:54.782Z"
   },
   {
    "duration": 19,
    "start_time": "2024-07-22T06:41:55.467Z"
   },
   {
    "duration": 37,
    "start_time": "2024-07-22T06:41:55.487Z"
   },
   {
    "duration": 15,
    "start_time": "2024-07-22T06:41:55.526Z"
   },
   {
    "duration": 9,
    "start_time": "2024-07-22T06:41:55.542Z"
   },
   {
    "duration": 18,
    "start_time": "2024-07-22T06:41:55.553Z"
   },
   {
    "duration": 9,
    "start_time": "2024-07-22T06:41:55.573Z"
   },
   {
    "duration": 14,
    "start_time": "2024-07-22T06:41:55.584Z"
   },
   {
    "duration": 176,
    "start_time": "2024-07-22T06:41:55.599Z"
   },
   {
    "duration": 2250,
    "start_time": "2024-07-22T06:41:55.778Z"
   },
   {
    "duration": 5,
    "start_time": "2024-07-22T06:41:58.030Z"
   },
   {
    "duration": 444,
    "start_time": "2024-07-22T06:41:58.037Z"
   },
   {
    "duration": 1244,
    "start_time": "2024-07-22T06:42:16.739Z"
   },
   {
    "duration": 1061,
    "start_time": "2024-07-22T06:42:53.370Z"
   },
   {
    "duration": 1143,
    "start_time": "2024-07-22T06:42:59.334Z"
   },
   {
    "duration": 145,
    "start_time": "2024-07-22T06:44:56.783Z"
   },
   {
    "duration": 2571,
    "start_time": "2024-07-22T06:45:04.382Z"
   },
   {
    "duration": 2341,
    "start_time": "2024-07-22T06:46:52.093Z"
   },
   {
    "duration": 2404,
    "start_time": "2024-07-22T06:47:07.255Z"
   },
   {
    "duration": 1329,
    "start_time": "2024-07-22T14:01:37.656Z"
   },
   {
    "duration": 390,
    "start_time": "2024-07-22T14:01:38.986Z"
   },
   {
    "duration": 22,
    "start_time": "2024-07-22T14:01:39.378Z"
   },
   {
    "duration": 24,
    "start_time": "2024-07-22T14:01:39.402Z"
   },
   {
    "duration": 14,
    "start_time": "2024-07-22T14:01:39.427Z"
   },
   {
    "duration": 21,
    "start_time": "2024-07-22T14:01:39.443Z"
   },
   {
    "duration": 29,
    "start_time": "2024-07-22T14:01:39.465Z"
   },
   {
    "duration": 8,
    "start_time": "2024-07-22T14:01:39.495Z"
   },
   {
    "duration": 9,
    "start_time": "2024-07-22T14:01:39.505Z"
   },
   {
    "duration": 13,
    "start_time": "2024-07-22T14:01:39.516Z"
   },
   {
    "duration": 8,
    "start_time": "2024-07-22T14:01:39.530Z"
   },
   {
    "duration": 17,
    "start_time": "2024-07-22T14:01:39.539Z"
   },
   {
    "duration": 348,
    "start_time": "2024-07-22T14:01:39.558Z"
   },
   {
    "duration": 208,
    "start_time": "2024-07-22T14:01:39.908Z"
   },
   {
    "duration": 369,
    "start_time": "2024-07-22T14:01:40.118Z"
   },
   {
    "duration": 1629,
    "start_time": "2024-07-22T14:01:40.488Z"
   },
   {
    "duration": 358,
    "start_time": "2024-07-22T14:01:42.118Z"
   },
   {
    "duration": 47,
    "start_time": "2024-07-22T14:01:42.477Z"
   },
   {
    "duration": 74,
    "start_time": "2024-07-22T14:01:42.525Z"
   },
   {
    "duration": 1004,
    "start_time": "2024-07-22T14:01:42.600Z"
   },
   {
    "duration": 1091,
    "start_time": "2024-07-22T14:01:43.605Z"
   },
   {
    "duration": 4,
    "start_time": "2024-07-22T14:01:44.698Z"
   },
   {
    "duration": 22,
    "start_time": "2024-07-22T14:01:44.703Z"
   },
   {
    "duration": 37,
    "start_time": "2024-07-22T14:01:44.727Z"
   },
   {
    "duration": 31,
    "start_time": "2024-07-22T14:01:44.766Z"
   },
   {
    "duration": 5,
    "start_time": "2024-07-22T14:01:44.799Z"
   },
   {
    "duration": 648,
    "start_time": "2024-07-22T14:01:44.806Z"
   },
   {
    "duration": 28,
    "start_time": "2024-07-22T14:01:45.457Z"
   },
   {
    "duration": 11,
    "start_time": "2024-07-22T14:01:45.486Z"
   },
   {
    "duration": 47,
    "start_time": "2024-07-22T14:01:45.498Z"
   },
   {
    "duration": 10,
    "start_time": "2024-07-22T14:01:45.546Z"
   },
   {
    "duration": 33,
    "start_time": "2024-07-22T14:01:45.557Z"
   },
   {
    "duration": 14,
    "start_time": "2024-07-22T14:01:45.591Z"
   },
   {
    "duration": 13,
    "start_time": "2024-07-22T14:01:45.606Z"
   },
   {
    "duration": 172,
    "start_time": "2024-07-22T14:01:45.621Z"
   },
   {
    "duration": 2744,
    "start_time": "2024-07-22T14:01:45.794Z"
   },
   {
    "duration": 6,
    "start_time": "2024-07-22T14:01:48.539Z"
   },
   {
    "duration": 425,
    "start_time": "2024-07-22T14:01:48.546Z"
   },
   {
    "duration": 49,
    "start_time": "2024-07-22T14:02:55.998Z"
   },
   {
    "duration": 80,
    "start_time": "2024-07-22T14:06:30.857Z"
   },
   {
    "duration": 46,
    "start_time": "2024-07-22T14:46:43.355Z"
   },
   {
    "duration": 1304,
    "start_time": "2024-07-22T14:46:51.179Z"
   },
   {
    "duration": 350,
    "start_time": "2024-07-22T14:46:52.484Z"
   },
   {
    "duration": 22,
    "start_time": "2024-07-22T14:46:52.836Z"
   },
   {
    "duration": 26,
    "start_time": "2024-07-22T14:46:52.861Z"
   },
   {
    "duration": 35,
    "start_time": "2024-07-22T14:46:52.889Z"
   },
   {
    "duration": 12,
    "start_time": "2024-07-22T14:46:52.926Z"
   },
   {
    "duration": 16,
    "start_time": "2024-07-22T14:46:52.939Z"
   },
   {
    "duration": 7,
    "start_time": "2024-07-22T14:46:52.957Z"
   },
   {
    "duration": 9,
    "start_time": "2024-07-22T14:46:52.966Z"
   },
   {
    "duration": 12,
    "start_time": "2024-07-22T14:46:52.976Z"
   },
   {
    "duration": 10,
    "start_time": "2024-07-22T14:46:52.989Z"
   },
   {
    "duration": 25,
    "start_time": "2024-07-22T14:46:53.000Z"
   },
   {
    "duration": 364,
    "start_time": "2024-07-22T14:46:53.027Z"
   },
   {
    "duration": 213,
    "start_time": "2024-07-22T14:46:53.393Z"
   },
   {
    "duration": 382,
    "start_time": "2024-07-22T14:46:53.607Z"
   },
   {
    "duration": 1548,
    "start_time": "2024-07-22T14:46:53.991Z"
   },
   {
    "duration": 354,
    "start_time": "2024-07-22T14:46:55.541Z"
   },
   {
    "duration": 56,
    "start_time": "2024-07-22T14:46:55.897Z"
   },
   {
    "duration": 72,
    "start_time": "2024-07-22T14:46:55.954Z"
   },
   {
    "duration": 1050,
    "start_time": "2024-07-22T14:46:56.027Z"
   },
   {
    "duration": 1219,
    "start_time": "2024-07-22T14:46:57.081Z"
   },
   {
    "duration": 5,
    "start_time": "2024-07-22T14:46:58.301Z"
   },
   {
    "duration": 22,
    "start_time": "2024-07-22T14:46:58.308Z"
   },
   {
    "duration": 51,
    "start_time": "2024-07-22T14:46:58.332Z"
   },
   {
    "duration": 15,
    "start_time": "2024-07-22T14:46:58.384Z"
   },
   {
    "duration": 8,
    "start_time": "2024-07-22T14:46:58.401Z"
   },
   {
    "duration": 654,
    "start_time": "2024-07-22T14:46:58.411Z"
   },
   {
    "duration": 22,
    "start_time": "2024-07-22T14:46:59.066Z"
   },
   {
    "duration": 12,
    "start_time": "2024-07-22T14:46:59.090Z"
   },
   {
    "duration": 17,
    "start_time": "2024-07-22T14:46:59.103Z"
   },
   {
    "duration": 9,
    "start_time": "2024-07-22T14:46:59.122Z"
   },
   {
    "duration": 11,
    "start_time": "2024-07-22T14:46:59.133Z"
   },
   {
    "duration": 41,
    "start_time": "2024-07-22T14:46:59.146Z"
   },
   {
    "duration": 15,
    "start_time": "2024-07-22T14:46:59.188Z"
   },
   {
    "duration": 143,
    "start_time": "2024-07-22T14:46:59.204Z"
   },
   {
    "duration": 1978,
    "start_time": "2024-07-22T14:46:59.348Z"
   },
   {
    "duration": 432,
    "start_time": "2024-07-22T14:47:01.334Z"
   },
   {
    "duration": 6,
    "start_time": "2024-07-22T14:47:02.208Z"
   },
   {
    "duration": 2093,
    "start_time": "2024-07-22T14:47:09.786Z"
   },
   {
    "duration": 7,
    "start_time": "2024-07-24T04:34:13.076Z"
   },
   {
    "duration": 1167,
    "start_time": "2024-07-24T04:34:18.902Z"
   },
   {
    "duration": 273,
    "start_time": "2024-07-24T04:34:20.071Z"
   },
   {
    "duration": 25,
    "start_time": "2024-07-24T04:34:20.345Z"
   },
   {
    "duration": 27,
    "start_time": "2024-07-24T04:34:20.372Z"
   },
   {
    "duration": 14,
    "start_time": "2024-07-24T04:34:20.401Z"
   },
   {
    "duration": 41,
    "start_time": "2024-07-24T04:34:20.416Z"
   },
   {
    "duration": 13,
    "start_time": "2024-07-24T04:34:20.458Z"
   },
   {
    "duration": 8,
    "start_time": "2024-07-24T04:34:20.473Z"
   },
   {
    "duration": 15,
    "start_time": "2024-07-24T04:34:20.483Z"
   },
   {
    "duration": 15,
    "start_time": "2024-07-24T04:34:20.500Z"
   },
   {
    "duration": 10,
    "start_time": "2024-07-24T04:34:20.546Z"
   },
   {
    "duration": 10,
    "start_time": "2024-07-24T04:34:20.558Z"
   },
   {
    "duration": 350,
    "start_time": "2024-07-24T04:34:20.569Z"
   },
   {
    "duration": 247,
    "start_time": "2024-07-24T04:34:20.921Z"
   },
   {
    "duration": 394,
    "start_time": "2024-07-24T04:34:21.169Z"
   },
   {
    "duration": 1726,
    "start_time": "2024-07-24T04:34:21.565Z"
   },
   {
    "duration": 358,
    "start_time": "2024-07-24T04:34:23.293Z"
   },
   {
    "duration": 45,
    "start_time": "2024-07-24T04:34:23.652Z"
   },
   {
    "duration": 80,
    "start_time": "2024-07-24T04:34:23.699Z"
   },
   {
    "duration": 1131,
    "start_time": "2024-07-24T04:34:23.781Z"
   },
   {
    "duration": 1177,
    "start_time": "2024-07-24T04:34:24.914Z"
   },
   {
    "duration": 4,
    "start_time": "2024-07-24T04:34:26.093Z"
   },
   {
    "duration": 34,
    "start_time": "2024-07-24T04:34:26.098Z"
   },
   {
    "duration": 82,
    "start_time": "2024-07-24T04:34:26.134Z"
   },
   {
    "duration": 17,
    "start_time": "2024-07-24T04:34:26.218Z"
   },
   {
    "duration": 7,
    "start_time": "2024-07-24T04:34:26.236Z"
   },
   {
    "duration": 694,
    "start_time": "2024-07-24T04:34:26.244Z"
   },
   {
    "duration": 19,
    "start_time": "2024-07-24T04:34:26.947Z"
   },
   {
    "duration": 11,
    "start_time": "2024-07-24T04:34:26.967Z"
   },
   {
    "duration": 16,
    "start_time": "2024-07-24T04:34:26.980Z"
   },
   {
    "duration": 8,
    "start_time": "2024-07-24T04:34:26.998Z"
   },
   {
    "duration": 43,
    "start_time": "2024-07-24T04:34:27.008Z"
   },
   {
    "duration": 10,
    "start_time": "2024-07-24T04:34:27.053Z"
   },
   {
    "duration": 19,
    "start_time": "2024-07-24T04:34:27.064Z"
   },
   {
    "duration": 153,
    "start_time": "2024-07-24T04:34:27.085Z"
   },
   {
    "duration": 2239,
    "start_time": "2024-07-24T04:34:27.240Z"
   },
   {
    "duration": 5,
    "start_time": "2024-07-24T04:34:29.480Z"
   },
   {
    "duration": 467,
    "start_time": "2024-07-24T04:34:29.487Z"
   }
  ],
  "kernelspec": {
   "display_name": "Python [conda env:base] *",
   "language": "python",
   "name": "conda-base-py"
  },
  "language_info": {
   "codemirror_mode": {
    "name": "ipython",
    "version": 3
   },
   "file_extension": ".py",
   "mimetype": "text/x-python",
   "name": "python",
   "nbconvert_exporter": "python",
   "pygments_lexer": "ipython3",
   "version": "3.12.4"
  },
  "toc": {
   "base_numbering": 1,
   "nav_menu": {},
   "number_sections": true,
   "sideBar": true,
   "skip_h1_title": true,
   "title_cell": "Table of Contents",
   "title_sidebar": "Contents",
   "toc_cell": false,
   "toc_position": {},
   "toc_section_display": true,
   "toc_window_display": true
  }
 },
 "nbformat": 4,
 "nbformat_minor": 5
}
