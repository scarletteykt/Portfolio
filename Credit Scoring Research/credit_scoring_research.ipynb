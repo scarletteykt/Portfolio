{
 "cells": [
  {
   "cell_type": "markdown",
   "id": "386f2ae7",
   "metadata": {
    "deletable": false,
    "editable": false,
    "id": "386f2ae7"
   },
   "source": [
    "# Исследование надежности заемщиков\n"
   ]
  },
  {
   "cell_type": "markdown",
   "id": "ffe86f65",
   "metadata": {
    "deletable": false,
    "editable": false,
    "id": "ffe86f65"
   },
   "source": [
    "**Описание проекта:**\n",
    "\n",
    "Заказчиком исследования является кредитный отдел банка. Проект направлен на исследование влияния семейного положения и количества детей клиента на вероятность возврата кредита в срок. Для анализа используются данные о платёжеспособности клиентов, включая их доход, цели кредита и наличие задолженностей. Результаты помогут улучшить модель кредитного скоринга, которая оценивает способность заёмщика вернуть кредит.\n",
    "_____\n",
    "**Цель исследования:**\n",
    "\n",
    "Цель исследования — узнать, влияют ли семейное положение и количество детей клиента на факт погашения кредита в срок.\n",
    "____\n",
    "**Данные для анализа:**\n",
    "Файл *data* со столбцами:\n",
    "- `children` — количество детей в семье\n",
    "- `days_employed` — общий трудовой стаж в днях\n",
    "- `dob_years` — возраст клиента в годах\n",
    "- `education` — уровень образования клиента\n",
    "- `education_id` — идентификатор уровня образования\n",
    "- `family_status` — семейное положение\n",
    "- `family_status_id` — идентификатор семейного положения\n",
    "- `gender` — пол клиента\n",
    "- `income_type` — тип занятости\n",
    "- `debt` — имел ли задолженность по возврату кредитов\n",
    "- `total_income` — ежемесячный доход\n",
    "- `purpose` — цель получения кредита\n",
    "____\n",
    "**План работы:**\n",
    "1. Изучение данных:\n",
    "- Загрузить данные.\n",
    "- Изучить структуру таблицы и типы данных.\n",
    "- Провести предварительный анализ на наличие проблем в данных.\n",
    "\n",
    "  \n",
    "2. Предобработка данных:\n",
    "- Выявить и обработать пропуски в данных.\n",
    "- Определить возможные причины появления пропусков.\n",
    "- Обработать аномалии (например, отрицательные значения в days_employed).\n",
    "- Привести типы данных к корректным форматам (например, total_income в целое число).\n",
    "- Удалить явные и неявные дубликаты.\n",
    "- Привести текстовые данные к единому регистру.\n",
    "\n",
    "\n",
    "3. Категоризация данных:\n",
    "- Создать категории доходов (total_income_category).\n",
    "- Определить категории целей кредита (purpose_category).\n",
    "\n",
    "\n",
    "4. Анализ данных:\n",
    "- Выявить зависимости между возвратом кредита и:\n",
    "    - количеством детей;\n",
    "    - семейным положением;\n",
    "    - уровнем дохода;\n",
    "    - целями кредита.\n",
    "- Представить результаты анализа в сводных таблицах с помощью pivot_table().\n",
    "\n",
    "\n",
    "5. Выводы:\n",
    "- Сделать общий вывод по результатам анализа."
   ]
  },
  {
   "cell_type": "markdown",
   "id": "26613308",
   "metadata": {
    "deletable": false,
    "editable": false,
    "id": "26613308"
   },
   "source": [
    "## Изучение данных"
   ]
  },
  {
   "cell_type": "markdown",
   "id": "3c9f838e",
   "metadata": {
    "deletable": false,
    "editable": false,
    "id": "3c9f838e"
   },
   "source": [
    "**Задание 1. Импортируйте библиотеку pandas. Считайте данные из csv-файла в датафрейм и сохраните в переменную `data`. Путь к файлу:**\n",
    "\n",
    "`/datasets/data.csv`"
   ]
  },
  {
   "cell_type": "code",
   "execution_count": 5,
   "id": "77a68a90",
   "metadata": {
    "deletable": false,
    "id": "77a68a90"
   },
   "outputs": [],
   "source": [
    "import pandas as pd\n",
    "\n",
    "try:\n",
    "    data = pd.read_csv('/datasets/data.csv')\n",
    "except:\n",
    "    data = pd.read_csv('https://code.s3.yandex.net/datasets/data.csv')"
   ]
  },
  {
   "cell_type": "markdown",
   "id": "45365635",
   "metadata": {
    "deletable": false,
    "editable": false,
    "id": "45365635"
   },
   "source": [
    "**Задание 2. Выведите первые 20 строчек датафрейма `data` на экран.**"
   ]
  },
  {
   "cell_type": "code",
   "execution_count": 7,
   "id": "b0451a9a",
   "metadata": {
    "deletable": false,
    "id": "b0451a9a",
    "outputId": "1a8f3ef2-d323-4ec2-ddf7-89670b5944c4"
   },
   "outputs": [
    {
     "data": {
      "text/html": [
       "<div>\n",
       "<style scoped>\n",
       "    .dataframe tbody tr th:only-of-type {\n",
       "        vertical-align: middle;\n",
       "    }\n",
       "\n",
       "    .dataframe tbody tr th {\n",
       "        vertical-align: top;\n",
       "    }\n",
       "\n",
       "    .dataframe thead th {\n",
       "        text-align: right;\n",
       "    }\n",
       "</style>\n",
       "<table border=\"1\" class=\"dataframe\">\n",
       "  <thead>\n",
       "    <tr style=\"text-align: right;\">\n",
       "      <th></th>\n",
       "      <th>children</th>\n",
       "      <th>days_employed</th>\n",
       "      <th>dob_years</th>\n",
       "      <th>education</th>\n",
       "      <th>education_id</th>\n",
       "      <th>family_status</th>\n",
       "      <th>family_status_id</th>\n",
       "      <th>gender</th>\n",
       "      <th>income_type</th>\n",
       "      <th>debt</th>\n",
       "      <th>total_income</th>\n",
       "      <th>purpose</th>\n",
       "    </tr>\n",
       "  </thead>\n",
       "  <tbody>\n",
       "    <tr>\n",
       "      <th>0</th>\n",
       "      <td>1</td>\n",
       "      <td>-8437.673028</td>\n",
       "      <td>42</td>\n",
       "      <td>высшее</td>\n",
       "      <td>0</td>\n",
       "      <td>женат / замужем</td>\n",
       "      <td>0</td>\n",
       "      <td>F</td>\n",
       "      <td>сотрудник</td>\n",
       "      <td>0</td>\n",
       "      <td>253875.639453</td>\n",
       "      <td>покупка жилья</td>\n",
       "    </tr>\n",
       "    <tr>\n",
       "      <th>1</th>\n",
       "      <td>1</td>\n",
       "      <td>-4024.803754</td>\n",
       "      <td>36</td>\n",
       "      <td>среднее</td>\n",
       "      <td>1</td>\n",
       "      <td>женат / замужем</td>\n",
       "      <td>0</td>\n",
       "      <td>F</td>\n",
       "      <td>сотрудник</td>\n",
       "      <td>0</td>\n",
       "      <td>112080.014102</td>\n",
       "      <td>приобретение автомобиля</td>\n",
       "    </tr>\n",
       "    <tr>\n",
       "      <th>2</th>\n",
       "      <td>0</td>\n",
       "      <td>-5623.422610</td>\n",
       "      <td>33</td>\n",
       "      <td>Среднее</td>\n",
       "      <td>1</td>\n",
       "      <td>женат / замужем</td>\n",
       "      <td>0</td>\n",
       "      <td>M</td>\n",
       "      <td>сотрудник</td>\n",
       "      <td>0</td>\n",
       "      <td>145885.952297</td>\n",
       "      <td>покупка жилья</td>\n",
       "    </tr>\n",
       "    <tr>\n",
       "      <th>3</th>\n",
       "      <td>3</td>\n",
       "      <td>-4124.747207</td>\n",
       "      <td>32</td>\n",
       "      <td>среднее</td>\n",
       "      <td>1</td>\n",
       "      <td>женат / замужем</td>\n",
       "      <td>0</td>\n",
       "      <td>M</td>\n",
       "      <td>сотрудник</td>\n",
       "      <td>0</td>\n",
       "      <td>267628.550329</td>\n",
       "      <td>дополнительное образование</td>\n",
       "    </tr>\n",
       "    <tr>\n",
       "      <th>4</th>\n",
       "      <td>0</td>\n",
       "      <td>340266.072047</td>\n",
       "      <td>53</td>\n",
       "      <td>среднее</td>\n",
       "      <td>1</td>\n",
       "      <td>гражданский брак</td>\n",
       "      <td>1</td>\n",
       "      <td>F</td>\n",
       "      <td>пенсионер</td>\n",
       "      <td>0</td>\n",
       "      <td>158616.077870</td>\n",
       "      <td>сыграть свадьбу</td>\n",
       "    </tr>\n",
       "    <tr>\n",
       "      <th>5</th>\n",
       "      <td>0</td>\n",
       "      <td>-926.185831</td>\n",
       "      <td>27</td>\n",
       "      <td>высшее</td>\n",
       "      <td>0</td>\n",
       "      <td>гражданский брак</td>\n",
       "      <td>1</td>\n",
       "      <td>M</td>\n",
       "      <td>компаньон</td>\n",
       "      <td>0</td>\n",
       "      <td>255763.565419</td>\n",
       "      <td>покупка жилья</td>\n",
       "    </tr>\n",
       "    <tr>\n",
       "      <th>6</th>\n",
       "      <td>0</td>\n",
       "      <td>-2879.202052</td>\n",
       "      <td>43</td>\n",
       "      <td>высшее</td>\n",
       "      <td>0</td>\n",
       "      <td>женат / замужем</td>\n",
       "      <td>0</td>\n",
       "      <td>F</td>\n",
       "      <td>компаньон</td>\n",
       "      <td>0</td>\n",
       "      <td>240525.971920</td>\n",
       "      <td>операции с жильем</td>\n",
       "    </tr>\n",
       "    <tr>\n",
       "      <th>7</th>\n",
       "      <td>0</td>\n",
       "      <td>-152.779569</td>\n",
       "      <td>50</td>\n",
       "      <td>СРЕДНЕЕ</td>\n",
       "      <td>1</td>\n",
       "      <td>женат / замужем</td>\n",
       "      <td>0</td>\n",
       "      <td>M</td>\n",
       "      <td>сотрудник</td>\n",
       "      <td>0</td>\n",
       "      <td>135823.934197</td>\n",
       "      <td>образование</td>\n",
       "    </tr>\n",
       "    <tr>\n",
       "      <th>8</th>\n",
       "      <td>2</td>\n",
       "      <td>-6929.865299</td>\n",
       "      <td>35</td>\n",
       "      <td>ВЫСШЕЕ</td>\n",
       "      <td>0</td>\n",
       "      <td>гражданский брак</td>\n",
       "      <td>1</td>\n",
       "      <td>F</td>\n",
       "      <td>сотрудник</td>\n",
       "      <td>0</td>\n",
       "      <td>95856.832424</td>\n",
       "      <td>на проведение свадьбы</td>\n",
       "    </tr>\n",
       "    <tr>\n",
       "      <th>9</th>\n",
       "      <td>0</td>\n",
       "      <td>-2188.756445</td>\n",
       "      <td>41</td>\n",
       "      <td>среднее</td>\n",
       "      <td>1</td>\n",
       "      <td>женат / замужем</td>\n",
       "      <td>0</td>\n",
       "      <td>M</td>\n",
       "      <td>сотрудник</td>\n",
       "      <td>0</td>\n",
       "      <td>144425.938277</td>\n",
       "      <td>покупка жилья для семьи</td>\n",
       "    </tr>\n",
       "    <tr>\n",
       "      <th>10</th>\n",
       "      <td>2</td>\n",
       "      <td>-4171.483647</td>\n",
       "      <td>36</td>\n",
       "      <td>высшее</td>\n",
       "      <td>0</td>\n",
       "      <td>женат / замужем</td>\n",
       "      <td>0</td>\n",
       "      <td>M</td>\n",
       "      <td>компаньон</td>\n",
       "      <td>0</td>\n",
       "      <td>113943.491460</td>\n",
       "      <td>покупка недвижимости</td>\n",
       "    </tr>\n",
       "    <tr>\n",
       "      <th>11</th>\n",
       "      <td>0</td>\n",
       "      <td>-792.701887</td>\n",
       "      <td>40</td>\n",
       "      <td>среднее</td>\n",
       "      <td>1</td>\n",
       "      <td>женат / замужем</td>\n",
       "      <td>0</td>\n",
       "      <td>F</td>\n",
       "      <td>сотрудник</td>\n",
       "      <td>0</td>\n",
       "      <td>77069.234271</td>\n",
       "      <td>покупка коммерческой недвижимости</td>\n",
       "    </tr>\n",
       "    <tr>\n",
       "      <th>12</th>\n",
       "      <td>0</td>\n",
       "      <td>NaN</td>\n",
       "      <td>65</td>\n",
       "      <td>среднее</td>\n",
       "      <td>1</td>\n",
       "      <td>гражданский брак</td>\n",
       "      <td>1</td>\n",
       "      <td>M</td>\n",
       "      <td>пенсионер</td>\n",
       "      <td>0</td>\n",
       "      <td>NaN</td>\n",
       "      <td>сыграть свадьбу</td>\n",
       "    </tr>\n",
       "    <tr>\n",
       "      <th>13</th>\n",
       "      <td>0</td>\n",
       "      <td>-1846.641941</td>\n",
       "      <td>54</td>\n",
       "      <td>неоконченное высшее</td>\n",
       "      <td>2</td>\n",
       "      <td>женат / замужем</td>\n",
       "      <td>0</td>\n",
       "      <td>F</td>\n",
       "      <td>сотрудник</td>\n",
       "      <td>0</td>\n",
       "      <td>130458.228857</td>\n",
       "      <td>приобретение автомобиля</td>\n",
       "    </tr>\n",
       "    <tr>\n",
       "      <th>14</th>\n",
       "      <td>0</td>\n",
       "      <td>-1844.956182</td>\n",
       "      <td>56</td>\n",
       "      <td>высшее</td>\n",
       "      <td>0</td>\n",
       "      <td>гражданский брак</td>\n",
       "      <td>1</td>\n",
       "      <td>F</td>\n",
       "      <td>компаньон</td>\n",
       "      <td>1</td>\n",
       "      <td>165127.911772</td>\n",
       "      <td>покупка жилой недвижимости</td>\n",
       "    </tr>\n",
       "    <tr>\n",
       "      <th>15</th>\n",
       "      <td>1</td>\n",
       "      <td>-972.364419</td>\n",
       "      <td>26</td>\n",
       "      <td>среднее</td>\n",
       "      <td>1</td>\n",
       "      <td>женат / замужем</td>\n",
       "      <td>0</td>\n",
       "      <td>F</td>\n",
       "      <td>сотрудник</td>\n",
       "      <td>0</td>\n",
       "      <td>116820.904450</td>\n",
       "      <td>строительство собственной недвижимости</td>\n",
       "    </tr>\n",
       "    <tr>\n",
       "      <th>16</th>\n",
       "      <td>0</td>\n",
       "      <td>-1719.934226</td>\n",
       "      <td>35</td>\n",
       "      <td>среднее</td>\n",
       "      <td>1</td>\n",
       "      <td>женат / замужем</td>\n",
       "      <td>0</td>\n",
       "      <td>F</td>\n",
       "      <td>сотрудник</td>\n",
       "      <td>0</td>\n",
       "      <td>289202.704229</td>\n",
       "      <td>недвижимость</td>\n",
       "    </tr>\n",
       "    <tr>\n",
       "      <th>17</th>\n",
       "      <td>0</td>\n",
       "      <td>-2369.999720</td>\n",
       "      <td>33</td>\n",
       "      <td>высшее</td>\n",
       "      <td>0</td>\n",
       "      <td>гражданский брак</td>\n",
       "      <td>1</td>\n",
       "      <td>M</td>\n",
       "      <td>сотрудник</td>\n",
       "      <td>0</td>\n",
       "      <td>90410.586745</td>\n",
       "      <td>строительство недвижимости</td>\n",
       "    </tr>\n",
       "    <tr>\n",
       "      <th>18</th>\n",
       "      <td>0</td>\n",
       "      <td>400281.136913</td>\n",
       "      <td>53</td>\n",
       "      <td>среднее</td>\n",
       "      <td>1</td>\n",
       "      <td>вдовец / вдова</td>\n",
       "      <td>2</td>\n",
       "      <td>F</td>\n",
       "      <td>пенсионер</td>\n",
       "      <td>0</td>\n",
       "      <td>56823.777243</td>\n",
       "      <td>на покупку подержанного автомобиля</td>\n",
       "    </tr>\n",
       "    <tr>\n",
       "      <th>19</th>\n",
       "      <td>0</td>\n",
       "      <td>-10038.818549</td>\n",
       "      <td>48</td>\n",
       "      <td>СРЕДНЕЕ</td>\n",
       "      <td>1</td>\n",
       "      <td>в разводе</td>\n",
       "      <td>3</td>\n",
       "      <td>F</td>\n",
       "      <td>сотрудник</td>\n",
       "      <td>0</td>\n",
       "      <td>242831.107982</td>\n",
       "      <td>на покупку своего автомобиля</td>\n",
       "    </tr>\n",
       "  </tbody>\n",
       "</table>\n",
       "</div>"
      ],
      "text/plain": [
       "    children  days_employed  dob_years            education  education_id  \\\n",
       "0          1   -8437.673028         42               высшее             0   \n",
       "1          1   -4024.803754         36              среднее             1   \n",
       "2          0   -5623.422610         33              Среднее             1   \n",
       "3          3   -4124.747207         32              среднее             1   \n",
       "4          0  340266.072047         53              среднее             1   \n",
       "5          0    -926.185831         27               высшее             0   \n",
       "6          0   -2879.202052         43               высшее             0   \n",
       "7          0    -152.779569         50              СРЕДНЕЕ             1   \n",
       "8          2   -6929.865299         35               ВЫСШЕЕ             0   \n",
       "9          0   -2188.756445         41              среднее             1   \n",
       "10         2   -4171.483647         36               высшее             0   \n",
       "11         0    -792.701887         40              среднее             1   \n",
       "12         0            NaN         65              среднее             1   \n",
       "13         0   -1846.641941         54  неоконченное высшее             2   \n",
       "14         0   -1844.956182         56               высшее             0   \n",
       "15         1    -972.364419         26              среднее             1   \n",
       "16         0   -1719.934226         35              среднее             1   \n",
       "17         0   -2369.999720         33               высшее             0   \n",
       "18         0  400281.136913         53              среднее             1   \n",
       "19         0  -10038.818549         48              СРЕДНЕЕ             1   \n",
       "\n",
       "       family_status  family_status_id gender income_type  debt  \\\n",
       "0    женат / замужем                 0      F   сотрудник     0   \n",
       "1    женат / замужем                 0      F   сотрудник     0   \n",
       "2    женат / замужем                 0      M   сотрудник     0   \n",
       "3    женат / замужем                 0      M   сотрудник     0   \n",
       "4   гражданский брак                 1      F   пенсионер     0   \n",
       "5   гражданский брак                 1      M   компаньон     0   \n",
       "6    женат / замужем                 0      F   компаньон     0   \n",
       "7    женат / замужем                 0      M   сотрудник     0   \n",
       "8   гражданский брак                 1      F   сотрудник     0   \n",
       "9    женат / замужем                 0      M   сотрудник     0   \n",
       "10   женат / замужем                 0      M   компаньон     0   \n",
       "11   женат / замужем                 0      F   сотрудник     0   \n",
       "12  гражданский брак                 1      M   пенсионер     0   \n",
       "13   женат / замужем                 0      F   сотрудник     0   \n",
       "14  гражданский брак                 1      F   компаньон     1   \n",
       "15   женат / замужем                 0      F   сотрудник     0   \n",
       "16   женат / замужем                 0      F   сотрудник     0   \n",
       "17  гражданский брак                 1      M   сотрудник     0   \n",
       "18    вдовец / вдова                 2      F   пенсионер     0   \n",
       "19         в разводе                 3      F   сотрудник     0   \n",
       "\n",
       "     total_income                                 purpose  \n",
       "0   253875.639453                           покупка жилья  \n",
       "1   112080.014102                 приобретение автомобиля  \n",
       "2   145885.952297                           покупка жилья  \n",
       "3   267628.550329              дополнительное образование  \n",
       "4   158616.077870                         сыграть свадьбу  \n",
       "5   255763.565419                           покупка жилья  \n",
       "6   240525.971920                       операции с жильем  \n",
       "7   135823.934197                             образование  \n",
       "8    95856.832424                   на проведение свадьбы  \n",
       "9   144425.938277                 покупка жилья для семьи  \n",
       "10  113943.491460                    покупка недвижимости  \n",
       "11   77069.234271       покупка коммерческой недвижимости  \n",
       "12            NaN                         сыграть свадьбу  \n",
       "13  130458.228857                 приобретение автомобиля  \n",
       "14  165127.911772              покупка жилой недвижимости  \n",
       "15  116820.904450  строительство собственной недвижимости  \n",
       "16  289202.704229                            недвижимость  \n",
       "17   90410.586745              строительство недвижимости  \n",
       "18   56823.777243      на покупку подержанного автомобиля  \n",
       "19  242831.107982            на покупку своего автомобиля  "
      ]
     },
     "execution_count": 7,
     "metadata": {},
     "output_type": "execute_result"
    }
   ],
   "source": [
    "data.head(20)"
   ]
  },
  {
   "cell_type": "markdown",
   "id": "0ed8f27f",
   "metadata": {
    "deletable": false,
    "editable": false,
    "id": "0ed8f27f"
   },
   "source": [
    "**Задание 3. Выведите основную информацию о датафрейме с помощью метода `info()`.**"
   ]
  },
  {
   "cell_type": "code",
   "execution_count": 9,
   "id": "ab3f863b",
   "metadata": {
    "deletable": false,
    "id": "ab3f863b",
    "outputId": "15376089-8dad-46c9-b520-c05248d43158"
   },
   "outputs": [
    {
     "name": "stdout",
     "output_type": "stream",
     "text": [
      "<class 'pandas.core.frame.DataFrame'>\n",
      "RangeIndex: 21525 entries, 0 to 21524\n",
      "Data columns (total 12 columns):\n",
      " #   Column            Non-Null Count  Dtype  \n",
      "---  ------            --------------  -----  \n",
      " 0   children          21525 non-null  int64  \n",
      " 1   days_employed     19351 non-null  float64\n",
      " 2   dob_years         21525 non-null  int64  \n",
      " 3   education         21525 non-null  object \n",
      " 4   education_id      21525 non-null  int64  \n",
      " 5   family_status     21525 non-null  object \n",
      " 6   family_status_id  21525 non-null  int64  \n",
      " 7   gender            21525 non-null  object \n",
      " 8   income_type       21525 non-null  object \n",
      " 9   debt              21525 non-null  int64  \n",
      " 10  total_income      19351 non-null  float64\n",
      " 11  purpose           21525 non-null  object \n",
      "dtypes: float64(2), int64(5), object(5)\n",
      "memory usage: 2.0+ MB\n"
     ]
    }
   ],
   "source": [
    "data.info()"
   ]
  },
  {
   "cell_type": "markdown",
   "id": "60e3e22d",
   "metadata": {
    "deletable": false,
    "editable": false,
    "id": "60e3e22d"
   },
   "source": [
    "## Предобработка данных"
   ]
  },
  {
   "cell_type": "markdown",
   "id": "03dc170c",
   "metadata": {
    "deletable": false,
    "editable": false,
    "id": "03dc170c"
   },
   "source": [
    "### Удаление пропусков"
   ]
  },
  {
   "cell_type": "markdown",
   "id": "a4f54eef",
   "metadata": {
    "deletable": false,
    "editable": false,
    "id": "a4f54eef"
   },
   "source": [
    "**Задание 4. Выведите количество пропущенных значений для каждого столбца. Используйте комбинацию двух методов.**"
   ]
  },
  {
   "cell_type": "code",
   "execution_count": 13,
   "id": "2dc372b2",
   "metadata": {
    "deletable": false,
    "id": "2dc372b2",
    "outputId": "81f4d817-781c-465c-ed15-91ce4446810d"
   },
   "outputs": [
    {
     "data": {
      "text/plain": [
       "children               0\n",
       "days_employed       2174\n",
       "dob_years              0\n",
       "education              0\n",
       "education_id           0\n",
       "family_status          0\n",
       "family_status_id       0\n",
       "gender                 0\n",
       "income_type            0\n",
       "debt                   0\n",
       "total_income        2174\n",
       "purpose                0\n",
       "dtype: int64"
      ]
     },
     "execution_count": 13,
     "metadata": {},
     "output_type": "execute_result"
    }
   ],
   "source": [
    "data.isna().sum()"
   ]
  },
  {
   "cell_type": "markdown",
   "id": "14f011b1",
   "metadata": {
    "deletable": false,
    "editable": false,
    "id": "14f011b1"
   },
   "source": [
    "**Задание 5. В двух столбцах есть пропущенные значения. Один из них — `days_employed`. Пропуски в этом столбце вы обработаете на следующем этапе. Другой столбец с пропущенными значениями — `total_income` — хранит данные о доходах. На сумму дохода сильнее всего влияет тип занятости, поэтому заполнить пропуски в этом столбце нужно медианным значением по каждому типу из столбца `income_type`. Например, у человека с типом занятости `сотрудник` пропуск в столбце `total_income` должен быть заполнен медианным доходом среди всех записей с тем же типом.**"
   ]
  },
  {
   "cell_type": "code",
   "execution_count": 15,
   "id": "bdabfb6e",
   "metadata": {
    "deletable": false,
    "id": "bdabfb6e"
   },
   "outputs": [],
   "source": [
    "for t in data['income_type'].unique():\n",
    "    data.loc[(data['income_type'] == t) & (data['total_income'].isna()), 'total_income'] = \\\n",
    "    data.loc[(data['income_type'] == t), 'total_income'].median()"
   ]
  },
  {
   "cell_type": "markdown",
   "id": "5be34059",
   "metadata": {
    "deletable": false,
    "editable": false,
    "id": "5be34059"
   },
   "source": [
    "### Обработка аномальных значений"
   ]
  },
  {
   "cell_type": "markdown",
   "id": "a87606cb",
   "metadata": {
    "deletable": false,
    "editable": false,
    "id": "a87606cb"
   },
   "source": [
    "**Задание 6. В данных могут встречаться артефакты (аномалии) — значения, которые не отражают действительность и появились по какой-то ошибке. таким артефактом будет отрицательное количество дней трудового стажа в столбце `days_employed`. Для реальных данных это нормально. Обработайте значения в этом столбце: замените все отрицательные значения положительными с помощью метода `abs()`.**"
   ]
  },
  {
   "cell_type": "code",
   "execution_count": 18,
   "id": "020c46cc",
   "metadata": {
    "deletable": false,
    "id": "020c46cc"
   },
   "outputs": [],
   "source": [
    "data['days_employed'] = data['days_employed'].abs()"
   ]
  },
  {
   "cell_type": "markdown",
   "id": "45538a3a",
   "metadata": {
    "deletable": false,
    "editable": false,
    "id": "45538a3a"
   },
   "source": [
    "**Задание 7. Для каждого типа занятости выведите медианное значение трудового стажа `days_employed` в днях.**"
   ]
  },
  {
   "cell_type": "code",
   "execution_count": 20,
   "id": "cd3e6328",
   "metadata": {
    "deletable": false,
    "id": "cd3e6328",
    "outputId": "801ef80e-522b-4668-f34e-565af7432bcf"
   },
   "outputs": [
    {
     "data": {
      "text/plain": [
       "income_type\n",
       "безработный        366413.652744\n",
       "в декрете            3296.759962\n",
       "госслужащий          2689.368353\n",
       "компаньон            1547.382223\n",
       "пенсионер          365213.306266\n",
       "предприниматель       520.848083\n",
       "сотрудник            1574.202821\n",
       "студент               578.751554\n",
       "Name: days_employed, dtype: float64"
      ]
     },
     "execution_count": 20,
     "metadata": {},
     "output_type": "execute_result"
    }
   ],
   "source": [
    "data.groupby('income_type')['days_employed'].agg('median')"
   ]
  },
  {
   "cell_type": "markdown",
   "id": "90c5f058",
   "metadata": {
    "deletable": false,
    "editable": false,
    "id": "90c5f058"
   },
   "source": [
    "У двух типов (безработные и пенсионеры) получатся аномально большие значения. Исправить такие значения сложно, поэтому оставьте их как есть."
   ]
  },
  {
   "cell_type": "markdown",
   "id": "9652e50d",
   "metadata": {
    "deletable": false,
    "editable": false,
    "id": "9652e50d"
   },
   "source": [
    "**Задание 8. Выведите перечень уникальных значений столбца `children`.**"
   ]
  },
  {
   "cell_type": "code",
   "execution_count": 23,
   "id": "dbb37b8e",
   "metadata": {
    "deletable": false,
    "id": "dbb37b8e",
    "outputId": "6975b15c-7f95-4697-d16d-a0c79b657b03"
   },
   "outputs": [
    {
     "data": {
      "text/plain": [
       "array([ 1,  0,  3,  2, -1,  4, 20,  5])"
      ]
     },
     "execution_count": 23,
     "metadata": {},
     "output_type": "execute_result"
    }
   ],
   "source": [
    "data['children'].unique()"
   ]
  },
  {
   "cell_type": "markdown",
   "id": "2b8b0715",
   "metadata": {
    "deletable": false,
    "editable": false,
    "id": "2b8b0715"
   },
   "source": [
    "**Задание 9. В столбце `children` есть два аномальных значения. Удалите строки, в которых встречаются такие аномальные значения из датафрейма `data`.**"
   ]
  },
  {
   "cell_type": "code",
   "execution_count": 25,
   "id": "20009df8",
   "metadata": {
    "deletable": false,
    "id": "20009df8"
   },
   "outputs": [],
   "source": [
    "data = data[(data['children'] != -1) & (data['children'] != 20)]"
   ]
  },
  {
   "cell_type": "markdown",
   "id": "8c6ac9f1",
   "metadata": {
    "deletable": false,
    "editable": false,
    "id": "8c6ac9f1"
   },
   "source": [
    "**Задание 10. Ещё раз выведите перечень уникальных значений столбца `children`, чтобы убедиться, что артефакты удалены.**"
   ]
  },
  {
   "cell_type": "code",
   "execution_count": 27,
   "id": "07337b81",
   "metadata": {
    "deletable": false,
    "id": "07337b81",
    "outputId": "b2097101-d49d-44d9-901b-32a65c9463d1"
   },
   "outputs": [
    {
     "data": {
      "text/plain": [
       "array([1, 0, 3, 2, 4, 5])"
      ]
     },
     "execution_count": 27,
     "metadata": {},
     "output_type": "execute_result"
    }
   ],
   "source": [
    "data['children'].unique()"
   ]
  },
  {
   "cell_type": "markdown",
   "id": "ee3f52d4",
   "metadata": {
    "deletable": false,
    "editable": false,
    "id": "ee3f52d4"
   },
   "source": [
    "### Удаление пропусков (продолжение)"
   ]
  },
  {
   "cell_type": "markdown",
   "id": "a700b0e4",
   "metadata": {
    "deletable": false,
    "editable": false,
    "id": "a700b0e4"
   },
   "source": [
    "**Задание 11. Заполните пропуски в столбце `days_employed` медианными значениями по каждого типа занятости `income_type`.**"
   ]
  },
  {
   "cell_type": "code",
   "execution_count": 30,
   "id": "61946b83",
   "metadata": {
    "deletable": false,
    "id": "61946b83"
   },
   "outputs": [],
   "source": [
    "for t in data['income_type'].unique():\n",
    "    data.loc[(data['income_type'] == t) & (data['days_employed'].isna()), 'days_employed'] = \\\n",
    "    data.loc[(data['income_type'] == t), 'days_employed'].median()"
   ]
  },
  {
   "cell_type": "markdown",
   "id": "550dcd9b",
   "metadata": {
    "deletable": false,
    "editable": false,
    "id": "550dcd9b"
   },
   "source": [
    "**Задание 12. Убедитесь, что все пропуски заполнены. Проверьте себя и ещё раз выведите количество пропущенных значений для каждого столбца с помощью двух методов.**"
   ]
  },
  {
   "cell_type": "code",
   "execution_count": 32,
   "id": "937c7014",
   "metadata": {
    "deletable": false,
    "id": "937c7014",
    "outputId": "8da1e4e1-358e-4e87-98c9-f261bce0a7b2"
   },
   "outputs": [
    {
     "data": {
      "text/plain": [
       "children            0\n",
       "days_employed       0\n",
       "dob_years           0\n",
       "education           0\n",
       "education_id        0\n",
       "family_status       0\n",
       "family_status_id    0\n",
       "gender              0\n",
       "income_type         0\n",
       "debt                0\n",
       "total_income        0\n",
       "purpose             0\n",
       "dtype: int64"
      ]
     },
     "execution_count": 32,
     "metadata": {},
     "output_type": "execute_result"
    }
   ],
   "source": [
    "data.isna().sum()"
   ]
  },
  {
   "cell_type": "markdown",
   "id": "d522e295",
   "metadata": {
    "deletable": false,
    "editable": false,
    "id": "d522e295"
   },
   "source": [
    "### Изменение типов данных"
   ]
  },
  {
   "cell_type": "markdown",
   "id": "c229c581",
   "metadata": {
    "deletable": false,
    "editable": false,
    "id": "c229c581"
   },
   "source": [
    "**Задание 13. Замените вещественный тип данных в столбце `total_income` на целочисленный с помощью метода `astype()`.**"
   ]
  },
  {
   "cell_type": "code",
   "execution_count": 35,
   "id": "31036462",
   "metadata": {
    "deletable": false,
    "id": "31036462"
   },
   "outputs": [],
   "source": [
    "data['total_income'] = data['total_income'].astype(int)"
   ]
  },
  {
   "cell_type": "markdown",
   "id": "b8e3d1d9",
   "metadata": {
    "deletable": false,
    "editable": false,
    "id": "b8e3d1d9"
   },
   "source": [
    "### Обработка дубликатов"
   ]
  },
  {
   "cell_type": "markdown",
   "id": "9be53c49",
   "metadata": {
    "deletable": false,
    "editable": false,
    "id": "9be53c49"
   },
   "source": [
    "**Задание 14. Обработайте неявные дубликаты в столбце `education`. В этом столбце есть одни и те же значения, но записанные по-разному: с использованием заглавных и строчных букв. Приведите их к нижнему регистру.**"
   ]
  },
  {
   "cell_type": "code",
   "execution_count": 38,
   "id": "d89e73e1",
   "metadata": {
    "deletable": false,
    "id": "d89e73e1"
   },
   "outputs": [],
   "source": [
    "data['education'] = data['education'].str.lower()"
   ]
  },
  {
   "cell_type": "markdown",
   "id": "01d4500e",
   "metadata": {
    "deletable": false,
    "editable": false,
    "id": "01d4500e"
   },
   "source": [
    "**Задание 15. Выведите на экран количество строк-дубликатов в данных. Если такие строки присутствуют, удалите их.**"
   ]
  },
  {
   "cell_type": "code",
   "execution_count": 40,
   "id": "e10efb23",
   "metadata": {
    "deletable": false,
    "id": "e10efb23",
    "outputId": "9684deba-1934-42d1-99e1-cda61740f822"
   },
   "outputs": [
    {
     "data": {
      "text/plain": [
       "71"
      ]
     },
     "execution_count": 40,
     "metadata": {},
     "output_type": "execute_result"
    }
   ],
   "source": [
    "data.duplicated().sum()"
   ]
  },
  {
   "cell_type": "code",
   "execution_count": 41,
   "id": "df853f20",
   "metadata": {
    "deletable": false,
    "id": "df853f20"
   },
   "outputs": [],
   "source": [
    "data = data.drop_duplicates()"
   ]
  },
  {
   "cell_type": "markdown",
   "id": "627be38f",
   "metadata": {
    "deletable": false,
    "editable": false,
    "id": "627be38f"
   },
   "source": [
    "## Категоризация данных"
   ]
  },
  {
   "cell_type": "markdown",
   "id": "4684c3e0",
   "metadata": {
    "deletable": false,
    "editable": false,
    "id": "4684c3e0"
   },
   "source": [
    "**Задание 16. На основании диапазонов, указанных ниже, создайте в датафрейме `data` столбец `total_income_category` с категориями:**\n",
    "\n",
    "- 0–30000 — `'E'`;\n",
    "- 30001–50000 — `'D'`;\n",
    "- 50001–200000 — `'C'`;\n",
    "- 200001–1000000 — `'B'`;\n",
    "- 1000001 и выше — `'A'`.\n",
    "\n",
    "\n",
    "**Например, кредитополучателю с доходом 25000 нужно назначить категорию `'E'`, а клиенту, получающему 235000, — `'B'`. Используйте собственную функцию с именем `categorize_income()` и метод `apply()`.**"
   ]
  },
  {
   "cell_type": "code",
   "execution_count": 44,
   "id": "78965238",
   "metadata": {
    "deletable": false,
    "id": "78965238"
   },
   "outputs": [],
   "source": [
    "def categorize_income1(income):\n",
    "    try:\n",
    "        if 0 <= income <= 30000:\n",
    "            return 'E'\n",
    "        elif 30001 <= income <= 50000:\n",
    "            return 'D'\n",
    "        elif 50001 <= income <= 200000:\n",
    "            return 'C'\n",
    "        elif 200001 <= income <= 1000000:\n",
    "            return 'B'\n",
    "        elif income >= 1000001:\n",
    "            return 'A'\n",
    "    except:\n",
    "        pass"
   ]
  },
  {
   "cell_type": "code",
   "execution_count": 45,
   "id": "0980ada1",
   "metadata": {
    "deletable": false,
    "id": "0980ada1"
   },
   "outputs": [],
   "source": [
    "data['total_income_category1'] = data['total_income'].apply(categorize_income1)"
   ]
  },
  {
   "cell_type": "markdown",
   "id": "9917bba0",
   "metadata": {
    "deletable": false,
    "editable": false,
    "id": "9917bba0"
   },
   "source": [
    "**Задание 17. Выведите на экран перечень уникальных целей взятия кредита из столбца `purpose`.**"
   ]
  },
  {
   "cell_type": "code",
   "execution_count": 47,
   "id": "ee07b65e",
   "metadata": {
    "deletable": false,
    "id": "ee07b65e",
    "outputId": "673c12d9-7d7e-4ae0-9812-c622c89dd244"
   },
   "outputs": [
    {
     "data": {
      "text/plain": [
       "array(['покупка жилья', 'приобретение автомобиля',\n",
       "       'дополнительное образование', 'сыграть свадьбу',\n",
       "       'операции с жильем', 'образование', 'на проведение свадьбы',\n",
       "       'покупка жилья для семьи', 'покупка недвижимости',\n",
       "       'покупка коммерческой недвижимости', 'покупка жилой недвижимости',\n",
       "       'строительство собственной недвижимости', 'недвижимость',\n",
       "       'строительство недвижимости', 'на покупку подержанного автомобиля',\n",
       "       'на покупку своего автомобиля',\n",
       "       'операции с коммерческой недвижимостью',\n",
       "       'строительство жилой недвижимости', 'жилье',\n",
       "       'операции со своей недвижимостью', 'автомобили',\n",
       "       'заняться образованием', 'сделка с подержанным автомобилем',\n",
       "       'получение образования', 'автомобиль', 'свадьба',\n",
       "       'получение дополнительного образования', 'покупка своего жилья',\n",
       "       'операции с недвижимостью', 'получение высшего образования',\n",
       "       'свой автомобиль', 'сделка с автомобилем',\n",
       "       'профильное образование', 'высшее образование',\n",
       "       'покупка жилья для сдачи', 'на покупку автомобиля', 'ремонт жилью',\n",
       "       'заняться высшим образованием'], dtype=object)"
      ]
     },
     "execution_count": 47,
     "metadata": {},
     "output_type": "execute_result"
    }
   ],
   "source": [
    "data['purpose'].unique()"
   ]
  },
  {
   "cell_type": "markdown",
   "id": "52b79d56",
   "metadata": {
    "deletable": false,
    "editable": false,
    "id": "52b79d56"
   },
   "source": [
    "**Задание 18. Создайте функцию, которая на основании данных из столбца `purpose` сформирует новый столбец `purpose_category`, в который войдут следующие категории:**\n",
    "\n",
    "- `'операции с автомобилем'`,\n",
    "- `'операции с недвижимостью'`,\n",
    "- `'проведение свадьбы'`,\n",
    "- `'получение образования'`.\n",
    "\n",
    "**Например, если в столбце `purpose` находится подстрока `'на покупку автомобиля'`, то в столбце `purpose_category` должна появиться строка `'операции с автомобилем'`.**\n",
    "\n",
    "**Используйте собственную функцию с именем `categorize_purpose()` и метод `apply()`. Изучите данные в столбце `purpose` и определите, какие подстроки помогут вам правильно определить категорию.**"
   ]
  },
  {
   "cell_type": "code",
   "execution_count": 49,
   "id": "be41da5d",
   "metadata": {
    "deletable": false,
    "id": "be41da5d"
   },
   "outputs": [],
   "source": [
    "def categorize_purpose(row):\n",
    "    try:\n",
    "        if 'автом' in row:\n",
    "            return 'операции с автомобилем'\n",
    "        elif 'жил' in row or 'недвиж' in row:\n",
    "            return 'операции с недвижимостью'\n",
    "        elif 'свад' in row:\n",
    "            return 'проведение свадьбы'\n",
    "        elif 'образов' in row:\n",
    "            return 'получение образования'\n",
    "    except:\n",
    "        return 'нет категории'"
   ]
  },
  {
   "cell_type": "code",
   "execution_count": 50,
   "id": "94c4a19a",
   "metadata": {
    "deletable": false,
    "id": "94c4a19a"
   },
   "outputs": [],
   "source": [
    "data['purpose_category'] = data['purpose'].apply(categorize_purpose)"
   ]
  },
  {
   "cell_type": "markdown",
   "id": "3d596c34",
   "metadata": {
    "deletable": false,
    "editable": false,
    "id": "3d596c34"
   },
   "source": [
    "## Анализ данных"
   ]
  },
  {
   "cell_type": "markdown",
   "id": "648db036",
   "metadata": {
    "deletable": false,
    "editable": false,
    "id": "648db036"
   },
   "source": [
    "### Есть ли зависимость между количеством детей и возвратом кредита в срок?"
   ]
  },
  {
   "cell_type": "code",
   "execution_count": 53,
   "id": "6d7f8562",
   "metadata": {},
   "outputs": [
    {
     "name": "stdout",
     "output_type": "stream",
     "text": [
      "children\n",
      "0    14091\n",
      "1     4808\n",
      "2     2052\n",
      "3      330\n",
      "4       41\n",
      "5        9\n",
      "Name: count, dtype: int64\n",
      "\n",
      "debt\n",
      "0    19599\n",
      "1     1732\n",
      "Name: count, dtype: int64\n"
     ]
    }
   ],
   "source": [
    "# Ваш код будет здесь. Вы можете создавать новые ячейки.\n",
    "# Проверка распределения данных\n",
    "print(data['children'].value_counts())\n",
    "print()\n",
    "print(data['debt'].value_counts())"
   ]
  },
  {
   "cell_type": "code",
   "execution_count": 54,
   "id": "7fcff25e",
   "metadata": {
    "deletable": false,
    "id": "7fcff25e"
   },
   "outputs": [
    {
     "name": "stdout",
     "output_type": "stream",
     "text": [
      "          no_debt  debt  total  no_debt, %   debt, %\n",
      "children                                            \n",
      "5               9     0      9  100.000000  0.000000\n",
      "0           13028  1063  14091   92.456178  7.543822\n",
      "3             303    27    330   91.818182  8.181818\n",
      "1            4364   444   4808   90.765391  9.234609\n",
      "2            1858   194   2052   90.545809  9.454191\n",
      "4              37     4     41   90.243902  9.756098\n"
     ]
    }
   ],
   "source": [
    "# Создаем сводную таблицу по количеству детей и статусу возврата кредита\n",
    "pivot_table = data.pivot_table(index='children', columns='debt', values='education', aggfunc='count', fill_value=0)\n",
    "\n",
    "# Переименовываем столбцы для ясности\n",
    "pivot_table.columns = ['no_debt', 'debt']\n",
    "\n",
    "# Считаем общий столбец\n",
    "pivot_table['total'] = pivot_table['no_debt'] + pivot_table['debt']\n",
    "\n",
    "# Считаем долю возврата и невозврата кредитов\n",
    "pivot_table['no_debt, %'] = (pivot_table['no_debt'] / pivot_table['total']) * 100\n",
    "pivot_table['debt, %'] = (pivot_table['debt'] / pivot_table['total']) * 100\n",
    "\n",
    "print(pivot_table.sort_values(by='no_debt, %', ascending=False))"
   ]
  },
  {
   "cell_type": "markdown",
   "id": "0ac22ae3",
   "metadata": {},
   "source": [
    "- Выборка заемщиков с 3-5 детьми слишком мала для статистически значимых выводов, поэтому объединяем их в 1 категорию.\n",
    "- Статистика по заемщикам с 1-2 детьми почти одинакова, данные по ним тоже объединяем."
   ]
  },
  {
   "cell_type": "code",
   "execution_count": 56,
   "id": "1896126c",
   "metadata": {},
   "outputs": [],
   "source": [
    "def categorize_children(children):\n",
    "    try:\n",
    "        if children == 0:\n",
    "            return 'нет детей'\n",
    "        elif children >= 1:\n",
    "            return 'есть дети'\n",
    "    except:\n",
    "        pass"
   ]
  },
  {
   "cell_type": "code",
   "execution_count": 57,
   "id": "656de2a3",
   "metadata": {},
   "outputs": [],
   "source": [
    "data['children_category'] = data['children'].apply(categorize_children)"
   ]
  },
  {
   "cell_type": "code",
   "execution_count": 58,
   "id": "33c120fb",
   "metadata": {},
   "outputs": [],
   "source": [
    "# Пишем фнкцию для создания сводной таблицы\n",
    "def create_pivot_table(data, column):\n",
    "    # Создаем сводную таблицу\n",
    "    pivot_table = data.pivot_table(index=column, values='debt', aggfunc=['count', 'sum', 'mean'])\n",
    "    \n",
    "    # Переименовываем столбцы для ясности\n",
    "    pivot_table.columns = ['all_credits', 'all_debtors','share_debtors']\n",
    "    \n",
    "    # Сортируем по столбцу 'share_debtors' в порядке убывания\n",
    "    pivot_table = pivot_table.sort_values(by='share_debtors')\n",
    "    \n",
    "    # Преобразуем share_debtors в проценты\n",
    "    pivot_table['share_debtors'] = pivot_table['share_debtors'] * 100\n",
    "    \n",
    "    # Форматируем доли должников как проценты\n",
    "    pivot_table['share_debtors'] = pivot_table['share_debtors'].map('{:.2f}%'.format)\n",
    "    \n",
    "    # Выводим результат\n",
    "    display(pivot_table)"
   ]
  },
  {
   "cell_type": "code",
   "execution_count": 59,
   "id": "a1735dc9",
   "metadata": {},
   "outputs": [
    {
     "data": {
      "text/html": [
       "<div>\n",
       "<style scoped>\n",
       "    .dataframe tbody tr th:only-of-type {\n",
       "        vertical-align: middle;\n",
       "    }\n",
       "\n",
       "    .dataframe tbody tr th {\n",
       "        vertical-align: top;\n",
       "    }\n",
       "\n",
       "    .dataframe thead th {\n",
       "        text-align: right;\n",
       "    }\n",
       "</style>\n",
       "<table border=\"1\" class=\"dataframe\">\n",
       "  <thead>\n",
       "    <tr style=\"text-align: right;\">\n",
       "      <th></th>\n",
       "      <th>all_credits</th>\n",
       "      <th>all_debtors</th>\n",
       "      <th>share_debtors</th>\n",
       "    </tr>\n",
       "    <tr>\n",
       "      <th>children_category</th>\n",
       "      <th></th>\n",
       "      <th></th>\n",
       "      <th></th>\n",
       "    </tr>\n",
       "  </thead>\n",
       "  <tbody>\n",
       "    <tr>\n",
       "      <th>нет детей</th>\n",
       "      <td>14091</td>\n",
       "      <td>1063</td>\n",
       "      <td>7.54%</td>\n",
       "    </tr>\n",
       "    <tr>\n",
       "      <th>есть дети</th>\n",
       "      <td>7240</td>\n",
       "      <td>669</td>\n",
       "      <td>9.24%</td>\n",
       "    </tr>\n",
       "  </tbody>\n",
       "</table>\n",
       "</div>"
      ],
      "text/plain": [
       "                   all_credits  all_debtors share_debtors\n",
       "children_category                                        \n",
       "нет детей                14091         1063         7.54%\n",
       "есть дети                 7240          669         9.24%"
      ]
     },
     "metadata": {},
     "output_type": "display_data"
    }
   ],
   "source": [
    "# Запускаем функцию для анализа данных по количеству детей заемщиков\n",
    "create_pivot_table(data, 'children_category')"
   ]
  },
  {
   "cell_type": "markdown",
   "id": "2eb9088e",
   "metadata": {
    "deletable": false,
    "id": "2eb9088e"
   },
   "source": [
    "**Выводы:**\n",
    "\n",
    "- Заемщики без детей показывают самый высокий процент возврата кредита. Это может быть связано с тем, что у них меньше финансовых обязательств.\n",
    "- Заемщики с детьми также показывают низкий процент возврата кредита."
   ]
  },
  {
   "cell_type": "markdown",
   "id": "74c9b3a7",
   "metadata": {
    "deletable": false,
    "editable": false,
    "id": "74c9b3a7"
   },
   "source": [
    "### Есть ли зависимость между семейным положением и возвратом кредита в срок?"
   ]
  },
  {
   "cell_type": "code",
   "execution_count": 62,
   "id": "8098ab3b",
   "metadata": {
    "deletable": false,
    "id": "8098ab3b"
   },
   "outputs": [
    {
     "name": "stdout",
     "output_type": "stream",
     "text": [
      "family_status\n",
      "женат / замужем          12261\n",
      "гражданский брак          4134\n",
      "Не женат / не замужем     2796\n",
      "в разводе                 1189\n",
      "вдовец / вдова             951\n",
      "Name: count, dtype: int64\n"
     ]
    }
   ],
   "source": [
    "# Ваш код будет здесь. Вы можете создавать новые ячейки.\n",
    "# Проверка распределения данных\n",
    "print(data['family_status'].value_counts())"
   ]
  },
  {
   "cell_type": "code",
   "execution_count": 63,
   "id": "1cc86b3b",
   "metadata": {},
   "outputs": [
    {
     "data": {
      "text/html": [
       "<div>\n",
       "<style scoped>\n",
       "    .dataframe tbody tr th:only-of-type {\n",
       "        vertical-align: middle;\n",
       "    }\n",
       "\n",
       "    .dataframe tbody tr th {\n",
       "        vertical-align: top;\n",
       "    }\n",
       "\n",
       "    .dataframe thead th {\n",
       "        text-align: right;\n",
       "    }\n",
       "</style>\n",
       "<table border=\"1\" class=\"dataframe\">\n",
       "  <thead>\n",
       "    <tr style=\"text-align: right;\">\n",
       "      <th></th>\n",
       "      <th>all_credits</th>\n",
       "      <th>all_debtors</th>\n",
       "      <th>share_debtors</th>\n",
       "    </tr>\n",
       "    <tr>\n",
       "      <th>family_status</th>\n",
       "      <th></th>\n",
       "      <th></th>\n",
       "      <th></th>\n",
       "    </tr>\n",
       "  </thead>\n",
       "  <tbody>\n",
       "    <tr>\n",
       "      <th>вдовец / вдова</th>\n",
       "      <td>951</td>\n",
       "      <td>63</td>\n",
       "      <td>6.62%</td>\n",
       "    </tr>\n",
       "    <tr>\n",
       "      <th>в разводе</th>\n",
       "      <td>1189</td>\n",
       "      <td>84</td>\n",
       "      <td>7.06%</td>\n",
       "    </tr>\n",
       "    <tr>\n",
       "      <th>женат / замужем</th>\n",
       "      <td>12261</td>\n",
       "      <td>927</td>\n",
       "      <td>7.56%</td>\n",
       "    </tr>\n",
       "    <tr>\n",
       "      <th>гражданский брак</th>\n",
       "      <td>4134</td>\n",
       "      <td>385</td>\n",
       "      <td>9.31%</td>\n",
       "    </tr>\n",
       "    <tr>\n",
       "      <th>Не женат / не замужем</th>\n",
       "      <td>2796</td>\n",
       "      <td>273</td>\n",
       "      <td>9.76%</td>\n",
       "    </tr>\n",
       "  </tbody>\n",
       "</table>\n",
       "</div>"
      ],
      "text/plain": [
       "                       all_credits  all_debtors share_debtors\n",
       "family_status                                                \n",
       "вдовец / вдова                 951           63         6.62%\n",
       "в разводе                     1189           84         7.06%\n",
       "женат / замужем              12261          927         7.56%\n",
       "гражданский брак              4134          385         9.31%\n",
       "Не женат / не замужем         2796          273         9.76%"
      ]
     },
     "metadata": {},
     "output_type": "display_data"
    }
   ],
   "source": [
    "# Запускаем функцию для анализа данных семейного положения заемщиков\n",
    "create_pivot_table(data, 'family_status')"
   ]
  },
  {
   "cell_type": "markdown",
   "id": "c389ca63",
   "metadata": {
    "deletable": false,
    "id": "c389ca63"
   },
   "source": [
    "**Выводы:**\n",
    "- Высокий процент возврата кредита у заемщиков в браке или бывших в браке (вдовцов/вдов, в разводе и женатых/замужних).\n",
    "- Низкий процент возврата кредита у заемщиков в гражданском браке и не женатых/не замужних. "
   ]
  },
  {
   "cell_type": "markdown",
   "id": "9529de68",
   "metadata": {
    "deletable": false,
    "editable": false,
    "id": "9529de68"
   },
   "source": [
    "### Есть ли зависимость между уровнем дохода и возвратом кредита в срок?"
   ]
  },
  {
   "cell_type": "code",
   "execution_count": 66,
   "id": "8787f44a",
   "metadata": {
    "deletable": false,
    "id": "8787f44a"
   },
   "outputs": [
    {
     "name": "stdout",
     "output_type": "stream",
     "text": [
      "total_income_category1\n",
      "C    15921\n",
      "B     5014\n",
      "D      349\n",
      "A       25\n",
      "E       22\n",
      "Name: count, dtype: int64\n",
      "\n",
      "debt\n",
      "0    19599\n",
      "1     1732\n",
      "Name: count, dtype: int64\n"
     ]
    }
   ],
   "source": [
    "# Ваш код будет здесь. Вы можете создавать новые ячейки.\n",
    "# Проверка распределения данных\n",
    "print(data['total_income_category1'].value_counts())\n",
    "print()\n",
    "print(data['debt'].value_counts())"
   ]
  },
  {
   "cell_type": "markdown",
   "id": "d7c7c209",
   "metadata": {},
   "source": [
    "Выборки заемщиков в категориях A, E и D слишком малы для статистически значимых выводов, поэтому объединяем: \n",
    "- категории A и B (доход более 200000)\n",
    "- категории C, D, E (доход менее 200000)"
   ]
  },
  {
   "cell_type": "code",
   "execution_count": 68,
   "id": "06d06529",
   "metadata": {},
   "outputs": [],
   "source": [
    "def categorize_income2(income):\n",
    "    try:\n",
    "        if income >= 200000:\n",
    "            return 'доход более 200000'\n",
    "        elif 0 <= income <= 200000:\n",
    "            return 'доход менее 200000'\n",
    "    except:\n",
    "        pass"
   ]
  },
  {
   "cell_type": "code",
   "execution_count": 69,
   "id": "99f8c37d",
   "metadata": {},
   "outputs": [],
   "source": [
    "data['total_income_category2'] = data['total_income'].apply(categorize_income2)"
   ]
  },
  {
   "cell_type": "code",
   "execution_count": 70,
   "id": "488bc5e4",
   "metadata": {},
   "outputs": [
    {
     "data": {
      "text/html": [
       "<div>\n",
       "<style scoped>\n",
       "    .dataframe tbody tr th:only-of-type {\n",
       "        vertical-align: middle;\n",
       "    }\n",
       "\n",
       "    .dataframe tbody tr th {\n",
       "        vertical-align: top;\n",
       "    }\n",
       "\n",
       "    .dataframe thead th {\n",
       "        text-align: right;\n",
       "    }\n",
       "</style>\n",
       "<table border=\"1\" class=\"dataframe\">\n",
       "  <thead>\n",
       "    <tr style=\"text-align: right;\">\n",
       "      <th></th>\n",
       "      <th>all_credits</th>\n",
       "      <th>all_debtors</th>\n",
       "      <th>share_debtors</th>\n",
       "    </tr>\n",
       "    <tr>\n",
       "      <th>total_income_category2</th>\n",
       "      <th></th>\n",
       "      <th></th>\n",
       "      <th></th>\n",
       "    </tr>\n",
       "  </thead>\n",
       "  <tbody>\n",
       "    <tr>\n",
       "      <th>доход более 200000</th>\n",
       "      <td>5039</td>\n",
       "      <td>356</td>\n",
       "      <td>7.06%</td>\n",
       "    </tr>\n",
       "    <tr>\n",
       "      <th>доход менее 200000</th>\n",
       "      <td>16292</td>\n",
       "      <td>1376</td>\n",
       "      <td>8.45%</td>\n",
       "    </tr>\n",
       "  </tbody>\n",
       "</table>\n",
       "</div>"
      ],
      "text/plain": [
       "                        all_credits  all_debtors share_debtors\n",
       "total_income_category2                                        \n",
       "доход более 200000             5039          356         7.06%\n",
       "доход менее 200000            16292         1376         8.45%"
      ]
     },
     "metadata": {},
     "output_type": "display_data"
    }
   ],
   "source": [
    "# Запускаем функцию для анализа данных дохода заемщиков\n",
    "create_pivot_table(data, 'total_income_category2')"
   ]
  },
  {
   "cell_type": "markdown",
   "id": "6dd14b57",
   "metadata": {
    "deletable": false,
    "id": "6dd14b57"
   },
   "source": [
    "**Выводы:**\n",
    "- Заемщики с доходом более 200000 имеют более высокий процент возврата кредита. \n",
    "- Заемщики с доходом менее 200000 имеют более низкий процент возврата кредита. "
   ]
  },
  {
   "cell_type": "markdown",
   "id": "1dcc9b12",
   "metadata": {
    "deletable": false,
    "editable": false,
    "id": "1dcc9b12"
   },
   "source": [
    "### Как разные цели кредита влияют на его возврат в срок?"
   ]
  },
  {
   "cell_type": "code",
   "execution_count": 73,
   "id": "c602bc8b",
   "metadata": {
    "deletable": false,
    "id": "c602bc8b"
   },
   "outputs": [
    {
     "name": "stdout",
     "output_type": "stream",
     "text": [
      "purpose_category\n",
      "операции с недвижимостью    10751\n",
      "операции с автомобилем       4279\n",
      "получение образования        3988\n",
      "проведение свадьбы           2313\n",
      "Name: count, dtype: int64\n",
      "\n",
      "debt\n",
      "0    19599\n",
      "1     1732\n",
      "Name: count, dtype: int64\n"
     ]
    }
   ],
   "source": [
    "# Ваш код будет здесь. Вы можете создавать новые ячейки.\n",
    "# Проверка распределения данных\n",
    "print(data['purpose_category'].value_counts())\n",
    "print()\n",
    "print(data['debt'].value_counts())"
   ]
  },
  {
   "cell_type": "code",
   "execution_count": 74,
   "id": "eb80a10b",
   "metadata": {},
   "outputs": [
    {
     "data": {
      "text/html": [
       "<div>\n",
       "<style scoped>\n",
       "    .dataframe tbody tr th:only-of-type {\n",
       "        vertical-align: middle;\n",
       "    }\n",
       "\n",
       "    .dataframe tbody tr th {\n",
       "        vertical-align: top;\n",
       "    }\n",
       "\n",
       "    .dataframe thead th {\n",
       "        text-align: right;\n",
       "    }\n",
       "</style>\n",
       "<table border=\"1\" class=\"dataframe\">\n",
       "  <thead>\n",
       "    <tr style=\"text-align: right;\">\n",
       "      <th></th>\n",
       "      <th>all_credits</th>\n",
       "      <th>all_debtors</th>\n",
       "      <th>share_debtors</th>\n",
       "    </tr>\n",
       "    <tr>\n",
       "      <th>purpose_category</th>\n",
       "      <th></th>\n",
       "      <th></th>\n",
       "      <th></th>\n",
       "    </tr>\n",
       "  </thead>\n",
       "  <tbody>\n",
       "    <tr>\n",
       "      <th>операции с недвижимостью</th>\n",
       "      <td>10751</td>\n",
       "      <td>780</td>\n",
       "      <td>7.26%</td>\n",
       "    </tr>\n",
       "    <tr>\n",
       "      <th>проведение свадьбы</th>\n",
       "      <td>2313</td>\n",
       "      <td>183</td>\n",
       "      <td>7.91%</td>\n",
       "    </tr>\n",
       "    <tr>\n",
       "      <th>получение образования</th>\n",
       "      <td>3988</td>\n",
       "      <td>369</td>\n",
       "      <td>9.25%</td>\n",
       "    </tr>\n",
       "    <tr>\n",
       "      <th>операции с автомобилем</th>\n",
       "      <td>4279</td>\n",
       "      <td>400</td>\n",
       "      <td>9.35%</td>\n",
       "    </tr>\n",
       "  </tbody>\n",
       "</table>\n",
       "</div>"
      ],
      "text/plain": [
       "                          all_credits  all_debtors share_debtors\n",
       "purpose_category                                                \n",
       "операции с недвижимостью        10751          780         7.26%\n",
       "проведение свадьбы               2313          183         7.91%\n",
       "получение образования            3988          369         9.25%\n",
       "операции с автомобилем           4279          400         9.35%"
      ]
     },
     "metadata": {},
     "output_type": "display_data"
    }
   ],
   "source": [
    "# Запускаем функцию для анализа данных по количеству детей заемщиков\n",
    "create_pivot_table(data, 'purpose_category')"
   ]
  },
  {
   "cell_type": "markdown",
   "id": "cf05ed63",
   "metadata": {
    "deletable": false,
    "id": "cf05ed63"
   },
   "source": [
    "**Вывод:** \n",
    "- Высокий процент возврата кредита у заемщиков, берущих кредиты на операции с недвижимостью и проведение свадьбы.\n",
    "- Средний процент возврата кредита у заемщиков, берущих кредиты на проведение свадьбы.\n",
    "- Низкий процент возврата кредита у заемщиков, берущих кредиты на получение образования и операции с автомобилем. "
   ]
  },
  {
   "cell_type": "markdown",
   "id": "46c1f10b",
   "metadata": {
    "deletable": false,
    "editable": false,
    "id": "46c1f10b"
   },
   "source": [
    "### Приведите возможные причины появления пропусков в исходных данных."
   ]
  },
  {
   "cell_type": "markdown",
   "id": "3697d2a9",
   "metadata": {
    "deletable": false,
    "id": "3697d2a9"
   },
   "source": [
    "**Ответ:**\n",
    "\n",
    "Появление пропусков в данных о днях занятости (days_employed) и общем доходе (total_income) может быть по следующим причинам:\n",
    "- Намеренное скрытие информации. Возможно заемщики намеренно скрывают о своем доходе и занятости с целью получения более выгодных условий кредита.\n",
    "- Ошибка ввода данных. Если поле было не обязательным, то в процессе заполнения анкеты заемщик мог пропустить его.\n",
    "- Технические проблемы. Возможны технические проблемы при сборе, хранении или выгрузке данных, которые могут привести к потере или изменению информации."
   ]
  },
  {
   "cell_type": "markdown",
   "id": "3137d257",
   "metadata": {
    "deletable": false,
    "editable": false,
    "id": "3137d257"
   },
   "source": [
    "### Объясните, почему заполнить пропуски медианным значением — лучшее решение для количественных переменных."
   ]
  },
  {
   "cell_type": "markdown",
   "id": "cf40012a",
   "metadata": {
    "deletable": false,
    "id": "cf40012a"
   },
   "source": [
    "**Ответ:**\n",
    "\n",
    "Потому что медиана представляет собой центральную меру распределения данных, которая не чувствительна к выбросам или крайним значениям, в отличие от среднего значения. Это делает медиану более устойчивой к выбросам и искажениям данных."
   ]
  },
  {
   "cell_type": "markdown",
   "id": "57bc304e",
   "metadata": {
    "deletable": false,
    "editable": false,
    "id": "57bc304e"
   },
   "source": [
    "## Общий вывод."
   ]
  },
  {
   "cell_type": "markdown",
   "id": "1ab75d1c",
   "metadata": {
    "deletable": false,
    "id": "1ab75d1c"
   },
   "source": [
    "Напишите ваш общий вывод."
   ]
  },
  {
   "cell_type": "markdown",
   "id": "f857fee3",
   "metadata": {},
   "source": [
    "**Цель:** \n",
    "Разобраться, влияет ли семейное положение и количество детей клиента на факт погашения кредита в срок. \n",
    "\n",
    "**Входные данные:**\n",
    "Статистика о платёжеспособности клиентов, предоставленная банком.\n",
    "\n",
    "**Описание данных:**\n",
    "Анализ был на основании *21331* записей, очищенных от аномальных значений, явных и неявных дубликатов.\n",
    "В двух столбцах (`days_employed`, `total_income`) были пропущенные значения. На эти данные сильнее всего влияет тип занятости, поэтому пропуски заполнены медианным значением среди всех записей с тем же типом.\n",
    "Для удобства анализа данные о доходах и целях покупки были категоризированы.\n",
    "\n",
    "**На основании анализа можно сделать следующие выводы:**\n",
    "\n",
    "**1. Влияние наличия детей**\n",
    "- Заемщики без детей имеют более низкий риск невозврата кредита (7.54%) по сравнению с заемщиками с детьми (9.24%).\n",
    "\n",
    "**2. Влияние семейного статуса**\n",
    "- Наиболее надежные люди в браке или бывшие в браке. Заемщики в браке, вдовы/вдовцы и разведенные  имеют относительно низкий риск невозврата кредита (6.62%, 7.06%, 7.56% соответственно).\n",
    "- Заемщики в гражданском браке и не женатые/не замужние имеют высокий риск невозврата кредита (9.31% и 9.76% соответственно).\n",
    "\n",
    "**3. Влияние уровня дохода**\n",
    "- Заемщики с доходом более 200,000 имеют более низкий риск невозврата кредита (7.06%) по сравнению с заемщиками с доходом менее 200,000 (8.45%).\n",
    "\n",
    "**4. Влияние цели кредита**\n",
    "- Операции с недвижимостью имеют наименьший риск невозврата кредита (7.26%).\n",
    "- Проведение свадьбы имеет умеренный риск невозврата кредита (7.91%).\n",
    "- Получение образования и операции с автомобилем имеют более высокий риск невозврата кредита (9.25% и 9.35% соответственно)."
   ]
  }
 ],
 "metadata": {
  "ExecuteTimeLog": [
   {
    "duration": 626,
    "start_time": "2024-05-20T10:46:30.853Z"
   },
   {
    "duration": 27,
    "start_time": "2024-05-20T10:46:31.482Z"
   },
   {
    "duration": 75,
    "start_time": "2024-05-20T10:46:31.511Z"
   },
   {
    "duration": 62,
    "start_time": "2024-05-20T10:46:31.588Z"
   },
   {
    "duration": 80,
    "start_time": "2024-05-20T10:46:31.652Z"
   },
   {
    "duration": 4,
    "start_time": "2024-05-20T10:46:31.735Z"
   },
   {
    "duration": 168,
    "start_time": "2024-05-20T10:46:31.741Z"
   },
   {
    "duration": 782,
    "start_time": "2024-05-20T10:46:31.911Z"
   },
   {
    "duration": 236,
    "start_time": "2024-05-20T10:46:32.695Z"
   },
   {
    "duration": 7,
    "start_time": "2024-05-20T10:46:32.934Z"
   },
   {
    "duration": 60,
    "start_time": "2024-05-20T10:46:32.943Z"
   },
   {
    "duration": 12,
    "start_time": "2024-05-20T10:46:33.005Z"
   },
   {
    "duration": 4,
    "start_time": "2024-05-20T10:46:33.030Z"
   },
   {
    "duration": 23,
    "start_time": "2024-05-20T10:46:33.037Z"
   },
   {
    "duration": 35,
    "start_time": "2024-05-20T10:46:33.062Z"
   },
   {
    "duration": 33,
    "start_time": "2024-05-20T10:46:33.098Z"
   },
   {
    "duration": 5,
    "start_time": "2024-05-20T10:46:33.134Z"
   },
   {
    "duration": 22,
    "start_time": "2024-05-20T10:46:33.141Z"
   },
   {
    "duration": 6,
    "start_time": "2024-05-20T10:46:33.166Z"
   },
   {
    "duration": 21,
    "start_time": "2024-05-20T10:46:33.174Z"
   },
   {
    "duration": 23,
    "start_time": "2024-05-20T10:46:33.197Z"
   },
   {
    "duration": 11,
    "start_time": "2024-05-20T10:46:33.221Z"
   },
   {
    "duration": 10,
    "start_time": "2024-05-20T10:46:33.234Z"
   },
   {
    "duration": 9,
    "start_time": "2024-05-20T10:46:33.247Z"
   },
   {
    "duration": 26,
    "start_time": "2024-05-20T10:46:33.258Z"
   },
   {
    "duration": 19,
    "start_time": "2024-05-20T10:46:42.412Z"
   },
   {
    "duration": 6,
    "start_time": "2024-05-20T10:48:11.031Z"
   },
   {
    "duration": 6,
    "start_time": "2024-05-20T10:48:24.805Z"
   },
   {
    "duration": 72,
    "start_time": "2024-05-20T11:10:16.904Z"
   },
   {
    "duration": 6,
    "start_time": "2024-05-20T11:10:35.610Z"
   },
   {
    "duration": 6,
    "start_time": "2024-05-20T11:10:46.425Z"
   },
   {
    "duration": 23,
    "start_time": "2024-05-20T11:10:52.882Z"
   },
   {
    "duration": 25,
    "start_time": "2024-05-20T11:14:06.213Z"
   },
   {
    "duration": 25,
    "start_time": "2024-05-20T11:14:21.506Z"
   },
   {
    "duration": 26,
    "start_time": "2024-05-20T11:16:52.907Z"
   },
   {
    "duration": 7,
    "start_time": "2024-05-20T11:17:45.753Z"
   },
   {
    "duration": 4,
    "start_time": "2024-05-20T11:18:28.226Z"
   },
   {
    "duration": 4,
    "start_time": "2024-05-20T11:18:39.095Z"
   },
   {
    "duration": 3,
    "start_time": "2024-05-20T11:18:57.247Z"
   },
   {
    "duration": 23,
    "start_time": "2024-05-20T11:21:23.358Z"
   },
   {
    "duration": 19,
    "start_time": "2024-05-20T11:21:46.629Z"
   },
   {
    "duration": 24,
    "start_time": "2024-05-20T11:22:11.141Z"
   },
   {
    "duration": 242,
    "start_time": "2024-05-20T11:22:18.661Z"
   },
   {
    "duration": 22,
    "start_time": "2024-05-20T11:23:06.541Z"
   },
   {
    "duration": 26,
    "start_time": "2024-05-20T11:24:46.965Z"
   },
   {
    "duration": 599,
    "start_time": "2024-05-21T04:48:04.135Z"
   },
   {
    "duration": 20,
    "start_time": "2024-05-21T04:48:04.736Z"
   },
   {
    "duration": 14,
    "start_time": "2024-05-21T04:48:04.758Z"
   },
   {
    "duration": 8,
    "start_time": "2024-05-21T04:48:04.774Z"
   },
   {
    "duration": 35,
    "start_time": "2024-05-21T04:48:04.784Z"
   },
   {
    "duration": 3,
    "start_time": "2024-05-21T04:48:04.821Z"
   },
   {
    "duration": 11,
    "start_time": "2024-05-21T04:48:04.825Z"
   },
   {
    "duration": 4,
    "start_time": "2024-05-21T04:48:04.837Z"
   },
   {
    "duration": 34,
    "start_time": "2024-05-21T04:48:04.842Z"
   },
   {
    "duration": 5,
    "start_time": "2024-05-21T04:48:04.878Z"
   },
   {
    "duration": 33,
    "start_time": "2024-05-21T04:48:04.884Z"
   },
   {
    "duration": 9,
    "start_time": "2024-05-21T04:48:04.918Z"
   },
   {
    "duration": 3,
    "start_time": "2024-05-21T04:48:04.929Z"
   },
   {
    "duration": 12,
    "start_time": "2024-05-21T04:48:04.933Z"
   },
   {
    "duration": 41,
    "start_time": "2024-05-21T04:48:04.947Z"
   },
   {
    "duration": 16,
    "start_time": "2024-05-21T04:48:04.989Z"
   },
   {
    "duration": 3,
    "start_time": "2024-05-21T04:48:05.007Z"
   },
   {
    "duration": 11,
    "start_time": "2024-05-21T04:48:05.011Z"
   },
   {
    "duration": 5,
    "start_time": "2024-05-21T04:48:05.024Z"
   },
   {
    "duration": 3,
    "start_time": "2024-05-21T04:48:05.030Z"
   },
   {
    "duration": 33,
    "start_time": "2024-05-21T04:48:05.035Z"
   },
   {
    "duration": 6,
    "start_time": "2024-05-21T04:48:05.070Z"
   },
   {
    "duration": 27,
    "start_time": "2024-05-21T04:48:05.077Z"
   },
   {
    "duration": 7,
    "start_time": "2024-05-21T04:48:05.105Z"
   },
   {
    "duration": 18,
    "start_time": "2024-05-21T04:48:05.113Z"
   },
   {
    "duration": 36,
    "start_time": "2024-05-21T04:48:05.133Z"
   },
   {
    "duration": 27,
    "start_time": "2024-05-21T04:48:05.171Z"
   },
   {
    "duration": 10,
    "start_time": "2024-05-21T04:48:05.200Z"
   },
   {
    "duration": 20,
    "start_time": "2024-05-21T04:48:05.211Z"
   },
   {
    "duration": 21,
    "start_time": "2024-05-21T04:48:59.143Z"
   },
   {
    "duration": 449,
    "start_time": "2024-05-21T04:49:35.492Z"
   },
   {
    "duration": 21,
    "start_time": "2024-05-21T04:49:35.943Z"
   },
   {
    "duration": 15,
    "start_time": "2024-05-21T04:49:35.965Z"
   },
   {
    "duration": 17,
    "start_time": "2024-05-21T04:49:35.982Z"
   },
   {
    "duration": 49,
    "start_time": "2024-05-21T04:49:36.000Z"
   },
   {
    "duration": 3,
    "start_time": "2024-05-21T04:49:36.050Z"
   },
   {
    "duration": 16,
    "start_time": "2024-05-21T04:49:36.054Z"
   },
   {
    "duration": 36,
    "start_time": "2024-05-21T04:49:36.071Z"
   },
   {
    "duration": 10,
    "start_time": "2024-05-21T04:49:36.108Z"
   },
   {
    "duration": 13,
    "start_time": "2024-05-21T04:49:36.119Z"
   },
   {
    "duration": 34,
    "start_time": "2024-05-21T04:49:36.134Z"
   },
   {
    "duration": 10,
    "start_time": "2024-05-21T04:49:36.169Z"
   },
   {
    "duration": 3,
    "start_time": "2024-05-21T04:49:36.181Z"
   },
   {
    "duration": 24,
    "start_time": "2024-05-21T04:49:36.187Z"
   },
   {
    "duration": 30,
    "start_time": "2024-05-21T04:49:36.212Z"
   },
   {
    "duration": 15,
    "start_time": "2024-05-21T04:49:36.244Z"
   },
   {
    "duration": 7,
    "start_time": "2024-05-21T04:49:36.260Z"
   },
   {
    "duration": 37,
    "start_time": "2024-05-21T04:49:36.269Z"
   },
   {
    "duration": 11,
    "start_time": "2024-05-21T04:49:36.307Z"
   },
   {
    "duration": 16,
    "start_time": "2024-05-21T04:49:36.320Z"
   },
   {
    "duration": 8,
    "start_time": "2024-05-21T04:49:36.338Z"
   },
   {
    "duration": 9,
    "start_time": "2024-05-21T04:49:36.348Z"
   },
   {
    "duration": 22,
    "start_time": "2024-05-21T04:49:36.358Z"
   },
   {
    "duration": 7,
    "start_time": "2024-05-21T04:49:36.381Z"
   },
   {
    "duration": 31,
    "start_time": "2024-05-21T04:49:36.390Z"
   },
   {
    "duration": 7,
    "start_time": "2024-05-21T04:49:36.422Z"
   },
   {
    "duration": 24,
    "start_time": "2024-05-21T04:49:36.430Z"
   },
   {
    "duration": 12,
    "start_time": "2024-05-21T04:49:36.456Z"
   },
   {
    "duration": 24,
    "start_time": "2024-05-21T04:49:36.470Z"
   },
   {
    "duration": 481,
    "start_time": "2024-05-21T05:00:26.736Z"
   },
   {
    "duration": 20,
    "start_time": "2024-05-21T05:00:27.219Z"
   },
   {
    "duration": 14,
    "start_time": "2024-05-21T05:00:27.240Z"
   },
   {
    "duration": 17,
    "start_time": "2024-05-21T05:00:27.256Z"
   },
   {
    "duration": 45,
    "start_time": "2024-05-21T05:00:27.274Z"
   },
   {
    "duration": 3,
    "start_time": "2024-05-21T05:00:27.321Z"
   },
   {
    "duration": 16,
    "start_time": "2024-05-21T05:00:27.325Z"
   },
   {
    "duration": 10,
    "start_time": "2024-05-21T05:00:27.342Z"
   },
   {
    "duration": 21,
    "start_time": "2024-05-21T05:00:27.353Z"
   },
   {
    "duration": 15,
    "start_time": "2024-05-21T05:00:27.376Z"
   },
   {
    "duration": 41,
    "start_time": "2024-05-21T05:00:27.393Z"
   },
   {
    "duration": 15,
    "start_time": "2024-05-21T05:00:27.435Z"
   },
   {
    "duration": 20,
    "start_time": "2024-05-21T05:00:27.452Z"
   },
   {
    "duration": 30,
    "start_time": "2024-05-21T05:00:27.474Z"
   },
   {
    "duration": 58,
    "start_time": "2024-05-21T05:00:27.505Z"
   },
   {
    "duration": 27,
    "start_time": "2024-05-21T05:00:27.565Z"
   },
   {
    "duration": 9,
    "start_time": "2024-05-21T05:00:27.594Z"
   },
   {
    "duration": 28,
    "start_time": "2024-05-21T05:00:27.604Z"
   },
   {
    "duration": 16,
    "start_time": "2024-05-21T05:00:27.633Z"
   },
   {
    "duration": 23,
    "start_time": "2024-05-21T05:00:27.650Z"
   },
   {
    "duration": 34,
    "start_time": "2024-05-21T05:00:27.674Z"
   },
   {
    "duration": 27,
    "start_time": "2024-05-21T05:00:27.710Z"
   },
   {
    "duration": 64,
    "start_time": "2024-05-21T05:00:27.739Z"
   },
   {
    "duration": 25,
    "start_time": "2024-05-21T05:00:27.805Z"
   },
   {
    "duration": 28,
    "start_time": "2024-05-21T05:00:27.832Z"
   },
   {
    "duration": 8,
    "start_time": "2024-05-21T05:00:27.862Z"
   },
   {
    "duration": 37,
    "start_time": "2024-05-21T05:00:27.872Z"
   },
   {
    "duration": 7,
    "start_time": "2024-05-21T05:00:27.912Z"
   },
   {
    "duration": 21,
    "start_time": "2024-05-21T05:00:27.920Z"
   },
   {
    "duration": 9,
    "start_time": "2024-05-22T06:33:34.804Z"
   },
   {
    "duration": 42,
    "start_time": "2024-05-22T06:33:36.332Z"
   },
   {
    "duration": 666,
    "start_time": "2024-05-22T06:33:50.019Z"
   },
   {
    "duration": 26,
    "start_time": "2024-05-22T06:33:50.687Z"
   },
   {
    "duration": 37,
    "start_time": "2024-05-22T06:33:50.714Z"
   },
   {
    "duration": 22,
    "start_time": "2024-05-22T06:33:50.753Z"
   },
   {
    "duration": 59,
    "start_time": "2024-05-22T06:33:50.777Z"
   },
   {
    "duration": 4,
    "start_time": "2024-05-22T06:33:50.838Z"
   },
   {
    "duration": 29,
    "start_time": "2024-05-22T06:33:50.843Z"
   },
   {
    "duration": 39,
    "start_time": "2024-05-22T06:33:50.874Z"
   },
   {
    "duration": 29,
    "start_time": "2024-05-22T06:33:50.914Z"
   },
   {
    "duration": 11,
    "start_time": "2024-05-22T06:33:50.945Z"
   },
   {
    "duration": 65,
    "start_time": "2024-05-22T06:33:50.958Z"
   },
   {
    "duration": 11,
    "start_time": "2024-05-22T06:33:51.024Z"
   },
   {
    "duration": 25,
    "start_time": "2024-05-22T06:33:51.037Z"
   },
   {
    "duration": 27,
    "start_time": "2024-05-22T06:33:51.065Z"
   },
   {
    "duration": 41,
    "start_time": "2024-05-22T06:33:51.094Z"
   },
   {
    "duration": 18,
    "start_time": "2024-05-22T06:33:51.136Z"
   },
   {
    "duration": 18,
    "start_time": "2024-05-22T06:33:51.156Z"
   },
   {
    "duration": 39,
    "start_time": "2024-05-22T06:33:51.181Z"
   },
   {
    "duration": 15,
    "start_time": "2024-05-22T06:33:51.222Z"
   },
   {
    "duration": 21,
    "start_time": "2024-05-22T06:33:51.239Z"
   },
   {
    "duration": 60,
    "start_time": "2024-05-22T06:33:51.262Z"
   },
   {
    "duration": 33,
    "start_time": "2024-05-22T06:33:51.323Z"
   },
   {
    "duration": 37,
    "start_time": "2024-05-22T06:33:51.358Z"
   },
   {
    "duration": 5,
    "start_time": "2024-05-22T06:33:51.397Z"
   },
   {
    "duration": 25,
    "start_time": "2024-05-22T06:33:51.403Z"
   },
   {
    "duration": 22,
    "start_time": "2024-05-22T06:33:51.429Z"
   },
   {
    "duration": 64,
    "start_time": "2024-05-22T06:33:51.453Z"
   },
   {
    "duration": 7,
    "start_time": "2024-05-22T06:33:51.519Z"
   },
   {
    "duration": 50,
    "start_time": "2024-05-22T06:33:51.528Z"
   },
   {
    "duration": 21,
    "start_time": "2024-05-22T06:33:51.580Z"
   },
   {
    "duration": 50,
    "start_time": "2024-05-22T06:33:51.602Z"
   },
   {
    "duration": 22,
    "start_time": "2024-05-22T06:34:57.029Z"
   },
   {
    "duration": 22,
    "start_time": "2024-05-22T08:40:14.592Z"
   },
   {
    "duration": 7,
    "start_time": "2024-05-22T08:40:29.383Z"
   },
   {
    "duration": 6,
    "start_time": "2024-05-22T08:40:40.700Z"
   },
   {
    "duration": 31,
    "start_time": "2024-05-22T08:42:31.878Z"
   },
   {
    "duration": 5,
    "start_time": "2024-05-22T08:42:42.625Z"
   },
   {
    "duration": 340,
    "start_time": "2024-05-22T08:42:56.945Z"
   },
   {
    "duration": 16,
    "start_time": "2024-05-22T08:43:36.137Z"
   },
   {
    "duration": 7,
    "start_time": "2024-05-22T08:43:38.793Z"
   },
   {
    "duration": 274,
    "start_time": "2024-05-22T08:43:42.137Z"
   },
   {
    "duration": 522,
    "start_time": "2024-05-22T08:43:51.864Z"
   },
   {
    "duration": 23,
    "start_time": "2024-05-22T08:43:52.388Z"
   },
   {
    "duration": 20,
    "start_time": "2024-05-22T08:43:52.413Z"
   },
   {
    "duration": 20,
    "start_time": "2024-05-22T08:43:52.435Z"
   },
   {
    "duration": 47,
    "start_time": "2024-05-22T08:43:52.457Z"
   },
   {
    "duration": 4,
    "start_time": "2024-05-22T08:43:52.506Z"
   },
   {
    "duration": 17,
    "start_time": "2024-05-22T08:43:52.511Z"
   },
   {
    "duration": 7,
    "start_time": "2024-05-22T08:43:52.530Z"
   },
   {
    "duration": 24,
    "start_time": "2024-05-22T08:43:52.539Z"
   },
   {
    "duration": 6,
    "start_time": "2024-05-22T08:43:52.566Z"
   },
   {
    "duration": 37,
    "start_time": "2024-05-22T08:43:52.580Z"
   },
   {
    "duration": 10,
    "start_time": "2024-05-22T08:43:52.619Z"
   },
   {
    "duration": 3,
    "start_time": "2024-05-22T08:43:52.631Z"
   },
   {
    "duration": 17,
    "start_time": "2024-05-22T08:43:52.635Z"
   },
   {
    "duration": 44,
    "start_time": "2024-05-22T08:43:52.654Z"
   },
   {
    "duration": 22,
    "start_time": "2024-05-22T08:43:52.699Z"
   },
   {
    "duration": 5,
    "start_time": "2024-05-22T08:43:52.723Z"
   },
   {
    "duration": 21,
    "start_time": "2024-05-22T08:43:52.730Z"
   },
   {
    "duration": 28,
    "start_time": "2024-05-22T08:43:52.753Z"
   },
   {
    "duration": 3,
    "start_time": "2024-05-22T08:43:52.783Z"
   },
   {
    "duration": 11,
    "start_time": "2024-05-22T08:43:52.787Z"
   },
   {
    "duration": 10,
    "start_time": "2024-05-22T08:43:52.799Z"
   },
   {
    "duration": 38,
    "start_time": "2024-05-22T08:43:52.810Z"
   },
   {
    "duration": 3,
    "start_time": "2024-05-22T08:43:52.850Z"
   },
   {
    "duration": 21,
    "start_time": "2024-05-22T08:43:52.854Z"
   },
   {
    "duration": 45,
    "start_time": "2024-05-22T08:43:52.876Z"
   },
   {
    "duration": 6,
    "start_time": "2024-05-22T08:43:52.924Z"
   },
   {
    "duration": 24,
    "start_time": "2024-05-22T08:43:52.934Z"
   },
   {
    "duration": 33,
    "start_time": "2024-05-22T08:43:52.960Z"
   },
   {
    "duration": 45,
    "start_time": "2024-05-22T08:43:52.994Z"
   },
   {
    "duration": 6,
    "start_time": "2024-05-22T08:43:53.041Z"
   },
   {
    "duration": 36,
    "start_time": "2024-05-22T08:43:53.049Z"
   },
   {
    "duration": 7,
    "start_time": "2024-05-22T08:43:53.087Z"
   },
   {
    "duration": 32,
    "start_time": "2024-05-22T08:43:53.095Z"
   },
   {
    "duration": 472,
    "start_time": "2024-05-22T13:50:54.014Z"
   },
   {
    "duration": 30,
    "start_time": "2024-05-22T13:50:54.488Z"
   },
   {
    "duration": 18,
    "start_time": "2024-05-22T13:50:54.520Z"
   },
   {
    "duration": 11,
    "start_time": "2024-05-22T13:50:54.540Z"
   },
   {
    "duration": 73,
    "start_time": "2024-05-22T13:50:54.553Z"
   },
   {
    "duration": 4,
    "start_time": "2024-05-22T13:50:54.629Z"
   },
   {
    "duration": 11,
    "start_time": "2024-05-22T13:50:54.635Z"
   },
   {
    "duration": 5,
    "start_time": "2024-05-22T13:50:54.648Z"
   },
   {
    "duration": 32,
    "start_time": "2024-05-22T13:50:54.655Z"
   },
   {
    "duration": 5,
    "start_time": "2024-05-22T13:50:54.691Z"
   },
   {
    "duration": 48,
    "start_time": "2024-05-22T13:50:54.698Z"
   },
   {
    "duration": 36,
    "start_time": "2024-05-22T13:50:54.748Z"
   },
   {
    "duration": 5,
    "start_time": "2024-05-22T13:50:54.786Z"
   },
   {
    "duration": 18,
    "start_time": "2024-05-22T13:50:54.793Z"
   },
   {
    "duration": 25,
    "start_time": "2024-05-22T13:50:54.813Z"
   },
   {
    "duration": 42,
    "start_time": "2024-05-22T13:50:54.840Z"
   },
   {
    "duration": 5,
    "start_time": "2024-05-22T13:50:54.884Z"
   },
   {
    "duration": 16,
    "start_time": "2024-05-22T13:50:54.891Z"
   },
   {
    "duration": 7,
    "start_time": "2024-05-22T13:50:54.909Z"
   },
   {
    "duration": 4,
    "start_time": "2024-05-22T13:50:54.917Z"
   },
   {
    "duration": 13,
    "start_time": "2024-05-22T13:50:54.923Z"
   },
   {
    "duration": 11,
    "start_time": "2024-05-22T13:50:54.938Z"
   },
   {
    "duration": 51,
    "start_time": "2024-05-22T13:50:54.951Z"
   },
   {
    "duration": 3,
    "start_time": "2024-05-22T13:50:55.005Z"
   },
   {
    "duration": 15,
    "start_time": "2024-05-22T13:50:55.010Z"
   },
   {
    "duration": 28,
    "start_time": "2024-05-22T13:50:55.027Z"
   },
   {
    "duration": 26,
    "start_time": "2024-05-22T13:50:55.057Z"
   },
   {
    "duration": 20,
    "start_time": "2024-05-22T13:50:55.086Z"
   },
   {
    "duration": 35,
    "start_time": "2024-05-22T13:50:55.107Z"
   },
   {
    "duration": 45,
    "start_time": "2024-05-22T13:50:55.143Z"
   },
   {
    "duration": 1063,
    "start_time": "2024-05-22T13:50:55.190Z"
   },
   {
    "duration": 1,
    "start_time": "2024-05-22T13:50:56.254Z"
   },
   {
    "duration": 0,
    "start_time": "2024-05-22T13:50:56.256Z"
   },
   {
    "duration": 0,
    "start_time": "2024-05-22T13:50:56.257Z"
   },
   {
    "duration": 0,
    "start_time": "2024-05-22T13:50:56.258Z"
   },
   {
    "duration": 0,
    "start_time": "2024-05-22T13:50:56.259Z"
   },
   {
    "duration": 16,
    "start_time": "2024-05-22T13:51:02.696Z"
   },
   {
    "duration": 8,
    "start_time": "2024-05-22T13:51:34.202Z"
   },
   {
    "duration": 3,
    "start_time": "2024-05-22T13:52:01.606Z"
   },
   {
    "duration": 10,
    "start_time": "2024-05-22T13:52:02.177Z"
   },
   {
    "duration": 29,
    "start_time": "2024-05-22T13:52:05.894Z"
   },
   {
    "duration": 3,
    "start_time": "2024-05-22T13:52:23.230Z"
   },
   {
    "duration": 4,
    "start_time": "2024-05-22T13:52:34.510Z"
   },
   {
    "duration": 8,
    "start_time": "2024-05-22T13:52:35.106Z"
   },
   {
    "duration": 22,
    "start_time": "2024-05-22T13:52:35.714Z"
   },
   {
    "duration": 517,
    "start_time": "2024-05-22T13:55:38.767Z"
   },
   {
    "duration": 25,
    "start_time": "2024-05-22T13:55:39.285Z"
   },
   {
    "duration": 18,
    "start_time": "2024-05-22T13:55:39.311Z"
   },
   {
    "duration": 27,
    "start_time": "2024-05-22T13:55:39.330Z"
   },
   {
    "duration": 61,
    "start_time": "2024-05-22T13:55:39.359Z"
   },
   {
    "duration": 4,
    "start_time": "2024-05-22T13:55:39.422Z"
   },
   {
    "duration": 13,
    "start_time": "2024-05-22T13:55:39.428Z"
   },
   {
    "duration": 5,
    "start_time": "2024-05-22T13:55:39.443Z"
   },
   {
    "duration": 10,
    "start_time": "2024-05-22T13:55:39.450Z"
   },
   {
    "duration": 5,
    "start_time": "2024-05-22T13:55:39.479Z"
   },
   {
    "duration": 46,
    "start_time": "2024-05-22T13:55:39.486Z"
   },
   {
    "duration": 11,
    "start_time": "2024-05-22T13:55:39.533Z"
   },
   {
    "duration": 3,
    "start_time": "2024-05-22T13:55:39.546Z"
   },
   {
    "duration": 30,
    "start_time": "2024-05-22T13:55:39.552Z"
   },
   {
    "duration": 43,
    "start_time": "2024-05-22T13:55:39.584Z"
   },
   {
    "duration": 20,
    "start_time": "2024-05-22T13:55:39.628Z"
   },
   {
    "duration": 4,
    "start_time": "2024-05-22T13:55:39.649Z"
   },
   {
    "duration": 49,
    "start_time": "2024-05-22T13:55:39.654Z"
   },
   {
    "duration": 15,
    "start_time": "2024-05-22T13:55:39.705Z"
   },
   {
    "duration": 24,
    "start_time": "2024-05-22T13:55:39.721Z"
   },
   {
    "duration": 12,
    "start_time": "2024-05-22T13:55:39.746Z"
   },
   {
    "duration": 6,
    "start_time": "2024-05-22T13:55:39.760Z"
   },
   {
    "duration": 27,
    "start_time": "2024-05-22T13:55:39.768Z"
   },
   {
    "duration": 3,
    "start_time": "2024-05-22T13:55:39.797Z"
   },
   {
    "duration": 32,
    "start_time": "2024-05-22T13:55:39.801Z"
   },
   {
    "duration": 25,
    "start_time": "2024-05-22T13:55:39.834Z"
   },
   {
    "duration": 6,
    "start_time": "2024-05-22T13:55:39.861Z"
   },
   {
    "duration": 22,
    "start_time": "2024-05-22T13:55:39.868Z"
   },
   {
    "duration": 11,
    "start_time": "2024-05-22T13:55:39.892Z"
   },
   {
    "duration": 26,
    "start_time": "2024-05-22T13:55:39.905Z"
   },
   {
    "duration": 7,
    "start_time": "2024-05-22T13:55:39.932Z"
   },
   {
    "duration": 4,
    "start_time": "2024-05-22T13:55:39.941Z"
   },
   {
    "duration": 10,
    "start_time": "2024-05-22T13:55:39.947Z"
   },
   {
    "duration": 29,
    "start_time": "2024-05-22T13:55:39.979Z"
   },
   {
    "duration": 12,
    "start_time": "2024-05-22T13:55:40.010Z"
   },
   {
    "duration": 53,
    "start_time": "2024-05-22T13:55:40.023Z"
   },
   {
    "duration": 9,
    "start_time": "2024-05-23T05:04:55.515Z"
   },
   {
    "duration": 57,
    "start_time": "2024-05-23T05:04:57.478Z"
   },
   {
    "duration": 602,
    "start_time": "2024-05-23T05:05:14.821Z"
   },
   {
    "duration": 23,
    "start_time": "2024-05-23T05:05:15.425Z"
   },
   {
    "duration": 16,
    "start_time": "2024-05-23T05:05:15.450Z"
   },
   {
    "duration": 31,
    "start_time": "2024-05-23T05:05:15.468Z"
   },
   {
    "duration": 53,
    "start_time": "2024-05-23T05:05:15.502Z"
   },
   {
    "duration": 3,
    "start_time": "2024-05-23T05:05:15.557Z"
   },
   {
    "duration": 39,
    "start_time": "2024-05-23T05:05:15.561Z"
   },
   {
    "duration": 32,
    "start_time": "2024-05-23T05:05:15.601Z"
   },
   {
    "duration": 9,
    "start_time": "2024-05-23T05:05:15.634Z"
   },
   {
    "duration": 33,
    "start_time": "2024-05-23T05:05:15.645Z"
   },
   {
    "duration": 39,
    "start_time": "2024-05-23T05:05:15.679Z"
   },
   {
    "duration": 11,
    "start_time": "2024-05-23T05:05:15.720Z"
   },
   {
    "duration": 10,
    "start_time": "2024-05-23T05:05:15.732Z"
   },
   {
    "duration": 15,
    "start_time": "2024-05-23T05:05:15.745Z"
   },
   {
    "duration": 35,
    "start_time": "2024-05-23T05:05:15.762Z"
   },
   {
    "duration": 25,
    "start_time": "2024-05-23T05:05:15.799Z"
   },
   {
    "duration": 4,
    "start_time": "2024-05-23T05:05:15.826Z"
   },
   {
    "duration": 18,
    "start_time": "2024-05-23T05:05:15.832Z"
   },
   {
    "duration": 8,
    "start_time": "2024-05-23T05:05:15.851Z"
   },
   {
    "duration": 7,
    "start_time": "2024-05-23T05:05:15.860Z"
   },
   {
    "duration": 23,
    "start_time": "2024-05-23T05:05:15.869Z"
   },
   {
    "duration": 7,
    "start_time": "2024-05-23T05:05:15.894Z"
   },
   {
    "duration": 40,
    "start_time": "2024-05-23T05:05:15.902Z"
   },
   {
    "duration": 4,
    "start_time": "2024-05-23T05:05:15.944Z"
   },
   {
    "duration": 21,
    "start_time": "2024-05-23T05:05:15.949Z"
   },
   {
    "duration": 11,
    "start_time": "2024-05-23T05:05:15.972Z"
   },
   {
    "duration": 92,
    "start_time": "2024-05-23T05:05:15.985Z"
   },
   {
    "duration": 0,
    "start_time": "2024-05-23T05:05:16.079Z"
   },
   {
    "duration": 0,
    "start_time": "2024-05-23T05:05:16.081Z"
   },
   {
    "duration": 0,
    "start_time": "2024-05-23T05:05:16.082Z"
   },
   {
    "duration": 0,
    "start_time": "2024-05-23T05:05:16.083Z"
   },
   {
    "duration": 0,
    "start_time": "2024-05-23T05:05:16.084Z"
   },
   {
    "duration": 1,
    "start_time": "2024-05-23T05:05:16.085Z"
   },
   {
    "duration": 0,
    "start_time": "2024-05-23T05:05:16.087Z"
   },
   {
    "duration": 0,
    "start_time": "2024-05-23T05:05:16.088Z"
   },
   {
    "duration": 0,
    "start_time": "2024-05-23T05:05:16.089Z"
   },
   {
    "duration": 4,
    "start_time": "2024-05-23T05:05:42.775Z"
   },
   {
    "duration": 98,
    "start_time": "2024-05-23T05:05:45.835Z"
   },
   {
    "duration": 5,
    "start_time": "2024-05-23T05:07:10.393Z"
   },
   {
    "duration": 102,
    "start_time": "2024-05-23T05:07:13.574Z"
   },
   {
    "duration": 4,
    "start_time": "2024-05-23T05:08:26.592Z"
   },
   {
    "duration": 29,
    "start_time": "2024-05-23T05:08:29.472Z"
   },
   {
    "duration": 4,
    "start_time": "2024-05-23T05:12:40.381Z"
   },
   {
    "duration": 28,
    "start_time": "2024-05-23T05:12:42.213Z"
   },
   {
    "duration": 3,
    "start_time": "2024-05-23T05:14:52.273Z"
   },
   {
    "duration": 28,
    "start_time": "2024-05-23T05:14:52.988Z"
   },
   {
    "duration": 4,
    "start_time": "2024-05-23T05:15:41.217Z"
   },
   {
    "duration": 31,
    "start_time": "2024-05-23T05:15:42.033Z"
   },
   {
    "duration": 4,
    "start_time": "2024-05-23T05:16:36.210Z"
   },
   {
    "duration": 27,
    "start_time": "2024-05-23T05:16:36.946Z"
   },
   {
    "duration": 4,
    "start_time": "2024-05-23T05:17:42.161Z"
   },
   {
    "duration": 19,
    "start_time": "2024-05-23T05:17:44.537Z"
   },
   {
    "duration": 4,
    "start_time": "2024-05-23T05:18:05.378Z"
   },
   {
    "duration": 12,
    "start_time": "2024-05-23T05:18:06.498Z"
   },
   {
    "duration": 3,
    "start_time": "2024-05-23T05:18:37.650Z"
   },
   {
    "duration": 13,
    "start_time": "2024-05-23T05:18:39.049Z"
   },
   {
    "duration": 483,
    "start_time": "2024-05-23T05:18:56.196Z"
   },
   {
    "duration": 23,
    "start_time": "2024-05-23T05:18:56.681Z"
   },
   {
    "duration": 16,
    "start_time": "2024-05-23T05:18:56.705Z"
   },
   {
    "duration": 10,
    "start_time": "2024-05-23T05:18:56.723Z"
   },
   {
    "duration": 65,
    "start_time": "2024-05-23T05:18:56.735Z"
   },
   {
    "duration": 4,
    "start_time": "2024-05-23T05:18:56.801Z"
   },
   {
    "duration": 32,
    "start_time": "2024-05-23T05:18:56.807Z"
   },
   {
    "duration": 4,
    "start_time": "2024-05-23T05:18:56.841Z"
   },
   {
    "duration": 16,
    "start_time": "2024-05-23T05:18:56.847Z"
   },
   {
    "duration": 4,
    "start_time": "2024-05-23T05:18:56.865Z"
   },
   {
    "duration": 41,
    "start_time": "2024-05-23T05:18:56.870Z"
   },
   {
    "duration": 11,
    "start_time": "2024-05-23T05:18:56.913Z"
   },
   {
    "duration": 3,
    "start_time": "2024-05-23T05:18:56.926Z"
   },
   {
    "duration": 13,
    "start_time": "2024-05-23T05:18:56.932Z"
   },
   {
    "duration": 46,
    "start_time": "2024-05-23T05:18:56.946Z"
   },
   {
    "duration": 18,
    "start_time": "2024-05-23T05:18:56.994Z"
   },
   {
    "duration": 5,
    "start_time": "2024-05-23T05:18:57.013Z"
   },
   {
    "duration": 13,
    "start_time": "2024-05-23T05:18:57.020Z"
   },
   {
    "duration": 7,
    "start_time": "2024-05-23T05:18:57.034Z"
   },
   {
    "duration": 4,
    "start_time": "2024-05-23T05:18:57.043Z"
   },
   {
    "duration": 39,
    "start_time": "2024-05-23T05:18:57.049Z"
   },
   {
    "duration": 5,
    "start_time": "2024-05-23T05:18:57.090Z"
   },
   {
    "duration": 28,
    "start_time": "2024-05-23T05:18:57.096Z"
   },
   {
    "duration": 4,
    "start_time": "2024-05-23T05:18:57.125Z"
   },
   {
    "duration": 9,
    "start_time": "2024-05-23T05:18:57.131Z"
   },
   {
    "duration": 4,
    "start_time": "2024-05-23T05:18:57.141Z"
   },
   {
    "duration": 56,
    "start_time": "2024-05-23T05:18:57.146Z"
   },
   {
    "duration": 54,
    "start_time": "2024-05-23T05:18:57.204Z"
   },
   {
    "duration": 0,
    "start_time": "2024-05-23T05:18:57.260Z"
   },
   {
    "duration": 0,
    "start_time": "2024-05-23T05:18:57.262Z"
   },
   {
    "duration": 0,
    "start_time": "2024-05-23T05:18:57.263Z"
   },
   {
    "duration": 0,
    "start_time": "2024-05-23T05:18:57.265Z"
   },
   {
    "duration": 0,
    "start_time": "2024-05-23T05:18:57.266Z"
   },
   {
    "duration": 0,
    "start_time": "2024-05-23T05:18:57.268Z"
   },
   {
    "duration": 0,
    "start_time": "2024-05-23T05:18:57.269Z"
   },
   {
    "duration": 1,
    "start_time": "2024-05-23T05:18:57.270Z"
   },
   {
    "duration": 0,
    "start_time": "2024-05-23T05:18:57.272Z"
   },
   {
    "duration": 6,
    "start_time": "2024-05-23T05:21:18.671Z"
   },
   {
    "duration": 15,
    "start_time": "2024-05-23T05:21:21.611Z"
   },
   {
    "duration": 32,
    "start_time": "2024-05-23T05:21:24.867Z"
   },
   {
    "duration": 4,
    "start_time": "2024-05-23T05:22:34.421Z"
   },
   {
    "duration": 93,
    "start_time": "2024-05-23T05:22:35.677Z"
   },
   {
    "duration": 3,
    "start_time": "2024-05-23T05:22:49.037Z"
   },
   {
    "duration": 30,
    "start_time": "2024-05-23T05:22:49.881Z"
   },
   {
    "duration": 5,
    "start_time": "2024-05-23T05:24:10.061Z"
   },
   {
    "duration": 29,
    "start_time": "2024-05-23T05:24:11.449Z"
   },
   {
    "duration": 8,
    "start_time": "2024-05-23T05:24:20.836Z"
   },
   {
    "duration": 17,
    "start_time": "2024-05-23T05:24:21.820Z"
   },
   {
    "duration": 36,
    "start_time": "2024-05-23T05:24:33.763Z"
   },
   {
    "duration": 4,
    "start_time": "2024-05-23T05:39:13.249Z"
   },
   {
    "duration": 29,
    "start_time": "2024-05-23T05:39:14.132Z"
   },
   {
    "duration": 10,
    "start_time": "2024-05-23T05:41:12.565Z"
   },
   {
    "duration": 31,
    "start_time": "2024-05-23T05:41:13.864Z"
   },
   {
    "duration": 61,
    "start_time": "2024-05-23T05:41:48.345Z"
   },
   {
    "duration": 57,
    "start_time": "2024-05-23T05:41:51.741Z"
   },
   {
    "duration": 5,
    "start_time": "2024-05-23T05:44:15.703Z"
   },
   {
    "duration": 30,
    "start_time": "2024-05-23T05:44:16.640Z"
   },
   {
    "duration": 7,
    "start_time": "2024-05-23T05:44:53.708Z"
   },
   {
    "duration": 35,
    "start_time": "2024-05-23T05:44:54.996Z"
   },
   {
    "duration": 12,
    "start_time": "2024-05-23T05:48:08.975Z"
   },
   {
    "duration": 3,
    "start_time": "2024-05-23T05:48:19.581Z"
   },
   {
    "duration": 9,
    "start_time": "2024-05-23T05:48:20.124Z"
   },
   {
    "duration": 40,
    "start_time": "2024-05-23T05:48:20.896Z"
   },
   {
    "duration": 66,
    "start_time": "2024-05-23T05:48:50.292Z"
   },
   {
    "duration": 55,
    "start_time": "2024-05-23T05:49:19.423Z"
   },
   {
    "duration": 36,
    "start_time": "2024-05-23T05:52:03.804Z"
   },
   {
    "duration": 39,
    "start_time": "2024-05-23T05:59:35.658Z"
   },
   {
    "duration": 24,
    "start_time": "2024-05-23T06:28:49.541Z"
   },
   {
    "duration": 20,
    "start_time": "2024-05-23T06:31:15.820Z"
   },
   {
    "duration": 3,
    "start_time": "2024-05-23T06:48:28.235Z"
   },
   {
    "duration": 8,
    "start_time": "2024-05-23T06:48:28.846Z"
   },
   {
    "duration": 5,
    "start_time": "2024-05-23T06:48:29.654Z"
   },
   {
    "duration": 33,
    "start_time": "2024-05-23T06:48:32.071Z"
   },
   {
    "duration": 58,
    "start_time": "2024-05-23T06:57:17.494Z"
   },
   {
    "duration": 476,
    "start_time": "2024-05-23T07:01:34.921Z"
   },
   {
    "duration": 26,
    "start_time": "2024-05-23T07:01:35.400Z"
   },
   {
    "duration": 17,
    "start_time": "2024-05-23T07:01:35.428Z"
   },
   {
    "duration": 12,
    "start_time": "2024-05-23T07:01:35.447Z"
   },
   {
    "duration": 56,
    "start_time": "2024-05-23T07:01:35.461Z"
   },
   {
    "duration": 4,
    "start_time": "2024-05-23T07:01:35.519Z"
   },
   {
    "duration": 13,
    "start_time": "2024-05-23T07:01:35.525Z"
   },
   {
    "duration": 5,
    "start_time": "2024-05-23T07:01:35.539Z"
   },
   {
    "duration": 9,
    "start_time": "2024-05-23T07:01:35.546Z"
   },
   {
    "duration": 5,
    "start_time": "2024-05-23T07:01:35.582Z"
   },
   {
    "duration": 44,
    "start_time": "2024-05-23T07:01:35.589Z"
   },
   {
    "duration": 14,
    "start_time": "2024-05-23T07:01:35.635Z"
   },
   {
    "duration": 10,
    "start_time": "2024-05-23T07:01:35.651Z"
   },
   {
    "duration": 26,
    "start_time": "2024-05-23T07:01:35.665Z"
   },
   {
    "duration": 22,
    "start_time": "2024-05-23T07:01:35.693Z"
   },
   {
    "duration": 20,
    "start_time": "2024-05-23T07:01:35.717Z"
   },
   {
    "duration": 8,
    "start_time": "2024-05-23T07:01:35.739Z"
   },
   {
    "duration": 42,
    "start_time": "2024-05-23T07:01:35.749Z"
   },
   {
    "duration": 13,
    "start_time": "2024-05-23T07:01:35.793Z"
   },
   {
    "duration": 25,
    "start_time": "2024-05-23T07:01:35.807Z"
   },
   {
    "duration": 39,
    "start_time": "2024-05-23T07:01:35.834Z"
   },
   {
    "duration": 32,
    "start_time": "2024-05-23T07:01:35.875Z"
   },
   {
    "duration": 51,
    "start_time": "2024-05-23T07:01:35.908Z"
   },
   {
    "duration": 4,
    "start_time": "2024-05-23T07:01:35.960Z"
   },
   {
    "duration": 12,
    "start_time": "2024-05-23T07:01:35.965Z"
   },
   {
    "duration": 18,
    "start_time": "2024-05-23T07:01:35.979Z"
   },
   {
    "duration": 47,
    "start_time": "2024-05-23T07:01:35.999Z"
   },
   {
    "duration": 6,
    "start_time": "2024-05-23T07:01:36.048Z"
   },
   {
    "duration": 38,
    "start_time": "2024-05-23T07:01:36.056Z"
   },
   {
    "duration": 7,
    "start_time": "2024-05-23T07:01:36.095Z"
   },
   {
    "duration": 11,
    "start_time": "2024-05-23T07:01:36.104Z"
   },
   {
    "duration": 26,
    "start_time": "2024-05-23T07:01:36.117Z"
   },
   {
    "duration": 48,
    "start_time": "2024-05-23T07:01:36.145Z"
   },
   {
    "duration": 7,
    "start_time": "2024-05-23T07:01:36.195Z"
   },
   {
    "duration": 31,
    "start_time": "2024-05-23T07:01:36.204Z"
   }
  ],
  "colab": {
   "provenance": []
  },
  "kernelspec": {
   "display_name": "Python [conda env:base] *",
   "language": "python",
   "name": "conda-base-py"
  },
  "language_info": {
   "codemirror_mode": {
    "name": "ipython",
    "version": 3
   },
   "file_extension": ".py",
   "mimetype": "text/x-python",
   "name": "python",
   "nbconvert_exporter": "python",
   "pygments_lexer": "ipython3",
   "version": "3.12.4"
  },
  "toc": {
   "base_numbering": 1,
   "nav_menu": {},
   "number_sections": true,
   "sideBar": true,
   "skip_h1_title": true,
   "title_cell": "Table of Contents",
   "title_sidebar": "Contents",
   "toc_cell": false,
   "toc_position": {},
   "toc_section_display": true,
   "toc_window_display": false
  }
 },
 "nbformat": 4,
 "nbformat_minor": 5
}
