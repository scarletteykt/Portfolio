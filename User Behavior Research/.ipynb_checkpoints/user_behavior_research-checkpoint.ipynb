{
 "cells": [
  {
   "cell_type": "markdown",
   "metadata": {},
   "source": [
    "# Исследование стартапа, продающего продукты питания"
   ]
  },
  {
   "cell_type": "markdown",
   "metadata": {},
   "source": [
    "**Описание проекта:**\n",
    "\n",
    "Стартап, который продаёт продукты питания. Нужно разобраться, как ведут себя пользователи мобильного приложения.\n",
    "___\n",
    "**Цели исследования:**\n",
    "1. Исследовать поведения пользователей в воронке продаж:\n",
    "- Как пользователи доходят до покупки; \n",
    "- Сколько пользователей доходит до покупки;\n",
    "- Сколько пользователей «застревает» на предыдущих шагах и на каких именно.\n",
    "\n",
    "2. Исследовать результаты A/A/B-эксперимента по смене шрифтов:\n",
    "- Сравнить результаты двух контрольных групп A (со старыми шрифтами), чтобы убедиться в отсутствии значимых различий между ними, что подтвердит корректность эксперимента.\n",
    "- Исследовать экспериментальную группу B (с новыми шрифтами), чтобы выяснить, как изменение шрифтов влияет на ключевые показатели: конверсию, взаимодействие с приложением и завершение покупки.\n",
    "- Оценить, отличается ли поведение пользователей экспериментальной группы по сравнению с контрольными группами.\n",
    "___\n",
    "**Данные для анализа:**\n",
    "\n",
    "1 файл `logs_exp.csv` со столбцами:\n",
    "- `EventName` — название события;\n",
    "- `DeviceIDHash` — уникальный идентификатор пользователя;\n",
    "- `EventTimestamp` — время события;\n",
    "- `ExpId` — номер эксперимента: 246 и 247 — контрольные группы, а 248 — экспериментальная.\n",
    "\n",
    "Каждая запись в логе — это действие пользователя, или событие. \n",
    "\n",
    "___\n",
    "**План работы:**\n",
    "1. Загрузка и первичное знакомство с данными.\n",
    "    - Загрузить данные из файла `/datasets/logs_exp.csv` в датафрейм;\n",
    "    - Изучить общую информацию о данных.\n",
    "\n",
    "\n",
    "2. Предобработка данных:\n",
    "    - Заменить названия столбцов на удобные для работы;\n",
    "    - Проверить наличие пропусков и корректность типов данных (особенно для дат);\n",
    "    - Проверить наличие дубликатов; \n",
    "    - Создать новые столбцы, если потребуется.\n",
    "\n",
    "\n",
    "3. Исследовательский анализ данных:\n",
    "- 3.1. Исследовать информацию о событиях и пользователях.\n",
    "    - Подсчитать количество всех событий;\n",
    "    - Подсчитать количество уникальных пользователей;\n",
    "    - Рассчитать среднее количество событий на одного пользователя;\n",
    "    - Найти временной период, который охватывают данные.\n",
    "- 3.2. Построить и исследовать график количества событий по времени в разрезе экспериментальных групп.\n",
    "    \n",
    "- 3.3. Проверить полноту данных.\n",
    "    \n",
    "- 3.4. Исследовать информацию о событиях и пользователях после очистки данных (если потребуется).\n",
    "\n",
    "\n",
    "4. Анализ воронки событий.\n",
    "- 4.1. Подсчитать частоту каждого события;\n",
    "- 4.2. Подсчитать количество и долю уникальных пользователей для каждого события;\n",
    "- 4.3. Исследовать воронку событий:\n",
    "    - Определить последовательность событий;\n",
    "    - Подсчитать, какая доля пользователей проходит с одного шага на следующий;\n",
    "    - Построить воронку событий;\n",
    "    - Определить шаг, на котором теряется больше всего пользователей;\n",
    "    - Определить какая доля пользователей доходит от первого события до оплаты.\n",
    "    \n",
    "\n",
    "5. Анализ результатов A/A/B-эксперимента.\n",
    "- 5.1. Подсчитать количество пользователей в каждой группе;\n",
    "- 5.2. Проверить корректность разбиения на контрольные группы (А/А-эксперимент):\n",
    "    - Сравнить контрольные группы (246 и 247) с помощью z-теста для пропорций.\n",
    "- 5.3. Проверить, есть ли разница между долями пользователей в экспериментальной группе (248) и контрольных группах (246 и 247).\n",
    "    - Сравнить экспериментальную группу (248) с контрольными группами (246 и 247) по отдельности по каждому событию с помощью z-теста для пропорций;\n",
    "    - Сравнить экспериментальную группу (248) с объединенной контрольной группой (246 + 247) по каждому событию с помощью z-теста для пропорций.\n",
    "- 5.4. Корректировка уровня значимости. Повторить сравнения групп (если требуется).\n",
    "\n",
    "\n",
    "6. Выводы и интерпретация результатов эксперимента."
   ]
  },
  {
   "cell_type": "markdown",
   "metadata": {},
   "source": [
    "## Загрузка и знакомство с данными"
   ]
  },
  {
   "cell_type": "markdown",
   "metadata": {},
   "source": [
    "**1.1. Импортируем все библиотеки, необходимые для анализа.**"
   ]
  },
  {
   "cell_type": "code",
   "execution_count": 148,
   "metadata": {},
   "outputs": [],
   "source": [
    "import matplotlib.pyplot as plt\n",
    "import numpy as np\n",
    "import pandas as pd\n",
    "import plotly.graph_objects as go\n",
    "import seaborn as sns\n",
    "from scipy import stats as st\n",
    "from statsmodels.stats.proportion import proportions_ztest"
   ]
  },
  {
   "cell_type": "markdown",
   "metadata": {},
   "source": [
    "**1.2. Считываем данные из csv-файла и сохраняем в датафрейм logs.**"
   ]
  },
  {
   "cell_type": "code",
   "execution_count": 151,
   "metadata": {},
   "outputs": [],
   "source": [
    "try:\n",
    "    logs = pd.read_csv('/datasets/logs_exp.csv', sep='\\t')\n",
    "except:\n",
    "    logs = pd.read_csv('https://code.s3.yandex.net/datasets/logs_exp.csv', sep='\\t')"
   ]
  },
  {
   "cell_type": "markdown",
   "metadata": {},
   "source": [
    "**1.3. Выведем первые и последние строки логов.**"
   ]
  },
  {
   "cell_type": "code",
   "execution_count": 153,
   "metadata": {},
   "outputs": [
    {
     "data": {
      "text/html": [
       "<div>\n",
       "<style scoped>\n",
       "    .dataframe tbody tr th:only-of-type {\n",
       "        vertical-align: middle;\n",
       "    }\n",
       "\n",
       "    .dataframe tbody tr th {\n",
       "        vertical-align: top;\n",
       "    }\n",
       "\n",
       "    .dataframe thead th {\n",
       "        text-align: right;\n",
       "    }\n",
       "</style>\n",
       "<table border=\"1\" class=\"dataframe\">\n",
       "  <thead>\n",
       "    <tr style=\"text-align: right;\">\n",
       "      <th></th>\n",
       "      <th>EventName</th>\n",
       "      <th>DeviceIDHash</th>\n",
       "      <th>EventTimestamp</th>\n",
       "      <th>ExpId</th>\n",
       "    </tr>\n",
       "  </thead>\n",
       "  <tbody>\n",
       "    <tr>\n",
       "      <th>0</th>\n",
       "      <td>MainScreenAppear</td>\n",
       "      <td>4575588528974610257</td>\n",
       "      <td>1564029816</td>\n",
       "      <td>246</td>\n",
       "    </tr>\n",
       "    <tr>\n",
       "      <th>1</th>\n",
       "      <td>MainScreenAppear</td>\n",
       "      <td>7416695313311560658</td>\n",
       "      <td>1564053102</td>\n",
       "      <td>246</td>\n",
       "    </tr>\n",
       "    <tr>\n",
       "      <th>2</th>\n",
       "      <td>PaymentScreenSuccessful</td>\n",
       "      <td>3518123091307005509</td>\n",
       "      <td>1564054127</td>\n",
       "      <td>248</td>\n",
       "    </tr>\n",
       "    <tr>\n",
       "      <th>3</th>\n",
       "      <td>CartScreenAppear</td>\n",
       "      <td>3518123091307005509</td>\n",
       "      <td>1564054127</td>\n",
       "      <td>248</td>\n",
       "    </tr>\n",
       "    <tr>\n",
       "      <th>4</th>\n",
       "      <td>PaymentScreenSuccessful</td>\n",
       "      <td>6217807653094995999</td>\n",
       "      <td>1564055322</td>\n",
       "      <td>248</td>\n",
       "    </tr>\n",
       "    <tr>\n",
       "      <th>...</th>\n",
       "      <td>...</td>\n",
       "      <td>...</td>\n",
       "      <td>...</td>\n",
       "      <td>...</td>\n",
       "    </tr>\n",
       "    <tr>\n",
       "      <th>244121</th>\n",
       "      <td>MainScreenAppear</td>\n",
       "      <td>4599628364049201812</td>\n",
       "      <td>1565212345</td>\n",
       "      <td>247</td>\n",
       "    </tr>\n",
       "    <tr>\n",
       "      <th>244122</th>\n",
       "      <td>MainScreenAppear</td>\n",
       "      <td>5849806612437486590</td>\n",
       "      <td>1565212439</td>\n",
       "      <td>246</td>\n",
       "    </tr>\n",
       "    <tr>\n",
       "      <th>244123</th>\n",
       "      <td>MainScreenAppear</td>\n",
       "      <td>5746969938801999050</td>\n",
       "      <td>1565212483</td>\n",
       "      <td>246</td>\n",
       "    </tr>\n",
       "    <tr>\n",
       "      <th>244124</th>\n",
       "      <td>MainScreenAppear</td>\n",
       "      <td>5746969938801999050</td>\n",
       "      <td>1565212498</td>\n",
       "      <td>246</td>\n",
       "    </tr>\n",
       "    <tr>\n",
       "      <th>244125</th>\n",
       "      <td>OffersScreenAppear</td>\n",
       "      <td>5746969938801999050</td>\n",
       "      <td>1565212517</td>\n",
       "      <td>246</td>\n",
       "    </tr>\n",
       "  </tbody>\n",
       "</table>\n",
       "<p>244126 rows × 4 columns</p>\n",
       "</div>"
      ],
      "text/plain": [
       "                      EventName         DeviceIDHash  EventTimestamp  ExpId\n",
       "0              MainScreenAppear  4575588528974610257      1564029816    246\n",
       "1              MainScreenAppear  7416695313311560658      1564053102    246\n",
       "2       PaymentScreenSuccessful  3518123091307005509      1564054127    248\n",
       "3              CartScreenAppear  3518123091307005509      1564054127    248\n",
       "4       PaymentScreenSuccessful  6217807653094995999      1564055322    248\n",
       "...                         ...                  ...             ...    ...\n",
       "244121         MainScreenAppear  4599628364049201812      1565212345    247\n",
       "244122         MainScreenAppear  5849806612437486590      1565212439    246\n",
       "244123         MainScreenAppear  5746969938801999050      1565212483    246\n",
       "244124         MainScreenAppear  5746969938801999050      1565212498    246\n",
       "244125       OffersScreenAppear  5746969938801999050      1565212517    246\n",
       "\n",
       "[244126 rows x 4 columns]"
      ]
     },
     "metadata": {},
     "output_type": "display_data"
    }
   ],
   "source": [
    "display(logs)"
   ]
  },
  {
   "cell_type": "markdown",
   "metadata": {},
   "source": [
    "**1.4. Выведем основную информацию о датафрейме с помощью методов describe() и info().**"
   ]
  },
  {
   "cell_type": "code",
   "execution_count": 157,
   "metadata": {},
   "outputs": [
    {
     "name": "stdout",
     "output_type": "stream",
     "text": [
      "Общая информация о данных:\n"
     ]
    },
    {
     "data": {
      "text/html": [
       "<div>\n",
       "<style scoped>\n",
       "    .dataframe tbody tr th:only-of-type {\n",
       "        vertical-align: middle;\n",
       "    }\n",
       "\n",
       "    .dataframe tbody tr th {\n",
       "        vertical-align: top;\n",
       "    }\n",
       "\n",
       "    .dataframe thead th {\n",
       "        text-align: right;\n",
       "    }\n",
       "</style>\n",
       "<table border=\"1\" class=\"dataframe\">\n",
       "  <thead>\n",
       "    <tr style=\"text-align: right;\">\n",
       "      <th></th>\n",
       "      <th>DeviceIDHash</th>\n",
       "      <th>EventTimestamp</th>\n",
       "      <th>ExpId</th>\n",
       "    </tr>\n",
       "  </thead>\n",
       "  <tbody>\n",
       "    <tr>\n",
       "      <th>count</th>\n",
       "      <td>2.441260e+05</td>\n",
       "      <td>2.441260e+05</td>\n",
       "      <td>244126.000000</td>\n",
       "    </tr>\n",
       "    <tr>\n",
       "      <th>mean</th>\n",
       "      <td>4.627568e+18</td>\n",
       "      <td>1.564914e+09</td>\n",
       "      <td>247.022296</td>\n",
       "    </tr>\n",
       "    <tr>\n",
       "      <th>std</th>\n",
       "      <td>2.642425e+18</td>\n",
       "      <td>1.771343e+05</td>\n",
       "      <td>0.824434</td>\n",
       "    </tr>\n",
       "    <tr>\n",
       "      <th>min</th>\n",
       "      <td>6.888747e+15</td>\n",
       "      <td>1.564030e+09</td>\n",
       "      <td>246.000000</td>\n",
       "    </tr>\n",
       "    <tr>\n",
       "      <th>25%</th>\n",
       "      <td>2.372212e+18</td>\n",
       "      <td>1.564757e+09</td>\n",
       "      <td>246.000000</td>\n",
       "    </tr>\n",
       "    <tr>\n",
       "      <th>50%</th>\n",
       "      <td>4.623192e+18</td>\n",
       "      <td>1.564919e+09</td>\n",
       "      <td>247.000000</td>\n",
       "    </tr>\n",
       "    <tr>\n",
       "      <th>75%</th>\n",
       "      <td>6.932517e+18</td>\n",
       "      <td>1.565075e+09</td>\n",
       "      <td>248.000000</td>\n",
       "    </tr>\n",
       "    <tr>\n",
       "      <th>max</th>\n",
       "      <td>9.222603e+18</td>\n",
       "      <td>1.565213e+09</td>\n",
       "      <td>248.000000</td>\n",
       "    </tr>\n",
       "  </tbody>\n",
       "</table>\n",
       "</div>"
      ],
      "text/plain": [
       "       DeviceIDHash  EventTimestamp          ExpId\n",
       "count  2.441260e+05    2.441260e+05  244126.000000\n",
       "mean   4.627568e+18    1.564914e+09     247.022296\n",
       "std    2.642425e+18    1.771343e+05       0.824434\n",
       "min    6.888747e+15    1.564030e+09     246.000000\n",
       "25%    2.372212e+18    1.564757e+09     246.000000\n",
       "50%    4.623192e+18    1.564919e+09     247.000000\n",
       "75%    6.932517e+18    1.565075e+09     248.000000\n",
       "max    9.222603e+18    1.565213e+09     248.000000"
      ]
     },
     "metadata": {},
     "output_type": "display_data"
    },
    {
     "name": "stdout",
     "output_type": "stream",
     "text": [
      "<class 'pandas.core.frame.DataFrame'>\n",
      "RangeIndex: 244126 entries, 0 to 244125\n",
      "Data columns (total 4 columns):\n",
      " #   Column          Non-Null Count   Dtype \n",
      "---  ------          --------------   ----- \n",
      " 0   EventName       244126 non-null  object\n",
      " 1   DeviceIDHash    244126 non-null  int64 \n",
      " 2   EventTimestamp  244126 non-null  int64 \n",
      " 3   ExpId           244126 non-null  int64 \n",
      "dtypes: int64(3), object(1)\n",
      "memory usage: 7.5+ MB\n"
     ]
    },
    {
     "data": {
      "text/plain": [
       "None"
      ]
     },
     "metadata": {},
     "output_type": "display_data"
    }
   ],
   "source": [
    "print('Общая информация о данных:')\n",
    "display(logs.describe())\n",
    "display(logs.info())"
   ]
  },
  {
   "cell_type": "markdown",
   "metadata": {},
   "source": [
    "**Выводы:** \n",
    "1. Общая информация: датасет `logs` содержит *244126 строк, 4 столбца*. Столбцы `DeviceIDHash`, `EventTimestamp`, и `ExpId` имеют целочисленный тип данных, `EventName` - строковый.\n",
    "2. Типы данных: столбец `EventTimestamp` нужно преобразовать в формат даты и времени для удобного анализа."
   ]
  },
  {
   "cell_type": "markdown",
   "metadata": {},
   "source": [
    "## Предобработка данных"
   ]
  },
  {
   "cell_type": "markdown",
   "metadata": {},
   "source": [
    "**2.1. Переименуем столбцы, добавив нижние подчеркивания и приведя к нижнему регистру.**"
   ]
  },
  {
   "cell_type": "code",
   "execution_count": 162,
   "metadata": {},
   "outputs": [
    {
     "data": {
      "text/plain": [
       "Index(['event_name', 'device_id_hash', 'event_timestamp', 'exp_id'], dtype='object')"
      ]
     },
     "execution_count": 162,
     "metadata": {},
     "output_type": "execute_result"
    }
   ],
   "source": [
    "logs.columns = ['event_name', 'device_id_hash', 'event_timestamp', 'exp_id']\n",
    "\n",
    "# Проверим изменения\n",
    "logs.columns"
   ]
  },
  {
   "cell_type": "markdown",
   "metadata": {},
   "source": [
    "**2.2. Приведем типы данных и добавим столбец с датой.**"
   ]
  },
  {
   "cell_type": "code",
   "execution_count": 165,
   "metadata": {},
   "outputs": [
    {
     "data": {
      "text/html": [
       "<div>\n",
       "<style scoped>\n",
       "    .dataframe tbody tr th:only-of-type {\n",
       "        vertical-align: middle;\n",
       "    }\n",
       "\n",
       "    .dataframe tbody tr th {\n",
       "        vertical-align: top;\n",
       "    }\n",
       "\n",
       "    .dataframe thead th {\n",
       "        text-align: right;\n",
       "    }\n",
       "</style>\n",
       "<table border=\"1\" class=\"dataframe\">\n",
       "  <thead>\n",
       "    <tr style=\"text-align: right;\">\n",
       "      <th></th>\n",
       "      <th>event_name</th>\n",
       "      <th>device_id_hash</th>\n",
       "      <th>event_timestamp</th>\n",
       "      <th>exp_id</th>\n",
       "      <th>date</th>\n",
       "    </tr>\n",
       "  </thead>\n",
       "  <tbody>\n",
       "    <tr>\n",
       "      <th>0</th>\n",
       "      <td>MainScreenAppear</td>\n",
       "      <td>4575588528974610257</td>\n",
       "      <td>2019-07-25 04:43:36</td>\n",
       "      <td>246</td>\n",
       "      <td>2019-07-25</td>\n",
       "    </tr>\n",
       "    <tr>\n",
       "      <th>1</th>\n",
       "      <td>MainScreenAppear</td>\n",
       "      <td>7416695313311560658</td>\n",
       "      <td>2019-07-25 11:11:42</td>\n",
       "      <td>246</td>\n",
       "      <td>2019-07-25</td>\n",
       "    </tr>\n",
       "    <tr>\n",
       "      <th>2</th>\n",
       "      <td>PaymentScreenSuccessful</td>\n",
       "      <td>3518123091307005509</td>\n",
       "      <td>2019-07-25 11:28:47</td>\n",
       "      <td>248</td>\n",
       "      <td>2019-07-25</td>\n",
       "    </tr>\n",
       "    <tr>\n",
       "      <th>3</th>\n",
       "      <td>CartScreenAppear</td>\n",
       "      <td>3518123091307005509</td>\n",
       "      <td>2019-07-25 11:28:47</td>\n",
       "      <td>248</td>\n",
       "      <td>2019-07-25</td>\n",
       "    </tr>\n",
       "    <tr>\n",
       "      <th>4</th>\n",
       "      <td>PaymentScreenSuccessful</td>\n",
       "      <td>6217807653094995999</td>\n",
       "      <td>2019-07-25 11:48:42</td>\n",
       "      <td>248</td>\n",
       "      <td>2019-07-25</td>\n",
       "    </tr>\n",
       "  </tbody>\n",
       "</table>\n",
       "</div>"
      ],
      "text/plain": [
       "                event_name       device_id_hash     event_timestamp  exp_id  \\\n",
       "0         MainScreenAppear  4575588528974610257 2019-07-25 04:43:36     246   \n",
       "1         MainScreenAppear  7416695313311560658 2019-07-25 11:11:42     246   \n",
       "2  PaymentScreenSuccessful  3518123091307005509 2019-07-25 11:28:47     248   \n",
       "3         CartScreenAppear  3518123091307005509 2019-07-25 11:28:47     248   \n",
       "4  PaymentScreenSuccessful  6217807653094995999 2019-07-25 11:48:42     248   \n",
       "\n",
       "         date  \n",
       "0  2019-07-25  \n",
       "1  2019-07-25  \n",
       "2  2019-07-25  \n",
       "3  2019-07-25  \n",
       "4  2019-07-25  "
      ]
     },
     "execution_count": 165,
     "metadata": {},
     "output_type": "execute_result"
    }
   ],
   "source": [
    "# Приведем столбец event_timestamp в формат datetime\n",
    "logs['event_timestamp'] = pd.to_datetime(logs['event_timestamp'], unit='s')\n",
    "\n",
    "# Добавляем столбец только с датой\n",
    "logs['date'] = logs['event_timestamp'].dt.date\n",
    "\n",
    "# Проверим изменения\n",
    "logs.head()"
   ]
  },
  {
   "cell_type": "markdown",
   "metadata": {},
   "source": [
    "**2.3. Проверим данные на наличие пропусков.**"
   ]
  },
  {
   "cell_type": "code",
   "execution_count": 168,
   "metadata": {},
   "outputs": [
    {
     "data": {
      "text/html": [
       "<div>\n",
       "<style scoped>\n",
       "    .dataframe tbody tr th:only-of-type {\n",
       "        vertical-align: middle;\n",
       "    }\n",
       "\n",
       "    .dataframe tbody tr th {\n",
       "        vertical-align: top;\n",
       "    }\n",
       "\n",
       "    .dataframe thead th {\n",
       "        text-align: right;\n",
       "    }\n",
       "</style>\n",
       "<table border=\"1\" class=\"dataframe\">\n",
       "  <thead>\n",
       "    <tr style=\"text-align: right;\">\n",
       "      <th></th>\n",
       "      <th>missing_values_count</th>\n",
       "      <th>missing_values_share</th>\n",
       "    </tr>\n",
       "  </thead>\n",
       "  <tbody>\n",
       "    <tr>\n",
       "      <th>event_name</th>\n",
       "      <td>0</td>\n",
       "      <td>0.0</td>\n",
       "    </tr>\n",
       "    <tr>\n",
       "      <th>device_id_hash</th>\n",
       "      <td>0</td>\n",
       "      <td>0.0</td>\n",
       "    </tr>\n",
       "    <tr>\n",
       "      <th>event_timestamp</th>\n",
       "      <td>0</td>\n",
       "      <td>0.0</td>\n",
       "    </tr>\n",
       "    <tr>\n",
       "      <th>exp_id</th>\n",
       "      <td>0</td>\n",
       "      <td>0.0</td>\n",
       "    </tr>\n",
       "    <tr>\n",
       "      <th>date</th>\n",
       "      <td>0</td>\n",
       "      <td>0.0</td>\n",
       "    </tr>\n",
       "  </tbody>\n",
       "</table>\n",
       "</div>"
      ],
      "text/plain": [
       "                 missing_values_count  missing_values_share\n",
       "event_name                          0                   0.0\n",
       "device_id_hash                      0                   0.0\n",
       "event_timestamp                     0                   0.0\n",
       "exp_id                              0                   0.0\n",
       "date                                0                   0.0"
      ]
     },
     "execution_count": 168,
     "metadata": {},
     "output_type": "execute_result"
    }
   ],
   "source": [
    "missing_values_count = logs.isna().sum()\n",
    "missing_values_share = logs.isna().mean() * 100\n",
    "\n",
    "missing_data = pd.DataFrame({'missing_values_count': missing_values_count, 'missing_values_share': missing_values_share}).sort_values(by='missing_values_count', ascending=False)\n",
    "\n",
    "missing_data"
   ]
  },
  {
   "cell_type": "markdown",
   "metadata": {},
   "source": [
    "**2.4. Проверим данные на наличие дубликатов.**"
   ]
  },
  {
   "cell_type": "code",
   "execution_count": 171,
   "metadata": {},
   "outputs": [
    {
     "name": "stdout",
     "output_type": "stream",
     "text": [
      "413\n"
     ]
    }
   ],
   "source": [
    "# Удалим пробелы в начале и в конце строк\n",
    "logs['event_name'] = logs['event_name'].str.strip()\n",
    "\n",
    "# Проверим на наличие явных дубликатов после нормализации данных\n",
    "print(logs.duplicated().sum())"
   ]
  },
  {
   "cell_type": "code",
   "execution_count": 173,
   "metadata": {},
   "outputs": [
    {
     "name": "stdout",
     "output_type": "stream",
     "text": [
      "0\n"
     ]
    }
   ],
   "source": [
    "# Удалим явные дубликаты\n",
    "logs.drop_duplicates(inplace=True)\n",
    "\n",
    "# Проверим изменения\n",
    "print(logs.duplicated().sum())"
   ]
  },
  {
   "cell_type": "code",
   "execution_count": 175,
   "metadata": {},
   "outputs": [
    {
     "data": {
      "text/html": [
       "<div>\n",
       "<style scoped>\n",
       "    .dataframe tbody tr th:only-of-type {\n",
       "        vertical-align: middle;\n",
       "    }\n",
       "\n",
       "    .dataframe tbody tr th {\n",
       "        vertical-align: top;\n",
       "    }\n",
       "\n",
       "    .dataframe thead th {\n",
       "        text-align: right;\n",
       "    }\n",
       "</style>\n",
       "<table border=\"1\" class=\"dataframe\">\n",
       "  <thead>\n",
       "    <tr style=\"text-align: right;\">\n",
       "      <th></th>\n",
       "      <th>event_name</th>\n",
       "      <th>device_id_hash</th>\n",
       "      <th>event_timestamp</th>\n",
       "      <th>exp_id</th>\n",
       "      <th>date</th>\n",
       "    </tr>\n",
       "  </thead>\n",
       "  <tbody>\n",
       "  </tbody>\n",
       "</table>\n",
       "</div>"
      ],
      "text/plain": [
       "Empty DataFrame\n",
       "Columns: [event_name, device_id_hash, event_timestamp, exp_id, date]\n",
       "Index: []"
      ]
     },
     "execution_count": 175,
     "metadata": {},
     "output_type": "execute_result"
    }
   ],
   "source": [
    "# Проверим на неявные дубликаты по сабсету\n",
    "duplicates_subset = logs.duplicated(subset=['event_name', 'device_id_hash', 'event_timestamp'], keep=False)\n",
    "duplicated_rows = logs[duplicates_subset]\n",
    "duplicated_rows"
   ]
  },
  {
   "cell_type": "code",
   "execution_count": 177,
   "metadata": {},
   "outputs": [
    {
     "data": {
      "text/html": [
       "<div>\n",
       "<style scoped>\n",
       "    .dataframe tbody tr th:only-of-type {\n",
       "        vertical-align: middle;\n",
       "    }\n",
       "\n",
       "    .dataframe tbody tr th {\n",
       "        vertical-align: top;\n",
       "    }\n",
       "\n",
       "    .dataframe thead th {\n",
       "        text-align: right;\n",
       "    }\n",
       "</style>\n",
       "<table border=\"1\" class=\"dataframe\">\n",
       "  <thead>\n",
       "    <tr style=\"text-align: right;\">\n",
       "      <th></th>\n",
       "      <th>event_name</th>\n",
       "      <th>device_id_hash</th>\n",
       "      <th>event_timestamp</th>\n",
       "      <th>exp_id</th>\n",
       "      <th>date</th>\n",
       "    </tr>\n",
       "  </thead>\n",
       "  <tbody>\n",
       "    <tr>\n",
       "      <th>0</th>\n",
       "      <td>MainScreenAppear</td>\n",
       "      <td>4575588528974610257</td>\n",
       "      <td>2019-07-25 04:43:36</td>\n",
       "      <td>246</td>\n",
       "      <td>2019-07-25</td>\n",
       "    </tr>\n",
       "    <tr>\n",
       "      <th>1</th>\n",
       "      <td>MainScreenAppear</td>\n",
       "      <td>7416695313311560658</td>\n",
       "      <td>2019-07-25 11:11:42</td>\n",
       "      <td>246</td>\n",
       "      <td>2019-07-25</td>\n",
       "    </tr>\n",
       "    <tr>\n",
       "      <th>2</th>\n",
       "      <td>PaymentScreenSuccessful</td>\n",
       "      <td>3518123091307005509</td>\n",
       "      <td>2019-07-25 11:28:47</td>\n",
       "      <td>248</td>\n",
       "      <td>2019-07-25</td>\n",
       "    </tr>\n",
       "    <tr>\n",
       "      <th>3</th>\n",
       "      <td>CartScreenAppear</td>\n",
       "      <td>3518123091307005509</td>\n",
       "      <td>2019-07-25 11:28:47</td>\n",
       "      <td>248</td>\n",
       "      <td>2019-07-25</td>\n",
       "    </tr>\n",
       "    <tr>\n",
       "      <th>4</th>\n",
       "      <td>PaymentScreenSuccessful</td>\n",
       "      <td>6217807653094995999</td>\n",
       "      <td>2019-07-25 11:48:42</td>\n",
       "      <td>248</td>\n",
       "      <td>2019-07-25</td>\n",
       "    </tr>\n",
       "    <tr>\n",
       "      <th>...</th>\n",
       "      <td>...</td>\n",
       "      <td>...</td>\n",
       "      <td>...</td>\n",
       "      <td>...</td>\n",
       "      <td>...</td>\n",
       "    </tr>\n",
       "    <tr>\n",
       "      <th>244121</th>\n",
       "      <td>MainScreenAppear</td>\n",
       "      <td>4599628364049201812</td>\n",
       "      <td>2019-08-07 21:12:25</td>\n",
       "      <td>247</td>\n",
       "      <td>2019-08-07</td>\n",
       "    </tr>\n",
       "    <tr>\n",
       "      <th>244122</th>\n",
       "      <td>MainScreenAppear</td>\n",
       "      <td>5849806612437486590</td>\n",
       "      <td>2019-08-07 21:13:59</td>\n",
       "      <td>246</td>\n",
       "      <td>2019-08-07</td>\n",
       "    </tr>\n",
       "    <tr>\n",
       "      <th>244123</th>\n",
       "      <td>MainScreenAppear</td>\n",
       "      <td>5746969938801999050</td>\n",
       "      <td>2019-08-07 21:14:43</td>\n",
       "      <td>246</td>\n",
       "      <td>2019-08-07</td>\n",
       "    </tr>\n",
       "    <tr>\n",
       "      <th>244124</th>\n",
       "      <td>MainScreenAppear</td>\n",
       "      <td>5746969938801999050</td>\n",
       "      <td>2019-08-07 21:14:58</td>\n",
       "      <td>246</td>\n",
       "      <td>2019-08-07</td>\n",
       "    </tr>\n",
       "    <tr>\n",
       "      <th>244125</th>\n",
       "      <td>OffersScreenAppear</td>\n",
       "      <td>5746969938801999050</td>\n",
       "      <td>2019-08-07 21:15:17</td>\n",
       "      <td>246</td>\n",
       "      <td>2019-08-07</td>\n",
       "    </tr>\n",
       "  </tbody>\n",
       "</table>\n",
       "<p>243713 rows × 5 columns</p>\n",
       "</div>"
      ],
      "text/plain": [
       "                     event_name       device_id_hash     event_timestamp  \\\n",
       "0              MainScreenAppear  4575588528974610257 2019-07-25 04:43:36   \n",
       "1              MainScreenAppear  7416695313311560658 2019-07-25 11:11:42   \n",
       "2       PaymentScreenSuccessful  3518123091307005509 2019-07-25 11:28:47   \n",
       "3              CartScreenAppear  3518123091307005509 2019-07-25 11:28:47   \n",
       "4       PaymentScreenSuccessful  6217807653094995999 2019-07-25 11:48:42   \n",
       "...                         ...                  ...                 ...   \n",
       "244121         MainScreenAppear  4599628364049201812 2019-08-07 21:12:25   \n",
       "244122         MainScreenAppear  5849806612437486590 2019-08-07 21:13:59   \n",
       "244123         MainScreenAppear  5746969938801999050 2019-08-07 21:14:43   \n",
       "244124         MainScreenAppear  5746969938801999050 2019-08-07 21:14:58   \n",
       "244125       OffersScreenAppear  5746969938801999050 2019-08-07 21:15:17   \n",
       "\n",
       "        exp_id        date  \n",
       "0          246  2019-07-25  \n",
       "1          246  2019-07-25  \n",
       "2          248  2019-07-25  \n",
       "3          248  2019-07-25  \n",
       "4          248  2019-07-25  \n",
       "...        ...         ...  \n",
       "244121     247  2019-08-07  \n",
       "244122     246  2019-08-07  \n",
       "244123     246  2019-08-07  \n",
       "244124     246  2019-08-07  \n",
       "244125     246  2019-08-07  \n",
       "\n",
       "[243713 rows x 5 columns]"
      ]
     },
     "metadata": {},
     "output_type": "display_data"
    }
   ],
   "source": [
    "# Посмотрим на датасет после предобработки данных\n",
    "display(logs)"
   ]
  },
  {
   "cell_type": "markdown",
   "metadata": {},
   "source": [
    "**Выводы:**\n",
    "1. Приведение типов данных: столбец event_timestamp преобразован в формат datetime.\n",
    "\n",
    "2. Дубликаты: обнаружены и удалены 413 явных строк дубликатов.\n",
    "\n",
    "3. Пропущенные значения: нет.\n",
    "\n",
    "4. Новые столбцы: добавлен 1 новый столбец с датой.\n",
    "\n",
    "5. Столбцы переименованы: приведены к нижнему регистру, добавлены нижние подчеркивания.\n",
    "\n",
    "\n",
    "Изменения данных:\n",
    "- До предобработки данных было 244126 строк, 4 столбца.\n",
    "- Удалены 413 (0.17%) явных дубликатов, добавлен 1 новый столбец с датой.\n",
    "- После предобработки данных стало 243713 строки и 5 столбцов. "
   ]
  },
  {
   "cell_type": "markdown",
   "metadata": {},
   "source": [
    "## Исследовательский анализ данных"
   ]
  },
  {
   "cell_type": "markdown",
   "metadata": {},
   "source": [
    "**3.1. Исследовательский анализ исходных данных.**\n",
    "- Подсчитаем количество событий в логе, количество уникальных пользователей, среднее количество событий на пользователя. \n",
    "- Найдём минимальную и максимальную дату логов. \n",
    "- Построим столбчатую диаграмму количества событий по времени в разрезе групп."
   ]
  },
  {
   "cell_type": "code",
   "execution_count": 182,
   "metadata": {},
   "outputs": [
    {
     "data": {
      "image/png": "[encoded data removed]",
      "text/plain": [
       "<Figure size 1200x600 with 1 Axes>"
      ]
     },
     "metadata": {},
     "output_type": "display_data"
    },
    {
     "name": "stdout",
     "output_type": "stream",
     "text": [
      "Всего событий: 243713\n",
      "\n",
      "Всего пользователей: 7551\n",
      "Среднее количество событий на пользователя: 32.28\n",
      "\n",
      "Минимальная дата логов: 2019-07-25\n",
      "Максимальная дата логов: 2019-08-07\n"
     ]
    }
   ],
   "source": [
    "# Подсчитаем количество событий в логе\n",
    "total_events = logs.shape[0]\n",
    "\n",
    "# Подсчитаем количество уникальных пользователей\n",
    "total_users = logs['device_id_hash'].nunique()\n",
    "\n",
    "# Подсчитаем среднее количество событий на пользователя\n",
    "avg_events_per_user = round(total_events / total_users, 2)\n",
    "\n",
    "# Найдём минимальную и максимальную дату логов\n",
    "min_date = logs['date'].min()\n",
    "max_date = logs['date'].max()\n",
    "\n",
    "# Построим столбчатую диаграмму количества событий по времени в разрезе групп\n",
    "events_by_date_group = logs.groupby(['date', 'exp_id']).size().unstack()\n",
    "\n",
    "# Строим график\n",
    "events_by_date_group.plot(kind='bar', stacked=True, figsize=(12, 6))\n",
    "\n",
    "plt.title('Количество событий в зависимости от времени (по экспериментальным группам)')\n",
    "plt.xlabel('Дата')\n",
    "plt.ylabel('Количество событий')\n",
    "\n",
    "plt.xticks(rotation=45)\n",
    "\n",
    "plt.grid(True)\n",
    "plt.tight_layout()\n",
    "plt.show()\n",
    "\n",
    "# Выведем результаты\n",
    "print(f\"Всего событий: {total_events}\")\n",
    "print(f\"\\nВсего пользователей: {total_users}\")\n",
    "print(f\"Среднее количество событий на пользователя: {avg_events_per_user}\")\n",
    "print(f\"\\nМинимальная дата логов: {min_date}\")\n",
    "print(f\"Максимальная дата логов: {max_date}\")"
   ]
  },
  {
   "cell_type": "markdown",
   "metadata": {},
   "source": [
    "**3.2. Проверка на полноту данных.**"
   ]
  },
  {
   "cell_type": "markdown",
   "metadata": {},
   "source": [
    "По графику виден резкий рост числа событий с 01 авуста 2019 года. До этого периода количество событий на порядок меньше, что может указывать на неполные данные за первые дни (с 25 по 30 июля 2019 года). \n",
    "\n",
    "Технически в логи новых дней по некоторым пользователям могут «доезжать» события из прошлого — это может «перекашивать данные». Поэтому:\n",
    "- Полными будем считать данные начиная с 01 августа 2019 года.\n",
    "- События до этой даты исключим из анализа, так как они могут вносить искажения."
   ]
  },
  {
   "cell_type": "markdown",
   "metadata": {},
   "source": [
    "Фильтруем данные, начиная с 01 августа 2019 года. Подсчитаем количество событий и количество пользователей после фильтрации данных. Подсчитаем количество потерянных событий и пользователей. Проверим наличие всех 3 экспериментальных групп."
   ]
  },
  {
   "cell_type": "code",
   "execution_count": 187,
   "metadata": {},
   "outputs": [
    {
     "name": "stdout",
     "output_type": "stream",
     "text": [
      "Количество потерянных событий: 2826\n",
      "Процент потерянных событий: 1.16%\n",
      "\n",
      "Количество потерянных пользователей: 17\n",
      "Процент потерянных пользователей: 0.23%\n",
      "\n",
      "Экспериментальные группы: [246 247 248]\n"
     ]
    }
   ],
   "source": [
    "# Фильтруем данные, начиная с 01 августа 2019 года\n",
    "filtered_logs = logs[logs['event_timestamp'] >= '2019-08-01']\n",
    "\n",
    "# Подсчитаем количество событий и количество пользователей после фильтрации данных\n",
    "filtered_total_events = filtered_logs.shape[0]\n",
    "filtered_total_users = filtered_logs['device_id_hash'].nunique()\n",
    "\n",
    "# Проверим наличие всех 3 экспериментальных групп\n",
    "exp_groups = filtered_logs['exp_id'].unique()\n",
    "\n",
    "# Подсчитаем количество потерянных событий и пользователей\n",
    "events_lost = total_events - filtered_total_events\n",
    "users_lost = total_users - filtered_total_users\n",
    "\n",
    "# Подсчитаем процент потерянных событий и пользователей\n",
    "events_lost_share = (events_lost / total_events) * 100\n",
    "users_lost_share = (users_lost / total_users) * 100\n",
    "\n",
    "print(f\"Количество потерянных событий: {events_lost}\")\n",
    "print(f\"Процент потерянных событий: {events_lost_share:.2f}%\")\n",
    "print(f\"\\nКоличество потерянных пользователей: {users_lost}\")\n",
    "print(f\"Процент потерянных пользователей: {users_lost_share:.2f}%\")\n",
    "print(f\"\\nЭкспериментальные группы: {exp_groups}\")"
   ]
  },
  {
   "cell_type": "markdown",
   "metadata": {},
   "source": [
    "**3.3. Исследовательский анализ очищенных данных.**\n",
    "- Подсчитаем количество событий в логе, количество уникальных пользователей, среднее количество событий на пользователя. \n",
    "- Найдём минимальную и максимальную дату логов."
   ]
  },
  {
   "cell_type": "code",
   "execution_count": 190,
   "metadata": {},
   "outputs": [
    {
     "name": "stdout",
     "output_type": "stream",
     "text": [
      "Всего событий после очистки данных: 240887\n",
      "\n",
      "Всего пользователей после очистки данных: 7534\n",
      "Среднее количество событий на пользователя после очистки данных: 31.97\n",
      "\n",
      "Минимальная дата логов после очистки данных: 2019-08-01\n",
      "Максимальная дата логов после очистки данных: 2019-08-07\n"
     ]
    }
   ],
   "source": [
    "# Подсчитаем среднее количество событий на пользователя\n",
    "filtered_avg_events_per_user = round(filtered_total_events / filtered_total_users, 2)\n",
    "\n",
    "# Найдём минимальную и максимальную дату логов\n",
    "filtered_min_date = filtered_logs['date'].min()\n",
    "filtered_max_date = filtered_logs['date'].max()\n",
    "\n",
    "# Выведем результаты\n",
    "print(f\"Всего событий после очистки данных: {filtered_total_events}\")\n",
    "print(f\"\\nВсего пользователей после очистки данных: {filtered_total_users}\")\n",
    "print(f\"Среднее количество событий на пользователя после очистки данных: {filtered_avg_events_per_user}\")\n",
    "print(f\"\\nМинимальная дата логов после очистки данных: {filtered_min_date}\")\n",
    "print(f\"Максимальная дата логов после очистки данных: {filtered_max_date}\")"
   ]
  },
  {
   "cell_type": "markdown",
   "metadata": {},
   "source": [
    "**Выводы:**\n",
    "1. Информация о событиях и пользователях:\n",
    "    - Всего событий: 243713.\n",
    "    - Всего пользователей: 7551.\n",
    "    - Среднее количество событий на пользователя: 32.27.\n",
    "    - События за период с 25.07.2019 по 07.08.2019.\n",
    "\n",
    "\n",
    "Число событий с 01 авуста 2019 года резко выросло. До этого периода количество событий на порядок меньше, что может указывать на неполные данные за первые дни (с 25 по 31 июля 2019 года). Полными будем считать данные начиная с 01 августа 2019 года. События до этой даты исключим из анализа, так как они могут вносить искажения.\n",
    "\n",
    "\n",
    "2. Информация об удаленных событиях с 25 по 31 июля 2019 года:\n",
    "    - Количество потерянных событий: 2826 (1.16% от общего количества).\n",
    "    - Количество потерянных пользователей: 17 (0.23% от общего количества).\n",
    "\n",
    "\n",
    "3. Информация о событиях и пользователях после очистки данных:\n",
    "    - Всего событий: 240887.\n",
    "    - Всего пользователей: 7534.\n",
    "    - Среднее количество событий на пользователя: 31.97.\n",
    "    - События за период с 01.08.2019 по 07.08.2019.\n",
    "    - Все 3 экспериментальные группы присутствуют."
   ]
  },
  {
   "cell_type": "markdown",
   "metadata": {},
   "source": [
    "## Анализ воронки событий"
   ]
  },
  {
   "cell_type": "markdown",
   "metadata": {},
   "source": [
    "**4.1. Посмотрим, какие события есть в логах, как часто они встречаются. Подсчитаем частоту каждого события.**"
   ]
  },
  {
   "cell_type": "code",
   "execution_count": 196,
   "metadata": {},
   "outputs": [
    {
     "data": {
      "text/html": [
       "<div>\n",
       "<style scoped>\n",
       "    .dataframe tbody tr th:only-of-type {\n",
       "        vertical-align: middle;\n",
       "    }\n",
       "\n",
       "    .dataframe tbody tr th {\n",
       "        vertical-align: top;\n",
       "    }\n",
       "\n",
       "    .dataframe thead th {\n",
       "        text-align: right;\n",
       "    }\n",
       "</style>\n",
       "<table border=\"1\" class=\"dataframe\">\n",
       "  <thead>\n",
       "    <tr style=\"text-align: right;\">\n",
       "      <th></th>\n",
       "      <th>event_name</th>\n",
       "      <th>events_count</th>\n",
       "      <th>events_share</th>\n",
       "    </tr>\n",
       "  </thead>\n",
       "  <tbody>\n",
       "    <tr>\n",
       "      <th>0</th>\n",
       "      <td>MainScreenAppear</td>\n",
       "      <td>117328</td>\n",
       "      <td>48.71</td>\n",
       "    </tr>\n",
       "    <tr>\n",
       "      <th>1</th>\n",
       "      <td>OffersScreenAppear</td>\n",
       "      <td>46333</td>\n",
       "      <td>19.23</td>\n",
       "    </tr>\n",
       "    <tr>\n",
       "      <th>2</th>\n",
       "      <td>CartScreenAppear</td>\n",
       "      <td>42303</td>\n",
       "      <td>17.56</td>\n",
       "    </tr>\n",
       "    <tr>\n",
       "      <th>3</th>\n",
       "      <td>PaymentScreenSuccessful</td>\n",
       "      <td>33918</td>\n",
       "      <td>14.08</td>\n",
       "    </tr>\n",
       "    <tr>\n",
       "      <th>4</th>\n",
       "      <td>Tutorial</td>\n",
       "      <td>1005</td>\n",
       "      <td>0.42</td>\n",
       "    </tr>\n",
       "  </tbody>\n",
       "</table>\n",
       "</div>"
      ],
      "text/plain": [
       "                event_name  events_count  events_share\n",
       "0         MainScreenAppear        117328         48.71\n",
       "1       OffersScreenAppear         46333         19.23\n",
       "2         CartScreenAppear         42303         17.56\n",
       "3  PaymentScreenSuccessful         33918         14.08\n",
       "4                 Tutorial          1005          0.42"
      ]
     },
     "metadata": {},
     "output_type": "display_data"
    }
   ],
   "source": [
    "# Подсчитаем частоту каждого события и отсортируем по убыванию\n",
    "event_frequencies = filtered_logs['event_name'].value_counts()\n",
    "\n",
    "# Создаем DataFrame с событиями\n",
    "events_df = pd.DataFrame({\n",
    "    'event_name': event_frequencies.index,\n",
    "    'events_count': event_frequencies.values\n",
    "})\n",
    "\n",
    "events_df['events_share'] = round((events_df['events_count'] / filtered_total_events) * 100, 2)\n",
    "\n",
    "# Выведем результаты\n",
    "display(events_df)"
   ]
  },
  {
   "cell_type": "markdown",
   "metadata": {},
   "source": [
    "**4.2. Подсчитаем количество и долю уникальных пользователей для каждого события.**"
   ]
  },
  {
   "cell_type": "code",
   "execution_count": 199,
   "metadata": {},
   "outputs": [
    {
     "data": {
      "text/html": [
       "<div>\n",
       "<style scoped>\n",
       "    .dataframe tbody tr th:only-of-type {\n",
       "        vertical-align: middle;\n",
       "    }\n",
       "\n",
       "    .dataframe tbody tr th {\n",
       "        vertical-align: top;\n",
       "    }\n",
       "\n",
       "    .dataframe thead th {\n",
       "        text-align: right;\n",
       "    }\n",
       "</style>\n",
       "<table border=\"1\" class=\"dataframe\">\n",
       "  <thead>\n",
       "    <tr style=\"text-align: right;\">\n",
       "      <th></th>\n",
       "      <th>event_name</th>\n",
       "      <th>events_count</th>\n",
       "      <th>events_share</th>\n",
       "      <th>users_count</th>\n",
       "      <th>users_share</th>\n",
       "    </tr>\n",
       "  </thead>\n",
       "  <tbody>\n",
       "    <tr>\n",
       "      <th>0</th>\n",
       "      <td>MainScreenAppear</td>\n",
       "      <td>117328</td>\n",
       "      <td>48.71</td>\n",
       "      <td>7419</td>\n",
       "      <td>98.47</td>\n",
       "    </tr>\n",
       "    <tr>\n",
       "      <th>1</th>\n",
       "      <td>OffersScreenAppear</td>\n",
       "      <td>46333</td>\n",
       "      <td>19.23</td>\n",
       "      <td>4593</td>\n",
       "      <td>60.96</td>\n",
       "    </tr>\n",
       "    <tr>\n",
       "      <th>2</th>\n",
       "      <td>CartScreenAppear</td>\n",
       "      <td>42303</td>\n",
       "      <td>17.56</td>\n",
       "      <td>3734</td>\n",
       "      <td>49.56</td>\n",
       "    </tr>\n",
       "    <tr>\n",
       "      <th>3</th>\n",
       "      <td>PaymentScreenSuccessful</td>\n",
       "      <td>33918</td>\n",
       "      <td>14.08</td>\n",
       "      <td>3539</td>\n",
       "      <td>46.97</td>\n",
       "    </tr>\n",
       "    <tr>\n",
       "      <th>4</th>\n",
       "      <td>Tutorial</td>\n",
       "      <td>1005</td>\n",
       "      <td>0.42</td>\n",
       "      <td>840</td>\n",
       "      <td>11.15</td>\n",
       "    </tr>\n",
       "  </tbody>\n",
       "</table>\n",
       "</div>"
      ],
      "text/plain": [
       "                event_name  events_count  events_share  users_count  \\\n",
       "0         MainScreenAppear        117328         48.71         7419   \n",
       "1       OffersScreenAppear         46333         19.23         4593   \n",
       "2         CartScreenAppear         42303         17.56         3734   \n",
       "3  PaymentScreenSuccessful         33918         14.08         3539   \n",
       "4                 Tutorial          1005          0.42          840   \n",
       "\n",
       "   users_share  \n",
       "0        98.47  \n",
       "1        60.96  \n",
       "2        49.56  \n",
       "3        46.97  \n",
       "4        11.15  "
      ]
     },
     "metadata": {},
     "output_type": "display_data"
    }
   ],
   "source": [
    "# Подсчитаем количество уникальных пользователей для каждого события\n",
    "event_users = filtered_logs.groupby('event_name')['device_id_hash'].nunique()\n",
    "\n",
    "# Добавим количество уникальных пользователей в events_df\n",
    "events_df['users_count'] = events_df['event_name'].map(event_users)\n",
    "\n",
    "# Добавим столбец с долей уникальных пользователей для каждого события\n",
    "events_df['users_share'] = round((events_df['users_count'] / filtered_total_users) * 100, 2)\n",
    "\n",
    "# Выведем результаты\n",
    "events_df = events_df.sort_values(by='users_count', ascending=False)\n",
    "display(events_df)"
   ]
  },
  {
   "cell_type": "markdown",
   "metadata": {},
   "source": [
    "**4.3. Строим и анализируем воронку продаж.**"
   ]
  },
  {
   "cell_type": "markdown",
   "metadata": {},
   "source": [
    "На основании списка событий можно предположить следующую логическую последовательность, которая отражает пользовательский путь в приложении:\n",
    "1. MainScreenAppear — появление главного экрана. Это первый этап, пользователь открывает приложение.\n",
    "2. OffersScreenAppear — появление экрана с предложениями. Пользователь переходит к просмотру товаров.\n",
    "3. CartScreenAppear — появление экрана корзины. Пользователь добавляет товары в корзину и переходит к оформлению заказа.\n",
    "4. PaymentScreenSuccessful — успешное завершение оплаты. Это последний этап, пользователь завершает покупку."
   ]
  },
  {
   "cell_type": "markdown",
   "metadata": {},
   "source": [
    "Событие Tutorial (обучение) - обычно появляется начале пользовательского пути и является необязательным шагом. Пользователи часто скипают обучение, что мы и видим по конверсии (11.15%). \n",
    "\n",
    "Не будем учитывать событие Tutorial при расчете воронки продажи, так как оно не связано напрямую с процессом покупки."
   ]
  },
  {
   "cell_type": "code",
   "execution_count": 204,
   "metadata": {},
   "outputs": [],
   "source": [
    "# Удалим событие 'Tutorial' из расчета воронки продаж\n",
    "events_df = events_df[events_df['event_name'] != 'Tutorial']"
   ]
  },
  {
   "cell_type": "markdown",
   "metadata": {},
   "source": [
    "Подсчитаем, какая доля пользователей проходит на следующий шаг воронки (от числа пользователей на предыдущем)."
   ]
  },
  {
   "cell_type": "code",
   "execution_count": 209,
   "metadata": {},
   "outputs": [
    {
     "data": {
      "text/html": [
       "<div>\n",
       "<style scoped>\n",
       "    .dataframe tbody tr th:only-of-type {\n",
       "        vertical-align: middle;\n",
       "    }\n",
       "\n",
       "    .dataframe tbody tr th {\n",
       "        vertical-align: top;\n",
       "    }\n",
       "\n",
       "    .dataframe thead th {\n",
       "        text-align: right;\n",
       "    }\n",
       "</style>\n",
       "<table border=\"1\" class=\"dataframe\">\n",
       "  <thead>\n",
       "    <tr style=\"text-align: right;\">\n",
       "      <th></th>\n",
       "      <th>event_name</th>\n",
       "      <th>events_count</th>\n",
       "      <th>events_share</th>\n",
       "      <th>users_count</th>\n",
       "      <th>users_share</th>\n",
       "      <th>users_next_step_share</th>\n",
       "    </tr>\n",
       "  </thead>\n",
       "  <tbody>\n",
       "    <tr>\n",
       "      <th>0</th>\n",
       "      <td>MainScreenAppear</td>\n",
       "      <td>117328</td>\n",
       "      <td>48.71</td>\n",
       "      <td>7419</td>\n",
       "      <td>98.47</td>\n",
       "      <td>100.00</td>\n",
       "    </tr>\n",
       "    <tr>\n",
       "      <th>1</th>\n",
       "      <td>OffersScreenAppear</td>\n",
       "      <td>46333</td>\n",
       "      <td>19.23</td>\n",
       "      <td>4593</td>\n",
       "      <td>60.96</td>\n",
       "      <td>61.91</td>\n",
       "    </tr>\n",
       "    <tr>\n",
       "      <th>2</th>\n",
       "      <td>CartScreenAppear</td>\n",
       "      <td>42303</td>\n",
       "      <td>17.56</td>\n",
       "      <td>3734</td>\n",
       "      <td>49.56</td>\n",
       "      <td>81.30</td>\n",
       "    </tr>\n",
       "    <tr>\n",
       "      <th>3</th>\n",
       "      <td>PaymentScreenSuccessful</td>\n",
       "      <td>33918</td>\n",
       "      <td>14.08</td>\n",
       "      <td>3539</td>\n",
       "      <td>46.97</td>\n",
       "      <td>94.78</td>\n",
       "    </tr>\n",
       "  </tbody>\n",
       "</table>\n",
       "</div>"
      ],
      "text/plain": [
       "                event_name  events_count  events_share  users_count  \\\n",
       "0         MainScreenAppear        117328         48.71         7419   \n",
       "1       OffersScreenAppear         46333         19.23         4593   \n",
       "2         CartScreenAppear         42303         17.56         3734   \n",
       "3  PaymentScreenSuccessful         33918         14.08         3539   \n",
       "\n",
       "   users_share  users_next_step_share  \n",
       "0        98.47                 100.00  \n",
       "1        60.96                  61.91  \n",
       "2        49.56                  81.30  \n",
       "3        46.97                  94.78  "
      ]
     },
     "execution_count": 209,
     "metadata": {},
     "output_type": "execute_result"
    }
   ],
   "source": [
    "# Подсчитаем долю пользователей, переходящих на следующий шаг воронки\n",
    "events_df['users_next_step_share'] = round((events_df['users_count'].shift(-1) / events_df['users_count']).shift(1) * 100, 2)\n",
    "events_df['users_next_step_share'] = events_df['users_next_step_share'].fillna(100)\n",
    "events_df"
   ]
  },
  {
   "cell_type": "code",
   "execution_count": 211,
   "metadata": {},
   "outputs": [
    {
     "data": {
      "application/vnd.plotly.v1+json": {
       "config": {
        "plotlyServerURL": "https://plot.ly"
       },
       "data": [
        {
         "textinfo": "value+percent initial+percent previous",
         "type": "funnel",
         "x": [
          7419,
          4593,
          3734,
          3539
         ],
         "y": [
          "MainScreenAppear",
          "OffersScreenAppear",
          "CartScreenAppear",
          "PaymentScreenSuccessful"
         ]
        }
       ],
       "layout": {
        "autosize": true,
        "template": {
         "data": {
          "bar": [
           {
            "error_x": {
             "color": "#2a3f5f"
            },
            "error_y": {
             "color": "#2a3f5f"
            },
            "marker": {
             "line": {
              "color": "#E5ECF6",
              "width": 0.5
             },
             "pattern": {
              "fillmode": "overlay",
              "size": 10,
              "solidity": 0.2
             }
            },
            "type": "bar"
           }
          ],
          "barpolar": [
           {
            "marker": {
             "line": {
              "color": "#E5ECF6",
              "width": 0.5
             },
             "pattern": {
              "fillmode": "overlay",
              "size": 10,
              "solidity": 0.2
             }
            },
            "type": "barpolar"
           }
          ],
          "carpet": [
           {
            "aaxis": {
             "endlinecolor": "#2a3f5f",
             "gridcolor": "white",
             "linecolor": "white",
             "minorgridcolor": "white",
             "startlinecolor": "#2a3f5f"
            },
            "baxis": {
             "endlinecolor": "#2a3f5f",
             "gridcolor": "white",
             "linecolor": "white",
             "minorgridcolor": "white",
             "startlinecolor": "#2a3f5f"
            },
            "type": "carpet"
           }
          ],
          "choropleth": [
           {
            "colorbar": {
             "outlinewidth": 0,
             "ticks": ""
            },
            "type": "choropleth"
           }
          ],
          "contour": [
           {
            "colorbar": {
             "outlinewidth": 0,
             "ticks": ""
            },
            "colorscale": [
             [
              0,
              "#0d0887"
             ],
             [
              0.1111111111111111,
              "#46039f"
             ],
             [
              0.2222222222222222,
              "#7201a8"
             ],
             [
              0.3333333333333333,
              "#9c179e"
             ],
             [
              0.4444444444444444,
              "#bd3786"
             ],
             [
              0.5555555555555556,
              "#d8576b"
             ],
             [
              0.6666666666666666,
              "#ed7953"
             ],
             [
              0.7777777777777778,
              "#fb9f3a"
             ],
             [
              0.8888888888888888,
              "#fdca26"
             ],
             [
              1,
              "#f0f921"
             ]
            ],
            "type": "contour"
           }
          ],
          "contourcarpet": [
           {
            "colorbar": {
             "outlinewidth": 0,
             "ticks": ""
            },
            "type": "contourcarpet"
           }
          ],
          "heatmap": [
           {
            "colorbar": {
             "outlinewidth": 0,
             "ticks": ""
            },
            "colorscale": [
             [
              0,
              "#0d0887"
             ],
             [
              0.1111111111111111,
              "#46039f"
             ],
             [
              0.2222222222222222,
              "#7201a8"
             ],
             [
              0.3333333333333333,
              "#9c179e"
             ],
             [
              0.4444444444444444,
              "#bd3786"
             ],
             [
              0.5555555555555556,
              "#d8576b"
             ],
             [
              0.6666666666666666,
              "#ed7953"
             ],
             [
              0.7777777777777778,
              "#fb9f3a"
             ],
             [
              0.8888888888888888,
              "#fdca26"
             ],
             [
              1,
              "#f0f921"
             ]
            ],
            "type": "heatmap"
           }
          ],
          "heatmapgl": [
           {
            "colorbar": {
             "outlinewidth": 0,
             "ticks": ""
            },
            "colorscale": [
             [
              0,
              "#0d0887"
             ],
             [
              0.1111111111111111,
              "#46039f"
             ],
             [
              0.2222222222222222,
              "#7201a8"
             ],
             [
              0.3333333333333333,
              "#9c179e"
             ],
             [
              0.4444444444444444,
              "#bd3786"
             ],
             [
              0.5555555555555556,
              "#d8576b"
             ],
             [
              0.6666666666666666,
              "#ed7953"
             ],
             [
              0.7777777777777778,
              "#fb9f3a"
             ],
             [
              0.8888888888888888,
              "#fdca26"
             ],
             [
              1,
              "#f0f921"
             ]
            ],
            "type": "heatmapgl"
           }
          ],
          "histogram": [
           {
            "marker": {
             "pattern": {
              "fillmode": "overlay",
              "size": 10,
              "solidity": 0.2
             }
            },
            "type": "histogram"
           }
          ],
          "histogram2d": [
           {
            "colorbar": {
             "outlinewidth": 0,
             "ticks": ""
            },
            "colorscale": [
             [
              0,
              "#0d0887"
             ],
             [
              0.1111111111111111,
              "#46039f"
             ],
             [
              0.2222222222222222,
              "#7201a8"
             ],
             [
              0.3333333333333333,
              "#9c179e"
             ],
             [
              0.4444444444444444,
              "#bd3786"
             ],
             [
              0.5555555555555556,
              "#d8576b"
             ],
             [
              0.6666666666666666,
              "#ed7953"
             ],
             [
              0.7777777777777778,
              "#fb9f3a"
             ],
             [
              0.8888888888888888,
              "#fdca26"
             ],
             [
              1,
              "#f0f921"
             ]
            ],
            "type": "histogram2d"
           }
          ],
          "histogram2dcontour": [
           {
            "colorbar": {
             "outlinewidth": 0,
             "ticks": ""
            },
            "colorscale": [
             [
              0,
              "#0d0887"
             ],
             [
              0.1111111111111111,
              "#46039f"
             ],
             [
              0.2222222222222222,
              "#7201a8"
             ],
             [
              0.3333333333333333,
              "#9c179e"
             ],
             [
              0.4444444444444444,
              "#bd3786"
             ],
             [
              0.5555555555555556,
              "#d8576b"
             ],
             [
              0.6666666666666666,
              "#ed7953"
             ],
             [
              0.7777777777777778,
              "#fb9f3a"
             ],
             [
              0.8888888888888888,
              "#fdca26"
             ],
             [
              1,
              "#f0f921"
             ]
            ],
            "type": "histogram2dcontour"
           }
          ],
          "mesh3d": [
           {
            "colorbar": {
             "outlinewidth": 0,
             "ticks": ""
            },
            "type": "mesh3d"
           }
          ],
          "parcoords": [
           {
            "line": {
             "colorbar": {
              "outlinewidth": 0,
              "ticks": ""
             }
            },
            "type": "parcoords"
           }
          ],
          "pie": [
           {
            "automargin": true,
            "type": "pie"
           }
          ],
          "scatter": [
           {
            "fillpattern": {
             "fillmode": "overlay",
             "size": 10,
             "solidity": 0.2
            },
            "type": "scatter"
           }
          ],
          "scatter3d": [
           {
            "line": {
             "colorbar": {
              "outlinewidth": 0,
              "ticks": ""
             }
            },
            "marker": {
             "colorbar": {
              "outlinewidth": 0,
              "ticks": ""
             }
            },
            "type": "scatter3d"
           }
          ],
          "scattercarpet": [
           {
            "marker": {
             "colorbar": {
              "outlinewidth": 0,
              "ticks": ""
             }
            },
            "type": "scattercarpet"
           }
          ],
          "scattergeo": [
           {
            "marker": {
             "colorbar": {
              "outlinewidth": 0,
              "ticks": ""
             }
            },
            "type": "scattergeo"
           }
          ],
          "scattergl": [
           {
            "marker": {
             "colorbar": {
              "outlinewidth": 0,
              "ticks": ""
             }
            },
            "type": "scattergl"
           }
          ],
          "scattermapbox": [
           {
            "marker": {
             "colorbar": {
              "outlinewidth": 0,
              "ticks": ""
             }
            },
            "type": "scattermapbox"
           }
          ],
          "scatterpolar": [
           {
            "marker": {
             "colorbar": {
              "outlinewidth": 0,
              "ticks": ""
             }
            },
            "type": "scatterpolar"
           }
          ],
          "scatterpolargl": [
           {
            "marker": {
             "colorbar": {
              "outlinewidth": 0,
              "ticks": ""
             }
            },
            "type": "scatterpolargl"
           }
          ],
          "scatterternary": [
           {
            "marker": {
             "colorbar": {
              "outlinewidth": 0,
              "ticks": ""
             }
            },
            "type": "scatterternary"
           }
          ],
          "surface": [
           {
            "colorbar": {
             "outlinewidth": 0,
             "ticks": ""
            },
            "colorscale": [
             [
              0,
              "#0d0887"
             ],
             [
              0.1111111111111111,
              "#46039f"
             ],
             [
              0.2222222222222222,
              "#7201a8"
             ],
             [
              0.3333333333333333,
              "#9c179e"
             ],
             [
              0.4444444444444444,
              "#bd3786"
             ],
             [
              0.5555555555555556,
              "#d8576b"
             ],
             [
              0.6666666666666666,
              "#ed7953"
             ],
             [
              0.7777777777777778,
              "#fb9f3a"
             ],
             [
              0.8888888888888888,
              "#fdca26"
             ],
             [
              1,
              "#f0f921"
             ]
            ],
            "type": "surface"
           }
          ],
          "table": [
           {
            "cells": {
             "fill": {
              "color": "#EBF0F8"
             },
             "line": {
              "color": "white"
             }
            },
            "header": {
             "fill": {
              "color": "#C8D4E3"
             },
             "line": {
              "color": "white"
             }
            },
            "type": "table"
           }
          ]
         },
         "layout": {
          "annotationdefaults": {
           "arrowcolor": "#2a3f5f",
           "arrowhead": 0,
           "arrowwidth": 1
          },
          "autotypenumbers": "strict",
          "coloraxis": {
           "colorbar": {
            "outlinewidth": 0,
            "ticks": ""
           }
          },
          "colorscale": {
           "diverging": [
            [
             0,
             "#8e0152"
            ],
            [
             0.1,
             "#c51b7d"
            ],
            [
             0.2,
             "#de77ae"
            ],
            [
             0.3,
             "#f1b6da"
            ],
            [
             0.4,
             "#fde0ef"
            ],
            [
             0.5,
             "#f7f7f7"
            ],
            [
             0.6,
             "#e6f5d0"
            ],
            [
             0.7,
             "#b8e186"
            ],
            [
             0.8,
             "#7fbc41"
            ],
            [
             0.9,
             "#4d9221"
            ],
            [
             1,
             "#276419"
            ]
           ],
           "sequential": [
            [
             0,
             "#0d0887"
            ],
            [
             0.1111111111111111,
             "#46039f"
            ],
            [
             0.2222222222222222,
             "#7201a8"
            ],
            [
             0.3333333333333333,
             "#9c179e"
            ],
            [
             0.4444444444444444,
             "#bd3786"
            ],
            [
             0.5555555555555556,
             "#d8576b"
            ],
            [
             0.6666666666666666,
             "#ed7953"
            ],
            [
             0.7777777777777778,
             "#fb9f3a"
            ],
            [
             0.8888888888888888,
             "#fdca26"
            ],
            [
             1,
             "#f0f921"
            ]
           ],
           "sequentialminus": [
            [
             0,
             "#0d0887"
            ],
            [
             0.1111111111111111,
             "#46039f"
            ],
            [
             0.2222222222222222,
             "#7201a8"
            ],
            [
             0.3333333333333333,
             "#9c179e"
            ],
            [
             0.4444444444444444,
             "#bd3786"
            ],
            [
             0.5555555555555556,
             "#d8576b"
            ],
            [
             0.6666666666666666,
             "#ed7953"
            ],
            [
             0.7777777777777778,
             "#fb9f3a"
            ],
            [
             0.8888888888888888,
             "#fdca26"
            ],
            [
             1,
             "#f0f921"
            ]
           ]
          },
          "colorway": [
           "#636efa",
           "#EF553B",
           "#00cc96",
           "#ab63fa",
           "#FFA15A",
           "#19d3f3",
           "#FF6692",
           "#B6E880",
           "#FF97FF",
           "#FECB52"
          ],
          "font": {
           "color": "#2a3f5f"
          },
          "geo": {
           "bgcolor": "white",
           "lakecolor": "white",
           "landcolor": "#E5ECF6",
           "showlakes": true,
           "showland": true,
           "subunitcolor": "white"
          },
          "hoverlabel": {
           "align": "left"
          },
          "hovermode": "closest",
          "mapbox": {
           "style": "light"
          },
          "paper_bgcolor": "white",
          "plot_bgcolor": "#E5ECF6",
          "polar": {
           "angularaxis": {
            "gridcolor": "white",
            "linecolor": "white",
            "ticks": ""
           },
           "bgcolor": "#E5ECF6",
           "radialaxis": {
            "gridcolor": "white",
            "linecolor": "white",
            "ticks": ""
           }
          },
          "scene": {
           "xaxis": {
            "backgroundcolor": "#E5ECF6",
            "gridcolor": "white",
            "gridwidth": 2,
            "linecolor": "white",
            "showbackground": true,
            "ticks": "",
            "zerolinecolor": "white"
           },
           "yaxis": {
            "backgroundcolor": "#E5ECF6",
            "gridcolor": "white",
            "gridwidth": 2,
            "linecolor": "white",
            "showbackground": true,
            "ticks": "",
            "zerolinecolor": "white"
           },
           "zaxis": {
            "backgroundcolor": "#E5ECF6",
            "gridcolor": "white",
            "gridwidth": 2,
            "linecolor": "white",
            "showbackground": true,
            "ticks": "",
            "zerolinecolor": "white"
           }
          },
          "shapedefaults": {
           "line": {
            "color": "#2a3f5f"
           }
          },
          "ternary": {
           "aaxis": {
            "gridcolor": "white",
            "linecolor": "white",
            "ticks": ""
           },
           "baxis": {
            "gridcolor": "white",
            "linecolor": "white",
            "ticks": ""
           },
           "bgcolor": "#E5ECF6",
           "caxis": {
            "gridcolor": "white",
            "linecolor": "white",
            "ticks": ""
           }
          },
          "title": {
           "x": 0.05
          },
          "xaxis": {
           "automargin": true,
           "gridcolor": "white",
           "linecolor": "white",
           "ticks": "",
           "title": {
            "standoff": 15
           },
           "zerolinecolor": "white",
           "zerolinewidth": 2
          },
          "yaxis": {
           "automargin": true,
           "gridcolor": "white",
           "linecolor": "white",
           "ticks": "",
           "title": {
            "standoff": 15
           },
           "zerolinecolor": "white",
           "zerolinewidth": 2
          }
         }
        },
        "title": {
         "text": "Воронка пути пользователя"
        },
        "xaxis": {
         "autorange": true,
         "range": [
          -4121.666666666667,
          4121.666666666667
         ],
         "type": "linear"
        },
        "yaxis": {
         "autorange": true,
         "range": [
          3.5,
          -0.5
         ],
         "type": "category"
        }
       }
      },
      "image/png": "[encoded data removed]",
      "text/html": [
       "<div>                            <div id=\"587246b5-b16a-46d6-a792-244bcfe31860\" class=\"plotly-graph-div\" style=\"height:525px; width:100%;\"></div>            <script type=\"text/javascript\">                require([\"plotly\"], function(Plotly) {                    window.PLOTLYENV=window.PLOTLYENV || {};                                    if (document.getElementById(\"587246b5-b16a-46d6-a792-244bcfe31860\")) {                    Plotly.newPlot(                        \"587246b5-b16a-46d6-a792-244bcfe31860\",                        [{\"textinfo\":\"value+percent initial+percent previous\",\"x\":[7419,4593,3734,3539],\"y\":[\"MainScreenAppear\",\"OffersScreenAppear\",\"CartScreenAppear\",\"PaymentScreenSuccessful\"],\"type\":\"funnel\"}],                        {\"template\":{\"data\":{\"histogram2dcontour\":[{\"type\":\"histogram2dcontour\",\"colorbar\":{\"outlinewidth\":0,\"ticks\":\"\"},\"colorscale\":[[0.0,\"#0d0887\"],[0.1111111111111111,\"#46039f\"],[0.2222222222222222,\"#7201a8\"],[0.3333333333333333,\"#9c179e\"],[0.4444444444444444,\"#bd3786\"],[0.5555555555555556,\"#d8576b\"],[0.6666666666666666,\"#ed7953\"],[0.7777777777777778,\"#fb9f3a\"],[0.8888888888888888,\"#fdca26\"],[1.0,\"#f0f921\"]]}],\"choropleth\":[{\"type\":\"choropleth\",\"colorbar\":{\"outlinewidth\":0,\"ticks\":\"\"}}],\"histogram2d\":[{\"type\":\"histogram2d\",\"colorbar\":{\"outlinewidth\":0,\"ticks\":\"\"},\"colorscale\":[[0.0,\"#0d0887\"],[0.1111111111111111,\"#46039f\"],[0.2222222222222222,\"#7201a8\"],[0.3333333333333333,\"#9c179e\"],[0.4444444444444444,\"#bd3786\"],[0.5555555555555556,\"#d8576b\"],[0.6666666666666666,\"#ed7953\"],[0.7777777777777778,\"#fb9f3a\"],[0.8888888888888888,\"#fdca26\"],[1.0,\"#f0f921\"]]}],\"heatmap\":[{\"type\":\"heatmap\",\"colorbar\":{\"outlinewidth\":0,\"ticks\":\"\"},\"colorscale\":[[0.0,\"#0d0887\"],[0.1111111111111111,\"#46039f\"],[0.2222222222222222,\"#7201a8\"],[0.3333333333333333,\"#9c179e\"],[0.4444444444444444,\"#bd3786\"],[0.5555555555555556,\"#d8576b\"],[0.6666666666666666,\"#ed7953\"],[0.7777777777777778,\"#fb9f3a\"],[0.8888888888888888,\"#fdca26\"],[1.0,\"#f0f921\"]]}],\"heatmapgl\":[{\"type\":\"heatmapgl\",\"colorbar\":{\"outlinewidth\":0,\"ticks\":\"\"},\"colorscale\":[[0.0,\"#0d0887\"],[0.1111111111111111,\"#46039f\"],[0.2222222222222222,\"#7201a8\"],[0.3333333333333333,\"#9c179e\"],[0.4444444444444444,\"#bd3786\"],[0.5555555555555556,\"#d8576b\"],[0.6666666666666666,\"#ed7953\"],[0.7777777777777778,\"#fb9f3a\"],[0.8888888888888888,\"#fdca26\"],[1.0,\"#f0f921\"]]}],\"contourcarpet\":[{\"type\":\"contourcarpet\",\"colorbar\":{\"outlinewidth\":0,\"ticks\":\"\"}}],\"contour\":[{\"type\":\"contour\",\"colorbar\":{\"outlinewidth\":0,\"ticks\":\"\"},\"colorscale\":[[0.0,\"#0d0887\"],[0.1111111111111111,\"#46039f\"],[0.2222222222222222,\"#7201a8\"],[0.3333333333333333,\"#9c179e\"],[0.4444444444444444,\"#bd3786\"],[0.5555555555555556,\"#d8576b\"],[0.6666666666666666,\"#ed7953\"],[0.7777777777777778,\"#fb9f3a\"],[0.8888888888888888,\"#fdca26\"],[1.0,\"#f0f921\"]]}],\"surface\":[{\"type\":\"surface\",\"colorbar\":{\"outlinewidth\":0,\"ticks\":\"\"},\"colorscale\":[[0.0,\"#0d0887\"],[0.1111111111111111,\"#46039f\"],[0.2222222222222222,\"#7201a8\"],[0.3333333333333333,\"#9c179e\"],[0.4444444444444444,\"#bd3786\"],[0.5555555555555556,\"#d8576b\"],[0.6666666666666666,\"#ed7953\"],[0.7777777777777778,\"#fb9f3a\"],[0.8888888888888888,\"#fdca26\"],[1.0,\"#f0f921\"]]}],\"mesh3d\":[{\"type\":\"mesh3d\",\"colorbar\":{\"outlinewidth\":0,\"ticks\":\"\"}}],\"scatter\":[{\"fillpattern\":{\"fillmode\":\"overlay\",\"size\":10,\"solidity\":0.2},\"type\":\"scatter\"}],\"parcoords\":[{\"type\":\"parcoords\",\"line\":{\"colorbar\":{\"outlinewidth\":0,\"ticks\":\"\"}}}],\"scatterpolargl\":[{\"type\":\"scatterpolargl\",\"marker\":{\"colorbar\":{\"outlinewidth\":0,\"ticks\":\"\"}}}],\"bar\":[{\"error_x\":{\"color\":\"#2a3f5f\"},\"error_y\":{\"color\":\"#2a3f5f\"},\"marker\":{\"line\":{\"color\":\"#E5ECF6\",\"width\":0.5},\"pattern\":{\"fillmode\":\"overlay\",\"size\":10,\"solidity\":0.2}},\"type\":\"bar\"}],\"scattergeo\":[{\"type\":\"scattergeo\",\"marker\":{\"colorbar\":{\"outlinewidth\":0,\"ticks\":\"\"}}}],\"scatterpolar\":[{\"type\":\"scatterpolar\",\"marker\":{\"colorbar\":{\"outlinewidth\":0,\"ticks\":\"\"}}}],\"histogram\":[{\"marker\":{\"pattern\":{\"fillmode\":\"overlay\",\"size\":10,\"solidity\":0.2}},\"type\":\"histogram\"}],\"scattergl\":[{\"type\":\"scattergl\",\"marker\":{\"colorbar\":{\"outlinewidth\":0,\"ticks\":\"\"}}}],\"scatter3d\":[{\"type\":\"scatter3d\",\"line\":{\"colorbar\":{\"outlinewidth\":0,\"ticks\":\"\"}},\"marker\":{\"colorbar\":{\"outlinewidth\":0,\"ticks\":\"\"}}}],\"scattermapbox\":[{\"type\":\"scattermapbox\",\"marker\":{\"colorbar\":{\"outlinewidth\":0,\"ticks\":\"\"}}}],\"scatterternary\":[{\"type\":\"scatterternary\",\"marker\":{\"colorbar\":{\"outlinewidth\":0,\"ticks\":\"\"}}}],\"scattercarpet\":[{\"type\":\"scattercarpet\",\"marker\":{\"colorbar\":{\"outlinewidth\":0,\"ticks\":\"\"}}}],\"carpet\":[{\"aaxis\":{\"endlinecolor\":\"#2a3f5f\",\"gridcolor\":\"white\",\"linecolor\":\"white\",\"minorgridcolor\":\"white\",\"startlinecolor\":\"#2a3f5f\"},\"baxis\":{\"endlinecolor\":\"#2a3f5f\",\"gridcolor\":\"white\",\"linecolor\":\"white\",\"minorgridcolor\":\"white\",\"startlinecolor\":\"#2a3f5f\"},\"type\":\"carpet\"}],\"table\":[{\"cells\":{\"fill\":{\"color\":\"#EBF0F8\"},\"line\":{\"color\":\"white\"}},\"header\":{\"fill\":{\"color\":\"#C8D4E3\"},\"line\":{\"color\":\"white\"}},\"type\":\"table\"}],\"barpolar\":[{\"marker\":{\"line\":{\"color\":\"#E5ECF6\",\"width\":0.5},\"pattern\":{\"fillmode\":\"overlay\",\"size\":10,\"solidity\":0.2}},\"type\":\"barpolar\"}],\"pie\":[{\"automargin\":true,\"type\":\"pie\"}]},\"layout\":{\"autotypenumbers\":\"strict\",\"colorway\":[\"#636efa\",\"#EF553B\",\"#00cc96\",\"#ab63fa\",\"#FFA15A\",\"#19d3f3\",\"#FF6692\",\"#B6E880\",\"#FF97FF\",\"#FECB52\"],\"font\":{\"color\":\"#2a3f5f\"},\"hovermode\":\"closest\",\"hoverlabel\":{\"align\":\"left\"},\"paper_bgcolor\":\"white\",\"plot_bgcolor\":\"#E5ECF6\",\"polar\":{\"bgcolor\":\"#E5ECF6\",\"angularaxis\":{\"gridcolor\":\"white\",\"linecolor\":\"white\",\"ticks\":\"\"},\"radialaxis\":{\"gridcolor\":\"white\",\"linecolor\":\"white\",\"ticks\":\"\"}},\"ternary\":{\"bgcolor\":\"#E5ECF6\",\"aaxis\":{\"gridcolor\":\"white\",\"linecolor\":\"white\",\"ticks\":\"\"},\"baxis\":{\"gridcolor\":\"white\",\"linecolor\":\"white\",\"ticks\":\"\"},\"caxis\":{\"gridcolor\":\"white\",\"linecolor\":\"white\",\"ticks\":\"\"}},\"coloraxis\":{\"colorbar\":{\"outlinewidth\":0,\"ticks\":\"\"}},\"colorscale\":{\"sequential\":[[0.0,\"#0d0887\"],[0.1111111111111111,\"#46039f\"],[0.2222222222222222,\"#7201a8\"],[0.3333333333333333,\"#9c179e\"],[0.4444444444444444,\"#bd3786\"],[0.5555555555555556,\"#d8576b\"],[0.6666666666666666,\"#ed7953\"],[0.7777777777777778,\"#fb9f3a\"],[0.8888888888888888,\"#fdca26\"],[1.0,\"#f0f921\"]],\"sequentialminus\":[[0.0,\"#0d0887\"],[0.1111111111111111,\"#46039f\"],[0.2222222222222222,\"#7201a8\"],[0.3333333333333333,\"#9c179e\"],[0.4444444444444444,\"#bd3786\"],[0.5555555555555556,\"#d8576b\"],[0.6666666666666666,\"#ed7953\"],[0.7777777777777778,\"#fb9f3a\"],[0.8888888888888888,\"#fdca26\"],[1.0,\"#f0f921\"]],\"diverging\":[[0,\"#8e0152\"],[0.1,\"#c51b7d\"],[0.2,\"#de77ae\"],[0.3,\"#f1b6da\"],[0.4,\"#fde0ef\"],[0.5,\"#f7f7f7\"],[0.6,\"#e6f5d0\"],[0.7,\"#b8e186\"],[0.8,\"#7fbc41\"],[0.9,\"#4d9221\"],[1,\"#276419\"]]},\"xaxis\":{\"gridcolor\":\"white\",\"linecolor\":\"white\",\"ticks\":\"\",\"title\":{\"standoff\":15},\"zerolinecolor\":\"white\",\"automargin\":true,\"zerolinewidth\":2},\"yaxis\":{\"gridcolor\":\"white\",\"linecolor\":\"white\",\"ticks\":\"\",\"title\":{\"standoff\":15},\"zerolinecolor\":\"white\",\"automargin\":true,\"zerolinewidth\":2},\"scene\":{\"xaxis\":{\"backgroundcolor\":\"#E5ECF6\",\"gridcolor\":\"white\",\"linecolor\":\"white\",\"showbackground\":true,\"ticks\":\"\",\"zerolinecolor\":\"white\",\"gridwidth\":2},\"yaxis\":{\"backgroundcolor\":\"#E5ECF6\",\"gridcolor\":\"white\",\"linecolor\":\"white\",\"showbackground\":true,\"ticks\":\"\",\"zerolinecolor\":\"white\",\"gridwidth\":2},\"zaxis\":{\"backgroundcolor\":\"#E5ECF6\",\"gridcolor\":\"white\",\"linecolor\":\"white\",\"showbackground\":true,\"ticks\":\"\",\"zerolinecolor\":\"white\",\"gridwidth\":2}},\"shapedefaults\":{\"line\":{\"color\":\"#2a3f5f\"}},\"annotationdefaults\":{\"arrowcolor\":\"#2a3f5f\",\"arrowhead\":0,\"arrowwidth\":1},\"geo\":{\"bgcolor\":\"white\",\"landcolor\":\"#E5ECF6\",\"subunitcolor\":\"white\",\"showland\":true,\"showlakes\":true,\"lakecolor\":\"white\"},\"title\":{\"x\":0.05},\"mapbox\":{\"style\":\"light\"}}},\"title\":{\"text\":\"\\u0412\\u043e\\u0440\\u043e\\u043d\\u043a\\u0430 \\u043f\\u0443\\u0442\\u0438 \\u043f\\u043e\\u043b\\u044c\\u0437\\u043e\\u0432\\u0430\\u0442\\u0435\\u043b\\u044f\"}},                        {\"responsive\": true}                    ).then(function(){\n",
       "                            \n",
       "var gd = document.getElementById('587246b5-b16a-46d6-a792-244bcfe31860');\n",
       "var x = new MutationObserver(function (mutations, observer) {{\n",
       "        var display = window.getComputedStyle(gd).display;\n",
       "        if (!display || display === 'none') {{\n",
       "            console.log([gd, 'removed!']);\n",
       "            Plotly.purge(gd);\n",
       "            observer.disconnect();\n",
       "        }}\n",
       "}});\n",
       "\n",
       "// Listen for the removal of the full notebook cells\n",
       "var notebookContainer = gd.closest('#notebook-container');\n",
       "if (notebookContainer) {{\n",
       "    x.observe(notebookContainer, {childList: true});\n",
       "}}\n",
       "\n",
       "// Listen for the clearing of the current output cell\n",
       "var outputEl = gd.closest('.output');\n",
       "if (outputEl) {{\n",
       "    x.observe(outputEl, {childList: true});\n",
       "}}\n",
       "\n",
       "                        })                };                });            </script>        </div>"
      ]
     },
     "metadata": {},
     "output_type": "display_data"
    }
   ],
   "source": [
    "# Данные для воронки\n",
    "labels = events_df['event_name']\n",
    "values = events_df['users_count']\n",
    "\n",
    "# Создаем воронку\n",
    "fig = go.Figure(go.Funnel(\n",
    "    y=labels,\n",
    "    x=values,\n",
    "    textinfo=\"value+percent initial+percent previous\"\n",
    "))\n",
    "\n",
    "# Выводим график\n",
    "fig.update_layout(title=\"Воронка пути пользователя\")\n",
    "fig.show()"
   ]
  },
  {
   "cell_type": "code",
   "execution_count": 213,
   "metadata": {},
   "outputs": [
    {
     "name": "stdout",
     "output_type": "stream",
     "text": [
      "Шаг с наибольшей потерей пользователей: OffersScreenAppear\n",
      "Доля потерянных пользователей на этом шаге: 38.09\n"
     ]
    }
   ],
   "source": [
    "# Найдем шаг с наибольшей потерей пользователей\n",
    "max_loss_step = events_df.loc[events_df['users_next_step_share'].idxmin(), 'event_name']\n",
    "max_loss_value = 100 - events_df['users_next_step_share'].min()\n",
    "\n",
    "# Выведем результат\n",
    "print(f\"Шаг с наибольшей потерей пользователей: {max_loss_step}\")\n",
    "print(f\"Доля потерянных пользователей на этом шаге: {max_loss_value}\")"
   ]
  },
  {
   "cell_type": "code",
   "execution_count": 215,
   "metadata": {},
   "outputs": [
    {
     "name": "stdout",
     "output_type": "stream",
     "text": [
      "Доля пользователей, дошедших до оплаты от первого события: 47.7\n"
     ]
    }
   ],
   "source": [
    "# Добавим долю пользователей, дошедших до оплаты от первого события\n",
    "users_first_event = events_df.loc[0, 'users_count']\n",
    "users_payment = events_df.loc[3, 'users_count']\n",
    "users_payment_share = round(users_payment / users_first_event * 100, 2)\n",
    "print(f\"Доля пользователей, дошедших до оплаты от первого события: {users_payment_share}\")"
   ]
  },
  {
   "cell_type": "markdown",
   "metadata": {},
   "source": [
    "**Выводы:**\n",
    "\n",
    "Не будем учитывать событие Tutorial при расчете воронки продажи, так как обучение не связано напрямую с процессом покупки. Пользователи часто скипают обучение, что мы и видим по конверсии (11.15%).\n",
    "\n",
    "\n",
    "1. Этапы воронки продаж:\n",
    "    - MainScreenAppear (Главный экран): 48.71% от общего числа событий, переходят 7419 пользователей (98.47% от всех пользователей). Почти все пользователи взаимодействуют с главным экраном. \n",
    "    - OffersScreenAppear (Экран предложений с товарами): 19.23% от общего числа событий, переходят 4593 пользователей (60.96% от всех пользователей). Доля перехода с главного экрана: 61.91%. Значительная часть пользователей (около 38.09%) покидает приложение на этом шаге.\n",
    "    - CartScreenAppear (Экран корзины): 17.56% от общего числа событий, переходят 3734 пользователей (49.56% от всех пользователей). Из тех, кто дошел до экрана предложений товаров, 81.30% переходят к экрану корзины.\n",
    "    - PaymentScreenSuccessful (Успешная оплата): 14.08% от общего числа событий, переходят 3539 пользователей (46.97% от всех пользователей). 94.78% пользователей, дошедших до корзины, завершают покупку. Потеря на этом этапе минимальна (5.22%).\n",
    "\n",
    "\n",
    "2. Анализ воронки продаж:\n",
    "    - Высокий уровень конверсии на этапах после выбора товаров: 81.30% переходят к корзине, и 94.78% из них завершают покупку.\n",
    "    - Основная потеря пользователей происходит на этапе между главным экраном и экраном предложений: 38.09% пользователей не переходят к следующему шагу.\n",
    "    - 47.7% пользователей, начавших с главного экрана, успешно завершают покупку."
   ]
  },
  {
   "cell_type": "markdown",
   "metadata": {},
   "source": [
    "## Анализ A/A/B-эксперимента"
   ]
  },
  {
   "cell_type": "markdown",
   "metadata": {},
   "source": [
    "**5.1. Подсчитаем сколько пользователей в каждой экспериментальной группе.**"
   ]
  },
  {
   "cell_type": "code",
   "execution_count": 220,
   "metadata": {},
   "outputs": [
    {
     "data": {
      "text/plain": [
       "exp_id\n",
       "246    2489\n",
       "247    2520\n",
       "248    2542\n",
       "Name: device_id_hash, dtype: int64"
      ]
     },
     "execution_count": 220,
     "metadata": {},
     "output_type": "execute_result"
    }
   ],
   "source": [
    "# Подсчитаем количество пользователей в каждой экспериментальной группе\n",
    "users_per_group = logs.groupby('exp_id')['device_id_hash'].nunique()\n",
    "\n",
    "users_per_group "
   ]
  },
  {
   "cell_type": "markdown",
   "metadata": {},
   "source": [
    "Выводы:\n",
    "- В каждой группе примерно одинаковое количество пользователей:\n",
    "    - контрольная 246: 2489 пользователей.\n",
    "    - контрольная 247: 2520 пользователей.\n",
    "    - эксперимннтальная 248: 2542 пользователей."
   ]
  },
  {
   "cell_type": "markdown",
   "metadata": {},
   "source": [
    "**5.2. Проверим, есть ли разница между долями пользователей в контрольных группах 246 и 247 по каждому событию воронки.**"
   ]
  },
  {
   "cell_type": "markdown",
   "metadata": {},
   "source": [
    "Для проверки равенства долей пользователей, совершивших события (MainScreenAppear, OffersScreenAppear, CartScreenAppear, PaymentScreenSuccessful)  в двух контрольных группах (246 и 247), будем использовать z-тест для пропорций. Это поможет сравнить доли пользователей, совершивших определённое действие, в двух независимых выборках."
   ]
  },
  {
   "cell_type": "markdown",
   "metadata": {},
   "source": [
    "**Нулевая гипотеза:** Нет разницы между долями пользователей, совершивших событие воронки, в контрольных группах. \n",
    "\n",
    "\n",
    "**Альтернативная гипотеза:** Существует статистически значимая разница между долями пользователей, совершивших событие воронки, в контрольных группах. \n",
    "\n",
    "**Уровень значимости (α):** 0.05."
   ]
  },
  {
   "cell_type": "code",
   "execution_count": 226,
   "metadata": {},
   "outputs": [
    {
     "name": "stdout",
     "output_type": "stream",
     "text": [
      "Событие: MainScreenAppear, z-statistic: 0.31, p-value: 0.76\n",
      "Не получилось отвергнуть нулевую гипотезу. Нет статистической разницы между долями пользователей в контрольных группах (246 и 247).\n",
      "\n",
      "Событие: OffersScreenAppear, z-statistic: 1.15, p-value: 0.25\n",
      "Не получилось отвергнуть нулевую гипотезу. Нет статистической разницы между долями пользователей в контрольных группах (246 и 247).\n",
      "\n",
      "Событие: CartScreenAppear, z-statistic: 1.20, p-value: 0.23\n",
      "Не получилось отвергнуть нулевую гипотезу. Нет статистической разницы между долями пользователей в контрольных группах (246 и 247).\n",
      "\n",
      "Событие: PaymentScreenSuccessful, z-statistic: 1.58, p-value: 0.11\n",
      "Не получилось отвергнуть нулевую гипотезу. Нет статистической разницы между долями пользователей в контрольных группах (246 и 247).\n",
      "\n"
     ]
    }
   ],
   "source": [
    "# Уровень значимости\n",
    "alpha = 0.05 \n",
    "\n",
    "# Функция для проведения z-теста для пропорций между двумя группами\n",
    "def compare_groups(event_name, group_a, group_b):\n",
    "    success_a = filtered_logs[(filtered_logs['exp_id'] == group_a) & (filtered_logs['event_name'] == event_name)]['device_id_hash'].nunique()\n",
    "    success_b = filtered_logs[(filtered_logs['exp_id'] == group_b) & (filtered_logs['event_name'] == event_name)]['device_id_hash'].nunique()\n",
    "    \n",
    "    total_a = filtered_logs[filtered_logs['exp_id'] == group_a]['device_id_hash'].nunique()\n",
    "    total_b = filtered_logs[filtered_logs['exp_id'] == group_b]['device_id_hash'].nunique()\n",
    "    \n",
    "    success_counts = [success_a, success_b]\n",
    "    total_counts = [total_a, total_b] \n",
    "    \n",
    "    stat, p_value = proportions_ztest(success_counts, total_counts)\n",
    "    \n",
    "    return stat, p_value\n",
    "\n",
    "# Функция для проверки всех событий\n",
    "def compare_all_events(logs, group_a, group_b):\n",
    "    events = filtered_logs['event_name'].unique()\n",
    "    results = []\n",
    "    \n",
    "    for event in events:\n",
    "        if event != 'Tutorial':  # Пропускаем событие Tutorial\n",
    "            stat, p_value = compare_groups(event, group_a, group_b)\n",
    "            results.append((event, stat, p_value))\n",
    "    \n",
    "    return results\n",
    "\n",
    "# Сравним все события в группах 246 и 247\n",
    "results_246_247 = compare_all_events(logs, 246, 247)\n",
    "\n",
    "# Выведем результаты для всех событий\n",
    "for event, stat, p_value in results_246_247:\n",
    "    print(f\"Событие: {event}, z-statistic: {stat:.2f}, p-value: {p_value:.2f}\")\n",
    "    if p_value < alpha:\n",
    "        print('Отвергаем нулевую гипотезу. Между контрольными группами (246 и 247) есть статистическая разница.')\n",
    "    else:\n",
    "        print('Не получилось отвергнуть нулевую гипотезу. Нет статистической разницы между долями пользователей в контрольных группах (246 и 247).\\n')"
   ]
  },
  {
   "cell_type": "markdown",
   "metadata": {},
   "source": [
    "Выводы:\n",
    "- Для всех событий (MainScreenAppear, OffersScreenAppear, CartScreenAppear, PaymentScreenSuccessful) не удалось отвергнуть нулевую гипотезу.  Все p-value значительно превышают уровень значимости 0.05. Это означает, что нет статистически значимой разницы между долями пользователей, совершивших эти события, в контрольных группах 246 и 247.\n",
    "- А/А-эксперимент показал, что различий между контрольными группами нет, что подтверждает правильность функционирования эксперимента."
   ]
  },
  {
   "cell_type": "markdown",
   "metadata": {},
   "source": [
    "**5.3. Проверим, есть ли разница между долями пользователей в экспериментальной группе с изменённым шрифтом (248) с каждой контрольной группой (246 и 247) и объединенной контрольной группой по каждому событию воронки.**"
   ]
  },
  {
   "cell_type": "markdown",
   "metadata": {},
   "source": [
    "**Нулевая гипотеза:** Нет разницы между долями пользователей, совершивших событие, в экспериментальной группе с изменённым шрифтом (248) и контрольной группой (246).\n",
    "\n",
    "**Альтернативная гипотеза:** Существует статистически значимая разница между долями пользователей, совершивших событие, в экспериментальной группе с изменённым шрифтом (248) и контрольной группой (246). \n",
    "\n",
    "**Уровень значимости (α):** 0.05."
   ]
  },
  {
   "cell_type": "code",
   "execution_count": 231,
   "metadata": {},
   "outputs": [
    {
     "name": "stdout",
     "output_type": "stream",
     "text": [
      "Событие: MainScreenAppear, z-statistic: 1.05, p-value: 0.29\n",
      "Не получилось отвергнуть нулевую гипотезу. Нет статистической разницы между долями пользователей в экспериментальной группе с изменённым шрифтом (248) и контрольной группе (246).\n",
      "\n",
      "Событие: OffersScreenAppear, z-statistic: 1.26, p-value: 0.21\n",
      "Не получилось отвергнуть нулевую гипотезу. Нет статистической разницы между долями пользователей в экспериментальной группе с изменённым шрифтом (248) и контрольной группе (246).\n",
      "\n",
      "Событие: CartScreenAppear, z-statistic: 1.76, p-value: 0.08\n",
      "Не получилось отвергнуть нулевую гипотезу. Нет статистической разницы между долями пользователей в экспериментальной группе с изменённым шрифтом (248) и контрольной группе (246).\n",
      "\n",
      "Событие: PaymentScreenSuccessful, z-statistic: 1.25, p-value: 0.21\n",
      "Не получилось отвергнуть нулевую гипотезу. Нет статистической разницы между долями пользователей в экспериментальной группе с изменённым шрифтом (248) и контрольной группе (246).\n",
      "\n"
     ]
    }
   ],
   "source": [
    "# Сравним все события в группах 246 и 248\n",
    "results_246_248 = compare_all_events(filtered_logs, 246, 248)\n",
    "\n",
    "# Выведем результаты для всех событий\n",
    "for event, stat, p_value in results_246_248:\n",
    "    print(f\"Событие: {event}, z-statistic: {stat:.2f}, p-value: {p_value:.2f}\")\n",
    "    if p_value < alpha:\n",
    "        print('Отвергаем нулевую гипотезу. Между экспериментальной группой с изменённым шрифтом (248) и контрольной группой (246) есть статистическая разница.')\n",
    "    else:\n",
    "        print('Не получилось отвергнуть нулевую гипотезу. Нет статистической разницы между долями пользователей в экспериментальной группе с изменённым шрифтом (248) и контрольной группе (246).\\n'\n",
    "    ) "
   ]
  },
  {
   "cell_type": "markdown",
   "metadata": {},
   "source": [
    "**Нулевая гипотеза:** Нет разницы между долями пользователей, совершивших событие, в экспериментальной группе с изменённым шрифтом (248) и контрольной группой (247).\n",
    "\n",
    "**Альтернативная гипотеза:** Существует статистически значимая разница между долями пользователей, совершивших событие, в экспериментальной группе с изменённым шрифтом (248) и контрольной группой (247). \n",
    "\n",
    "**Уровень значимости (α):** 0.05."
   ]
  },
  {
   "cell_type": "code",
   "execution_count": 234,
   "metadata": {},
   "outputs": [
    {
     "name": "stdout",
     "output_type": "stream",
     "text": [
      "Событие: MainScreenAppear, z-statistic: 0.74, p-value: 0.46\n",
      "Не получилось отвергнуть нулевую гипотезу. Нет статистической разницы между долями пользователей в экспериментальной группе с изменённым шрифтом (248) и контрольной группе (247).\n",
      "\n",
      "Событие: OffersScreenAppear, z-statistic: 0.10, p-value: 0.92\n",
      "Не получилось отвергнуть нулевую гипотезу. Нет статистической разницы между долями пользователей в экспериментальной группе с изменённым шрифтом (248) и контрольной группе (247).\n",
      "\n",
      "Событие: CartScreenAppear, z-statistic: 0.56, p-value: 0.58\n",
      "Не получилось отвергнуть нулевую гипотезу. Нет статистической разницы между долями пользователей в экспериментальной группе с изменённым шрифтом (248) и контрольной группе (247).\n",
      "\n",
      "Событие: PaymentScreenSuccessful, z-statistic: -0.34, p-value: 0.74\n",
      "Не получилось отвергнуть нулевую гипотезу. Нет статистической разницы между долями пользователей в экспериментальной группе с изменённым шрифтом (248) и контрольной группе (247).\n",
      "\n"
     ]
    }
   ],
   "source": [
    "# Сравним все события в группах 247 и 248\n",
    "results_247_248 = compare_all_events(filtered_logs, 247, 248)\n",
    "\n",
    "# Выведем результаты для всех событий\n",
    "for event, stat, p_value in results_247_248:\n",
    "    print(f\"Событие: {event}, z-statistic: {stat:.2f}, p-value: {p_value:.2f}\")\n",
    "    if p_value < alpha:\n",
    "        print('Отвергаем нулевую гипотезу. Между экспериментальной группой с изменённым шрифтом (248) и контрольной группой (247) есть статистическая разница.')\n",
    "    else:\n",
    "        print('Не получилось отвергнуть нулевую гипотезу. Нет статистической разницы между долями пользователей в экспериментальной группе с изменённым шрифтом (248) и контрольной группе (247).\\n'\n",
    "    ) "
   ]
  },
  {
   "cell_type": "markdown",
   "metadata": {},
   "source": [
    "**Нулевая гипотеза:** Нет разницы между долями пользователей, совершивших событие, в экспериментальной группе с изменённым шрифтом (248) и объединенной контрольной группой (246 и 247).\n",
    "\n",
    "**Альтернативная гипотеза:** Существует статистически значимая разница между долями пользователей, совершивших событие, в экспериментальной группе с изменённым шрифтом (248) и объединенной контрольной группой (246 и 247). \n",
    "\n",
    "**Уровень значимости (α):** 0.05."
   ]
  },
  {
   "cell_type": "code",
   "execution_count": 237,
   "metadata": {},
   "outputs": [
    {
     "name": "stdout",
     "output_type": "stream",
     "text": [
      "Событие: MainScreenAppear, z-statistic: 1.05, p-value: 0.29\n",
      "Не получилось отвергнуть нулевую гипотезу. Нет статистической разницы между долями пользователей в экспериментальной группе (248) и объединённой контрольной группе (246 и 247).\n",
      "\n",
      "Событие: OffersScreenAppear, z-statistic: 0.78, p-value: 0.43\n",
      "Не получилось отвергнуть нулевую гипотезу. Нет статистической разницы между долями пользователей в экспериментальной группе (248) и объединённой контрольной группе (246 и 247).\n",
      "\n",
      "Событие: CartScreenAppear, z-statistic: 1.34, p-value: 0.18\n",
      "Не получилось отвергнуть нулевую гипотезу. Нет статистической разницы между долями пользователей в экспериментальной группе (248) и объединённой контрольной группе (246 и 247).\n",
      "\n",
      "Событие: PaymentScreenSuccessful, z-statistic: 0.52, p-value: 0.60\n",
      "Не получилось отвергнуть нулевую гипотезу. Нет статистической разницы между долями пользователей в экспериментальной группе (248) и объединённой контрольной группе (246 и 247).\n",
      "\n"
     ]
    }
   ],
   "source": [
    "# Добавим столбец - объединенная контрольная группа (если 246, 247 - 1, если нет - 0)\n",
    "filtered_logs = filtered_logs.copy()\n",
    "filtered_logs['control_group'] = filtered_logs['exp_id'].apply(lambda x: 1 if x in [246, 247] else 0)\n",
    "\n",
    "# Проверим для каждого события группу 248 против объединенной контрольной группы \n",
    "results_248_control = []\n",
    "\n",
    "events = filtered_logs['event_name'].unique()\n",
    "for event in events:\n",
    "    if event != 'Tutorial': \n",
    "        success_control = filtered_logs[(filtered_logs['control_group'] == 1) & (filtered_logs['event_name'] == event)]['device_id_hash'].nunique()\n",
    "        success_248 = filtered_logs[(filtered_logs['exp_id'] == 248) & (filtered_logs['event_name'] == event)]['device_id_hash'].nunique()\n",
    "\n",
    "        total_control = filtered_logs[filtered_logs['control_group'] == 1]['device_id_hash'].nunique()\n",
    "        total_248 = filtered_logs[filtered_logs['exp_id'] == 248]['device_id_hash'].nunique()\n",
    "\n",
    "        success_counts = [success_control, success_248]\n",
    "        total_counts = [total_control, total_248]\n",
    "\n",
    "        stat, p_value = proportions_ztest(success_counts, total_counts)\n",
    "        results_248_control.append((event, stat, p_value))\n",
    "\n",
    "# Вывод результатов\n",
    "for event, stat, p_value in results_248_control:\n",
    "    print(f\"Событие: {event}, z-statistic: {stat:.2f}, p-value: {p_value:.2f}\")\n",
    "    if p_value < alpha:\n",
    "        print('Отвергаем нулевую гипотезу. Есть статистическая разница между экспериментальной группой (248) и объединённой контрольной группой (246 и 247).\\n')\n",
    "    else:\n",
    "        print('Не получилось отвергнуть нулевую гипотезу. Нет статистической разницы между долями пользователей в экспериментальной группе (248) и объединённой контрольной группе (246 и 247).\\n')"
   ]
  },
  {
   "cell_type": "markdown",
   "metadata": {},
   "source": [
    "Выводы:\n",
    "\n",
    "- Для всех событий (MainScreenAppear, OffersScreenAppear, CartScreenAppear, PaymentScreenSuccessful) не удалось отвергнуть нулевую гипотезу.  Все p-value значительно превышают уровень значимости 0.05. Это означает, что нет статистически значимой разницы между долями пользователей, совершивших эти события, в экспериментальной группе с измененным шрифтом (248) и:\n",
    "    - каждой из контрольных групп (246 / 247),\n",
    "    - объединённой контрольной группой (246 + 247).\n",
    "\n",
    "Отсутствие статистически значимых различий между экспериментальной группой с измененным шрифтом и контрольными группами по всем событиям говорит о том, что изменение шрифта не оказало значимого эффекта на ключевые метрики взаимодействия пользователей с приложением."
   ]
  },
  {
   "cell_type": "markdown",
   "metadata": {},
   "source": [
    "**5.4. Корректируем уровень значимости.**"
   ]
  },
  {
   "cell_type": "markdown",
   "metadata": {},
   "source": [
    "**Уровень значимости (α):** 0.05, который мы использовали при проверке статистических гипотез. Это значит, что мы готовы принять вероятность ошибки первого рода (ошибочно отвергнуть нулевую гипотезу) на уровне 5%.\n",
    "\n",
    "\n",
    "**Количество проверок статистических гипотез:**\n",
    "- Мы проверяли 4 события (MainScreenAppear, OffersScreenAppear, CartScreenAppear, PaymentScreenSuccessful).\n",
    "- Проверки были проведены:\n",
    "    - Между контрольными группами (246 и 247).\n",
    "    - Между экспериментальной группой (248) и контрольной группой (246).\n",
    "    - Между экспериментальной группой (248) и контрольной группой (247).\n",
    "    - Между экспериментальной группой (248) и объединённой контрольной группой (246 + 247).\n",
    "- Всего было выполнено 16 проверок гипотез (4 события × 4 сравнения).\n",
    "\n",
    "\n",
    "**Вероятность ложного отклонения нулевой гипотезы:**\n",
    "- При уровне значимости α=0.05, вероятность ложного отклонения нулевой гипотезы при верной нулевой гипотезе составляет 5% для каждой отдельной проверки.\n",
    "- Однако, если мы делаем множество проверок (в данном случае 16), вероятность хотя бы одного ложного положительного результата (ошибочное отклонение нулевой гипотезы) увеличивается.\n",
    "\n",
    "\n",
    "**Корректировка уровня значимости:**\n",
    "Чтобы учесть эффект множественных проверок и снизить вероятность ложного положительного результата, можно применить корректировку Бонферрони: поделить уровень значимости на количество проверок.\n",
    "\n",
    "α (корр) = 0.05/16 = 0.003125\n",
    "\n",
    "Теперь для того, чтобы отклонить нулевую гипотезу, p-value должно быть меньше 0.0031.\n",
    "\n",
    "Для всех 16 проверок p-value выше 0.05 (а значит и 0.0031), мы по-прежнему не можем отвергнуть нулевую гипотезу для всех событий и сравнений. Это означает, что статистически значимых различий между группами нет."
   ]
  },
  {
   "cell_type": "markdown",
   "metadata": {},
   "source": [
    "Выводы:\n",
    "- Скорректировали уровень значимости α(корр) = 0.05/16 = 0.0031, чтобы учесть множественные проверки.\n",
    "- Для всех 16 проверок p-value выше 0.05 (а значит и 0.0031), мы по-прежнему не можем отвергнуть нулевую гипотезу для всех событий и сравнений. Это означает, что статистически значимых различий между группами нет."
   ]
  },
  {
   "cell_type": "markdown",
   "metadata": {},
   "source": [
    "## Выводы"
   ]
  },
  {
   "cell_type": "markdown",
   "metadata": {},
   "source": [
    "**1. Загрузка и знакомство с данными:**\n",
    "\n",
    "Датасет logs содержит 244126 строк, 4 столбца. Столбцы DeviceIDHash, EventTimestamp, и ExpId имеют целочисленный тип данных, EventName - строковый.\n",
    "\n",
    "\n",
    "\n",
    "**2. Предобработка данных:**\n",
    "- Столбцы переименованы: приведены к нижнему регистру, добавлены нижние подчеркивания.\n",
    "\n",
    "- Приведение типов данных: столбец event_timestamp преобразован в формат datetime для удобства анализа.\n",
    "\n",
    "- Дубликаты: обнаружены и удалены 413 явных строк дубликатов.\n",
    "\n",
    "- Пропущенные значения: нет.\n",
    "\n",
    "- Новые столбцы: добавлен 1 новый столбец с датой.\n",
    "\n",
    "\n",
    "- Изменения данных:\n",
    "    - До предобработки данных было 244126 строк, 4 столбца;\n",
    "    - Удалены 413 (0.17%) явных дубликатов, добавлен 1 новый столбец с датой;\n",
    "    - После предобработки данных стало 243713 строки и 5 столбцов.\n",
    "  \n",
    "  \n",
    "    \n",
    "**3. Исследовательский анализ данных:**\n",
    "1. Информация о событиях и пользователях:\n",
    "    - Всего событий: 243713.\n",
    "    - Всего пользователей: 7551.\n",
    "    - Среднее количество событий на пользователя: 32.27.\n",
    "    - События за период с 25.07.2019 по 07.08.2019.\n",
    "\n",
    "Число событий с 01 авуста 2019 года резко выросло. До этого периода количество событий на порядок меньше, что может указывать на неполные данные за первые дни (с 25 по 31 июля 2019 года). Полными будем считать данные начиная с 01 августа 2019 года. События до этой даты исключены из анализа, так как они могут вносить искажения.\n",
    "\n",
    "2. Информация об удаленных событиях с 25 по 31 июля 2019 года:\n",
    "    - Количество потерянных событий: 2826 (1.16% от общего количества).\n",
    "    - Количество потерянных пользователей: 17 (0.23% от общего количества).\n",
    "    - Все 3 экспериментальные группы присутствуют.\n",
    "\n",
    "3. Информация о событиях и пользователях после очистки данных:\n",
    "    - Всего событий: 240887.\n",
    "    - Всего пользователей: 7534.\n",
    "    - Среднее количество событий на пользователя: 31.97.\n",
    "    - События за период с 01.08.2019 по 07.08.2019.\n",
    "\n",
    "\n",
    "\n",
    "**4. Анализ воронки продаж:**\n",
    "\n",
    "- Событие Tutorial исключаем при расчете воронки продажи, так как обучение не связано напрямую с процессом покупки. Пользователи часто скипают обучение, что мы и видим по конверсии (11.15%).\n",
    "\n",
    "- Этапы воронки продаж:\n",
    "    - MainScreenAppear (Главный экран): 48.71% от общего числа событий, переходят 7419 пользователей (98.47% от всех пользователей). Почти все пользователи взаимодействуют с главным экраном.\n",
    "    - OffersScreenAppear (Экран предложений с товарами): 19.23% от общего числа событий, переходят 4593 пользователей (60.96% от всех пользователей). Доля перехода с главного экрана: 61.91%. Значительная часть пользователей (около 38.09%) покидает приложение на этом шаге.\n",
    "    - CartScreenAppear (Экран корзины): 17.56% от общего числа событий, переходят 3734 пользователей (49.56% от всех пользователей). Из тех, кто дошел до экрана предложений товаров, 81.30% переходят к экрану корзины.\n",
    "    - PaymentScreenSuccessful (Успешная оплата): 14.08% от общего числа событий, переходят 3539 пользователей (46.97% от всех пользователей). 94.78% пользователей, дошедших до корзины, завершают покупку. Потеря на этом этапе минимальна (5.22%).\n",
    "\n",
    "- Анализ воронки продаж:\n",
    "    - Высокий уровень конверсии на этапах после выбора товаров: 81.30% переходят к корзине, и 94.78% из них завершают покупку.\n",
    "    - Основная потеря пользователей происходит на этапе между главным экраном и экраном предложений: 38.09% пользователей не переходят к следующему шагу.\n",
    "    - 47.7% пользователей, начавших с главного экрана, успешно завершают покупку.\n",
    "\n",
    "\n",
    "\n",
    "**5. Анализ результатов A/A/B-эксперимента:**\n",
    "1. В каждой группе примерно одинаковое количество пользователей:\n",
    "    - контрольная 246: 2489 пользователей.\n",
    "    - контрольная 247: 2520 пользователей.\n",
    "    - эксперимннтальная 248: 2542 пользователей.\n",
    "\n",
    "\n",
    "2. Результаты А/А-теста (контрольные группы 246 и 247):\n",
    "    - Для всех событий (MainScreenAppear, OffersScreenAppear, CartScreenAppear, PaymentScreenSuccessful) не удалось отвергнуть нулевую гипотезу.  Все p-value значительно превышают уровень значимости 0.05. Это означает, что нет статистически значимой разницы между долями пользователей, совершивших эти события, в контрольных группах 246 и 247.\n",
    "    - А/А-эксперимент показал, что различий между контрольными группами нет, что подтверждает правильность функционирования эксперимента.\n",
    "\n",
    "\n",
    "3. Результаты А/В-теста (экспериментальная группа 248 и контрольные группы 246/247 каждая по отдельности и объединённая контрольная группа (246 + 247)):\n",
    "    - Для всех событий (MainScreenAppear, OffersScreenAppear, CartScreenAppear, PaymentScreenSuccessful) не удалось отвергнуть нулевую гипотезу.  Все p-value значительно превышают уровень значимости 0.05. Это означает, что нет статистически значимой разницы между долями пользователей, совершивших эти события, в экспериментальной группе с измененным шрифтом (248) и:\n",
    "        - каждой из контрольных групп (246 / 247),\n",
    "        - объединённой контрольной группой (246 + 247).\n",
    "\n",
    "Отсутствие значимых различий между экспериментальной группой с измененным шрифтом и контрольными группами по всем событиям свидетельствует о том, что изменение шрифта не оказало значимого эффекта на ключевые метрики взаимодействия пользователей с приложением.\n",
    "\n",
    "4. Корректировка уровня значимости\n",
    "    - Скорректировали уровень значимости α(корр) = 0.05/16 = 0.0031, чтобы учесть множественные проверки.\n",
    "    - Для всех 16 проверок p-value выше 0.05 (а значит и 0.0031), мы по-прежнему не можем отвергнуть нулевую гипотезу для всех событий и сравнений. Это означает, что статистически значимых различий между группами нет.\n",
    "\n",
    "\n",
    "**A/A/B-эксперимент показал, мы не можем отвергнуть нулевую гипотезу для всех событий и всех сравнений, даже с учётом скорректированного уровня значимости. Это подтверждает, что изменение шрифта не оказало статистически значимого влияния на поведение пользователей.**"
   ]
  }
 ],
 "metadata": {
  "ExecuteTimeLog": [
   {
    "duration": 1377,
    "start_time": "2024-10-09T05:20:19.846Z"
   },
   {
    "duration": 843,
    "start_time": "2024-10-09T05:21:27.982Z"
   },
   {
    "duration": 15,
    "start_time": "2024-10-09T05:22:04.863Z"
   },
   {
    "duration": 312,
    "start_time": "2024-10-09T05:34:09.982Z"
   },
   {
    "duration": 208,
    "start_time": "2024-10-09T05:35:44.642Z"
   },
   {
    "duration": 53,
    "start_time": "2024-10-09T05:35:49.394Z"
   },
   {
    "duration": 52,
    "start_time": "2024-10-09T05:37:56.201Z"
   },
   {
    "duration": 50,
    "start_time": "2024-10-09T05:38:25.771Z"
   },
   {
    "duration": 4,
    "start_time": "2024-10-09T05:44:41.511Z"
   },
   {
    "duration": 99,
    "start_time": "2024-10-09T05:45:10.629Z"
   },
   {
    "duration": 195,
    "start_time": "2024-10-09T05:45:30.698Z"
   },
   {
    "duration": 11,
    "start_time": "2024-10-09T05:45:36.339Z"
   },
   {
    "duration": 8,
    "start_time": "2024-10-09T05:45:43.832Z"
   },
   {
    "duration": 3,
    "start_time": "2024-10-09T05:45:51.748Z"
   },
   {
    "duration": 5,
    "start_time": "2024-10-09T05:46:21.413Z"
   },
   {
    "duration": 5,
    "start_time": "2024-10-09T05:47:51.533Z"
   },
   {
    "duration": 34,
    "start_time": "2024-10-09T05:51:17.941Z"
   },
   {
    "duration": 9,
    "start_time": "2024-10-09T05:52:07.343Z"
   },
   {
    "duration": 61,
    "start_time": "2024-10-09T05:52:17.411Z"
   },
   {
    "duration": 60,
    "start_time": "2024-10-09T05:53:06.613Z"
   },
   {
    "duration": 57,
    "start_time": "2024-10-09T05:53:18.387Z"
   },
   {
    "duration": 108,
    "start_time": "2024-10-09T05:54:31.915Z"
   },
   {
    "duration": 203,
    "start_time": "2024-10-09T05:57:46.648Z"
   },
   {
    "duration": 124,
    "start_time": "2024-10-09T05:57:48.712Z"
   },
   {
    "duration": 39,
    "start_time": "2024-10-09T05:58:54.666Z"
   },
   {
    "duration": 57,
    "start_time": "2024-10-09T06:00:02.622Z"
   },
   {
    "duration": 54,
    "start_time": "2024-10-09T06:00:10.152Z"
   },
   {
    "duration": 123,
    "start_time": "2024-10-09T06:00:21.088Z"
   },
   {
    "duration": 53,
    "start_time": "2024-10-09T06:00:22.015Z"
   },
   {
    "duration": 46,
    "start_time": "2024-10-09T06:00:38.339Z"
   },
   {
    "duration": 56,
    "start_time": "2024-10-09T06:00:56.215Z"
   },
   {
    "duration": 51,
    "start_time": "2024-10-09T06:01:15.690Z"
   },
   {
    "duration": 42,
    "start_time": "2024-10-09T06:01:30.043Z"
   },
   {
    "duration": 62,
    "start_time": "2024-10-09T06:03:31.590Z"
   },
   {
    "duration": 183,
    "start_time": "2024-10-09T06:04:13.797Z"
   },
   {
    "duration": 1144,
    "start_time": "2024-10-09T06:04:19.328Z"
   },
   {
    "duration": 113,
    "start_time": "2024-10-09T06:04:20.812Z"
   },
   {
    "duration": 5,
    "start_time": "2024-10-09T06:04:42.804Z"
   },
   {
    "duration": 196,
    "start_time": "2024-10-09T06:04:45.508Z"
   },
   {
    "duration": 217,
    "start_time": "2024-10-09T06:04:49.976Z"
   },
   {
    "duration": 1215,
    "start_time": "2024-10-09T06:05:05.444Z"
   },
   {
    "duration": 197,
    "start_time": "2024-10-09T06:05:06.661Z"
   },
   {
    "duration": 25,
    "start_time": "2024-10-09T06:05:06.860Z"
   },
   {
    "duration": 71,
    "start_time": "2024-10-09T06:05:06.891Z"
   },
   {
    "duration": 4,
    "start_time": "2024-10-09T06:05:06.965Z"
   },
   {
    "duration": 46,
    "start_time": "2024-10-09T06:05:06.971Z"
   },
   {
    "duration": 219,
    "start_time": "2024-10-09T06:05:07.019Z"
   },
   {
    "duration": 131,
    "start_time": "2024-10-09T06:05:07.242Z"
   },
   {
    "duration": 71,
    "start_time": "2024-10-09T06:05:07.375Z"
   },
   {
    "duration": 91,
    "start_time": "2024-10-09T06:10:38.610Z"
   },
   {
    "duration": 106,
    "start_time": "2024-10-09T06:13:31.001Z"
   },
   {
    "duration": 88,
    "start_time": "2024-10-09T06:13:48.465Z"
   },
   {
    "duration": 129,
    "start_time": "2024-10-09T06:14:11.765Z"
   },
   {
    "duration": 107,
    "start_time": "2024-10-09T06:14:39.888Z"
   },
   {
    "duration": 87,
    "start_time": "2024-10-09T06:14:57.688Z"
   },
   {
    "duration": 16,
    "start_time": "2024-10-09T06:21:27.818Z"
   },
   {
    "duration": 25,
    "start_time": "2024-10-09T06:32:03.134Z"
   },
   {
    "duration": 376,
    "start_time": "2024-10-09T06:32:18.602Z"
   },
   {
    "duration": 312,
    "start_time": "2024-10-09T06:32:33.811Z"
   },
   {
    "duration": 573,
    "start_time": "2024-10-09T06:34:14.835Z"
   },
   {
    "duration": 17,
    "start_time": "2024-10-09T06:35:14.265Z"
   },
   {
    "duration": 19,
    "start_time": "2024-10-09T06:35:20.756Z"
   },
   {
    "duration": 505,
    "start_time": "2024-10-09T06:35:32.999Z"
   },
   {
    "duration": 7,
    "start_time": "2024-10-09T06:36:38.075Z"
   },
   {
    "duration": 68,
    "start_time": "2024-10-09T06:54:43.179Z"
   },
   {
    "duration": 30,
    "start_time": "2024-10-09T06:54:55.573Z"
   },
   {
    "duration": 34,
    "start_time": "2024-10-09T07:00:43.692Z"
   },
   {
    "duration": 535,
    "start_time": "2024-10-09T07:08:14.689Z"
   },
   {
    "duration": 540,
    "start_time": "2024-10-09T07:17:01.482Z"
   },
   {
    "duration": 34,
    "start_time": "2024-10-09T07:18:14.011Z"
   },
   {
    "duration": 485,
    "start_time": "2024-10-09T07:18:59.117Z"
   },
   {
    "duration": 36,
    "start_time": "2024-10-09T07:19:52.799Z"
   },
   {
    "duration": 36,
    "start_time": "2024-10-09T07:20:48.319Z"
   },
   {
    "duration": 1147,
    "start_time": "2024-10-09T07:24:52.495Z"
   },
   {
    "duration": 180,
    "start_time": "2024-10-09T07:24:53.643Z"
   },
   {
    "duration": 13,
    "start_time": "2024-10-09T07:24:53.825Z"
   },
   {
    "duration": 62,
    "start_time": "2024-10-09T07:24:53.839Z"
   },
   {
    "duration": 4,
    "start_time": "2024-10-09T07:24:53.903Z"
   },
   {
    "duration": 134,
    "start_time": "2024-10-09T07:24:53.909Z"
   },
   {
    "duration": 60,
    "start_time": "2024-10-09T07:24:54.045Z"
   },
   {
    "duration": 269,
    "start_time": "2024-10-09T07:24:54.107Z"
   },
   {
    "duration": 196,
    "start_time": "2024-10-09T07:24:54.378Z"
   },
   {
    "duration": 73,
    "start_time": "2024-10-09T07:24:54.575Z"
   },
   {
    "duration": 13,
    "start_time": "2024-10-09T07:24:54.650Z"
   },
   {
    "duration": 382,
    "start_time": "2024-10-09T07:24:54.664Z"
   },
   {
    "duration": 11,
    "start_time": "2024-10-09T07:24:55.048Z"
   },
   {
    "duration": 146,
    "start_time": "2024-10-09T07:24:55.062Z"
   },
   {
    "duration": 10,
    "start_time": "2024-10-09T07:25:55.868Z"
   },
   {
    "duration": 1200,
    "start_time": "2024-10-09T07:26:01.759Z"
   },
   {
    "duration": 184,
    "start_time": "2024-10-09T07:26:02.961Z"
   },
   {
    "duration": 14,
    "start_time": "2024-10-09T07:26:03.147Z"
   },
   {
    "duration": 76,
    "start_time": "2024-10-09T07:26:03.162Z"
   },
   {
    "duration": 6,
    "start_time": "2024-10-09T07:26:03.240Z"
   },
   {
    "duration": 139,
    "start_time": "2024-10-09T07:26:03.247Z"
   },
   {
    "duration": 64,
    "start_time": "2024-10-09T07:26:03.387Z"
   },
   {
    "duration": 252,
    "start_time": "2024-10-09T07:26:03.452Z"
   },
   {
    "duration": 194,
    "start_time": "2024-10-09T07:26:03.706Z"
   },
   {
    "duration": 74,
    "start_time": "2024-10-09T07:26:03.902Z"
   },
   {
    "duration": 13,
    "start_time": "2024-10-09T07:26:03.978Z"
   },
   {
    "duration": 483,
    "start_time": "2024-10-09T07:26:03.992Z"
   },
   {
    "duration": 12,
    "start_time": "2024-10-09T07:26:04.477Z"
   },
   {
    "duration": 6,
    "start_time": "2024-10-09T07:26:04.492Z"
   },
   {
    "duration": 99,
    "start_time": "2024-10-09T07:26:57.317Z"
   },
   {
    "duration": 1178,
    "start_time": "2024-10-09T07:27:15.276Z"
   },
   {
    "duration": 183,
    "start_time": "2024-10-09T07:27:16.456Z"
   },
   {
    "duration": 13,
    "start_time": "2024-10-09T07:27:16.640Z"
   },
   {
    "duration": 60,
    "start_time": "2024-10-09T07:27:16.655Z"
   },
   {
    "duration": 4,
    "start_time": "2024-10-09T07:27:16.717Z"
   },
   {
    "duration": 127,
    "start_time": "2024-10-09T07:27:16.743Z"
   },
   {
    "duration": 55,
    "start_time": "2024-10-09T07:27:16.871Z"
   },
   {
    "duration": 273,
    "start_time": "2024-10-09T07:27:16.927Z"
   },
   {
    "duration": 185,
    "start_time": "2024-10-09T07:27:17.201Z"
   },
   {
    "duration": 70,
    "start_time": "2024-10-09T07:27:17.388Z"
   },
   {
    "duration": 12,
    "start_time": "2024-10-09T07:27:17.460Z"
   },
   {
    "duration": 395,
    "start_time": "2024-10-09T07:27:17.474Z"
   },
   {
    "duration": 12,
    "start_time": "2024-10-09T07:27:17.870Z"
   },
   {
    "duration": 140,
    "start_time": "2024-10-09T07:27:17.884Z"
   },
   {
    "duration": 328,
    "start_time": "2024-10-09T07:27:20.286Z"
   },
   {
    "duration": 181,
    "start_time": "2024-10-09T07:27:48.793Z"
   },
   {
    "duration": 12,
    "start_time": "2024-10-09T07:27:56.939Z"
   },
   {
    "duration": 60,
    "start_time": "2024-10-09T07:27:58.572Z"
   },
   {
    "duration": 5,
    "start_time": "2024-10-09T07:28:17.399Z"
   },
   {
    "duration": 112,
    "start_time": "2024-10-09T07:28:19.517Z"
   },
   {
    "duration": 333,
    "start_time": "2024-10-09T07:28:24.178Z"
   },
   {
    "duration": 104,
    "start_time": "2024-10-09T07:28:47.687Z"
   },
   {
    "duration": 53,
    "start_time": "2024-10-09T10:21:11.384Z"
   },
   {
    "duration": 1379,
    "start_time": "2024-10-09T10:21:16.980Z"
   },
   {
    "duration": 1021,
    "start_time": "2024-10-09T10:21:18.361Z"
   },
   {
    "duration": 14,
    "start_time": "2024-10-09T10:21:19.384Z"
   },
   {
    "duration": 66,
    "start_time": "2024-10-09T10:21:19.400Z"
   },
   {
    "duration": 5,
    "start_time": "2024-10-09T10:21:19.467Z"
   },
   {
    "duration": 134,
    "start_time": "2024-10-09T10:21:19.474Z"
   },
   {
    "duration": 60,
    "start_time": "2024-10-09T10:21:19.610Z"
   },
   {
    "duration": 259,
    "start_time": "2024-10-09T10:21:19.672Z"
   },
   {
    "duration": 183,
    "start_time": "2024-10-09T10:21:19.932Z"
   },
   {
    "duration": 60,
    "start_time": "2024-10-09T10:21:20.121Z"
   },
   {
    "duration": 30,
    "start_time": "2024-10-09T10:21:20.183Z"
   },
   {
    "duration": 410,
    "start_time": "2024-10-09T10:21:20.214Z"
   },
   {
    "duration": 12,
    "start_time": "2024-10-09T10:21:20.626Z"
   },
   {
    "duration": 138,
    "start_time": "2024-10-09T10:21:20.640Z"
   },
   {
    "duration": 332,
    "start_time": "2024-10-09T10:21:24.272Z"
   },
   {
    "duration": 3,
    "start_time": "2024-10-09T10:21:32.540Z"
   },
   {
    "duration": 185,
    "start_time": "2024-10-09T10:21:34.407Z"
   },
   {
    "duration": 10,
    "start_time": "2024-10-09T10:21:41.491Z"
   },
   {
    "duration": 55,
    "start_time": "2024-10-09T10:21:52.246Z"
   },
   {
    "duration": 4,
    "start_time": "2024-10-09T10:22:03.315Z"
   },
   {
    "duration": 126,
    "start_time": "2024-10-09T10:22:05.818Z"
   },
   {
    "duration": 57,
    "start_time": "2024-10-09T10:22:15.631Z"
   },
   {
    "duration": 1214,
    "start_time": "2024-10-09T10:23:29.546Z"
   },
   {
    "duration": 197,
    "start_time": "2024-10-09T10:23:30.762Z"
   },
   {
    "duration": 14,
    "start_time": "2024-10-09T10:23:30.961Z"
   },
   {
    "duration": 89,
    "start_time": "2024-10-09T10:23:30.977Z"
   },
   {
    "duration": 5,
    "start_time": "2024-10-09T10:23:31.068Z"
   },
   {
    "duration": 151,
    "start_time": "2024-10-09T10:23:31.074Z"
   },
   {
    "duration": 58,
    "start_time": "2024-10-09T10:23:31.227Z"
   },
   {
    "duration": 277,
    "start_time": "2024-10-09T10:23:31.287Z"
   },
   {
    "duration": 223,
    "start_time": "2024-10-09T10:23:31.566Z"
   },
   {
    "duration": 74,
    "start_time": "2024-10-09T10:23:31.791Z"
   },
   {
    "duration": 23,
    "start_time": "2024-10-09T10:23:31.867Z"
   },
   {
    "duration": 406,
    "start_time": "2024-10-09T10:23:31.892Z"
   },
   {
    "duration": 25,
    "start_time": "2024-10-09T10:23:32.301Z"
   },
   {
    "duration": 124,
    "start_time": "2024-10-09T10:23:32.328Z"
   },
   {
    "duration": 103,
    "start_time": "2024-10-09T10:31:32.325Z"
   },
   {
    "duration": 94,
    "start_time": "2024-10-09T10:33:00.564Z"
   },
   {
    "duration": 94,
    "start_time": "2024-10-09T10:33:14.143Z"
   },
   {
    "duration": 95,
    "start_time": "2024-10-09T10:34:44.380Z"
   },
   {
    "duration": 90,
    "start_time": "2024-10-09T10:34:52.192Z"
   },
   {
    "duration": 1188,
    "start_time": "2024-10-09T10:37:42.542Z"
   },
   {
    "duration": 189,
    "start_time": "2024-10-09T10:37:43.732Z"
   },
   {
    "duration": 14,
    "start_time": "2024-10-09T10:37:43.922Z"
   },
   {
    "duration": 88,
    "start_time": "2024-10-09T10:37:43.937Z"
   },
   {
    "duration": 4,
    "start_time": "2024-10-09T10:37:44.027Z"
   },
   {
    "duration": 104,
    "start_time": "2024-10-09T10:37:44.032Z"
   },
   {
    "duration": 55,
    "start_time": "2024-10-09T10:37:44.138Z"
   },
   {
    "duration": 261,
    "start_time": "2024-10-09T10:37:44.195Z"
   },
   {
    "duration": 202,
    "start_time": "2024-10-09T10:37:44.457Z"
   },
   {
    "duration": 69,
    "start_time": "2024-10-09T10:37:44.661Z"
   },
   {
    "duration": 13,
    "start_time": "2024-10-09T10:37:44.732Z"
   },
   {
    "duration": 553,
    "start_time": "2024-10-09T10:37:44.746Z"
   },
   {
    "duration": 37,
    "start_time": "2024-10-09T10:37:45.301Z"
   },
   {
    "duration": 47,
    "start_time": "2024-10-09T10:37:45.340Z"
   },
   {
    "duration": 524,
    "start_time": "2024-10-09T10:38:39.367Z"
   },
   {
    "duration": 485,
    "start_time": "2024-10-09T10:39:26.707Z"
   },
   {
    "duration": 43,
    "start_time": "2024-10-09T10:39:58.043Z"
   },
   {
    "duration": 92,
    "start_time": "2024-10-09T10:46:09.322Z"
   },
   {
    "duration": 83,
    "start_time": "2024-10-09T10:49:13.723Z"
   },
   {
    "duration": 83,
    "start_time": "2024-10-09T10:49:38.500Z"
   },
   {
    "duration": 86,
    "start_time": "2024-10-09T10:51:48.861Z"
   },
   {
    "duration": 83,
    "start_time": "2024-10-09T10:52:26.582Z"
   },
   {
    "duration": 84,
    "start_time": "2024-10-09T10:53:15.859Z"
   },
   {
    "duration": 90,
    "start_time": "2024-10-09T10:53:50.944Z"
   },
   {
    "duration": 95,
    "start_time": "2024-10-09T10:54:02.313Z"
   },
   {
    "duration": 87,
    "start_time": "2024-10-09T10:54:13.269Z"
   },
   {
    "duration": 110,
    "start_time": "2024-10-09T10:56:17.718Z"
   },
   {
    "duration": 119,
    "start_time": "2024-10-09T10:57:17.247Z"
   },
   {
    "duration": 49,
    "start_time": "2024-10-09T10:58:57.321Z"
   },
   {
    "duration": 2054,
    "start_time": "2024-10-09T11:01:21.401Z"
   },
   {
    "duration": 36,
    "start_time": "2024-10-09T11:01:33.285Z"
   },
   {
    "duration": 35,
    "start_time": "2024-10-09T11:03:49.659Z"
   },
   {
    "duration": 38,
    "start_time": "2024-10-09T11:09:05.638Z"
   },
   {
    "duration": 95,
    "start_time": "2024-10-09T11:11:47.842Z"
   },
   {
    "duration": 45,
    "start_time": "2024-10-09T11:12:26.589Z"
   },
   {
    "duration": 35,
    "start_time": "2024-10-09T11:12:37.573Z"
   },
   {
    "duration": 1683,
    "start_time": "2024-10-09T11:18:56.016Z"
   },
   {
    "duration": 64,
    "start_time": "2024-10-09T11:20:20.912Z"
   },
   {
    "duration": 124,
    "start_time": "2024-10-09T11:21:21.247Z"
   },
   {
    "duration": 32,
    "start_time": "2024-10-09T11:22:07.534Z"
   },
   {
    "duration": 103,
    "start_time": "2024-10-09T11:22:37.186Z"
   },
   {
    "duration": 177,
    "start_time": "2024-10-09T11:23:13.037Z"
   },
   {
    "duration": 1223,
    "start_time": "2024-10-09T11:23:17.725Z"
   },
   {
    "duration": 206,
    "start_time": "2024-10-09T11:23:18.950Z"
   },
   {
    "duration": 18,
    "start_time": "2024-10-09T11:23:19.158Z"
   },
   {
    "duration": 89,
    "start_time": "2024-10-09T11:23:19.178Z"
   },
   {
    "duration": 4,
    "start_time": "2024-10-09T11:23:19.269Z"
   },
   {
    "duration": 118,
    "start_time": "2024-10-09T11:23:19.275Z"
   },
   {
    "duration": 70,
    "start_time": "2024-10-09T11:23:19.395Z"
   },
   {
    "duration": 170,
    "start_time": "2024-10-09T11:23:19.467Z"
   },
   {
    "duration": 170,
    "start_time": "2024-10-09T11:23:19.639Z"
   },
   {
    "duration": 62,
    "start_time": "2024-10-09T11:23:19.811Z"
   },
   {
    "duration": 15,
    "start_time": "2024-10-09T11:23:19.874Z"
   },
   {
    "duration": 510,
    "start_time": "2024-10-09T11:23:19.890Z"
   },
   {
    "duration": 34,
    "start_time": "2024-10-09T11:23:20.402Z"
   },
   {
    "duration": 39,
    "start_time": "2024-10-09T11:23:20.438Z"
   },
   {
    "duration": 78,
    "start_time": "2024-10-09T11:23:20.479Z"
   },
   {
    "duration": 85,
    "start_time": "2024-10-09T11:23:20.559Z"
   },
   {
    "duration": 34,
    "start_time": "2024-10-09T11:23:43.304Z"
   },
   {
    "duration": 67,
    "start_time": "2024-10-09T11:23:48.436Z"
   },
   {
    "duration": 33,
    "start_time": "2024-10-09T11:47:14.926Z"
   },
   {
    "duration": 31,
    "start_time": "2024-10-09T11:47:22.137Z"
   },
   {
    "duration": 30,
    "start_time": "2024-10-09T11:47:59.150Z"
   },
   {
    "duration": 65,
    "start_time": "2024-10-09T11:50:00.623Z"
   },
   {
    "duration": 104,
    "start_time": "2024-10-09T11:50:54.079Z"
   },
   {
    "duration": 1204,
    "start_time": "2024-10-09T11:51:03.937Z"
   },
   {
    "duration": 200,
    "start_time": "2024-10-09T11:51:05.143Z"
   },
   {
    "duration": 14,
    "start_time": "2024-10-09T11:51:05.345Z"
   },
   {
    "duration": 78,
    "start_time": "2024-10-09T11:51:05.361Z"
   },
   {
    "duration": 5,
    "start_time": "2024-10-09T11:51:05.441Z"
   },
   {
    "duration": 116,
    "start_time": "2024-10-09T11:51:05.447Z"
   },
   {
    "duration": 61,
    "start_time": "2024-10-09T11:51:05.564Z"
   },
   {
    "duration": 162,
    "start_time": "2024-10-09T11:51:05.627Z"
   },
   {
    "duration": 185,
    "start_time": "2024-10-09T11:51:05.790Z"
   },
   {
    "duration": 68,
    "start_time": "2024-10-09T11:51:05.977Z"
   },
   {
    "duration": 14,
    "start_time": "2024-10-09T11:51:06.046Z"
   },
   {
    "duration": 537,
    "start_time": "2024-10-09T11:51:06.062Z"
   },
   {
    "duration": 34,
    "start_time": "2024-10-09T11:51:06.601Z"
   },
   {
    "duration": 45,
    "start_time": "2024-10-09T11:51:06.638Z"
   },
   {
    "duration": 42,
    "start_time": "2024-10-09T11:51:06.684Z"
   },
   {
    "duration": 64,
    "start_time": "2024-10-09T11:51:06.727Z"
   },
   {
    "duration": 0,
    "start_time": "2024-10-09T11:51:06.909Z"
   },
   {
    "duration": 8,
    "start_time": "2024-10-09T11:51:22.746Z"
   },
   {
    "duration": 20,
    "start_time": "2024-10-09T11:51:30.954Z"
   },
   {
    "duration": 36,
    "start_time": "2024-10-09T11:55:02.927Z"
   },
   {
    "duration": 32,
    "start_time": "2024-10-09T12:04:25.054Z"
   },
   {
    "duration": 63,
    "start_time": "2024-10-09T12:04:26.054Z"
   },
   {
    "duration": 60,
    "start_time": "2024-10-09T12:05:40.570Z"
   },
   {
    "duration": 43,
    "start_time": "2024-10-10T05:21:01.049Z"
   },
   {
    "duration": 1241,
    "start_time": "2024-10-10T05:21:10.025Z"
   },
   {
    "duration": 708,
    "start_time": "2024-10-10T05:21:11.268Z"
   },
   {
    "duration": 12,
    "start_time": "2024-10-10T05:21:11.977Z"
   },
   {
    "duration": 51,
    "start_time": "2024-10-10T05:21:11.990Z"
   },
   {
    "duration": 4,
    "start_time": "2024-10-10T05:21:12.042Z"
   },
   {
    "duration": 78,
    "start_time": "2024-10-10T05:21:12.048Z"
   },
   {
    "duration": 39,
    "start_time": "2024-10-10T05:21:12.127Z"
   },
   {
    "duration": 160,
    "start_time": "2024-10-10T05:21:12.168Z"
   },
   {
    "duration": 146,
    "start_time": "2024-10-10T05:21:12.329Z"
   },
   {
    "duration": 62,
    "start_time": "2024-10-10T05:21:12.477Z"
   },
   {
    "duration": 11,
    "start_time": "2024-10-10T05:21:12.540Z"
   },
   {
    "duration": 536,
    "start_time": "2024-10-10T05:21:12.552Z"
   },
   {
    "duration": 25,
    "start_time": "2024-10-10T05:21:13.090Z"
   },
   {
    "duration": 37,
    "start_time": "2024-10-10T05:21:13.117Z"
   },
   {
    "duration": 45,
    "start_time": "2024-10-10T05:21:13.156Z"
   },
   {
    "duration": 61,
    "start_time": "2024-10-10T05:21:13.202Z"
   },
   {
    "duration": 9,
    "start_time": "2024-10-10T05:21:13.265Z"
   },
   {
    "duration": 37,
    "start_time": "2024-10-10T05:21:13.275Z"
   },
   {
    "duration": 3,
    "start_time": "2024-10-10T05:21:13.313Z"
   },
   {
    "duration": 10,
    "start_time": "2024-10-10T05:22:34.056Z"
   },
   {
    "duration": 9,
    "start_time": "2024-10-10T05:23:54.078Z"
   },
   {
    "duration": 10,
    "start_time": "2024-10-10T05:26:58.077Z"
   },
   {
    "duration": 10,
    "start_time": "2024-10-10T05:27:36.939Z"
   },
   {
    "duration": 3,
    "start_time": "2024-10-10T05:28:34.720Z"
   },
   {
    "duration": 4,
    "start_time": "2024-10-10T05:30:46.560Z"
   },
   {
    "duration": 3,
    "start_time": "2024-10-10T05:31:45.542Z"
   },
   {
    "duration": 9,
    "start_time": "2024-10-10T05:31:46.657Z"
   },
   {
    "duration": 4,
    "start_time": "2024-10-10T05:31:50.207Z"
   },
   {
    "duration": 10,
    "start_time": "2024-10-10T05:32:12.130Z"
   },
   {
    "duration": 10,
    "start_time": "2024-10-10T05:32:55.543Z"
   },
   {
    "duration": 1027,
    "start_time": "2024-10-10T05:33:18.246Z"
   },
   {
    "duration": 145,
    "start_time": "2024-10-10T05:33:19.275Z"
   },
   {
    "duration": 11,
    "start_time": "2024-10-10T05:33:19.421Z"
   },
   {
    "duration": 58,
    "start_time": "2024-10-10T05:33:19.433Z"
   },
   {
    "duration": 3,
    "start_time": "2024-10-10T05:33:19.493Z"
   },
   {
    "duration": 84,
    "start_time": "2024-10-10T05:33:19.497Z"
   },
   {
    "duration": 42,
    "start_time": "2024-10-10T05:33:19.582Z"
   },
   {
    "duration": 138,
    "start_time": "2024-10-10T05:33:19.625Z"
   },
   {
    "duration": 140,
    "start_time": "2024-10-10T05:33:19.765Z"
   },
   {
    "duration": 52,
    "start_time": "2024-10-10T05:33:19.906Z"
   },
   {
    "duration": 29,
    "start_time": "2024-10-10T05:33:19.959Z"
   },
   {
    "duration": 442,
    "start_time": "2024-10-10T05:33:19.990Z"
   },
   {
    "duration": 23,
    "start_time": "2024-10-10T05:33:20.433Z"
   },
   {
    "duration": 29,
    "start_time": "2024-10-10T05:33:20.458Z"
   },
   {
    "duration": 54,
    "start_time": "2024-10-10T05:33:20.489Z"
   },
   {
    "duration": 55,
    "start_time": "2024-10-10T05:33:20.544Z"
   },
   {
    "duration": 3,
    "start_time": "2024-10-10T05:33:20.600Z"
   },
   {
    "duration": 9,
    "start_time": "2024-10-10T05:33:20.611Z"
   },
   {
    "duration": 4,
    "start_time": "2024-10-10T05:33:20.621Z"
   },
   {
    "duration": 11,
    "start_time": "2024-10-10T05:33:20.627Z"
   },
   {
    "duration": 3,
    "start_time": "2024-10-10T05:33:21.734Z"
   },
   {
    "duration": 9,
    "start_time": "2024-10-10T05:33:22.606Z"
   },
   {
    "duration": 4,
    "start_time": "2024-10-10T05:33:27.521Z"
   },
   {
    "duration": 91,
    "start_time": "2024-10-10T05:34:02.890Z"
   },
   {
    "duration": 840,
    "start_time": "2024-10-10T05:34:12.334Z"
   },
   {
    "duration": 3,
    "start_time": "2024-10-10T05:35:48.948Z"
   },
   {
    "duration": 4,
    "start_time": "2024-10-10T05:36:11.965Z"
   },
   {
    "duration": 10,
    "start_time": "2024-10-10T05:38:04.157Z"
   },
   {
    "duration": 4,
    "start_time": "2024-10-10T05:40:00.030Z"
   },
   {
    "duration": 4,
    "start_time": "2024-10-10T05:41:33.256Z"
   },
   {
    "duration": 4,
    "start_time": "2024-10-10T05:42:09.304Z"
   },
   {
    "duration": 4,
    "start_time": "2024-10-10T06:22:50.858Z"
   },
   {
    "duration": 4,
    "start_time": "2024-10-10T06:25:30.456Z"
   },
   {
    "duration": 214,
    "start_time": "2024-10-10T06:25:36.405Z"
   },
   {
    "duration": 11,
    "start_time": "2024-10-10T06:29:09.033Z"
   },
   {
    "duration": 18,
    "start_time": "2024-10-10T06:30:43.006Z"
   },
   {
    "duration": 1276,
    "start_time": "2024-10-11T06:20:40.671Z"
   },
   {
    "duration": 969,
    "start_time": "2024-10-11T06:20:41.949Z"
   },
   {
    "duration": 18,
    "start_time": "2024-10-11T06:20:42.920Z"
   },
   {
    "duration": 82,
    "start_time": "2024-10-11T06:20:42.940Z"
   },
   {
    "duration": 5,
    "start_time": "2024-10-11T06:20:43.024Z"
   },
   {
    "duration": 91,
    "start_time": "2024-10-11T06:20:43.030Z"
   },
   {
    "duration": 55,
    "start_time": "2024-10-11T06:20:43.123Z"
   },
   {
    "duration": 213,
    "start_time": "2024-10-11T06:20:43.180Z"
   },
   {
    "duration": 199,
    "start_time": "2024-10-11T06:20:43.394Z"
   },
   {
    "duration": 64,
    "start_time": "2024-10-11T06:20:43.595Z"
   },
   {
    "duration": 17,
    "start_time": "2024-10-11T06:20:43.661Z"
   },
   {
    "duration": 614,
    "start_time": "2024-10-11T06:20:43.680Z"
   },
   {
    "duration": 32,
    "start_time": "2024-10-11T06:20:44.295Z"
   },
   {
    "duration": 37,
    "start_time": "2024-10-11T06:20:44.331Z"
   },
   {
    "duration": 33,
    "start_time": "2024-10-11T06:20:44.370Z"
   },
   {
    "duration": 65,
    "start_time": "2024-10-11T06:20:44.421Z"
   },
   {
    "duration": 3,
    "start_time": "2024-10-11T06:20:44.488Z"
   },
   {
    "duration": 29,
    "start_time": "2024-10-11T06:20:44.493Z"
   },
   {
    "duration": 154,
    "start_time": "2024-10-11T06:20:44.524Z"
   },
   {
    "duration": 5,
    "start_time": "2024-10-11T06:20:44.680Z"
   },
   {
    "duration": 9,
    "start_time": "2024-10-11T06:20:44.686Z"
   },
   {
    "duration": 30,
    "start_time": "2024-10-11T06:20:46.753Z"
   },
   {
    "duration": 209,
    "start_time": "2024-10-11T07:11:13.063Z"
   },
   {
    "duration": 22,
    "start_time": "2024-10-11T07:11:44.889Z"
   },
   {
    "duration": 1151,
    "start_time": "2024-10-11T07:11:53.130Z"
   },
   {
    "duration": 262,
    "start_time": "2024-10-11T07:18:16.383Z"
   },
   {
    "duration": 265,
    "start_time": "2024-10-11T07:20:09.207Z"
   },
   {
    "duration": 265,
    "start_time": "2024-10-11T07:20:24.849Z"
   },
   {
    "duration": 256,
    "start_time": "2024-10-11T07:20:50.907Z"
   },
   {
    "duration": 11,
    "start_time": "2024-10-11T08:05:44.134Z"
   },
   {
    "duration": 266,
    "start_time": "2024-10-11T08:06:18.905Z"
   },
   {
    "duration": 57,
    "start_time": "2024-10-11T12:21:13.065Z"
   },
   {
    "duration": 1490,
    "start_time": "2024-10-11T12:21:19.528Z"
   },
   {
    "duration": 803,
    "start_time": "2024-10-11T12:21:21.020Z"
   },
   {
    "duration": 14,
    "start_time": "2024-10-11T12:21:21.825Z"
   },
   {
    "duration": 100,
    "start_time": "2024-10-11T12:21:21.841Z"
   },
   {
    "duration": 5,
    "start_time": "2024-10-11T12:21:21.942Z"
   },
   {
    "duration": 101,
    "start_time": "2024-10-11T12:21:21.948Z"
   },
   {
    "duration": 59,
    "start_time": "2024-10-11T12:21:22.050Z"
   },
   {
    "duration": 178,
    "start_time": "2024-10-11T12:21:22.111Z"
   },
   {
    "duration": 213,
    "start_time": "2024-10-11T12:21:22.290Z"
   },
   {
    "duration": 86,
    "start_time": "2024-10-11T12:21:22.506Z"
   },
   {
    "duration": 14,
    "start_time": "2024-10-11T12:21:22.593Z"
   },
   {
    "duration": 659,
    "start_time": "2024-10-11T12:21:22.609Z"
   },
   {
    "duration": 31,
    "start_time": "2024-10-11T12:21:23.270Z"
   },
   {
    "duration": 57,
    "start_time": "2024-10-11T12:21:23.303Z"
   },
   {
    "duration": 33,
    "start_time": "2024-10-11T12:21:23.362Z"
   },
   {
    "duration": 88,
    "start_time": "2024-10-11T12:21:23.397Z"
   },
   {
    "duration": 3,
    "start_time": "2024-10-11T12:21:23.487Z"
   },
   {
    "duration": 15,
    "start_time": "2024-10-11T12:21:23.492Z"
   },
   {
    "duration": 176,
    "start_time": "2024-10-11T12:21:23.509Z"
   },
   {
    "duration": 5,
    "start_time": "2024-10-11T12:21:23.687Z"
   },
   {
    "duration": 16,
    "start_time": "2024-10-11T12:21:23.694Z"
   },
   {
    "duration": 63,
    "start_time": "2024-10-11T12:21:23.712Z"
   },
   {
    "duration": 0,
    "start_time": "2024-10-11T12:21:24.246Z"
   },
   {
    "duration": 56,
    "start_time": "2024-10-13T07:01:15.870Z"
   },
   {
    "duration": 1358,
    "start_time": "2024-10-13T07:01:20.293Z"
   },
   {
    "duration": 875,
    "start_time": "2024-10-13T07:01:21.653Z"
   },
   {
    "duration": 14,
    "start_time": "2024-10-13T07:01:22.529Z"
   },
   {
    "duration": 72,
    "start_time": "2024-10-13T07:01:22.544Z"
   },
   {
    "duration": 4,
    "start_time": "2024-10-13T07:01:22.617Z"
   },
   {
    "duration": 110,
    "start_time": "2024-10-13T07:01:22.623Z"
   },
   {
    "duration": 67,
    "start_time": "2024-10-13T07:01:22.735Z"
   },
   {
    "duration": 160,
    "start_time": "2024-10-13T07:01:22.803Z"
   },
   {
    "duration": 193,
    "start_time": "2024-10-13T07:01:22.964Z"
   },
   {
    "duration": 74,
    "start_time": "2024-10-13T07:01:23.159Z"
   },
   {
    "duration": 13,
    "start_time": "2024-10-13T07:01:23.235Z"
   },
   {
    "duration": 616,
    "start_time": "2024-10-13T07:01:23.249Z"
   },
   {
    "duration": 35,
    "start_time": "2024-10-13T07:01:23.866Z"
   },
   {
    "duration": 37,
    "start_time": "2024-10-13T07:01:23.903Z"
   },
   {
    "duration": 54,
    "start_time": "2024-10-13T07:01:23.942Z"
   },
   {
    "duration": 68,
    "start_time": "2024-10-13T07:01:23.997Z"
   },
   {
    "duration": 4,
    "start_time": "2024-10-13T07:01:24.067Z"
   },
   {
    "duration": 25,
    "start_time": "2024-10-13T07:01:24.076Z"
   },
   {
    "duration": 170,
    "start_time": "2024-10-13T07:01:24.103Z"
   },
   {
    "duration": 8,
    "start_time": "2024-10-13T07:01:24.275Z"
   },
   {
    "duration": 8,
    "start_time": "2024-10-13T07:01:24.284Z"
   },
   {
    "duration": 92,
    "start_time": "2024-10-13T07:01:24.294Z"
   },
   {
    "duration": 407,
    "start_time": "2024-10-13T07:01:24.389Z"
   },
   {
    "duration": 101,
    "start_time": "2024-10-13T07:01:50.888Z"
   },
   {
    "duration": 155,
    "start_time": "2024-10-13T07:02:03.417Z"
   },
   {
    "duration": 167,
    "start_time": "2024-10-13T07:02:35.329Z"
   },
   {
    "duration": 493,
    "start_time": "2024-10-13T07:06:41.941Z"
   },
   {
    "duration": 3,
    "start_time": "2024-10-13T07:10:02.530Z"
   },
   {
    "duration": 4,
    "start_time": "2024-10-13T07:10:34.913Z"
   },
   {
    "duration": 38,
    "start_time": "2024-10-13T07:10:49.190Z"
   },
   {
    "duration": 51,
    "start_time": "2024-10-13T07:11:07.306Z"
   },
   {
    "duration": 10,
    "start_time": "2024-10-13T07:11:25.144Z"
   },
   {
    "duration": 62,
    "start_time": "2024-10-13T07:11:32.547Z"
   },
   {
    "duration": 32,
    "start_time": "2024-10-13T07:11:47.967Z"
   },
   {
    "duration": 39,
    "start_time": "2024-10-13T07:11:57.427Z"
   },
   {
    "duration": 36,
    "start_time": "2024-10-13T07:12:13.455Z"
   },
   {
    "duration": 38,
    "start_time": "2024-10-13T07:12:19.595Z"
   },
   {
    "duration": 40,
    "start_time": "2024-10-13T07:13:04.087Z"
   },
   {
    "duration": 571,
    "start_time": "2024-10-13T07:13:25.850Z"
   },
   {
    "duration": 486,
    "start_time": "2024-10-13T07:13:58.250Z"
   },
   {
    "duration": 32,
    "start_time": "2024-10-13T07:21:23.814Z"
   },
   {
    "duration": 502,
    "start_time": "2024-10-13T07:26:29.093Z"
   },
   {
    "duration": 20,
    "start_time": "2024-10-13T07:26:34.888Z"
   },
   {
    "duration": 36,
    "start_time": "2024-10-13T07:28:16.869Z"
   },
   {
    "duration": 35,
    "start_time": "2024-10-13T07:28:23.872Z"
   },
   {
    "duration": 33,
    "start_time": "2024-10-13T08:09:56.038Z"
   },
   {
    "duration": 49,
    "start_time": "2024-10-14T05:21:25.972Z"
   },
   {
    "duration": 1169,
    "start_time": "2024-10-14T05:21:30.603Z"
   },
   {
    "duration": 722,
    "start_time": "2024-10-14T05:21:31.774Z"
   },
   {
    "duration": 12,
    "start_time": "2024-10-14T05:21:32.497Z"
   },
   {
    "duration": 60,
    "start_time": "2024-10-14T05:21:32.511Z"
   },
   {
    "duration": 4,
    "start_time": "2024-10-14T05:21:32.573Z"
   },
   {
    "duration": 86,
    "start_time": "2024-10-14T05:21:32.578Z"
   },
   {
    "duration": 51,
    "start_time": "2024-10-14T05:21:32.666Z"
   },
   {
    "duration": 133,
    "start_time": "2024-10-14T05:21:32.719Z"
   },
   {
    "duration": 163,
    "start_time": "2024-10-14T05:21:32.854Z"
   },
   {
    "duration": 49,
    "start_time": "2024-10-14T05:21:33.018Z"
   },
   {
    "duration": 43,
    "start_time": "2024-10-14T05:21:33.068Z"
   },
   {
    "duration": 477,
    "start_time": "2024-10-14T05:21:33.113Z"
   },
   {
    "duration": 28,
    "start_time": "2024-10-14T05:21:33.591Z"
   },
   {
    "duration": 23,
    "start_time": "2024-10-14T05:21:33.621Z"
   },
   {
    "duration": 27,
    "start_time": "2024-10-14T05:21:33.645Z"
   },
   {
    "duration": 62,
    "start_time": "2024-10-14T05:21:33.673Z"
   },
   {
    "duration": 3,
    "start_time": "2024-10-14T05:21:33.736Z"
   },
   {
    "duration": 11,
    "start_time": "2024-10-14T05:21:33.740Z"
   },
   {
    "duration": 158,
    "start_time": "2024-10-14T05:21:33.752Z"
   },
   {
    "duration": 4,
    "start_time": "2024-10-14T05:21:33.912Z"
   },
   {
    "duration": 14,
    "start_time": "2024-10-14T05:21:33.917Z"
   },
   {
    "duration": 37,
    "start_time": "2024-10-14T05:21:33.933Z"
   },
   {
    "duration": 339,
    "start_time": "2024-10-14T05:21:34.012Z"
   },
   {
    "duration": 25,
    "start_time": "2024-10-14T05:21:49.876Z"
   },
   {
    "duration": 51,
    "start_time": "2024-10-14T05:26:53.569Z"
   },
   {
    "duration": 52,
    "start_time": "2024-10-14T05:27:23.268Z"
   },
   {
    "duration": 4,
    "start_time": "2024-10-14T05:30:44.779Z"
   },
   {
    "duration": 4,
    "start_time": "2024-10-14T05:31:33.472Z"
   },
   {
    "duration": 4,
    "start_time": "2024-10-14T05:33:22.115Z"
   },
   {
    "duration": 205,
    "start_time": "2024-10-14T06:19:49.194Z"
   },
   {
    "duration": 204,
    "start_time": "2024-10-14T06:22:51.496Z"
   },
   {
    "duration": 213,
    "start_time": "2024-10-14T06:23:12.353Z"
   },
   {
    "duration": 216,
    "start_time": "2024-10-14T06:30:35.604Z"
   },
   {
    "duration": 208,
    "start_time": "2024-10-14T06:30:59.745Z"
   },
   {
    "duration": 217,
    "start_time": "2024-10-14T06:49:52.166Z"
   },
   {
    "duration": 196,
    "start_time": "2024-10-14T06:50:58.578Z"
   },
   {
    "duration": 189,
    "start_time": "2024-10-14T06:51:16.215Z"
   },
   {
    "duration": 189,
    "start_time": "2024-10-14T06:51:41.175Z"
   },
   {
    "duration": 192,
    "start_time": "2024-10-14T06:53:03.484Z"
   },
   {
    "duration": 189,
    "start_time": "2024-10-14T07:01:48.033Z"
   },
   {
    "duration": 191,
    "start_time": "2024-10-14T07:03:11.647Z"
   },
   {
    "duration": 185,
    "start_time": "2024-10-14T07:04:50.727Z"
   },
   {
    "duration": 277,
    "start_time": "2024-10-14T07:12:21.575Z"
   },
   {
    "duration": 233,
    "start_time": "2024-10-14T07:15:13.287Z"
   },
   {
    "duration": 91,
    "start_time": "2024-10-14T07:17:05.595Z"
   },
   {
    "duration": 88,
    "start_time": "2024-10-14T07:18:17.171Z"
   },
   {
    "duration": 119,
    "start_time": "2024-10-14T07:21:33.025Z"
   },
   {
    "duration": 279,
    "start_time": "2024-10-14T07:21:47.653Z"
   },
   {
    "duration": 288,
    "start_time": "2024-10-14T07:29:14.574Z"
   },
   {
    "duration": 49,
    "start_time": "2024-10-14T10:28:57.446Z"
   },
   {
    "duration": 1375,
    "start_time": "2024-10-14T10:29:02.186Z"
   },
   {
    "duration": 920,
    "start_time": "2024-10-14T10:29:03.563Z"
   },
   {
    "duration": 13,
    "start_time": "2024-10-14T10:29:04.485Z"
   },
   {
    "duration": 83,
    "start_time": "2024-10-14T10:29:04.499Z"
   },
   {
    "duration": 5,
    "start_time": "2024-10-14T10:29:04.584Z"
   },
   {
    "duration": 105,
    "start_time": "2024-10-14T10:29:04.591Z"
   },
   {
    "duration": 60,
    "start_time": "2024-10-14T10:29:04.697Z"
   },
   {
    "duration": 159,
    "start_time": "2024-10-14T10:29:04.758Z"
   },
   {
    "duration": 188,
    "start_time": "2024-10-14T10:29:04.921Z"
   },
   {
    "duration": 55,
    "start_time": "2024-10-14T10:29:05.111Z"
   },
   {
    "duration": 12,
    "start_time": "2024-10-14T10:29:05.167Z"
   },
   {
    "duration": 669,
    "start_time": "2024-10-14T10:29:05.181Z"
   },
   {
    "duration": 20,
    "start_time": "2024-10-14T10:29:05.852Z"
   },
   {
    "duration": 54,
    "start_time": "2024-10-14T10:29:05.875Z"
   },
   {
    "duration": 47,
    "start_time": "2024-10-14T10:29:05.930Z"
   },
   {
    "duration": 71,
    "start_time": "2024-10-14T10:29:05.978Z"
   },
   {
    "duration": 3,
    "start_time": "2024-10-14T10:29:06.051Z"
   },
   {
    "duration": 35,
    "start_time": "2024-10-14T10:29:06.055Z"
   },
   {
    "duration": 4,
    "start_time": "2024-10-14T10:29:06.239Z"
   },
   {
    "duration": 31,
    "start_time": "2024-10-14T10:29:06.244Z"
   },
   {
    "duration": 70,
    "start_time": "2024-10-14T10:29:06.277Z"
   },
   {
    "duration": 276,
    "start_time": "2024-10-14T10:29:06.349Z"
   },
   {
    "duration": 231,
    "start_time": "2024-10-14T10:29:06.627Z"
   },
   {
    "duration": 240,
    "start_time": "2024-10-14T10:29:06.859Z"
   },
   {
    "duration": 376,
    "start_time": "2024-10-14T10:29:07.101Z"
   },
   {
    "duration": 9,
    "start_time": "2024-10-14T10:29:09.526Z"
   },
   {
    "duration": 23,
    "start_time": "2024-10-14T10:38:34.726Z"
   },
   {
    "duration": 24,
    "start_time": "2024-10-14T10:38:36.273Z"
   },
   {
    "duration": 36,
    "start_time": "2024-10-14T10:39:58.837Z"
   },
   {
    "duration": 544,
    "start_time": "2024-10-14T10:40:10.246Z"
   },
   {
    "duration": 58,
    "start_time": "2024-10-14T10:40:53.252Z"
   },
   {
    "duration": 13,
    "start_time": "2024-10-14T10:41:45.611Z"
   },
   {
    "duration": 3,
    "start_time": "2024-10-14T10:41:52.824Z"
   },
   {
    "duration": 174,
    "start_time": "2024-10-14T10:41:54.692Z"
   },
   {
    "duration": 9,
    "start_time": "2024-10-14T10:41:59.276Z"
   },
   {
    "duration": 120,
    "start_time": "2024-10-14T10:45:56.815Z"
   },
   {
    "duration": 17,
    "start_time": "2024-10-14T10:46:28.702Z"
   },
   {
    "duration": 11,
    "start_time": "2024-10-14T10:48:06.494Z"
   },
   {
    "duration": 1283,
    "start_time": "2024-10-14T12:55:37.298Z"
   },
   {
    "duration": 890,
    "start_time": "2024-10-14T12:55:38.582Z"
   },
   {
    "duration": 14,
    "start_time": "2024-10-14T12:55:39.474Z"
   },
   {
    "duration": 76,
    "start_time": "2024-10-14T12:55:39.490Z"
   },
   {
    "duration": 5,
    "start_time": "2024-10-14T12:55:39.568Z"
   },
   {
    "duration": 104,
    "start_time": "2024-10-14T12:55:39.574Z"
   },
   {
    "duration": 55,
    "start_time": "2024-10-14T12:55:39.680Z"
   },
   {
    "duration": 168,
    "start_time": "2024-10-14T12:55:39.737Z"
   },
   {
    "duration": 194,
    "start_time": "2024-10-14T12:55:39.907Z"
   },
   {
    "duration": 65,
    "start_time": "2024-10-14T12:55:40.103Z"
   },
   {
    "duration": 68,
    "start_time": "2024-10-14T12:55:40.170Z"
   },
   {
    "duration": 13,
    "start_time": "2024-10-14T12:55:40.240Z"
   },
   {
    "duration": 619,
    "start_time": "2024-10-14T12:55:40.254Z"
   },
   {
    "duration": 51,
    "start_time": "2024-10-14T12:55:40.875Z"
   },
   {
    "duration": 45,
    "start_time": "2024-10-14T12:55:40.927Z"
   },
   {
    "duration": 31,
    "start_time": "2024-10-14T12:55:40.973Z"
   },
   {
    "duration": 80,
    "start_time": "2024-10-14T12:55:41.005Z"
   },
   {
    "duration": 3,
    "start_time": "2024-10-14T12:55:41.086Z"
   },
   {
    "duration": 23,
    "start_time": "2024-10-14T12:55:41.091Z"
   },
   {
    "duration": 363,
    "start_time": "2024-10-14T12:55:41.115Z"
   },
   {
    "duration": 4,
    "start_time": "2024-10-14T12:55:41.480Z"
   },
   {
    "duration": 9,
    "start_time": "2024-10-14T12:55:41.485Z"
   },
   {
    "duration": 87,
    "start_time": "2024-10-14T12:55:41.495Z"
   },
   {
    "duration": 523,
    "start_time": "2024-10-14T12:55:41.584Z"
   },
   {
    "duration": 451,
    "start_time": "2024-10-14T12:55:42.108Z"
   },
   {
    "duration": 456,
    "start_time": "2024-10-14T12:55:42.561Z"
   },
   {
    "duration": 400,
    "start_time": "2024-10-14T12:55:43.019Z"
   },
   {
    "duration": 54,
    "start_time": "2024-10-14T13:23:58.375Z"
   },
   {
    "duration": 1205,
    "start_time": "2024-10-15T04:56:16.158Z"
   },
   {
    "duration": 762,
    "start_time": "2024-10-15T04:56:17.365Z"
   },
   {
    "duration": 12,
    "start_time": "2024-10-15T04:56:18.128Z"
   },
   {
    "duration": 67,
    "start_time": "2024-10-15T04:56:18.141Z"
   },
   {
    "duration": 15,
    "start_time": "2024-10-15T04:56:18.210Z"
   },
   {
    "duration": 107,
    "start_time": "2024-10-15T04:56:18.226Z"
   },
   {
    "duration": 40,
    "start_time": "2024-10-15T04:56:18.335Z"
   },
   {
    "duration": 152,
    "start_time": "2024-10-15T04:56:18.377Z"
   },
   {
    "duration": 168,
    "start_time": "2024-10-15T04:56:18.530Z"
   },
   {
    "duration": 53,
    "start_time": "2024-10-15T04:56:18.699Z"
   },
   {
    "duration": 14,
    "start_time": "2024-10-15T04:56:18.753Z"
   },
   {
    "duration": 16,
    "start_time": "2024-10-15T04:56:18.768Z"
   },
   {
    "duration": 556,
    "start_time": "2024-10-15T04:56:18.785Z"
   },
   {
    "duration": 52,
    "start_time": "2024-10-15T04:56:19.344Z"
   },
   {
    "duration": 32,
    "start_time": "2024-10-15T04:56:19.412Z"
   },
   {
    "duration": 45,
    "start_time": "2024-10-15T04:56:19.446Z"
   },
   {
    "duration": 63,
    "start_time": "2024-10-15T04:56:19.492Z"
   },
   {
    "duration": 3,
    "start_time": "2024-10-15T04:56:19.556Z"
   },
   {
    "duration": 43,
    "start_time": "2024-10-15T04:56:19.561Z"
   },
   {
    "duration": 145,
    "start_time": "2024-10-15T04:56:19.605Z"
   },
   {
    "duration": 5,
    "start_time": "2024-10-15T04:56:19.751Z"
   },
   {
    "duration": 9,
    "start_time": "2024-10-15T04:56:19.757Z"
   },
   {
    "duration": 160,
    "start_time": "2024-10-15T04:56:19.767Z"
   },
   {
    "duration": 379,
    "start_time": "2024-10-15T04:56:19.929Z"
   },
   {
    "duration": 433,
    "start_time": "2024-10-15T04:56:20.317Z"
   },
   {
    "duration": 386,
    "start_time": "2024-10-15T04:56:20.752Z"
   },
   {
    "duration": 348,
    "start_time": "2024-10-15T04:56:21.139Z"
   },
   {
    "duration": 485,
    "start_time": "2024-10-15T04:58:21.681Z"
   },
   {
    "duration": 63,
    "start_time": "2024-10-15T04:58:33.025Z"
   },
   {
    "duration": 31,
    "start_time": "2024-10-15T04:59:55.469Z"
   },
   {
    "duration": 21,
    "start_time": "2024-10-15T04:59:57.760Z"
   },
   {
    "duration": 1098,
    "start_time": "2024-10-15T05:00:28.091Z"
   },
   {
    "duration": 168,
    "start_time": "2024-10-15T05:00:29.191Z"
   },
   {
    "duration": 11,
    "start_time": "2024-10-15T05:00:29.361Z"
   },
   {
    "duration": 73,
    "start_time": "2024-10-15T05:00:29.374Z"
   },
   {
    "duration": 4,
    "start_time": "2024-10-15T05:00:29.449Z"
   },
   {
    "duration": 90,
    "start_time": "2024-10-15T05:00:29.454Z"
   },
   {
    "duration": 40,
    "start_time": "2024-10-15T05:00:29.546Z"
   },
   {
    "duration": 157,
    "start_time": "2024-10-15T05:00:29.587Z"
   },
   {
    "duration": 177,
    "start_time": "2024-10-15T05:00:29.745Z"
   },
   {
    "duration": 50,
    "start_time": "2024-10-15T05:00:29.928Z"
   },
   {
    "duration": 11,
    "start_time": "2024-10-15T05:00:29.980Z"
   },
   {
    "duration": 593,
    "start_time": "2024-10-15T05:00:29.992Z"
   },
   {
    "duration": 43,
    "start_time": "2024-10-15T05:00:30.586Z"
   },
   {
    "duration": 24,
    "start_time": "2024-10-15T05:00:30.631Z"
   },
   {
    "duration": 27,
    "start_time": "2024-10-15T05:00:30.657Z"
   },
   {
    "duration": 66,
    "start_time": "2024-10-15T05:00:30.685Z"
   },
   {
    "duration": 3,
    "start_time": "2024-10-15T05:00:30.753Z"
   },
   {
    "duration": 17,
    "start_time": "2024-10-15T05:00:30.757Z"
   },
   {
    "duration": 161,
    "start_time": "2024-10-15T05:00:30.775Z"
   },
   {
    "duration": 4,
    "start_time": "2024-10-15T05:00:30.937Z"
   },
   {
    "duration": 26,
    "start_time": "2024-10-15T05:00:30.942Z"
   },
   {
    "duration": 64,
    "start_time": "2024-10-15T05:00:30.969Z"
   },
   {
    "duration": 263,
    "start_time": "2024-10-15T05:00:31.034Z"
   },
   {
    "duration": 239,
    "start_time": "2024-10-15T05:00:31.299Z"
   },
   {
    "duration": 222,
    "start_time": "2024-10-15T05:00:31.539Z"
   },
   {
    "duration": 215,
    "start_time": "2024-10-15T05:00:31.762Z"
   },
   {
    "duration": 311,
    "start_time": "2024-10-15T05:00:31.979Z"
   },
   {
    "duration": 206,
    "start_time": "2024-10-15T05:01:31.051Z"
   },
   {
    "duration": 212,
    "start_time": "2024-10-15T05:02:09.319Z"
   },
   {
    "duration": 203,
    "start_time": "2024-10-15T05:02:39.328Z"
   },
   {
    "duration": 203,
    "start_time": "2024-10-15T05:06:06.416Z"
   },
   {
    "duration": 215,
    "start_time": "2024-10-15T05:07:43.680Z"
   },
   {
    "duration": 197,
    "start_time": "2024-10-15T05:08:43.173Z"
   },
   {
    "duration": 1006,
    "start_time": "2024-10-15T05:13:39.693Z"
   },
   {
    "duration": 141,
    "start_time": "2024-10-15T05:13:40.701Z"
   },
   {
    "duration": 12,
    "start_time": "2024-10-15T05:13:40.844Z"
   },
   {
    "duration": 66,
    "start_time": "2024-10-15T05:13:40.857Z"
   },
   {
    "duration": 4,
    "start_time": "2024-10-15T05:13:40.924Z"
   },
   {
    "duration": 84,
    "start_time": "2024-10-15T05:13:40.929Z"
   },
   {
    "duration": 39,
    "start_time": "2024-10-15T05:13:41.014Z"
   },
   {
    "duration": 157,
    "start_time": "2024-10-15T05:13:41.054Z"
   },
   {
    "duration": 156,
    "start_time": "2024-10-15T05:13:41.214Z"
   },
   {
    "duration": 57,
    "start_time": "2024-10-15T05:13:41.371Z"
   },
   {
    "duration": 10,
    "start_time": "2024-10-15T05:13:41.430Z"
   },
   {
    "duration": 464,
    "start_time": "2024-10-15T05:13:41.441Z"
   },
   {
    "duration": 21,
    "start_time": "2024-10-15T05:13:41.907Z"
   },
   {
    "duration": 22,
    "start_time": "2024-10-15T05:13:41.930Z"
   },
   {
    "duration": 22,
    "start_time": "2024-10-15T05:13:41.953Z"
   },
   {
    "duration": 64,
    "start_time": "2024-10-15T05:13:41.976Z"
   },
   {
    "duration": 3,
    "start_time": "2024-10-15T05:13:42.041Z"
   },
   {
    "duration": 92,
    "start_time": "2024-10-15T05:13:42.045Z"
   },
   {
    "duration": 151,
    "start_time": "2024-10-15T05:13:42.139Z"
   },
   {
    "duration": 4,
    "start_time": "2024-10-15T05:13:42.292Z"
   },
   {
    "duration": 16,
    "start_time": "2024-10-15T05:13:42.297Z"
   },
   {
    "duration": 48,
    "start_time": "2024-10-15T05:13:42.314Z"
   },
   {
    "duration": 330,
    "start_time": "2024-10-15T05:13:42.363Z"
   },
   {
    "duration": 209,
    "start_time": "2024-10-15T05:13:42.694Z"
   },
   {
    "duration": 202,
    "start_time": "2024-10-15T05:13:42.905Z"
   },
   {
    "duration": 175,
    "start_time": "2024-10-15T05:13:43.111Z"
   },
   {
    "duration": 33,
    "start_time": "2024-10-15T05:13:49.441Z"
   },
   {
    "duration": 209,
    "start_time": "2024-10-15T05:13:52.193Z"
   },
   {
    "duration": 201,
    "start_time": "2024-10-15T05:13:58.310Z"
   },
   {
    "duration": 197,
    "start_time": "2024-10-15T05:13:59.193Z"
   },
   {
    "duration": 69,
    "start_time": "2024-10-15T05:14:02.833Z"
   },
   {
    "duration": 283,
    "start_time": "2024-10-15T05:15:03.494Z"
   },
   {
    "duration": 196,
    "start_time": "2024-10-15T05:15:09.462Z"
   },
   {
    "duration": 211,
    "start_time": "2024-10-15T05:15:13.982Z"
   },
   {
    "duration": 225,
    "start_time": "2024-10-15T05:15:15.562Z"
   },
   {
    "duration": 1218,
    "start_time": "2024-10-15T07:20:18.956Z"
   },
   {
    "duration": 187,
    "start_time": "2024-10-15T07:20:20.176Z"
   },
   {
    "duration": 14,
    "start_time": "2024-10-15T07:20:20.364Z"
   },
   {
    "duration": 86,
    "start_time": "2024-10-15T07:20:20.380Z"
   },
   {
    "duration": 5,
    "start_time": "2024-10-15T07:20:20.468Z"
   },
   {
    "duration": 102,
    "start_time": "2024-10-15T07:20:20.498Z"
   },
   {
    "duration": 58,
    "start_time": "2024-10-15T07:20:20.602Z"
   },
   {
    "duration": 178,
    "start_time": "2024-10-15T07:20:20.662Z"
   },
   {
    "duration": 197,
    "start_time": "2024-10-15T07:20:20.842Z"
   },
   {
    "duration": 71,
    "start_time": "2024-10-15T07:20:21.043Z"
   },
   {
    "duration": 14,
    "start_time": "2024-10-15T07:20:21.116Z"
   },
   {
    "duration": 543,
    "start_time": "2024-10-15T07:20:21.132Z"
   },
   {
    "duration": 28,
    "start_time": "2024-10-15T07:20:21.676Z"
   },
   {
    "duration": 36,
    "start_time": "2024-10-15T07:20:21.706Z"
   },
   {
    "duration": 56,
    "start_time": "2024-10-15T07:20:21.743Z"
   },
   {
    "duration": 62,
    "start_time": "2024-10-15T07:20:21.801Z"
   },
   {
    "duration": 5,
    "start_time": "2024-10-15T07:20:21.865Z"
   },
   {
    "duration": 27,
    "start_time": "2024-10-15T07:20:21.871Z"
   },
   {
    "duration": 380,
    "start_time": "2024-10-15T07:20:21.899Z"
   },
   {
    "duration": 5,
    "start_time": "2024-10-15T07:20:22.280Z"
   },
   {
    "duration": 8,
    "start_time": "2024-10-15T07:20:22.286Z"
   },
   {
    "duration": 39,
    "start_time": "2024-10-15T07:20:22.295Z"
   },
   {
    "duration": 346,
    "start_time": "2024-10-15T07:20:22.336Z"
   },
   {
    "duration": 286,
    "start_time": "2024-10-15T07:20:22.684Z"
   },
   {
    "duration": 281,
    "start_time": "2024-10-15T07:20:22.972Z"
   },
   {
    "duration": 383,
    "start_time": "2024-10-15T07:20:23.255Z"
   },
   {
    "duration": 47,
    "start_time": "2024-10-15T07:31:03.658Z"
   },
   {
    "duration": 1112,
    "start_time": "2024-10-15T07:31:20.206Z"
   },
   {
    "duration": 687,
    "start_time": "2024-10-15T07:31:21.319Z"
   },
   {
    "duration": 11,
    "start_time": "2024-10-15T07:31:22.008Z"
   },
   {
    "duration": 57,
    "start_time": "2024-10-15T07:31:22.020Z"
   },
   {
    "duration": 4,
    "start_time": "2024-10-15T07:31:22.079Z"
   },
   {
    "duration": 73,
    "start_time": "2024-10-15T07:31:22.084Z"
   },
   {
    "duration": 36,
    "start_time": "2024-10-15T07:31:22.159Z"
   },
   {
    "duration": 134,
    "start_time": "2024-10-15T07:31:22.196Z"
   },
   {
    "duration": 162,
    "start_time": "2024-10-15T07:31:22.331Z"
   },
   {
    "duration": 50,
    "start_time": "2024-10-15T07:31:22.495Z"
   },
   {
    "duration": 19,
    "start_time": "2024-10-15T07:31:22.546Z"
   },
   {
    "duration": 469,
    "start_time": "2024-10-15T07:31:22.566Z"
   },
   {
    "duration": 22,
    "start_time": "2024-10-15T07:31:23.036Z"
   },
   {
    "duration": 25,
    "start_time": "2024-10-15T07:31:23.061Z"
   },
   {
    "duration": 22,
    "start_time": "2024-10-15T07:31:23.087Z"
   },
   {
    "duration": 70,
    "start_time": "2024-10-15T07:31:23.111Z"
   },
   {
    "duration": 25,
    "start_time": "2024-10-15T07:31:23.182Z"
   },
   {
    "duration": 11,
    "start_time": "2024-10-15T07:31:23.208Z"
   },
   {
    "duration": 496,
    "start_time": "2024-10-15T07:31:23.220Z"
   },
   {
    "duration": 4,
    "start_time": "2024-10-15T07:31:23.718Z"
   },
   {
    "duration": 11,
    "start_time": "2024-10-15T07:31:23.723Z"
   },
   {
    "duration": 45,
    "start_time": "2024-10-15T07:31:23.735Z"
   },
   {
    "duration": 459,
    "start_time": "2024-10-15T07:31:24.289Z"
   },
   {
    "duration": 463,
    "start_time": "2024-10-15T07:31:24.749Z"
   },
   {
    "duration": 293,
    "start_time": "2024-10-15T07:31:25.213Z"
   },
   {
    "duration": 459,
    "start_time": "2024-10-15T07:31:27.714Z"
   },
   {
    "duration": 694,
    "start_time": "2024-10-15T07:31:45.275Z"
   },
   {
    "duration": 1073,
    "start_time": "2024-10-15T07:31:57.871Z"
   },
   {
    "duration": 142,
    "start_time": "2024-10-15T07:31:58.946Z"
   },
   {
    "duration": 12,
    "start_time": "2024-10-15T07:31:59.089Z"
   },
   {
    "duration": 73,
    "start_time": "2024-10-15T07:31:59.102Z"
   },
   {
    "duration": 42,
    "start_time": "2024-10-15T07:31:59.176Z"
   },
   {
    "duration": 69,
    "start_time": "2024-10-15T07:31:59.220Z"
   },
   {
    "duration": 38,
    "start_time": "2024-10-15T07:31:59.290Z"
   },
   {
    "duration": 131,
    "start_time": "2024-10-15T07:31:59.329Z"
   },
   {
    "duration": 156,
    "start_time": "2024-10-15T07:31:59.461Z"
   },
   {
    "duration": 51,
    "start_time": "2024-10-15T07:31:59.620Z"
   },
   {
    "duration": 11,
    "start_time": "2024-10-15T07:31:59.672Z"
   },
   {
    "duration": 459,
    "start_time": "2024-10-15T07:31:59.684Z"
   },
   {
    "duration": 27,
    "start_time": "2024-10-15T07:32:00.144Z"
   },
   {
    "duration": 64,
    "start_time": "2024-10-15T07:32:00.172Z"
   },
   {
    "duration": 60,
    "start_time": "2024-10-15T07:32:00.238Z"
   },
   {
    "duration": 193,
    "start_time": "2024-10-15T07:32:00.299Z"
   },
   {
    "duration": 3,
    "start_time": "2024-10-15T07:32:00.493Z"
   },
   {
    "duration": 31,
    "start_time": "2024-10-15T07:32:00.497Z"
   },
   {
    "duration": 164,
    "start_time": "2024-10-15T07:32:00.530Z"
   },
   {
    "duration": 4,
    "start_time": "2024-10-15T07:32:00.695Z"
   },
   {
    "duration": 25,
    "start_time": "2024-10-15T07:32:00.701Z"
   },
   {
    "duration": 69,
    "start_time": "2024-10-15T07:32:00.727Z"
   },
   {
    "duration": 708,
    "start_time": "2024-10-15T07:32:01.566Z"
   },
   {
    "duration": 717,
    "start_time": "2024-10-15T07:32:02.275Z"
   },
   {
    "duration": 295,
    "start_time": "2024-10-15T07:32:02.994Z"
   },
   {
    "duration": 689,
    "start_time": "2024-10-15T07:32:03.521Z"
   },
   {
    "duration": 190,
    "start_time": "2024-10-15T07:32:21.581Z"
   },
   {
    "duration": 202,
    "start_time": "2024-10-15T07:32:27.234Z"
   },
   {
    "duration": 217,
    "start_time": "2024-10-15T07:32:44.270Z"
   },
   {
    "duration": 173,
    "start_time": "2024-10-15T07:35:48.638Z"
   },
   {
    "duration": 162,
    "start_time": "2024-10-15T07:36:26.619Z"
   },
   {
    "duration": 162,
    "start_time": "2024-10-15T07:36:33.875Z"
   },
   {
    "duration": 269,
    "start_time": "2024-10-15T07:36:52.824Z"
   },
   {
    "duration": 276,
    "start_time": "2024-10-15T07:37:18.956Z"
   },
   {
    "duration": 275,
    "start_time": "2024-10-15T07:38:07.987Z"
   },
   {
    "duration": 1013,
    "start_time": "2024-10-15T07:38:13.002Z"
   },
   {
    "duration": 137,
    "start_time": "2024-10-15T07:38:14.017Z"
   },
   {
    "duration": 12,
    "start_time": "2024-10-15T07:38:14.156Z"
   },
   {
    "duration": 89,
    "start_time": "2024-10-15T07:38:14.169Z"
   },
   {
    "duration": 3,
    "start_time": "2024-10-15T07:38:14.260Z"
   },
   {
    "duration": 83,
    "start_time": "2024-10-15T07:38:14.265Z"
   },
   {
    "duration": 38,
    "start_time": "2024-10-15T07:38:14.349Z"
   },
   {
    "duration": 136,
    "start_time": "2024-10-15T07:38:14.389Z"
   },
   {
    "duration": 161,
    "start_time": "2024-10-15T07:38:14.526Z"
   },
   {
    "duration": 49,
    "start_time": "2024-10-15T07:38:14.688Z"
   },
   {
    "duration": 21,
    "start_time": "2024-10-15T07:38:14.739Z"
   },
   {
    "duration": 430,
    "start_time": "2024-10-15T07:38:14.761Z"
   },
   {
    "duration": 19,
    "start_time": "2024-10-15T07:38:15.192Z"
   },
   {
    "duration": 60,
    "start_time": "2024-10-15T07:38:15.214Z"
   },
   {
    "duration": 47,
    "start_time": "2024-10-15T07:38:15.275Z"
   },
   {
    "duration": 69,
    "start_time": "2024-10-15T07:38:15.323Z"
   },
   {
    "duration": 3,
    "start_time": "2024-10-15T07:38:15.394Z"
   },
   {
    "duration": 39,
    "start_time": "2024-10-15T07:38:15.398Z"
   },
   {
    "duration": 177,
    "start_time": "2024-10-15T07:38:15.438Z"
   },
   {
    "duration": 4,
    "start_time": "2024-10-15T07:38:15.616Z"
   },
   {
    "duration": 19,
    "start_time": "2024-10-15T07:38:15.621Z"
   },
   {
    "duration": 36,
    "start_time": "2024-10-15T07:38:15.642Z"
   },
   {
    "duration": 206,
    "start_time": "2024-10-15T07:38:15.680Z"
   },
   {
    "duration": 170,
    "start_time": "2024-10-15T07:38:15.888Z"
   },
   {
    "duration": 173,
    "start_time": "2024-10-15T07:38:16.059Z"
   },
   {
    "duration": 317,
    "start_time": "2024-10-15T07:38:16.234Z"
   },
   {
    "duration": 249,
    "start_time": "2024-10-15T07:45:10.931Z"
   },
   {
    "duration": 261,
    "start_time": "2024-10-15T07:45:35.827Z"
   },
   {
    "duration": 76,
    "start_time": "2024-10-15T07:46:19.668Z"
   },
   {
    "duration": 256,
    "start_time": "2024-10-15T07:46:27.257Z"
   },
   {
    "duration": 169,
    "start_time": "2024-10-15T07:47:55.716Z"
   },
   {
    "duration": 167,
    "start_time": "2024-10-15T07:47:58.808Z"
   },
   {
    "duration": 170,
    "start_time": "2024-10-15T07:48:04.324Z"
   },
   {
    "duration": 165,
    "start_time": "2024-10-15T07:49:25.577Z"
   },
   {
    "duration": 257,
    "start_time": "2024-10-15T07:49:36.457Z"
   }
  ],
  "kernelspec": {
   "display_name": "Python [conda env:base] *",
   "language": "python",
   "name": "conda-base-py"
  },
  "language_info": {
   "codemirror_mode": {
    "name": "ipython",
    "version": 3
   },
   "file_extension": ".py",
   "mimetype": "text/x-python",
   "name": "python",
   "nbconvert_exporter": "python",
   "pygments_lexer": "ipython3",
   "version": "3.12.4"
  },
  "toc": {
   "base_numbering": 1,
   "nav_menu": {},
   "number_sections": true,
   "sideBar": true,
   "skip_h1_title": true,
   "title_cell": "Table of Contents",
   "title_sidebar": "Contents",
   "toc_cell": false,
   "toc_position": {},
   "toc_section_display": true,
   "toc_window_display": false
  }
 },
 "nbformat": 4,
 "nbformat_minor": 4
}
